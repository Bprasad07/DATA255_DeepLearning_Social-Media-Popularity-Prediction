{
 "cells": [
  {
   "cell_type": "code",
   "execution_count": 9,
   "metadata": {},
   "outputs": [
    {
     "name": "stdout",
     "output_type": "stream",
     "text": [
      "Collecting flickrapi\n",
      "  Downloading flickrapi-2.4.0-py2.py3-none-any.whl (26 kB)\n",
      "Requirement already satisfied: six>=1.5.2 in /opt/homebrew/Caskroom/miniforge/base/lib/python3.10/site-packages (from flickrapi) (1.16.0)\n",
      "Requirement already satisfied: requests>=2.2.1 in /opt/homebrew/Caskroom/miniforge/base/lib/python3.10/site-packages (from flickrapi) (2.31.0)\n",
      "Requirement already satisfied: requests-oauthlib>=0.4.0 in /opt/homebrew/Caskroom/miniforge/base/lib/python3.10/site-packages (from flickrapi) (1.3.1)\n",
      "Collecting requests-toolbelt>=0.3.1 (from flickrapi)\n",
      "  Downloading requests_toolbelt-1.0.0-py2.py3-none-any.whl (54 kB)\n",
      "\u001b[2K     \u001b[90m━━━━━━━━━━━━━━━━━━━━━━━━━━━━━━━━━━━━━━━━\u001b[0m \u001b[32m54.5/54.5 kB\u001b[0m \u001b[31m3.9 MB/s\u001b[0m eta \u001b[36m0:00:00\u001b[0m\n",
      "\u001b[?25hRequirement already satisfied: charset-normalizer<4,>=2 in /opt/homebrew/Caskroom/miniforge/base/lib/python3.10/site-packages (from requests>=2.2.1->flickrapi) (3.2.0)\n",
      "Requirement already satisfied: idna<4,>=2.5 in /opt/homebrew/Caskroom/miniforge/base/lib/python3.10/site-packages (from requests>=2.2.1->flickrapi) (3.4)\n",
      "Requirement already satisfied: urllib3<3,>=1.21.1 in /opt/homebrew/Caskroom/miniforge/base/lib/python3.10/site-packages (from requests>=2.2.1->flickrapi) (1.26.16)\n",
      "Requirement already satisfied: certifi>=2017.4.17 in /opt/homebrew/Caskroom/miniforge/base/lib/python3.10/site-packages (from requests>=2.2.1->flickrapi) (2023.7.22)\n",
      "Requirement already satisfied: oauthlib>=3.0.0 in /opt/homebrew/Caskroom/miniforge/base/lib/python3.10/site-packages (from requests-oauthlib>=0.4.0->flickrapi) (3.2.2)\n",
      "Installing collected packages: requests-toolbelt, flickrapi\n",
      "Successfully installed flickrapi-2.4.0 requests-toolbelt-1.0.0\n",
      "Requirement already satisfied: requests in /opt/homebrew/Caskroom/miniforge/base/lib/python3.10/site-packages (2.31.0)\n",
      "Requirement already satisfied: charset-normalizer<4,>=2 in /opt/homebrew/Caskroom/miniforge/base/lib/python3.10/site-packages (from requests) (3.2.0)\n",
      "Requirement already satisfied: idna<4,>=2.5 in /opt/homebrew/Caskroom/miniforge/base/lib/python3.10/site-packages (from requests) (3.4)\n",
      "Requirement already satisfied: urllib3<3,>=1.21.1 in /opt/homebrew/Caskroom/miniforge/base/lib/python3.10/site-packages (from requests) (1.26.16)\n",
      "Requirement already satisfied: certifi>=2017.4.17 in /opt/homebrew/Caskroom/miniforge/base/lib/python3.10/site-packages (from requests) (2023.7.22)\n"
     ]
    }
   ],
   "source": [
    "!pip install flickrapi\n",
    "!pip install requests"
   ]
  },
  {
   "cell_type": "code",
   "execution_count": 3,
   "metadata": {},
   "outputs": [
    {
     "name": "stderr",
     "output_type": "stream",
     "text": [
      "/var/folders/gl/_lkmfl_d3_sbkbd9f1zkt79h0000gq/T/ipykernel_44342/1410185032.py:3: DtypeWarning: Columns (22) have mixed types. Specify dtype option on import or set low_memory=False.\n",
      "  dfraw= pd.read_csv('../data/raw/df_with_picStatus.csv')\n"
     ]
    }
   ],
   "source": [
    "import pandas as pd\n",
    "import numpy as np\n",
    "dfraw= pd.read_csv('../data/raw/df_with_picStatus.csv')"
   ]
  },
  {
   "cell_type": "code",
   "execution_count": 7,
   "metadata": {},
   "outputs": [
    {
     "data": {
      "text/plain": [
       "'https://www.flickr.com/photos/58708830@N00/385070026'"
      ]
     },
     "execution_count": 7,
     "metadata": {},
     "output_type": "execute_result"
    }
   ],
   "source": [
    "urls= dfraw['url'].to_list()\n",
    "urls[0]"
   ]
  },
  {
   "cell_type": "code",
   "execution_count": 8,
   "metadata": {},
   "outputs": [
    {
     "data": {
      "text/plain": [
       "304952"
      ]
     },
     "execution_count": 8,
     "metadata": {},
     "output_type": "execute_result"
    }
   ],
   "source": [
    "len(urls)"
   ]
  },
  {
   "cell_type": "code",
   "execution_count": 10,
   "metadata": {},
   "outputs": [],
   "source": [
    "import flickrapi\n",
    "import requests\n",
    "import threading\n",
    "import os\n",
    "import concurrent.futures\n",
    "from tqdm import tqdm\n",
    "from joblib import Parallel, delayed  # Import joblib"
   ]
  },
  {
   "cell_type": "code",
   "execution_count": 6,
   "metadata": {},
   "outputs": [
    {
     "data": {
      "text/plain": [
       "'https://www.flickr.com/photos/58708830@N00/385070026'"
      ]
     },
     "execution_count": 6,
     "metadata": {},
     "output_type": "execute_result"
    }
   ],
   "source": [
    "urls[0]"
   ]
  },
  {
   "cell_type": "markdown",
   "metadata": {},
   "source": [
    "# fixed code"
   ]
  },
  {
   "cell_type": "code",
   "execution_count": 12,
   "metadata": {},
   "outputs": [],
   "source": [
    "import flickrapi\n",
    "import requests\n",
    "import os\n",
    "from joblib import Parallel, delayed\n",
    "from tqdm.auto import tqdm\n",
    "import logging\n",
    "\n",
    "# Set up logging\n",
    "logging.basicConfig(level=logging.INFO)\n",
    "logger = logging.getLogger(__name__)\n",
    "\n",
    "# Initialize the Flickr API with your API key and secret\n",
    "api_key = '747002b66324f9570ea294e380992a9d'\n",
    "api_secret = '74019702dd3b6de2'\n",
    "flickr = flickrapi.FlickrAPI(api_key, api_secret, format='parsed-json')\n",
    "\n",
    "# Path to save downloaded images\n",
    "download_path = r'D:\\old\\data255_deeplearning_team2\\data\\raw\\images'\n",
    "if not os.path.exists(download_path):\n",
    "    os.makedirs(download_path)\n",
    "\n",
    "# Function to download an image\n",
    "def download_image(url, download_path):\n",
    "    try:\n",
    "        # Extract the user ID and photo ID from the URL\n",
    "        parts = url.strip().split('/')\n",
    "        user_id = parts[-2].split('@')[0]\n",
    "        photo_id = parts[-1]\n",
    "        \n",
    "        # Check if image already exists\n",
    "        image_path = os.path.join(download_path, f\"{photo_id}.jpg\")\n",
    "        if os.path.exists(image_path):\n",
    "            logger.info(f\"Image with ID {photo_id} already downloaded.\")\n",
    "            return None, 'downloaded already'\n",
    "        \n",
    "        # Get the photo info using the Flickr API\n",
    "        photo_info = flickr.photos.getInfo(photo_id=photo_id, user_id=user_id)\n",
    "        \n",
    "        # Extract the image URL\n",
    "        farm_id = photo_info['photo']['farm']\n",
    "        server_id = photo_info['photo']['server']\n",
    "        id = photo_info['photo']['id']\n",
    "        secret = photo_info['photo']['secret']\n",
    "        format = 'jpg'  # Assuming jpg format, you can modify this if needed\n",
    "        image_url = f\"https://farm{farm_id}.staticflickr.com/{server_id}/{id}_{secret}.{format}\"\n",
    "        \n",
    "        # Download and save the image\n",
    "        response = requests.get(image_url, stream=True)\n",
    "        with open(image_path, 'wb') as img_file:\n",
    "            for chunk in response.iter_content(chunk_size=8192):\n",
    "                img_file.write(chunk)\n",
    "        logger.info(f\"Downloaded image with ID {photo_id}\")\n",
    "        return None, url\n",
    "    except Exception as e:\n",
    "        logger.error(f\"Error while processing {photo_id}: {str(e)}\")\n",
    "        return str(e), url"
   ]
  },
  {
   "cell_type": "code",
   "execution_count": 16,
   "metadata": {},
   "outputs": [
    {
     "data": {
      "application/vnd.jupyter.widget-view+json": {
       "model_id": "3e65232937a242c6a9947250a0faa693",
       "version_major": 2,
       "version_minor": 0
      },
      "text/plain": [
       "Downloading images:   0%|          | 0/1 [00:00<?, ?it/s]"
      ]
     },
     "metadata": {},
     "output_type": "display_data"
    }
   ],
   "source": [
    "# Download images using multithreading\n",
    "results = Parallel(n_jobs=25)(\n",
    "    delayed(download_image)(url, download_path) for url in tqdm(urls[:1], desc=\"Downloading images\")\n",
    ")"
   ]
  },
  {
   "cell_type": "code",
   "execution_count": 13,
   "metadata": {},
   "outputs": [
    {
     "data": {
      "application/vnd.jupyter.widget-view+json": {
       "model_id": "070dc80e8766495c966172a27996487b",
       "version_major": 2,
       "version_minor": 0
      },
      "text/plain": [
       "Downloading images:   0%|          | 0/500 [00:00<?, ?it/s]"
      ]
     },
     "metadata": {},
     "output_type": "display_data"
    }
   ],
   "source": [
    "# Download images using multithreading\n",
    "results = Parallel(n_jobs=25)(\n",
    "    delayed(download_image)(url, download_path) for url in tqdm(urls[2500:3000], desc=\"Downloading images\")\n",
    ")"
   ]
  },
  {
   "cell_type": "code",
   "execution_count": 17,
   "metadata": {},
   "outputs": [
    {
     "data": {
      "text/plain": [
       "[(None, 'https://www.flickr.com/photos/58708830@N00/385070026')]"
      ]
     },
     "execution_count": 17,
     "metadata": {},
     "output_type": "execute_result"
    }
   ],
   "source": [
    "results"
   ]
  },
  {
   "cell_type": "code",
   "execution_count": 11,
   "metadata": {},
   "outputs": [
    {
     "name": "stderr",
     "output_type": "stream",
     "text": [
      "ERROR:__main__:Errors occurred during the download:\n",
      "ERROR:__main__:https://www.flickr.com/photos/47649296@N06/16575004613\n",
      "ERROR:__main__:https://www.flickr.com/photos/131575265@N07/16575571554\n",
      "ERROR:__main__:https://www.flickr.com/photos/131747546@N05/16577791947\n",
      "ERROR:__main__:https://www.flickr.com/photos/131747546@N05/16577792487\n",
      "ERROR:__main__:https://www.flickr.com/photos/131747546@N05/16577798037\n",
      "ERROR:__main__:https://www.flickr.com/photos/131747546@N05/16577798567\n",
      "ERROR:__main__:https://www.flickr.com/photos/129754178@N07/16577964174\n",
      "ERROR:__main__:https://www.flickr.com/photos/131797077@N06/16578524368\n",
      "ERROR:__main__:https://www.flickr.com/photos/125141587@N02/16578909449\n",
      "ERROR:__main__:https://www.flickr.com/photos/92009365@N03/16579426543\n",
      "ERROR:__main__:https://www.flickr.com/photos/92009365@N03/16579427073\n",
      "ERROR:__main__:https://www.flickr.com/photos/85743674@N00/16584964297\n",
      "ERROR:__main__:https://www.flickr.com/photos/77706245@N08/16585154084\n",
      "ERROR:__main__:https://www.flickr.com/photos/37660097@N08/16586728907\n",
      "ERROR:__main__:https://www.flickr.com/photos/37660097@N08/16586729337\n",
      "ERROR:__main__:https://www.flickr.com/photos/91513176@N00/16588139534\n",
      "ERROR:__main__:https://www.flickr.com/photos/126939467@N06/16588159953\n",
      "ERROR:__main__:https://www.flickr.com/photos/130025414@N07/16588193908\n",
      "ERROR:__main__:https://www.flickr.com/photos/130025414@N07/16588203238\n",
      "ERROR:__main__:https://www.flickr.com/photos/130025414@N07/16588384400\n",
      "ERROR:__main__:https://www.flickr.com/photos/85440991@N08/16588472567\n",
      "ERROR:__main__:https://www.flickr.com/photos/85440991@N08/16588478377\n",
      "ERROR:__main__:https://www.flickr.com/photos/130025414@N07/16589630059\n",
      "ERROR:__main__:https://www.flickr.com/photos/130025414@N07/16589639799\n",
      "ERROR:__main__:https://www.flickr.com/photos/45182102@N08/16590192559\n",
      "ERROR:__main__:https://www.flickr.com/photos/62814500@N07/16591252733\n",
      "ERROR:__main__:https://www.flickr.com/photos/91513176@N00/16592207954\n",
      "ERROR:__main__:https://www.flickr.com/photos/41111966@N04/16592899460\n",
      "ERROR:__main__:https://www.flickr.com/photos/125141587@N02/16593447950\n",
      "ERROR:__main__:https://www.flickr.com/photos/131797077@N06/16593759744\n",
      "ERROR:__main__:https://www.flickr.com/photos/126939467@N06/16593825240\n",
      "ERROR:__main__:https://www.flickr.com/photos/131747546@N05/16597487998\n",
      "ERROR:__main__:https://www.flickr.com/photos/131747546@N05/16597493748\n",
      "ERROR:__main__:https://www.flickr.com/photos/131747546@N05/16597688540\n",
      "ERROR:__main__:https://www.flickr.com/photos/131747546@N05/16597689790\n",
      "ERROR:__main__:https://www.flickr.com/photos/131747546@N05/16598923129\n",
      "ERROR:__main__:https://www.flickr.com/photos/131747546@N05/16598927559\n",
      "ERROR:__main__:https://www.flickr.com/photos/131747546@N05/16598930209\n",
      "ERROR:__main__:https://www.flickr.com/photos/131747546@N05/16598934869\n",
      "ERROR:__main__:https://www.flickr.com/photos/131386685@N03/16600230129\n",
      "ERROR:__main__:https://www.flickr.com/photos/130074734@N05/16602591799\n",
      "ERROR:__main__:https://www.flickr.com/photos/130338761@N05/16604852890\n",
      "ERROR:__main__:https://www.flickr.com/photos/48889817@N05/16605383627\n",
      "ERROR:__main__:https://www.flickr.com/photos/111711017@N06/16606288497\n",
      "ERROR:__main__:https://www.flickr.com/photos/111711017@N06/16606288607\n",
      "ERROR:__main__:https://www.flickr.com/photos/76109285@N02/16606368213\n",
      "ERROR:__main__:https://www.flickr.com/photos/37660097@N08/16606439918\n",
      "ERROR:__main__:https://www.flickr.com/photos/120841793@N04/16606494173\n",
      "ERROR:__main__:https://www.flickr.com/photos/131797077@N06/16606871974\n",
      "ERROR:__main__:https://www.flickr.com/photos/37660097@N08/16607883239\n",
      "ERROR:__main__:https://www.flickr.com/photos/109786857@N03/16608178003\n",
      "ERROR:__main__:https://www.flickr.com/photos/85440991@N08/16608195348\n",
      "ERROR:__main__:https://www.flickr.com/photos/85440991@N08/16608216668\n",
      "ERROR:__main__:https://www.flickr.com/photos/85440991@N08/16608403550\n",
      "ERROR:__main__:https://www.flickr.com/photos/85440991@N08/16609627679\n",
      "ERROR:__main__:https://www.flickr.com/photos/85440991@N08/16609632449\n",
      "ERROR:__main__:https://www.flickr.com/photos/85440991@N08/16609632999\n",
      "ERROR:__main__:https://www.flickr.com/photos/21150179@N05/16614119017\n",
      "ERROR:__main__:https://www.flickr.com/photos/26089101@N02/16615555659\n",
      "ERROR:__main__:https://www.flickr.com/photos/61880591@N05/16617310078\n",
      "ERROR:__main__:https://www.flickr.com/photos/131797077@N06/16617657084\n",
      "ERROR:__main__:https://www.flickr.com/photos/129079682@N06/16618837457\n",
      "ERROR:__main__:https://www.flickr.com/photos/127874233@N02/16619801584\n",
      "ERROR:__main__:https://www.flickr.com/photos/54466217@N05/16623985684\n",
      "ERROR:__main__:https://www.flickr.com/photos/98586233@N08/16624087548\n",
      "ERROR:__main__:https://www.flickr.com/photos/48889817@N05/16625318010\n",
      "ERROR:__main__:https://www.flickr.com/photos/45569436@N00/16625890064\n",
      "ERROR:__main__:https://www.flickr.com/photos/45569436@N00/16625934034\n"
     ]
    }
   ],
   "source": [
    "# Separate out errors and error-causing URLs\n",
    "errors, error_urls = zip(*results)\n",
    "error_urls = [url for err, url in zip(errors, error_urls) if err is not None]\n",
    "\n",
    "# Print any errors that occurred during the download\n",
    "if error_urls:\n",
    "    logger.error(\"Errors occurred during the download:\")\n",
    "    for url in error_urls:\n",
    "        logger.error(url)\n",
    "else:\n",
    "    logger.info(\"All images downloaded successfully!\")"
   ]
  },
  {
   "cell_type": "code",
   "execution_count": 15,
   "metadata": {},
   "outputs": [
    {
     "data": {
      "text/plain": [
       "68"
      ]
     },
     "execution_count": 15,
     "metadata": {},
     "output_type": "execute_result"
    }
   ],
   "source": [
    "len(error_urls)"
   ]
  },
  {
   "cell_type": "code",
   "execution_count": 17,
   "metadata": {},
   "outputs": [
    {
     "data": {
      "text/plain": [
       "432"
      ]
     },
     "execution_count": 17,
     "metadata": {},
     "output_type": "execute_result"
    }
   ],
   "source": [
    "len(os.listdir(download_path))"
   ]
  },
  {
   "cell_type": "code",
   "execution_count": 18,
   "metadata": {},
   "outputs": [
    {
     "data": {
      "text/plain": [
       "500"
      ]
     },
     "execution_count": 18,
     "metadata": {},
     "output_type": "execute_result"
    }
   ],
   "source": [
    "432+68"
   ]
  },
  {
   "cell_type": "markdown",
   "metadata": {},
   "source": [
    "# doing it for all the urls"
   ]
  },
  {
   "cell_type": "code",
   "execution_count": 19,
   "metadata": {},
   "outputs": [
    {
     "data": {
      "application/vnd.jupyter.widget-view+json": {
       "model_id": "6faeb7e9b7c34459a4fe8295d22fc5fb",
       "version_major": 2,
       "version_minor": 0
      },
      "text/plain": [
       "Downloading images:   0%|          | 0/304952 [00:00<?, ?it/s]"
      ]
     },
     "metadata": {},
     "output_type": "display_data"
    }
   ],
   "source": [
    "# Download images using multithreading\n",
    "results = Parallel(n_jobs=60)(\n",
    "    delayed(download_image)(url, download_path) for url in tqdm(urls, desc=\"Downloading images\")\n",
    ")"
   ]
  },
  {
   "cell_type": "code",
   "execution_count": 20,
   "metadata": {},
   "outputs": [
    {
     "data": {
      "text/plain": [
       "0.824047718985283"
      ]
     },
     "execution_count": 20,
     "metadata": {},
     "output_type": "execute_result"
    }
   ],
   "source": [
    "251295/304952 "
   ]
  },
  {
   "cell_type": "code",
   "execution_count": 18,
   "metadata": {},
   "outputs": [
    {
     "name": "stdout",
     "output_type": "stream",
     "text": [
      "<class 'pandas.core.frame.DataFrame'>\n",
      "RangeIndex: 304952 entries, 0 to 304951\n",
      "Data columns (total 23 columns):\n",
      " #   Column                Non-Null Count   Dtype  \n",
      "---  ------                --------------   -----  \n",
      " 0   url                   304952 non-null  object \n",
      " 1   label                 304952 non-null  float64\n",
      " 2   Category              304952 non-null  object \n",
      " 3   Concept               304952 non-null  object \n",
      " 4   Pid                   304952 non-null  int64  \n",
      " 5   Uid                   304952 non-null  object \n",
      " 6   Subcategory           304952 non-null  object \n",
      " 7   Alltags               304952 non-null  object \n",
      " 8   Title                 294408 non-null  object \n",
      " 9   Postdate              304952 non-null  int64  \n",
      " 10  Longitude             304952 non-null  float64\n",
      " 11  Geoaccuracy           304952 non-null  int64  \n",
      " 12  Latitude              304952 non-null  float64\n",
      " 13  photo_firstdatetaken  304952 non-null  int64  \n",
      " 14  location_description  152478 non-null  object \n",
      " 15  photo_count           304952 non-null  int64  \n",
      " 16  ispro                 304952 non-null  int64  \n",
      " 17  user_description      304952 non-null  object \n",
      " 18  canbuypro             304952 non-null  int64  \n",
      " 19  timezone_timezone_id  304952 non-null  int64  \n",
      " 20  photo_firstdate       304510 non-null  object \n",
      " 21  timezone_offset       304952 non-null  int64  \n",
      " 22  Pathalias             304952 non-null  object \n",
      "dtypes: float64(3), int64(9), object(11)\n",
      "memory usage: 53.5+ MB\n"
     ]
    }
   ],
   "source": [
    "dfraw.info()"
   ]
  },
  {
   "cell_type": "code",
   "execution_count": 21,
   "metadata": {},
   "outputs": [
    {
     "name": "stdout",
     "output_type": "stream",
     "text": [
      "251295\n"
     ]
    }
   ],
   "source": [
    "import os\n",
    "os.chdir(r'D:\\old\\data255_deeplearning_team2\\data\\raw\\images')\n",
    "print(len(os.listdir()))"
   ]
  },
  {
   "cell_type": "code",
   "execution_count": 22,
   "metadata": {},
   "outputs": [
    {
     "data": {
      "text/plain": [
       "{'url': {0: 'https://www.flickr.com/photos/58708830@N00/385070026'},\n",
       " 'label': {0: 11.18},\n",
       " 'Category': {0: 'Fashion'},\n",
       " 'Concept': {0: 'glam'},\n",
       " 'Pid': {0: 775},\n",
       " 'Uid': {0: '59@N75'},\n",
       " 'Subcategory': {0: 'Fashion'},\n",
       " 'Alltags': {0: 'rock punk transgender tranny electronicmusic electro glam electronica luisdrayton fusionrecords thefusionnetwork lmwcphotography'},\n",
       " 'Title': {0: 'Luis Drayton - Edinburgh shoot #6'},\n",
       " 'Postdate': {0: 1446016778},\n",
       " 'Longitude': {0: 0.0},\n",
       " 'Geoaccuracy': {0: 0},\n",
       " 'Latitude': {0: 0.0},\n",
       " 'photo_firstdatetaken': {0: 1904010100},\n",
       " 'location_description': {0: '0.0,0.0,0.0,0.0,0.0,0.0,0.0,0.0,0.0,0.0,0.0,0.0,0.0,0.0,0.0,0.0,0.0,0.0,0.0,0.0,0.0,0.0,0.0,0.0,0.0,0.0,0.0,0.0,0.0,0.0,0.0,0.0,0.0,0.0,0.0,0.0,0.0,0.0,0.0,0.0,0.0,0.0,0.0,0.0,0.0,0.0,0.0,0.0,0.0,0.0,0.0,0.0,0.0,0.0,0.0,0.0,0.0,0.0,0.0,0.0,0.0,0.0,0.0,0.0,0.0,0.0,0.0,0.0,0.0,0.0,0.0,0.0,0.0,0.0,0.0,0.0,0.0,0.0,0.0,0.0,0.0,0.0,0.0,0.0,0.0,0.0,0.0,0.0,0.0,0.0,0.0,0.0,0.0,0.0,0.0,0.0,0.0,0.0,0.0,0.0,0.0,0.0,0.0,0.0,0.0,0.0,0.0,0.0,0.0,0.0,0.0,0.0,0.0,0.0,0.0,0.0,0.0,0.0,0.0,0.0,0.0,0.0,0.0,0.0,0.0,0.0,0.0,0.0,0.0,0.0,0.0,0.0,0.0,0.0,0.0,0.0,0.0,0.0,0.0,0.0,0.0,0.0,0.0,0.0,0.0,0.0,0.0,0.0,0.0,0.0,0.0,0.0,0.0,0.0,0.0,0.0,0.0,0.0,0.0,0.0,0.0,0.0,0.0,0.0,0.0,0.0,0.0,0.0,0.0,0.0,0.0,0.0,0.0,0.0,0.0,0.0,0.0,0.0,0.0,0.0,0.0,0.0,0.0,0.0,0.0,0.0,0.0,0.0,0.0,0.0,0.0,0.0,0.0,0.0,0.0,0.0,0.0,0.0,0.0,0.0,0.0,0.0,0.0,0.0,0.0,0.0,0.0,0.0,0.0,0.0,0.0,0.0,0.0,0.0,0.0,0.0,0.0,0.0,0.0,0.0,0.0,0.0,0.0,0.0,0.0,0.0,0.0,0.0,0.0,0.0,0.0,0.0,0.0,0.0,0.0,0.0,0.0,0.0,0.0,0.0,0.0,0.0,0.0,0.0,0.0,0.0,0.0,0.0,0.0,0.0,0.0,0.0,0.0,0.0,0.0,0.0,0.0,0.0,0.0,0.0,0.0,0.0,0.0,0.0,0.0,0.0,0.0,0.0,0.0,0.0,0.0,0.0,0.0,0.0,0.0,0.0,0.0,0.0,0.0,0.0,0.0,0.0,0.0,0.0,0.0,0.0,0.0,0.0,0.0,0.0,0.0,0.0,0.0,0.0,0.0,0.0,0.0,0.0,0.0,0.0,0.0,0.0,0.0,0.0,0.0,0.0,0.0,0.0,0.0,0.0,0.0,0.0,0.0,0.0,0.0,0.0,0.0,0.0,0.0,0.0,0.0,0.0,0.0,0.0,0.0,0.0,0.0,0.0,0.0,0.0,0.0,0.0,0.0,0.0,0.0,0.0,0.0,0.0,0.0,0.0,0.0,0.0,0.0,0.0,0.0,0.0,0.0,0.0,0.0,0.0,0.0,0.0,0.0,0.0,0.0,0.0,0.0,0.0,0.0,0.0,0.0,0.0,0.0,0.0,0.0,0.0,0.0,0.0,0.0,0.0,0.0,0.0,0.0,0.0,0.0,0.0,0.0,0.0,0.0,0.0,0.0,0.0,0.0,0.0,0.0,0.0,0.0,0.0,0.0,0.0,0.0,0.0,0.0,0.0,0.0,0.0,0.0,0.0,0.0,0.0\\r\\n'},\n",
       " 'photo_count': {0: 6828},\n",
       " 'ispro': {0: 1},\n",
       " 'user_description': {0: '0.0866962,-0.0752717,-0.0149407,-0.0460858,-0.0327874,-0.173205,-0.0503193,-0.168852,-0.0560463,-0.0652622,-0.0197916,0.202145,-0.0295494,-0.0922705,-0.124782,0.105903,0.123768,-0.0265471,-0.0638658,-0.0327101,-0.306473,-0.0278667,0.0174159,-0.0843429,-0.252137,-0.163782,-0.0709923,0.108734,0.10061,0.100171,0.046085,-0.120101,-0.0815058,0.0142502,0.0221482,0.034823,0.201012,-0.0370981,-0.00282927,0.148197,-0.105791,0.359661,0.0816346,-0.1525,-0.0868719,-0.101025,0.0495436,0.0730767,-0.0367321,-0.0236857,-0.141419,0.178778,0.215616,-0.0245598,0.0983729,-0.0713507,0.183393,0.0255331,-0.0606911,0.00129888,-0.0380955,-0.0968868,-0.0720461,0.0845755,-0.22897,-0.00101663,0.129825,0.0267448,-0.0599604,-0.124881,0.108672,-0.129943,-0.0124867,-0.0758269,-0.0998878,-0.130072,-0.121562,-0.105701,0.0536067,0.114676,0.0913954,-0.0488209,-0.0865631,0.017226,-0.202702,-0.00404179,-0.0106791,0.0108798,0.205568,-0.169696,0.161294,0.0298197,0.0886766,-0.0713351,-0.0546343,-0.0375216,-0.0366787,0.184522,0.106834,-0.00637909,0.281439,-0.0553231,-0.127534,0.0237314,0.132365,0.0130151,-0.0136631,-0.00406339,-0.207997,0.165476,0.0709337,-0.0540692,0.0742916,0.107539,-0.12582,0.0424646,0.055991,-0.241352,0.0947561,0.0465263,0.000674329,0.123183,-0.189025,-0.149985,-0.145282,0.115291,0.12396,0.0789598,-0.00868808,-0.0510038,0.0481385,0.114327,0.0296329,0.12134,-0.1551,0.0231417,0.0513465,-0.387954,0.118169,-0.122239,-0.0919745,-0.0491595,-0.00563302,0.00212651,-0.113092,-0.0942754,-0.117811,0.0450611,-0.102224,-0.0442093,-0.132468,-0.133528,0.124056,-0.0338338,0.106563,-0.00678321,-0.176154,-0.00395233,-0.137244,0.0339796,0.00474212,0.0823856,0.126569,0.046447,0.0653249,0.0112567,0.0847386,0.0117238,0.0584247,0.0171726,-0.173777,0.0346433,0.0923811,-0.0848924,0.0107572,0.03337,0.0479528,0.162054,-0.166881,0.0864905,-0.272645,-0.118555,0.0796976,0.0206701,0.0689184,-0.143446,-0.196278,-0.0550728,-0.0286848,0.0088038,0.127144,0.131878,-0.276149,0.000572524,-0.0780686,-0.0506722,-0.112518,0.138179,-0.0584608,-0.0198553,0.0289776,-0.1212,0.117893,-0.0754693,0.0114589,-0.159259,-0.0593054,0.155842,0.198437,0.0491405,-0.0372228,-0.0665484,-0.473591,0.0304619,0.0418438,0.0251984,0.00369894,0.141296,0.0603537,-0.185095,0.110951,-0.0305861,0.079907,-0.0357783,0.188052,-0.113659,0.108718,0.213389,0.0935162,0.025333,0.0704349,-0.168502,-0.0698094,0.117621,-0.0555983,0.270768,-0.0909646,0.0705608,0.00209312,-0.0484578,0.0405152,-0.21981,-0.0622158,-0.136616,0.0549518,0.000351563,0.0639489,-0.0231681,-0.0192893,-0.188379,0.142306,0.0670897,0.0146749,0.060803,-0.0903601,0.0958449,-0.0176239,0.0364272,-0.0851556,-0.0798931,0.187927,0.0368355,-0.0994585,-0.0457886,-0.000718595,-0.00911284,-0.0299426,0.0577228,-0.0103583,-0.0967886,-0.0465295,0.104489,-0.0453383,-0.0638008,-0.0664611,-0.0866806,-0.0319284,0.0541284,-0.164789,-0.183554,-0.201223,0.0136389,-0.0549707,-0.161714,0.0415371,-0.106117,-0.00635104,0.133406,0.2433,-0.122319,-0.0586861,-0.350711,0.165556,-0.163301,-0.0147133,0.0346749,0.0125255,-0.0384285,0.16887,-0.264769,-0.0102962,0.139077,0.111128,-0.0509215,-0.141908,0.0319647,0.0333884,-0.00225802,-0.0411005,0.0893319,0.182026,-0.0724822,-0.0938843,-0.11142,0.0948552,0.101434,-0.0819191,-0.107394,0.106518,-0.145103,0.117409,0.0818256,-0.0446898,0.131097,0.216455,0.0302284,0.199312,-0.193017,0.150328,0.245386,-0.0438961,-0.0586022,-0.00206882,-0.183439,0.0336926,-0.171692,0.148154,-0.0933054,-0.0604755,0.140362,0.0370627,0.158368,-0.105669,-0.023294,0.15429,-0.159197,0.18792,0.111896,0.0424778,-0.0154726,-0.137845,-0.0319083,0.0014162,-0.104543,-0.0563528,-0.0742529,0.0205503,-0.244778,0.105378,-0.0445509,0.157183,-0.272781,0.0598614,-0.0741241,-0.0288745,0.105378,-0.169396,0.0543214,0.159695,0.0639288,-0.131329,0.100839,0.0850471,-0.0679521,-0.159786,-0.0548018,0.0872928,-0.051133,-0.0713013,-0.162762,0.0589538,0.11812,0.115788,-0.21522,-0.184504,0.167812,-0.0839651,0.0506273,0.253758,0.0923768,-0.0132038,-0.0404984,-0.057136,-0.0145349,0.18217,-0.00645545,0.140806,-0.0770516,0.138333'},\n",
       " 'canbuypro': {0: 0},\n",
       " 'timezone_timezone_id': {0: 9},\n",
       " 'photo_firstdate': {0: 1213743830.0},\n",
       " 'timezone_offset': {0: 1},\n",
       " 'Pathalias': {0: 'luisdrayton'}}"
      ]
     },
     "execution_count": 22,
     "metadata": {},
     "output_type": "execute_result"
    }
   ],
   "source": [
    "dfraw[dfraw['url'].str.contains('385070026')].to_dict()"
   ]
  },
  {
   "cell_type": "code",
   "execution_count": 23,
   "metadata": {},
   "outputs": [
    {
     "data": {
      "text/html": [
       "<div>\n",
       "<style scoped>\n",
       "    .dataframe tbody tr th:only-of-type {\n",
       "        vertical-align: middle;\n",
       "    }\n",
       "\n",
       "    .dataframe tbody tr th {\n",
       "        vertical-align: top;\n",
       "    }\n",
       "\n",
       "    .dataframe thead th {\n",
       "        text-align: right;\n",
       "    }\n",
       "</style>\n",
       "<table border=\"1\" class=\"dataframe\">\n",
       "  <thead>\n",
       "    <tr style=\"text-align: right;\">\n",
       "      <th></th>\n",
       "      <th>url</th>\n",
       "      <th>label</th>\n",
       "      <th>Category</th>\n",
       "      <th>Concept</th>\n",
       "      <th>Pid</th>\n",
       "      <th>Uid</th>\n",
       "      <th>Subcategory</th>\n",
       "      <th>Alltags</th>\n",
       "      <th>Title</th>\n",
       "      <th>Postdate</th>\n",
       "      <th>...</th>\n",
       "      <th>location_description</th>\n",
       "      <th>photo_count</th>\n",
       "      <th>ispro</th>\n",
       "      <th>user_description</th>\n",
       "      <th>canbuypro</th>\n",
       "      <th>timezone_timezone_id</th>\n",
       "      <th>photo_firstdate</th>\n",
       "      <th>timezone_offset</th>\n",
       "      <th>Pathalias</th>\n",
       "      <th>img</th>\n",
       "    </tr>\n",
       "  </thead>\n",
       "  <tbody>\n",
       "    <tr>\n",
       "      <th>0</th>\n",
       "      <td>https://www.flickr.com/photos/58708830@N00/385...</td>\n",
       "      <td>11.18</td>\n",
       "      <td>Fashion</td>\n",
       "      <td>glam</td>\n",
       "      <td>775</td>\n",
       "      <td>59@N75</td>\n",
       "      <td>Fashion</td>\n",
       "      <td>rock punk transgender tranny electronicmusic e...</td>\n",
       "      <td>Luis Drayton - Edinburgh shoot #6</td>\n",
       "      <td>1446016778</td>\n",
       "      <td>...</td>\n",
       "      <td>0.0,0.0,0.0,0.0,0.0,0.0,0.0,0.0,0.0,0.0,0.0,0....</td>\n",
       "      <td>6828</td>\n",
       "      <td>1</td>\n",
       "      <td>0.0866962,-0.0752717,-0.0149407,-0.0460858,-0....</td>\n",
       "      <td>0</td>\n",
       "      <td>9</td>\n",
       "      <td>1213743830.0</td>\n",
       "      <td>1</td>\n",
       "      <td>luisdrayton</td>\n",
       "      <td>385070026.jpg</td>\n",
       "    </tr>\n",
       "    <tr>\n",
       "      <th>1</th>\n",
       "      <td>https://www.flickr.com/photos/97042891@N00/943...</td>\n",
       "      <td>15.15</td>\n",
       "      <td>Travel&amp;Active&amp;Sports</td>\n",
       "      <td>fifa</td>\n",
       "      <td>1075</td>\n",
       "      <td>1@N18</td>\n",
       "      <td>Soccer</td>\n",
       "      <td>brazil rio brasil riodejaneiro by maria fifa m...</td>\n",
       "      <td>Arena da Barra - Arena HSBC - Arena do PAN   #...</td>\n",
       "      <td>1454983379</td>\n",
       "      <td>...</td>\n",
       "      <td>NaN</td>\n",
       "      <td>32102</td>\n",
       "      <td>1</td>\n",
       "      <td>0.14628,-0.0255633,-0.0711352,0.120531,-0.0728...</td>\n",
       "      <td>0</td>\n",
       "      <td>2</td>\n",
       "      <td>1263266743.0</td>\n",
       "      <td>0</td>\n",
       "      <td>claudiolara</td>\n",
       "      <td>943750056.jpg</td>\n",
       "    </tr>\n",
       "    <tr>\n",
       "      <th>2</th>\n",
       "      <td>https://www.flickr.com/photos/18583731@N07/324...</td>\n",
       "      <td>10.99</td>\n",
       "      <td>Entertainment</td>\n",
       "      <td>cinema</td>\n",
       "      <td>4890</td>\n",
       "      <td>351@N64</td>\n",
       "      <td>Movies</td>\n",
       "      <td>old cinema beauty marilyn photoshop movie joke...</td>\n",
       "      <td>MARILYN 2015</td>\n",
       "      <td>1433118604</td>\n",
       "      <td>...</td>\n",
       "      <td>0.0334692,-0.0585118,0.158872,-0.000377208,-0....</td>\n",
       "      <td>276</td>\n",
       "      <td>0</td>\n",
       "      <td>0.0,0.0,0.0,0.0,0.0,0.0,0.0,0.0,0.0,0.0,0.0,0....</td>\n",
       "      <td>0</td>\n",
       "      <td>11</td>\n",
       "      <td>1296417600.0</td>\n",
       "      <td>-3</td>\n",
       "      <td>rizzato</td>\n",
       "      <td>3246928439.jpg</td>\n",
       "    </tr>\n",
       "    <tr>\n",
       "      <th>3</th>\n",
       "      <td>https://www.flickr.com/photos/98216376@N00/343...</td>\n",
       "      <td>8.63</td>\n",
       "      <td>Holiday&amp;Celebrations</td>\n",
       "      <td>old</td>\n",
       "      <td>6568</td>\n",
       "      <td>6@N59</td>\n",
       "      <td>Birthday</td>\n",
       "      <td>pictures old family scans brothers sister 1958...</td>\n",
       "      <td>Knikkertijd - 1959</td>\n",
       "      <td>1451577600</td>\n",
       "      <td>...</td>\n",
       "      <td>NaN</td>\n",
       "      <td>32102</td>\n",
       "      <td>1</td>\n",
       "      <td>0.14628,-0.0255633,-0.0711352,0.120531,-0.0728...</td>\n",
       "      <td>0</td>\n",
       "      <td>2</td>\n",
       "      <td>1263266743.0</td>\n",
       "      <td>0</td>\n",
       "      <td>4kleuren</td>\n",
       "      <td>3432316502.jpg</td>\n",
       "    </tr>\n",
       "    <tr>\n",
       "      <th>4</th>\n",
       "      <td>https://www.flickr.com/photos/35797910@N08/353...</td>\n",
       "      <td>11.16</td>\n",
       "      <td>Food</td>\n",
       "      <td>thirsty</td>\n",
       "      <td>7079</td>\n",
       "      <td>1617@N40</td>\n",
       "      <td>Drinks</td>\n",
       "      <td>hot sahara animal animals desert bottles drink...</td>\n",
       "      <td>CAMELS01</td>\n",
       "      <td>1425744438</td>\n",
       "      <td>...</td>\n",
       "      <td>0.0,0.0,0.0,0.0,0.0,0.0,0.0,0.0,0.0,0.0,0.0,0....</td>\n",
       "      <td>32102</td>\n",
       "      <td>1</td>\n",
       "      <td>0.14628,-0.0255633,-0.0711352,0.120531,-0.0728...</td>\n",
       "      <td>0</td>\n",
       "      <td>2</td>\n",
       "      <td>1263266743.0</td>\n",
       "      <td>0</td>\n",
       "      <td>glosackmd</td>\n",
       "      <td>3538960847.jpg</td>\n",
       "    </tr>\n",
       "    <tr>\n",
       "      <th>...</th>\n",
       "      <td>...</td>\n",
       "      <td>...</td>\n",
       "      <td>...</td>\n",
       "      <td>...</td>\n",
       "      <td>...</td>\n",
       "      <td>...</td>\n",
       "      <td>...</td>\n",
       "      <td>...</td>\n",
       "      <td>...</td>\n",
       "      <td>...</td>\n",
       "      <td>...</td>\n",
       "      <td>...</td>\n",
       "      <td>...</td>\n",
       "      <td>...</td>\n",
       "      <td>...</td>\n",
       "      <td>...</td>\n",
       "      <td>...</td>\n",
       "      <td>...</td>\n",
       "      <td>...</td>\n",
       "      <td>...</td>\n",
       "      <td>...</td>\n",
       "    </tr>\n",
       "    <tr>\n",
       "      <th>304947</th>\n",
       "      <td>https://www.flickr.com/photos/120541745@N06/27...</td>\n",
       "      <td>4.00</td>\n",
       "      <td>Animal</td>\n",
       "      <td>creature</td>\n",
       "      <td>1118328</td>\n",
       "      <td>62225@N20</td>\n",
       "      <td>Insects</td>\n",
       "      <td>york travel sky urban sun france color tree gr...</td>\n",
       "      <td>Mushrooms</td>\n",
       "      <td>1433577362</td>\n",
       "      <td>...</td>\n",
       "      <td>0.0,0.0,0.0,0.0,0.0,0.0,0.0,0.0,0.0,0.0,0.0,0....</td>\n",
       "      <td>8301</td>\n",
       "      <td>1</td>\n",
       "      <td>0.104426,0.0598804,-0.0149883,0.0338535,-0.007...</td>\n",
       "      <td>0</td>\n",
       "      <td>49</td>\n",
       "      <td>1277859911.0</td>\n",
       "      <td>12</td>\n",
       "      <td>None</td>\n",
       "      <td>27597418605.jpg</td>\n",
       "    </tr>\n",
       "    <tr>\n",
       "      <th>304948</th>\n",
       "      <td>https://www.flickr.com/photos/92475605@N03/275...</td>\n",
       "      <td>1.00</td>\n",
       "      <td>Social&amp;People</td>\n",
       "      <td>portrait</td>\n",
       "      <td>1118334</td>\n",
       "      <td>108435@N35</td>\n",
       "      <td>Selfies</td>\n",
       "      <td>portrait cute animal cat furry panasonic calic...</td>\n",
       "      <td>Evie</td>\n",
       "      <td>1439629953</td>\n",
       "      <td>...</td>\n",
       "      <td>NaN</td>\n",
       "      <td>801</td>\n",
       "      <td>0</td>\n",
       "      <td>0.114495,-0.0303421,-0.0893819,0.0774031,-0.08...</td>\n",
       "      <td>0</td>\n",
       "      <td>3</td>\n",
       "      <td>1398624531.0</td>\n",
       "      <td>-6</td>\n",
       "      <td>matty3126</td>\n",
       "      <td>27597517425.jpg</td>\n",
       "    </tr>\n",
       "    <tr>\n",
       "      <th>304949</th>\n",
       "      <td>https://www.flickr.com/photos/43770052@N08/275...</td>\n",
       "      <td>2.00</td>\n",
       "      <td>Travel&amp;Active&amp;Sports</td>\n",
       "      <td>exotic</td>\n",
       "      <td>1118342</td>\n",
       "      <td>84730@N71</td>\n",
       "      <td>Cars</td>\n",
       "      <td>car exotic german malaysia kualalumpur superca...</td>\n",
       "      <td>BSSLS+R8GT!!</td>\n",
       "      <td>1444462129</td>\n",
       "      <td>...</td>\n",
       "      <td>0.0,0.0,0.0,0.0,0.0,0.0,0.0,0.0,0.0,0.0,0.0,0....</td>\n",
       "      <td>574</td>\n",
       "      <td>0</td>\n",
       "      <td>0.18969,-0.0675743,-0.125082,0.097416,-0.02100...</td>\n",
       "      <td>0</td>\n",
       "      <td>2</td>\n",
       "      <td>1394377573.0</td>\n",
       "      <td>0</td>\n",
       "      <td>khooxotics</td>\n",
       "      <td>27597606545.jpg</td>\n",
       "    </tr>\n",
       "    <tr>\n",
       "      <th>304950</th>\n",
       "      <td>https://www.flickr.com/photos/50969511@N02/275...</td>\n",
       "      <td>6.89</td>\n",
       "      <td>Whether&amp;Season</td>\n",
       "      <td>cloud</td>\n",
       "      <td>1118344</td>\n",
       "      <td>9542@N37</td>\n",
       "      <td>Cloudy</td>\n",
       "      <td>city newzealand christchurch cloud building ca...</td>\n",
       "      <td>C to A1</td>\n",
       "      <td>1442458947</td>\n",
       "      <td>...</td>\n",
       "      <td>NaN</td>\n",
       "      <td>7167</td>\n",
       "      <td>1</td>\n",
       "      <td>0.142518,-0.0121231,-0.0464556,0.0887664,-0.02...</td>\n",
       "      <td>0</td>\n",
       "      <td>20</td>\n",
       "      <td>1234576422.0</td>\n",
       "      <td>10</td>\n",
       "      <td>stevetaylors</td>\n",
       "      <td>27597637235.jpg</td>\n",
       "    </tr>\n",
       "    <tr>\n",
       "      <th>304951</th>\n",
       "      <td>https://www.flickr.com/photos/113604805@N04/27...</td>\n",
       "      <td>1.58</td>\n",
       "      <td>Travel&amp;Active&amp;Sports</td>\n",
       "      <td>travel</td>\n",
       "      <td>1118345</td>\n",
       "      <td>92344@N20</td>\n",
       "      <td>Travel</td>\n",
       "      <td>city travel winter usa newyork skyline america...</td>\n",
       "      <td>Empire State Building</td>\n",
       "      <td>1426067443</td>\n",
       "      <td>...</td>\n",
       "      <td>0.0,0.0,0.0,0.0,0.0,0.0,0.0,0.0,0.0,0.0,0.0,0....</td>\n",
       "      <td>7167</td>\n",
       "      <td>1</td>\n",
       "      <td>0.142518,-0.0121231,-0.0464556,0.0887664,-0.02...</td>\n",
       "      <td>0</td>\n",
       "      <td>20</td>\n",
       "      <td>1234576422.0</td>\n",
       "      <td>10</td>\n",
       "      <td>maelick</td>\n",
       "      <td>27597665145.jpg</td>\n",
       "    </tr>\n",
       "  </tbody>\n",
       "</table>\n",
       "<p>304952 rows × 24 columns</p>\n",
       "</div>"
      ],
      "text/plain": [
       "                                                      url  label  \\\n",
       "0       https://www.flickr.com/photos/58708830@N00/385...  11.18   \n",
       "1       https://www.flickr.com/photos/97042891@N00/943...  15.15   \n",
       "2       https://www.flickr.com/photos/18583731@N07/324...  10.99   \n",
       "3       https://www.flickr.com/photos/98216376@N00/343...   8.63   \n",
       "4       https://www.flickr.com/photos/35797910@N08/353...  11.16   \n",
       "...                                                   ...    ...   \n",
       "304947  https://www.flickr.com/photos/120541745@N06/27...   4.00   \n",
       "304948  https://www.flickr.com/photos/92475605@N03/275...   1.00   \n",
       "304949  https://www.flickr.com/photos/43770052@N08/275...   2.00   \n",
       "304950  https://www.flickr.com/photos/50969511@N02/275...   6.89   \n",
       "304951  https://www.flickr.com/photos/113604805@N04/27...   1.58   \n",
       "\n",
       "                    Category   Concept      Pid         Uid Subcategory  \\\n",
       "0                    Fashion      glam      775      59@N75     Fashion   \n",
       "1       Travel&Active&Sports      fifa     1075       1@N18      Soccer   \n",
       "2              Entertainment    cinema     4890     351@N64      Movies   \n",
       "3       Holiday&Celebrations       old     6568       6@N59    Birthday   \n",
       "4                       Food   thirsty     7079    1617@N40      Drinks   \n",
       "...                      ...       ...      ...         ...         ...   \n",
       "304947                Animal  creature  1118328   62225@N20     Insects   \n",
       "304948         Social&People  portrait  1118334  108435@N35     Selfies   \n",
       "304949  Travel&Active&Sports    exotic  1118342   84730@N71        Cars   \n",
       "304950        Whether&Season     cloud  1118344    9542@N37      Cloudy   \n",
       "304951  Travel&Active&Sports    travel  1118345   92344@N20      Travel   \n",
       "\n",
       "                                                  Alltags  \\\n",
       "0       rock punk transgender tranny electronicmusic e...   \n",
       "1       brazil rio brasil riodejaneiro by maria fifa m...   \n",
       "2       old cinema beauty marilyn photoshop movie joke...   \n",
       "3       pictures old family scans brothers sister 1958...   \n",
       "4       hot sahara animal animals desert bottles drink...   \n",
       "...                                                   ...   \n",
       "304947  york travel sky urban sun france color tree gr...   \n",
       "304948  portrait cute animal cat furry panasonic calic...   \n",
       "304949  car exotic german malaysia kualalumpur superca...   \n",
       "304950  city newzealand christchurch cloud building ca...   \n",
       "304951  city travel winter usa newyork skyline america...   \n",
       "\n",
       "                                                    Title    Postdate  ...  \\\n",
       "0                       Luis Drayton - Edinburgh shoot #6  1446016778  ...   \n",
       "1       Arena da Barra - Arena HSBC - Arena do PAN   #...  1454983379  ...   \n",
       "2                                            MARILYN 2015  1433118604  ...   \n",
       "3                                      Knikkertijd - 1959  1451577600  ...   \n",
       "4                                                CAMELS01  1425744438  ...   \n",
       "...                                                   ...         ...  ...   \n",
       "304947                                          Mushrooms  1433577362  ...   \n",
       "304948                                               Evie  1439629953  ...   \n",
       "304949                                       BSSLS+R8GT!!  1444462129  ...   \n",
       "304950                                            C to A1  1442458947  ...   \n",
       "304951                              Empire State Building  1426067443  ...   \n",
       "\n",
       "                                     location_description  photo_count  ispro  \\\n",
       "0       0.0,0.0,0.0,0.0,0.0,0.0,0.0,0.0,0.0,0.0,0.0,0....         6828      1   \n",
       "1                                                     NaN        32102      1   \n",
       "2       0.0334692,-0.0585118,0.158872,-0.000377208,-0....          276      0   \n",
       "3                                                     NaN        32102      1   \n",
       "4       0.0,0.0,0.0,0.0,0.0,0.0,0.0,0.0,0.0,0.0,0.0,0....        32102      1   \n",
       "...                                                   ...          ...    ...   \n",
       "304947  0.0,0.0,0.0,0.0,0.0,0.0,0.0,0.0,0.0,0.0,0.0,0....         8301      1   \n",
       "304948                                                NaN          801      0   \n",
       "304949  0.0,0.0,0.0,0.0,0.0,0.0,0.0,0.0,0.0,0.0,0.0,0....          574      0   \n",
       "304950                                                NaN         7167      1   \n",
       "304951  0.0,0.0,0.0,0.0,0.0,0.0,0.0,0.0,0.0,0.0,0.0,0....         7167      1   \n",
       "\n",
       "                                         user_description canbuypro  \\\n",
       "0       0.0866962,-0.0752717,-0.0149407,-0.0460858,-0....         0   \n",
       "1       0.14628,-0.0255633,-0.0711352,0.120531,-0.0728...         0   \n",
       "2       0.0,0.0,0.0,0.0,0.0,0.0,0.0,0.0,0.0,0.0,0.0,0....         0   \n",
       "3       0.14628,-0.0255633,-0.0711352,0.120531,-0.0728...         0   \n",
       "4       0.14628,-0.0255633,-0.0711352,0.120531,-0.0728...         0   \n",
       "...                                                   ...       ...   \n",
       "304947  0.104426,0.0598804,-0.0149883,0.0338535,-0.007...         0   \n",
       "304948  0.114495,-0.0303421,-0.0893819,0.0774031,-0.08...         0   \n",
       "304949  0.18969,-0.0675743,-0.125082,0.097416,-0.02100...         0   \n",
       "304950  0.142518,-0.0121231,-0.0464556,0.0887664,-0.02...         0   \n",
       "304951  0.142518,-0.0121231,-0.0464556,0.0887664,-0.02...         0   \n",
       "\n",
       "        timezone_timezone_id  photo_firstdate timezone_offset     Pathalias  \\\n",
       "0                          9     1213743830.0               1   luisdrayton   \n",
       "1                          2     1263266743.0               0   claudiolara   \n",
       "2                         11     1296417600.0              -3       rizzato   \n",
       "3                          2     1263266743.0               0      4kleuren   \n",
       "4                          2     1263266743.0               0     glosackmd   \n",
       "...                      ...              ...             ...           ...   \n",
       "304947                    49     1277859911.0              12          None   \n",
       "304948                     3     1398624531.0              -6     matty3126   \n",
       "304949                     2     1394377573.0               0    khooxotics   \n",
       "304950                    20     1234576422.0              10  stevetaylors   \n",
       "304951                    20     1234576422.0              10       maelick   \n",
       "\n",
       "                    img  \n",
       "0         385070026.jpg  \n",
       "1         943750056.jpg  \n",
       "2        3246928439.jpg  \n",
       "3        3432316502.jpg  \n",
       "4        3538960847.jpg  \n",
       "...                 ...  \n",
       "304947  27597418605.jpg  \n",
       "304948  27597517425.jpg  \n",
       "304949  27597606545.jpg  \n",
       "304950  27597637235.jpg  \n",
       "304951  27597665145.jpg  \n",
       "\n",
       "[304952 rows x 24 columns]"
      ]
     },
     "execution_count": 23,
     "metadata": {},
     "output_type": "execute_result"
    }
   ],
   "source": [
    "dfraw['img']= dfraw['url'].apply(lambda x: x.split('/')[-1]+'.jpg')\n",
    "dfraw"
   ]
  },
  {
   "cell_type": "code",
   "execution_count": 24,
   "metadata": {},
   "outputs": [
    {
     "data": {
      "text/plain": [
       "1    251295\n",
       "0     53657\n",
       "Name: img_access, dtype: int64"
      ]
     },
     "execution_count": 24,
     "metadata": {},
     "output_type": "execute_result"
    }
   ],
   "source": [
    "dfraw['img_access']= dfraw['img'].apply(lambda x: 1 if os.path.exists(x) else 0)\n",
    "dfraw['img_access'].value_counts()"
   ]
  },
  {
   "cell_type": "code",
   "execution_count": 25,
   "metadata": {},
   "outputs": [
    {
     "data": {
      "text/plain": [
       "Index(['url', 'label', 'Category', 'Concept', 'Pid', 'Uid', 'Subcategory',\n",
       "       'Alltags', 'Title', 'Postdate', 'Longitude', 'Geoaccuracy', 'Latitude',\n",
       "       'photo_firstdatetaken', 'location_description', 'photo_count', 'ispro',\n",
       "       'user_description', 'canbuypro', 'timezone_timezone_id',\n",
       "       'photo_firstdate', 'timezone_offset', 'Pathalias', 'img', 'img_access'],\n",
       "      dtype='object')"
      ]
     },
     "execution_count": 25,
     "metadata": {},
     "output_type": "execute_result"
    }
   ],
   "source": [
    "dfraw.columns"
   ]
  },
  {
   "cell_type": "code",
   "execution_count": 26,
   "metadata": {},
   "outputs": [],
   "source": [
    "dfraw= dfraw[['url', 'img', 'img_access', 'label', 'Category', 'Concept', 'Pid', 'Uid', 'Subcategory',\n",
    "       'Alltags', 'Title', 'Postdate', 'Longitude', 'Geoaccuracy', 'Latitude',\n",
    "       'photo_firstdatetaken', 'location_description', 'photo_count', 'ispro',\n",
    "       'user_description', 'canbuypro', 'timezone_timezone_id',\n",
    "       'photo_firstdate', 'timezone_offset', 'Pathalias']]\n",
    "dfraw.to_csv('../df_with_picStatus.csv', index=False)"
   ]
  },
  {
   "cell_type": "code",
   "execution_count": 11,
   "metadata": {},
   "outputs": [
    {
     "name": "stdout",
     "output_type": "stream",
     "text": [
      "<class 'pandas.core.frame.DataFrame'>\n",
      "Int64Index: 251295 entries, 0 to 304951\n",
      "Data columns (total 25 columns):\n",
      " #   Column                Non-Null Count   Dtype  \n",
      "---  ------                --------------   -----  \n",
      " 0   url                   251295 non-null  object \n",
      " 1   img                   251295 non-null  object \n",
      " 2   img_access            251295 non-null  int64  \n",
      " 3   label                 251295 non-null  float64\n",
      " 4   Category              251295 non-null  object \n",
      " 5   Concept               251295 non-null  object \n",
      " 6   Pid                   251295 non-null  int64  \n",
      " 7   Uid                   251295 non-null  object \n",
      " 8   Subcategory           251295 non-null  object \n",
      " 9   Alltags               251295 non-null  object \n",
      " 10  Title                 242528 non-null  object \n",
      " 11  Postdate              251295 non-null  int64  \n",
      " 12  Longitude             251295 non-null  float64\n",
      " 13  Geoaccuracy           251295 non-null  int64  \n",
      " 14  Latitude              251295 non-null  float64\n",
      " 15  photo_firstdatetaken  251295 non-null  int64  \n",
      " 16  location_description  125616 non-null  object \n",
      " 17  photo_count           251295 non-null  int64  \n",
      " 18  ispro                 251295 non-null  int64  \n",
      " 19  user_description      251295 non-null  object \n",
      " 20  canbuypro             251295 non-null  int64  \n",
      " 21  timezone_timezone_id  251295 non-null  int64  \n",
      " 22  photo_firstdate       250916 non-null  object \n",
      " 23  timezone_offset       251295 non-null  int64  \n",
      " 24  Pathalias             251295 non-null  object \n",
      "dtypes: float64(3), int64(10), object(12)\n",
      "memory usage: 49.8+ MB\n"
     ]
    }
   ],
   "source": [
    "df= dfraw[dfraw['img_access']==1]\n",
    "df.info()"
   ]
  },
  {
   "cell_type": "markdown",
   "metadata": {},
   "source": [
    "# group Info DF"
   ]
  },
  {
   "cell_type": "code",
   "execution_count": 12,
   "metadata": {},
   "outputs": [
    {
     "name": "stderr",
     "output_type": "stream",
     "text": [
      "/var/folders/gl/_lkmfl_d3_sbkbd9f1zkt79h0000gq/T/ipykernel_44342/1539463631.py:1: SettingWithCopyWarning: \n",
      "A value is trying to be set on a copy of a slice from a DataFrame.\n",
      "Try using .loc[row_indexer,col_indexer] = value instead\n",
      "\n",
      "See the caveats in the documentation: https://pandas.pydata.org/pandas-docs/stable/user_guide/indexing.html#returning-a-view-versus-a-copy\n",
      "  df['imgID']= df['img'].apply(lambda x: x.split('.')[0])\n"
     ]
    },
    {
     "data": {
      "text/html": [
       "<div>\n",
       "<style scoped>\n",
       "    .dataframe tbody tr th:only-of-type {\n",
       "        vertical-align: middle;\n",
       "    }\n",
       "\n",
       "    .dataframe tbody tr th {\n",
       "        vertical-align: top;\n",
       "    }\n",
       "\n",
       "    .dataframe thead th {\n",
       "        text-align: right;\n",
       "    }\n",
       "</style>\n",
       "<table border=\"1\" class=\"dataframe\">\n",
       "  <thead>\n",
       "    <tr style=\"text-align: right;\">\n",
       "      <th></th>\n",
       "      <th>url</th>\n",
       "      <th>img</th>\n",
       "      <th>img_access</th>\n",
       "      <th>label</th>\n",
       "      <th>Category</th>\n",
       "      <th>Concept</th>\n",
       "      <th>Pid</th>\n",
       "      <th>Uid</th>\n",
       "      <th>Subcategory</th>\n",
       "      <th>Alltags</th>\n",
       "      <th>...</th>\n",
       "      <th>location_description</th>\n",
       "      <th>photo_count</th>\n",
       "      <th>ispro</th>\n",
       "      <th>user_description</th>\n",
       "      <th>canbuypro</th>\n",
       "      <th>timezone_timezone_id</th>\n",
       "      <th>photo_firstdate</th>\n",
       "      <th>timezone_offset</th>\n",
       "      <th>Pathalias</th>\n",
       "      <th>imgID</th>\n",
       "    </tr>\n",
       "  </thead>\n",
       "  <tbody>\n",
       "    <tr>\n",
       "      <th>0</th>\n",
       "      <td>https://www.flickr.com/photos/58708830@N00/385...</td>\n",
       "      <td>385070026.jpg</td>\n",
       "      <td>1</td>\n",
       "      <td>11.18</td>\n",
       "      <td>Fashion</td>\n",
       "      <td>glam</td>\n",
       "      <td>775</td>\n",
       "      <td>59@N75</td>\n",
       "      <td>Fashion</td>\n",
       "      <td>rock punk transgender tranny electronicmusic e...</td>\n",
       "      <td>...</td>\n",
       "      <td>0.0,0.0,0.0,0.0,0.0,0.0,0.0,0.0,0.0,0.0,0.0,0....</td>\n",
       "      <td>6828</td>\n",
       "      <td>1</td>\n",
       "      <td>0.0866962,-0.0752717,-0.0149407,-0.0460858,-0....</td>\n",
       "      <td>0</td>\n",
       "      <td>9</td>\n",
       "      <td>1213743830.0</td>\n",
       "      <td>1</td>\n",
       "      <td>luisdrayton</td>\n",
       "      <td>385070026</td>\n",
       "    </tr>\n",
       "    <tr>\n",
       "      <th>1</th>\n",
       "      <td>https://www.flickr.com/photos/97042891@N00/943...</td>\n",
       "      <td>943750056.jpg</td>\n",
       "      <td>1</td>\n",
       "      <td>15.15</td>\n",
       "      <td>Travel&amp;Active&amp;Sports</td>\n",
       "      <td>fifa</td>\n",
       "      <td>1075</td>\n",
       "      <td>1@N18</td>\n",
       "      <td>Soccer</td>\n",
       "      <td>brazil rio brasil riodejaneiro by maria fifa m...</td>\n",
       "      <td>...</td>\n",
       "      <td>NaN</td>\n",
       "      <td>32102</td>\n",
       "      <td>1</td>\n",
       "      <td>0.14628,-0.0255633,-0.0711352,0.120531,-0.0728...</td>\n",
       "      <td>0</td>\n",
       "      <td>2</td>\n",
       "      <td>1263266743.0</td>\n",
       "      <td>0</td>\n",
       "      <td>claudiolara</td>\n",
       "      <td>943750056</td>\n",
       "    </tr>\n",
       "    <tr>\n",
       "      <th>2</th>\n",
       "      <td>https://www.flickr.com/photos/18583731@N07/324...</td>\n",
       "      <td>3246928439.jpg</td>\n",
       "      <td>1</td>\n",
       "      <td>10.99</td>\n",
       "      <td>Entertainment</td>\n",
       "      <td>cinema</td>\n",
       "      <td>4890</td>\n",
       "      <td>351@N64</td>\n",
       "      <td>Movies</td>\n",
       "      <td>old cinema beauty marilyn photoshop movie joke...</td>\n",
       "      <td>...</td>\n",
       "      <td>0.0334692,-0.0585118,0.158872,-0.000377208,-0....</td>\n",
       "      <td>276</td>\n",
       "      <td>0</td>\n",
       "      <td>0.0,0.0,0.0,0.0,0.0,0.0,0.0,0.0,0.0,0.0,0.0,0....</td>\n",
       "      <td>0</td>\n",
       "      <td>11</td>\n",
       "      <td>1296417600.0</td>\n",
       "      <td>-3</td>\n",
       "      <td>rizzato</td>\n",
       "      <td>3246928439</td>\n",
       "    </tr>\n",
       "    <tr>\n",
       "      <th>4</th>\n",
       "      <td>https://www.flickr.com/photos/35797910@N08/353...</td>\n",
       "      <td>3538960847.jpg</td>\n",
       "      <td>1</td>\n",
       "      <td>11.16</td>\n",
       "      <td>Food</td>\n",
       "      <td>thirsty</td>\n",
       "      <td>7079</td>\n",
       "      <td>1617@N40</td>\n",
       "      <td>Drinks</td>\n",
       "      <td>hot sahara animal animals desert bottles drink...</td>\n",
       "      <td>...</td>\n",
       "      <td>0.0,0.0,0.0,0.0,0.0,0.0,0.0,0.0,0.0,0.0,0.0,0....</td>\n",
       "      <td>32102</td>\n",
       "      <td>1</td>\n",
       "      <td>0.14628,-0.0255633,-0.0711352,0.120531,-0.0728...</td>\n",
       "      <td>0</td>\n",
       "      <td>2</td>\n",
       "      <td>1263266743.0</td>\n",
       "      <td>0</td>\n",
       "      <td>glosackmd</td>\n",
       "      <td>3538960847</td>\n",
       "    </tr>\n",
       "    <tr>\n",
       "      <th>5</th>\n",
       "      <td>https://www.flickr.com/photos/35797910@N08/354...</td>\n",
       "      <td>3544037429.jpg</td>\n",
       "      <td>1</td>\n",
       "      <td>12.74</td>\n",
       "      <td>Travel&amp;Active&amp;Sports</td>\n",
       "      <td>flip</td>\n",
       "      <td>7111</td>\n",
       "      <td>1617@N40</td>\n",
       "      <td>Gymnastics</td>\n",
       "      <td>street people india portraits photography delh...</td>\n",
       "      <td>...</td>\n",
       "      <td>NaN</td>\n",
       "      <td>32102</td>\n",
       "      <td>1</td>\n",
       "      <td>0.14628,-0.0255633,-0.0711352,0.120531,-0.0728...</td>\n",
       "      <td>0</td>\n",
       "      <td>2</td>\n",
       "      <td>1263266743.0</td>\n",
       "      <td>0</td>\n",
       "      <td>glosackmd</td>\n",
       "      <td>3544037429</td>\n",
       "    </tr>\n",
       "    <tr>\n",
       "      <th>...</th>\n",
       "      <td>...</td>\n",
       "      <td>...</td>\n",
       "      <td>...</td>\n",
       "      <td>...</td>\n",
       "      <td>...</td>\n",
       "      <td>...</td>\n",
       "      <td>...</td>\n",
       "      <td>...</td>\n",
       "      <td>...</td>\n",
       "      <td>...</td>\n",
       "      <td>...</td>\n",
       "      <td>...</td>\n",
       "      <td>...</td>\n",
       "      <td>...</td>\n",
       "      <td>...</td>\n",
       "      <td>...</td>\n",
       "      <td>...</td>\n",
       "      <td>...</td>\n",
       "      <td>...</td>\n",
       "      <td>...</td>\n",
       "      <td>...</td>\n",
       "    </tr>\n",
       "    <tr>\n",
       "      <th>304947</th>\n",
       "      <td>https://www.flickr.com/photos/120541745@N06/27...</td>\n",
       "      <td>27597418605.jpg</td>\n",
       "      <td>1</td>\n",
       "      <td>4.00</td>\n",
       "      <td>Animal</td>\n",
       "      <td>creature</td>\n",
       "      <td>1118328</td>\n",
       "      <td>62225@N20</td>\n",
       "      <td>Insects</td>\n",
       "      <td>york travel sky urban sun france color tree gr...</td>\n",
       "      <td>...</td>\n",
       "      <td>0.0,0.0,0.0,0.0,0.0,0.0,0.0,0.0,0.0,0.0,0.0,0....</td>\n",
       "      <td>8301</td>\n",
       "      <td>1</td>\n",
       "      <td>0.104426,0.0598804,-0.0149883,0.0338535,-0.007...</td>\n",
       "      <td>0</td>\n",
       "      <td>49</td>\n",
       "      <td>1277859911.0</td>\n",
       "      <td>12</td>\n",
       "      <td>None</td>\n",
       "      <td>27597418605</td>\n",
       "    </tr>\n",
       "    <tr>\n",
       "      <th>304948</th>\n",
       "      <td>https://www.flickr.com/photos/92475605@N03/275...</td>\n",
       "      <td>27597517425.jpg</td>\n",
       "      <td>1</td>\n",
       "      <td>1.00</td>\n",
       "      <td>Social&amp;People</td>\n",
       "      <td>portrait</td>\n",
       "      <td>1118334</td>\n",
       "      <td>108435@N35</td>\n",
       "      <td>Selfies</td>\n",
       "      <td>portrait cute animal cat furry panasonic calic...</td>\n",
       "      <td>...</td>\n",
       "      <td>NaN</td>\n",
       "      <td>801</td>\n",
       "      <td>0</td>\n",
       "      <td>0.114495,-0.0303421,-0.0893819,0.0774031,-0.08...</td>\n",
       "      <td>0</td>\n",
       "      <td>3</td>\n",
       "      <td>1398624531.0</td>\n",
       "      <td>-6</td>\n",
       "      <td>matty3126</td>\n",
       "      <td>27597517425</td>\n",
       "    </tr>\n",
       "    <tr>\n",
       "      <th>304949</th>\n",
       "      <td>https://www.flickr.com/photos/43770052@N08/275...</td>\n",
       "      <td>27597606545.jpg</td>\n",
       "      <td>1</td>\n",
       "      <td>2.00</td>\n",
       "      <td>Travel&amp;Active&amp;Sports</td>\n",
       "      <td>exotic</td>\n",
       "      <td>1118342</td>\n",
       "      <td>84730@N71</td>\n",
       "      <td>Cars</td>\n",
       "      <td>car exotic german malaysia kualalumpur superca...</td>\n",
       "      <td>...</td>\n",
       "      <td>0.0,0.0,0.0,0.0,0.0,0.0,0.0,0.0,0.0,0.0,0.0,0....</td>\n",
       "      <td>574</td>\n",
       "      <td>0</td>\n",
       "      <td>0.18969,-0.0675743,-0.125082,0.097416,-0.02100...</td>\n",
       "      <td>0</td>\n",
       "      <td>2</td>\n",
       "      <td>1394377573.0</td>\n",
       "      <td>0</td>\n",
       "      <td>khooxotics</td>\n",
       "      <td>27597606545</td>\n",
       "    </tr>\n",
       "    <tr>\n",
       "      <th>304950</th>\n",
       "      <td>https://www.flickr.com/photos/50969511@N02/275...</td>\n",
       "      <td>27597637235.jpg</td>\n",
       "      <td>1</td>\n",
       "      <td>6.89</td>\n",
       "      <td>Whether&amp;Season</td>\n",
       "      <td>cloud</td>\n",
       "      <td>1118344</td>\n",
       "      <td>9542@N37</td>\n",
       "      <td>Cloudy</td>\n",
       "      <td>city newzealand christchurch cloud building ca...</td>\n",
       "      <td>...</td>\n",
       "      <td>NaN</td>\n",
       "      <td>7167</td>\n",
       "      <td>1</td>\n",
       "      <td>0.142518,-0.0121231,-0.0464556,0.0887664,-0.02...</td>\n",
       "      <td>0</td>\n",
       "      <td>20</td>\n",
       "      <td>1234576422.0</td>\n",
       "      <td>10</td>\n",
       "      <td>stevetaylors</td>\n",
       "      <td>27597637235</td>\n",
       "    </tr>\n",
       "    <tr>\n",
       "      <th>304951</th>\n",
       "      <td>https://www.flickr.com/photos/113604805@N04/27...</td>\n",
       "      <td>27597665145.jpg</td>\n",
       "      <td>1</td>\n",
       "      <td>1.58</td>\n",
       "      <td>Travel&amp;Active&amp;Sports</td>\n",
       "      <td>travel</td>\n",
       "      <td>1118345</td>\n",
       "      <td>92344@N20</td>\n",
       "      <td>Travel</td>\n",
       "      <td>city travel winter usa newyork skyline america...</td>\n",
       "      <td>...</td>\n",
       "      <td>0.0,0.0,0.0,0.0,0.0,0.0,0.0,0.0,0.0,0.0,0.0,0....</td>\n",
       "      <td>7167</td>\n",
       "      <td>1</td>\n",
       "      <td>0.142518,-0.0121231,-0.0464556,0.0887664,-0.02...</td>\n",
       "      <td>0</td>\n",
       "      <td>20</td>\n",
       "      <td>1234576422.0</td>\n",
       "      <td>10</td>\n",
       "      <td>maelick</td>\n",
       "      <td>27597665145</td>\n",
       "    </tr>\n",
       "  </tbody>\n",
       "</table>\n",
       "<p>251295 rows × 26 columns</p>\n",
       "</div>"
      ],
      "text/plain": [
       "                                                      url              img  \\\n",
       "0       https://www.flickr.com/photos/58708830@N00/385...    385070026.jpg   \n",
       "1       https://www.flickr.com/photos/97042891@N00/943...    943750056.jpg   \n",
       "2       https://www.flickr.com/photos/18583731@N07/324...   3246928439.jpg   \n",
       "4       https://www.flickr.com/photos/35797910@N08/353...   3538960847.jpg   \n",
       "5       https://www.flickr.com/photos/35797910@N08/354...   3544037429.jpg   \n",
       "...                                                   ...              ...   \n",
       "304947  https://www.flickr.com/photos/120541745@N06/27...  27597418605.jpg   \n",
       "304948  https://www.flickr.com/photos/92475605@N03/275...  27597517425.jpg   \n",
       "304949  https://www.flickr.com/photos/43770052@N08/275...  27597606545.jpg   \n",
       "304950  https://www.flickr.com/photos/50969511@N02/275...  27597637235.jpg   \n",
       "304951  https://www.flickr.com/photos/113604805@N04/27...  27597665145.jpg   \n",
       "\n",
       "        img_access  label              Category   Concept      Pid  \\\n",
       "0                1  11.18               Fashion      glam      775   \n",
       "1                1  15.15  Travel&Active&Sports      fifa     1075   \n",
       "2                1  10.99         Entertainment    cinema     4890   \n",
       "4                1  11.16                  Food   thirsty     7079   \n",
       "5                1  12.74  Travel&Active&Sports      flip     7111   \n",
       "...            ...    ...                   ...       ...      ...   \n",
       "304947           1   4.00                Animal  creature  1118328   \n",
       "304948           1   1.00         Social&People  portrait  1118334   \n",
       "304949           1   2.00  Travel&Active&Sports    exotic  1118342   \n",
       "304950           1   6.89        Whether&Season     cloud  1118344   \n",
       "304951           1   1.58  Travel&Active&Sports    travel  1118345   \n",
       "\n",
       "               Uid Subcategory  \\\n",
       "0           59@N75     Fashion   \n",
       "1            1@N18      Soccer   \n",
       "2          351@N64      Movies   \n",
       "4         1617@N40      Drinks   \n",
       "5         1617@N40  Gymnastics   \n",
       "...            ...         ...   \n",
       "304947   62225@N20     Insects   \n",
       "304948  108435@N35     Selfies   \n",
       "304949   84730@N71        Cars   \n",
       "304950    9542@N37      Cloudy   \n",
       "304951   92344@N20      Travel   \n",
       "\n",
       "                                                  Alltags  ...  \\\n",
       "0       rock punk transgender tranny electronicmusic e...  ...   \n",
       "1       brazil rio brasil riodejaneiro by maria fifa m...  ...   \n",
       "2       old cinema beauty marilyn photoshop movie joke...  ...   \n",
       "4       hot sahara animal animals desert bottles drink...  ...   \n",
       "5       street people india portraits photography delh...  ...   \n",
       "...                                                   ...  ...   \n",
       "304947  york travel sky urban sun france color tree gr...  ...   \n",
       "304948  portrait cute animal cat furry panasonic calic...  ...   \n",
       "304949  car exotic german malaysia kualalumpur superca...  ...   \n",
       "304950  city newzealand christchurch cloud building ca...  ...   \n",
       "304951  city travel winter usa newyork skyline america...  ...   \n",
       "\n",
       "                                     location_description  photo_count  ispro  \\\n",
       "0       0.0,0.0,0.0,0.0,0.0,0.0,0.0,0.0,0.0,0.0,0.0,0....         6828      1   \n",
       "1                                                     NaN        32102      1   \n",
       "2       0.0334692,-0.0585118,0.158872,-0.000377208,-0....          276      0   \n",
       "4       0.0,0.0,0.0,0.0,0.0,0.0,0.0,0.0,0.0,0.0,0.0,0....        32102      1   \n",
       "5                                                     NaN        32102      1   \n",
       "...                                                   ...          ...    ...   \n",
       "304947  0.0,0.0,0.0,0.0,0.0,0.0,0.0,0.0,0.0,0.0,0.0,0....         8301      1   \n",
       "304948                                                NaN          801      0   \n",
       "304949  0.0,0.0,0.0,0.0,0.0,0.0,0.0,0.0,0.0,0.0,0.0,0....          574      0   \n",
       "304950                                                NaN         7167      1   \n",
       "304951  0.0,0.0,0.0,0.0,0.0,0.0,0.0,0.0,0.0,0.0,0.0,0....         7167      1   \n",
       "\n",
       "                                         user_description  canbuypro  \\\n",
       "0       0.0866962,-0.0752717,-0.0149407,-0.0460858,-0....          0   \n",
       "1       0.14628,-0.0255633,-0.0711352,0.120531,-0.0728...          0   \n",
       "2       0.0,0.0,0.0,0.0,0.0,0.0,0.0,0.0,0.0,0.0,0.0,0....          0   \n",
       "4       0.14628,-0.0255633,-0.0711352,0.120531,-0.0728...          0   \n",
       "5       0.14628,-0.0255633,-0.0711352,0.120531,-0.0728...          0   \n",
       "...                                                   ...        ...   \n",
       "304947  0.104426,0.0598804,-0.0149883,0.0338535,-0.007...          0   \n",
       "304948  0.114495,-0.0303421,-0.0893819,0.0774031,-0.08...          0   \n",
       "304949  0.18969,-0.0675743,-0.125082,0.097416,-0.02100...          0   \n",
       "304950  0.142518,-0.0121231,-0.0464556,0.0887664,-0.02...          0   \n",
       "304951  0.142518,-0.0121231,-0.0464556,0.0887664,-0.02...          0   \n",
       "\n",
       "        timezone_timezone_id photo_firstdate  timezone_offset     Pathalias  \\\n",
       "0                          9    1213743830.0                1   luisdrayton   \n",
       "1                          2    1263266743.0                0   claudiolara   \n",
       "2                         11    1296417600.0               -3       rizzato   \n",
       "4                          2    1263266743.0                0     glosackmd   \n",
       "5                          2    1263266743.0                0     glosackmd   \n",
       "...                      ...             ...              ...           ...   \n",
       "304947                    49    1277859911.0               12          None   \n",
       "304948                     3    1398624531.0               -6     matty3126   \n",
       "304949                     2    1394377573.0                0    khooxotics   \n",
       "304950                    20    1234576422.0               10  stevetaylors   \n",
       "304951                    20    1234576422.0               10       maelick   \n",
       "\n",
       "              imgID  \n",
       "0         385070026  \n",
       "1         943750056  \n",
       "2        3246928439  \n",
       "4        3538960847  \n",
       "5        3544037429  \n",
       "...             ...  \n",
       "304947  27597418605  \n",
       "304948  27597517425  \n",
       "304949  27597606545  \n",
       "304950  27597637235  \n",
       "304951  27597665145  \n",
       "\n",
       "[251295 rows x 26 columns]"
      ]
     },
     "execution_count": 12,
     "metadata": {},
     "output_type": "execute_result"
    }
   ],
   "source": [
    "df['imgID']= df['img'].apply(lambda x: x.split('.')[0])\n",
    "df"
   ]
  },
  {
   "cell_type": "code",
   "execution_count": 13,
   "metadata": {},
   "outputs": [],
   "source": [
    "import pandas as pd\n",
    "from joblib import Parallel, delayed\n",
    "from tqdm import tqdm\n",
    "import requests\n",
    "\n",
    "# Assuming you have a DataFrame dfraw with an 'imgid' column\n",
    "# Example:\n",
    "# dfraw = pd.DataFrame({\n",
    "#     'imgid': ['385070026', '385070027', '385070028']  # Example image IDs\n",
    "# })\n",
    "\n",
    "# Function to get photo groups\n",
    "def get_photo_groups(api_key, photo_id, per_page=200):\n",
    "    url = \"https://api.flickr.com/services/rest\"\n",
    "    params = {\n",
    "        \"method\": \"flickr.photos.getGroups\",\n",
    "        \"api_key\": api_key,\n",
    "        \"photo_id\": photo_id,\n",
    "        \"format\": \"json\",\n",
    "        \"nojsoncallback\": \"1\",\n",
    "        \"per_page\": str(per_page)\n",
    "    }\n",
    "    \n",
    "    response = requests.get(url, params=params)\n",
    "    groups = []\n",
    "    if response.status_code == 200:\n",
    "        data = response.json()\n",
    "        groups = data.get(\"groups\", {}).get(\"group\", [])\n",
    "    else:\n",
    "        print(\"Error:\", response.status_code)\n",
    "    \n",
    "    return groups\n",
    "\n",
    "# Function for safe parallel execution\n",
    "def get_photo_groups_safe(api_key, photo_id, per_page=200):\n",
    "    try:\n",
    "        return get_photo_groups(api_key, photo_id, per_page)\n",
    "    except Exception as e:\n",
    "        print(f\"Error with image ID {photo_id}: {e}\")\n",
    "        return []  # Return an empty list in case of an error"
   ]
  },
  {
   "cell_type": "code",
   "execution_count": 14,
   "metadata": {},
   "outputs": [
    {
     "name": "stderr",
     "output_type": "stream",
     "text": [
      "Processing images:   0%|          | 0/251295 [00:00<?, ?it/s]"
     ]
    },
    {
     "name": "stderr",
     "output_type": "stream",
     "text": [
      "Processing images:   4%|▍         | 10856/251295 [04:54<9:40:45,  6.90it/s]"
     ]
    },
    {
     "name": "stdout",
     "output_type": "stream",
     "text": [
      "Error with image ID 17481904370: HTTPSConnectionPool(host='api.flickr.com', port=443): Max retries exceeded with url: /services/rest?method=flickr.photos.getGroups&api_key=169307181f957a4a16e4e30fc9ac8c77&photo_id=17481904370&format=json&nojsoncallback=1&per_page=200 (Caused by ConnectTimeoutError(<urllib3.connection.HTTPSConnection object at 0x10301efb0>, 'Connection to api.flickr.com timed out. (connect timeout=None)'))\n",
      "Error with image ID 17482841371: HTTPSConnectionPool(host='api.flickr.com', port=443): Max retries exceeded with url: /services/rest?method=flickr.photos.getGroups&api_key=169307181f957a4a16e4e30fc9ac8c77&photo_id=17482841371&format=json&nojsoncallback=1&per_page=200 (Caused by ConnectTimeoutError(<urllib3.connection.HTTPSConnection object at 0x1064ffa30>, 'Connection to api.flickr.com timed out. (connect timeout=None)'))\n"
     ]
    },
    {
     "name": "stderr",
     "output_type": "stream",
     "text": [
      "Processing images:   4%|▍         | 10864/251295 [05:54<158:20:27,  2.37s/it]"
     ]
    },
    {
     "name": "stdout",
     "output_type": "stream",
     "text": [
      "Error with image ID 17488081072: HTTPSConnectionPool(host='api.flickr.com', port=443): Max retries exceeded with url: /services/rest?method=flickr.photos.getGroups&api_key=169307181f957a4a16e4e30fc9ac8c77&photo_id=17488081072&format=json&nojsoncallback=1&per_page=200 (Caused by ConnectTimeoutError(<urllib3.connection.HTTPSConnection object at 0x105576c50>, 'Connection to api.flickr.com timed out. (connect timeout=None)'))\n"
     ]
    },
    {
     "name": "stderr",
     "output_type": "stream",
     "text": [
      "Processing images:   4%|▍         | 10928/251295 [05:59<14:09:16,  4.72it/s] "
     ]
    },
    {
     "name": "stdout",
     "output_type": "stream",
     "text": [
      "Error with image ID 17511703429: HTTPSConnectionPool(host='api.flickr.com', port=443): Max retries exceeded with url: /services/rest?method=flickr.photos.getGroups&api_key=169307181f957a4a16e4e30fc9ac8c77&photo_id=17511703429&format=json&nojsoncallback=1&per_page=200 (Caused by ConnectTimeoutError(<urllib3.connection.HTTPSConnection object at 0x107b23460>, 'Connection to api.flickr.com timed out. (connect timeout=None)'))\n"
     ]
    },
    {
     "name": "stderr",
     "output_type": "stream",
     "text": [
      "Processing images:   4%|▍         | 10944/251295 [06:00<9:00:59,  7.40it/s] "
     ]
    },
    {
     "name": "stdout",
     "output_type": "stream",
     "text": [
      "Error with image ID 17511973060: HTTPSConnectionPool(host='api.flickr.com', port=443): Max retries exceeded with url: /services/rest?method=flickr.photos.getGroups&api_key=169307181f957a4a16e4e30fc9ac8c77&photo_id=17511973060&format=json&nojsoncallback=1&per_page=200 (Caused by ConnectTimeoutError(<urllib3.connection.HTTPSConnection object at 0x10770f7f0>, 'Connection to api.flickr.com timed out. (connect timeout=None)'))\n"
     ]
    },
    {
     "name": "stderr",
     "output_type": "stream",
     "text": [
      "Processing images:   4%|▍         | 10960/251295 [06:01<5:59:33, 11.14it/s]"
     ]
    },
    {
     "name": "stdout",
     "output_type": "stream",
     "text": [
      "Error with image ID 17514044178: HTTPSConnectionPool(host='api.flickr.com', port=443): Max retries exceeded with url: /services/rest?method=flickr.photos.getGroups&api_key=169307181f957a4a16e4e30fc9ac8c77&photo_id=17514044178&format=json&nojsoncallback=1&per_page=200 (Caused by ConnectTimeoutError(<urllib3.connection.HTTPSConnection object at 0x11061f2e0>, 'Connection to api.flickr.com timed out. (connect timeout=None)'))\n"
     ]
    },
    {
     "name": "stderr",
     "output_type": "stream",
     "text": [
      "Processing images:   4%|▍         | 11016/251295 [06:06<9:16:07,  7.20it/s]"
     ]
    },
    {
     "name": "stdout",
     "output_type": "stream",
     "text": [
      "Error with image ID 17524712551: HTTPSConnectionPool(host='api.flickr.com', port=443): Max retries exceeded with url: /services/rest?method=flickr.photos.getGroups&api_key=169307181f957a4a16e4e30fc9ac8c77&photo_id=17524712551&format=json&nojsoncallback=1&per_page=200 (Caused by ConnectTimeoutError(<urllib3.connection.HTTPSConnection object at 0x10b887c10>, 'Connection to api.flickr.com timed out. (connect timeout=None)'))\n"
     ]
    },
    {
     "name": "stderr",
     "output_type": "stream",
     "text": [
      "Processing images:   4%|▍         | 11048/251295 [06:08<6:02:50, 11.04it/s]"
     ]
    },
    {
     "name": "stdout",
     "output_type": "stream",
     "text": [
      "Error with image ID 17525109215: HTTPSConnectionPool(host='api.flickr.com', port=443): Max retries exceeded with url: /services/rest?method=flickr.photos.getGroups&api_key=169307181f957a4a16e4e30fc9ac8c77&photo_id=17525109215&format=json&nojsoncallback=1&per_page=200 (Caused by ConnectTimeoutError(<urllib3.connection.HTTPSConnection object at 0x107a5bc10>, 'Connection to api.flickr.com timed out. (connect timeout=None)'))\n"
     ]
    },
    {
     "name": "stderr",
     "output_type": "stream",
     "text": [
      "Processing images:   4%|▍         | 11160/251295 [06:16<4:49:36, 13.82it/s]"
     ]
    },
    {
     "name": "stdout",
     "output_type": "stream",
     "text": [
      "Error: 500\n"
     ]
    },
    {
     "name": "stderr",
     "output_type": "stream",
     "text": [
      "Processing images:   5%|▍         | 11320/251295 [06:39<14:16:02,  4.67it/s]"
     ]
    },
    {
     "name": "stdout",
     "output_type": "stream",
     "text": [
      "Error with image ID 17539311233: HTTPSConnectionPool(host='api.flickr.com', port=443): Max retries exceeded with url: /services/rest?method=flickr.photos.getGroups&api_key=169307181f957a4a16e4e30fc9ac8c77&photo_id=17539311233&format=json&nojsoncallback=1&per_page=200 (Caused by ConnectTimeoutError(<urllib3.connection.HTTPSConnection object at 0x105577c70>, 'Connection to api.flickr.com timed out. (connect timeout=None)'))\n"
     ]
    },
    {
     "name": "stderr",
     "output_type": "stream",
     "text": [
      "Processing images:   5%|▍         | 11336/251295 [07:15<71:19:55,  1.07s/it]"
     ]
    },
    {
     "name": "stdout",
     "output_type": "stream",
     "text": [
      "Error with image ID 17550162879: HTTPSConnectionPool(host='api.flickr.com', port=443): Max retries exceeded with url: /services/rest?method=flickr.photos.getGroups&api_key=169307181f957a4a16e4e30fc9ac8c77&photo_id=17550162879&format=json&nojsoncallback=1&per_page=200 (Caused by ConnectTimeoutError(<urllib3.connection.HTTPSConnection object at 0x10334d750>, 'Connection to api.flickr.com timed out. (connect timeout=None)'))\n"
     ]
    },
    {
     "name": "stderr",
     "output_type": "stream",
     "text": [
      "Processing images:   5%|▍         | 11352/251295 [07:17<38:26:24,  1.73it/s]"
     ]
    },
    {
     "name": "stdout",
     "output_type": "stream",
     "text": [
      "Error with image ID 17558470560: HTTPSConnectionPool(host='api.flickr.com', port=443): Max retries exceeded with url: /services/rest?method=flickr.photos.getGroups&api_key=169307181f957a4a16e4e30fc9ac8c77&photo_id=17558470560&format=json&nojsoncallback=1&per_page=200 (Caused by ConnectTimeoutError(<urllib3.connection.HTTPSConnection object at 0x104d41a20>, 'Connection to api.flickr.com timed out. (connect timeout=None)'))\n"
     ]
    },
    {
     "name": "stderr",
     "output_type": "stream",
     "text": [
      "Processing images:   5%|▍         | 11360/251295 [07:18<28:06:37,  2.37it/s]"
     ]
    },
    {
     "name": "stdout",
     "output_type": "stream",
     "text": [
      "Error with image ID 17560243059: HTTPSConnectionPool(host='api.flickr.com', port=443): Max retries exceeded with url: /services/rest?method=flickr.photos.getGroups&api_key=169307181f957a4a16e4e30fc9ac8c77&photo_id=17560243059&format=json&nojsoncallback=1&per_page=200 (Caused by ConnectTimeoutError(<urllib3.connection.HTTPSConnection object at 0x107bdc5b0>, 'Connection to api.flickr.com timed out. (connect timeout=None)'))\n"
     ]
    },
    {
     "name": "stderr",
     "output_type": "stream",
     "text": [
      "Processing images:   5%|▍         | 11504/251295 [07:25<4:41:34, 14.19it/s] "
     ]
    },
    {
     "name": "stdout",
     "output_type": "stream",
     "text": [
      "Error with image ID 17584570319: HTTPSConnectionPool(host='api.flickr.com', port=443): Max retries exceeded with url: /services/rest?method=flickr.photos.getGroups&api_key=169307181f957a4a16e4e30fc9ac8c77&photo_id=17584570319&format=json&nojsoncallback=1&per_page=200 (Caused by ConnectTimeoutError(<urllib3.connection.HTTPSConnection object at 0x1064feaa0>, 'Connection to api.flickr.com timed out. (connect timeout=None)'))\n"
     ]
    },
    {
     "name": "stderr",
     "output_type": "stream",
     "text": [
      "Processing images:   5%|▍         | 11568/251295 [07:31<6:14:18, 10.67it/s]"
     ]
    },
    {
     "name": "stdout",
     "output_type": "stream",
     "text": [
      "Error with image ID 17596284560: HTTPSConnectionPool(host='api.flickr.com', port=443): Max retries exceeded with url: /services/rest?method=flickr.photos.getGroups&api_key=169307181f957a4a16e4e30fc9ac8c77&photo_id=17596284560&format=json&nojsoncallback=1&per_page=200 (Caused by ConnectTimeoutError(<urllib3.connection.HTTPSConnection object at 0x102d198a0>, 'Connection to api.flickr.com timed out. (connect timeout=None)'))\n"
     ]
    },
    {
     "name": "stderr",
     "output_type": "stream",
     "text": [
      "Processing images:   5%|▍         | 11776/251295 [07:45<4:33:33, 14.59it/s]"
     ]
    },
    {
     "name": "stdout",
     "output_type": "stream",
     "text": [
      "Error with image ID 17621051789: HTTPSConnectionPool(host='api.flickr.com', port=443): Max retries exceeded with url: /services/rest?method=flickr.photos.getGroups&api_key=169307181f957a4a16e4e30fc9ac8c77&photo_id=17621051789&format=json&nojsoncallback=1&per_page=200 (Caused by ConnectTimeoutError(<urllib3.connection.HTTPSConnection object at 0x1009f5a20>, 'Connection to api.flickr.com timed out. (connect timeout=None)'))\n"
     ]
    },
    {
     "name": "stderr",
     "output_type": "stream",
     "text": [
      "Processing images:   5%|▍         | 11992/251295 [07:55<2:52:28, 23.13it/s]"
     ]
    },
    {
     "name": "stdout",
     "output_type": "stream",
     "text": [
      "Error with image ID 17632532735: HTTPSConnectionPool(host='api.flickr.com', port=443): Max retries exceeded with url: /services/rest?method=flickr.photos.getGroups&api_key=169307181f957a4a16e4e30fc9ac8c77&photo_id=17632532735&format=json&nojsoncallback=1&per_page=200 (Caused by ConnectTimeoutError(<urllib3.connection.HTTPSConnection object at 0x105495840>, 'Connection to api.flickr.com timed out. (connect timeout=None)'))\n"
     ]
    },
    {
     "name": "stderr",
     "output_type": "stream",
     "text": [
      "Processing images:   5%|▌         | 13040/251295 [08:38<2:36:51, 25.31it/s]"
     ]
    },
    {
     "name": "stdout",
     "output_type": "stream",
     "text": [
      "Error with image ID 17655685200: HTTPSConnectionPool(host='api.flickr.com', port=443): Max retries exceeded with url: /services/rest?method=flickr.photos.getGroups&api_key=169307181f957a4a16e4e30fc9ac8c77&photo_id=17655685200&format=json&nojsoncallback=1&per_page=200 (Caused by ConnectTimeoutError(<urllib3.connection.HTTPSConnection object at 0x1036216c0>, 'Connection to api.flickr.com timed out. (connect timeout=None)'))\n"
     ]
    },
    {
     "name": "stderr",
     "output_type": "stream",
     "text": [
      "Processing images:   5%|▌         | 13112/251295 [08:41<2:07:29, 31.14it/s]"
     ]
    },
    {
     "name": "stdout",
     "output_type": "stream",
     "text": [
      "Error with image ID 17666840812: HTTPSConnectionPool(host='api.flickr.com', port=443): Max retries exceeded with url: /services/rest?method=flickr.photos.getGroups&api_key=169307181f957a4a16e4e30fc9ac8c77&photo_id=17666840812&format=json&nojsoncallback=1&per_page=200 (Caused by ConnectTimeoutError(<urllib3.connection.HTTPSConnection object at 0x1065a0190>, 'Connection to api.flickr.com timed out. (connect timeout=None)'))\n"
     ]
    },
    {
     "name": "stderr",
     "output_type": "stream",
     "text": [
      "Processing images:   5%|▌         | 13184/251295 [08:43<1:51:37, 35.55it/s]"
     ]
    },
    {
     "name": "stdout",
     "output_type": "stream",
     "text": [
      "Error with image ID 17673819649: HTTPSConnectionPool(host='api.flickr.com', port=443): Max retries exceeded with url: /services/rest?method=flickr.photos.getGroups&api_key=169307181f957a4a16e4e30fc9ac8c77&photo_id=17673819649&format=json&nojsoncallback=1&per_page=200 (Caused by ConnectTimeoutError(<urllib3.connection.HTTPSConnection object at 0x10562c250>, 'Connection to api.flickr.com timed out. (connect timeout=None)'))\n"
     ]
    },
    {
     "name": "stderr",
     "output_type": "stream",
     "text": [
      "Processing images:   7%|▋         | 16952/251295 [10:39<3:27:19, 18.84it/s]"
     ]
    },
    {
     "name": "stdout",
     "output_type": "stream",
     "text": [
      "Error with image ID 18164269798: HTTPSConnectionPool(host='api.flickr.com', port=443): Max retries exceeded with url: /services/rest?method=flickr.photos.getGroups&api_key=169307181f957a4a16e4e30fc9ac8c77&photo_id=18164269798&format=json&nojsoncallback=1&per_page=200 (Caused by ConnectTimeoutError(<urllib3.connection.HTTPSConnection object at 0x10301fbe0>, 'Connection to api.flickr.com timed out. (connect timeout=None)'))\n"
     ]
    },
    {
     "name": "stderr",
     "output_type": "stream",
     "text": [
      "Processing images:   7%|▋         | 17880/251295 [11:24<3:05:22, 20.99it/s]"
     ]
    },
    {
     "name": "stdout",
     "output_type": "stream",
     "text": [
      "Error with image ID 18391776891: HTTPSConnectionPool(host='api.flickr.com', port=443): Max retries exceeded with url: /services/rest?method=flickr.photos.getGroups&api_key=169307181f957a4a16e4e30fc9ac8c77&photo_id=18391776891&format=json&nojsoncallback=1&per_page=200 (Caused by ConnectTimeoutError(<urllib3.connection.HTTPSConnection object at 0x1036217e0>, 'Connection to api.flickr.com timed out. (connect timeout=None)'))\n"
     ]
    },
    {
     "name": "stderr",
     "output_type": "stream",
     "text": [
      "Processing images:   7%|▋         | 17912/251295 [11:25<2:43:08, 23.84it/s]"
     ]
    },
    {
     "name": "stdout",
     "output_type": "stream",
     "text": [
      "Error with image ID 18397238372: HTTPSConnectionPool(host='api.flickr.com', port=443): Max retries exceeded with url: /services/rest?method=flickr.photos.getGroups&api_key=169307181f957a4a16e4e30fc9ac8c77&photo_id=18397238372&format=json&nojsoncallback=1&per_page=200 (Caused by ConnectTimeoutError(<urllib3.connection.HTTPSConnection object at 0x1064ff880>, 'Connection to api.flickr.com timed out. (connect timeout=None)'))\n"
     ]
    },
    {
     "name": "stderr",
     "output_type": "stream",
     "text": [
      "Processing images:   7%|▋         | 18080/251295 [11:31<2:26:46, 26.48it/s]"
     ]
    },
    {
     "name": "stdout",
     "output_type": "stream",
     "text": [
      "Error with image ID 18410593924: HTTPSConnectionPool(host='api.flickr.com', port=443): Max retries exceeded with url: /services/rest?method=flickr.photos.getGroups&api_key=169307181f957a4a16e4e30fc9ac8c77&photo_id=18410593924&format=json&nojsoncallback=1&per_page=200 (Caused by ConnectTimeoutError(<urllib3.connection.HTTPSConnection object at 0x107a5be80>, 'Connection to api.flickr.com timed out. (connect timeout=None)'))\n"
     ]
    },
    {
     "name": "stderr",
     "output_type": "stream",
     "text": [
      "Processing images:   8%|▊         | 19280/251295 [12:08<1:37:56, 39.48it/s]"
     ]
    },
    {
     "name": "stdout",
     "output_type": "stream",
     "text": [
      "Error with image ID 18540340090: HTTPSConnectionPool(host='api.flickr.com', port=443): Max retries exceeded with url: /services/rest?method=flickr.photos.getGroups&api_key=169307181f957a4a16e4e30fc9ac8c77&photo_id=18540340090&format=json&nojsoncallback=1&per_page=200 (Caused by ConnectTimeoutError(<urllib3.connection.HTTPSConnection object at 0x11061f2e0>, 'Connection to api.flickr.com timed out. (connect timeout=None)'))\n"
     ]
    },
    {
     "name": "stderr",
     "output_type": "stream",
     "text": [
      "Processing images:   9%|▉         | 22504/251295 [13:38<3:52:41, 16.39it/s]"
     ]
    },
    {
     "name": "stdout",
     "output_type": "stream",
     "text": [
      "Error: 500\n"
     ]
    },
    {
     "name": "stderr",
     "output_type": "stream",
     "text": [
      "Processing images:   9%|▉         | 22552/251295 [13:42<4:28:34, 14.20it/s]"
     ]
    },
    {
     "name": "stdout",
     "output_type": "stream",
     "text": [
      "Error: 500\n"
     ]
    },
    {
     "name": "stderr",
     "output_type": "stream",
     "text": [
      "Processing images:   9%|▉         | 22584/251295 [13:43<3:11:09, 19.94it/s]"
     ]
    },
    {
     "name": "stdout",
     "output_type": "stream",
     "text": [
      "Error: 500\n"
     ]
    },
    {
     "name": "stderr",
     "output_type": "stream",
     "text": [
      "Processing images:   9%|▉         | 22648/251295 [13:46<2:52:23, 22.11it/s]"
     ]
    },
    {
     "name": "stdout",
     "output_type": "stream",
     "text": [
      "Error: 500\n",
      "Error: 500\n"
     ]
    },
    {
     "name": "stderr",
     "output_type": "stream",
     "text": [
      "Processing images:  10%|▉         | 23968/251295 [14:29<2:34:19, 24.55it/s]"
     ]
    },
    {
     "name": "stdout",
     "output_type": "stream",
     "text": [
      "Error with image ID 19031280360: HTTPSConnectionPool(host='api.flickr.com', port=443): Max retries exceeded with url: /services/rest?method=flickr.photos.getGroups&api_key=169307181f957a4a16e4e30fc9ac8c77&photo_id=19031280360&format=json&nojsoncallback=1&per_page=200 (Caused by ConnectTimeoutError(<urllib3.connection.HTTPSConnection object at 0x10334e080>, 'Connection to api.flickr.com timed out. (connect timeout=None)'))\n"
     ]
    },
    {
     "name": "stderr",
     "output_type": "stream",
     "text": [
      "Processing images:  10%|█         | 25384/251295 [15:19<2:00:23, 31.28it/s]"
     ]
    },
    {
     "name": "stdout",
     "output_type": "stream",
     "text": [
      "Error with image ID 19174960256: HTTPSConnectionPool(host='api.flickr.com', port=443): Max retries exceeded with url: /services/rest?method=flickr.photos.getGroups&api_key=169307181f957a4a16e4e30fc9ac8c77&photo_id=19174960256&format=json&nojsoncallback=1&per_page=200 (Caused by ConnectTimeoutError(<urllib3.connection.HTTPSConnection object at 0x107b23370>, 'Connection to api.flickr.com timed out. (connect timeout=None)'))\n"
     ]
    },
    {
     "name": "stderr",
     "output_type": "stream",
     "text": [
      "Processing images:  10%|█         | 26256/251295 [15:45<1:37:49, 38.34it/s]"
     ]
    },
    {
     "name": "stdout",
     "output_type": "stream",
     "text": [
      "Error with image ID 19240435395: HTTPSConnectionPool(host='api.flickr.com', port=443): Max retries exceeded with url: /services/rest?method=flickr.photos.getGroups&api_key=169307181f957a4a16e4e30fc9ac8c77&photo_id=19240435395&format=json&nojsoncallback=1&per_page=200 (Caused by ConnectTimeoutError(<urllib3.connection.HTTPSConnection object at 0x104d416c0>, 'Connection to api.flickr.com timed out. (connect timeout=None)'))\n"
     ]
    },
    {
     "name": "stderr",
     "output_type": "stream",
     "text": [
      "Processing images:  11%|█         | 27056/251295 [17:14<126:35:00,  2.03s/it]"
     ]
    },
    {
     "name": "stdout",
     "output_type": "stream",
     "text": [
      "Error with image ID 19447042249: HTTPSConnectionPool(host='api.flickr.com', port=443): Max retries exceeded with url: /services/rest?method=flickr.photos.getGroups&api_key=169307181f957a4a16e4e30fc9ac8c77&photo_id=19447042249&format=json&nojsoncallback=1&per_page=200 (Caused by ConnectTimeoutError(<urllib3.connection.HTTPSConnection object at 0x10b887d00>, 'Connection to api.flickr.com timed out. (connect timeout=None)'))\n"
     ]
    },
    {
     "name": "stderr",
     "output_type": "stream",
     "text": [
      "Processing images:  11%|█         | 27064/251295 [17:16<94:19:37,  1.51s/it] "
     ]
    },
    {
     "name": "stdout",
     "output_type": "stream",
     "text": [
      "Error with image ID 19459377203: HTTPSConnectionPool(host='api.flickr.com', port=443): Max retries exceeded with url: /services/rest?method=flickr.photos.getGroups&api_key=169307181f957a4a16e4e30fc9ac8c77&photo_id=19459377203&format=json&nojsoncallback=1&per_page=200 (Caused by ConnectTimeoutError(<urllib3.connection.HTTPSConnection object at 0x1064ff1f0>, 'Connection to api.flickr.com timed out. (connect timeout=None)'))\n"
     ]
    },
    {
     "name": "stderr",
     "output_type": "stream",
     "text": [
      "Processing images:  11%|█         | 27072/251295 [17:17<68:11:27,  1.09s/it]"
     ]
    },
    {
     "name": "stdout",
     "output_type": "stream",
     "text": [
      "Error with image ID 19461311309: HTTPSConnectionPool(host='api.flickr.com', port=443): Max retries exceeded with url: /services/rest?method=flickr.photos.getGroups&api_key=169307181f957a4a16e4e30fc9ac8c77&photo_id=19461311309&format=json&nojsoncallback=1&per_page=200 (Caused by ConnectTimeoutError(<urllib3.connection.HTTPSConnection object at 0x102d19a50>, 'Connection to api.flickr.com timed out. (connect timeout=None)'))\n"
     ]
    },
    {
     "name": "stderr",
     "output_type": "stream",
     "text": [
      "Processing images:  11%|█         | 27080/251295 [17:18<48:39:20,  1.28it/s]"
     ]
    },
    {
     "name": "stdout",
     "output_type": "stream",
     "text": [
      "Error with image ID 19462461068: HTTPSConnectionPool(host='api.flickr.com', port=443): Max retries exceeded with url: /services/rest?method=flickr.photos.getGroups&api_key=169307181f957a4a16e4e30fc9ac8c77&photo_id=19462461068&format=json&nojsoncallback=1&per_page=200 (Caused by ConnectTimeoutError(<urllib3.connection.HTTPSConnection object at 0x10770fbb0>, 'Connection to api.flickr.com timed out. (connect timeout=None)'))\n"
     ]
    },
    {
     "name": "stderr",
     "output_type": "stream",
     "text": [
      "Processing images:  11%|█         | 27104/251295 [17:19<19:26:13,  3.20it/s]"
     ]
    },
    {
     "name": "stdout",
     "output_type": "stream",
     "text": [
      "Error with image ID 19464737585: HTTPSConnectionPool(host='api.flickr.com', port=443): Max retries exceeded with url: /services/rest?method=flickr.photos.getGroups&api_key=169307181f957a4a16e4e30fc9ac8c77&photo_id=19464737585&format=json&nojsoncallback=1&per_page=200 (Caused by ConnectTimeoutError(<urllib3.connection.HTTPSConnection object at 0x1009f5540>, 'Connection to api.flickr.com timed out. (connect timeout=None)'))\n"
     ]
    },
    {
     "name": "stderr",
     "output_type": "stream",
     "text": [
      "Processing images:  11%|█         | 27160/251295 [17:22<5:33:39, 11.20it/s] "
     ]
    },
    {
     "name": "stdout",
     "output_type": "stream",
     "text": [
      "Error with image ID 19465977269: HTTPSConnectionPool(host='api.flickr.com', port=443): Max retries exceeded with url: /services/rest?method=flickr.photos.getGroups&api_key=169307181f957a4a16e4e30fc9ac8c77&photo_id=19465977269&format=json&nojsoncallback=1&per_page=200 (Caused by ConnectTimeoutError(<urllib3.connection.HTTPSConnection object at 0x11061fd30>, 'Connection to api.flickr.com timed out. (connect timeout=None)'))\n"
     ]
    },
    {
     "name": "stderr",
     "output_type": "stream",
     "text": [
      "Processing images:  11%|█         | 27224/251295 [17:39<15:20:22,  4.06it/s]"
     ]
    },
    {
     "name": "stdout",
     "output_type": "stream",
     "text": [
      "Error with image ID 19470494442: HTTPSConnectionPool(host='api.flickr.com', port=443): Max retries exceeded with url: /services/rest?method=flickr.photos.getGroups&api_key=169307181f957a4a16e4e30fc9ac8c77&photo_id=19470494442&format=json&nojsoncallback=1&per_page=200 (Caused by ConnectTimeoutError(<urllib3.connection.HTTPSConnection object at 0x105577c10>, 'Connection to api.flickr.com timed out. (connect timeout=None)'))\n"
     ]
    },
    {
     "name": "stderr",
     "output_type": "stream",
     "text": [
      "Processing images:  11%|█         | 27416/251295 [18:18<15:34:51,  3.99it/s]"
     ]
    },
    {
     "name": "stdout",
     "output_type": "stream",
     "text": [
      "Error with image ID 19473367862: HTTPSConnectionPool(host='api.flickr.com', port=443): Max retries exceeded with url: /services/rest?method=flickr.photos.getGroups&api_key=169307181f957a4a16e4e30fc9ac8c77&photo_id=19473367862&format=json&nojsoncallback=1&per_page=200 (Caused by ConnectTimeoutError(<urllib3.connection.HTTPSConnection object at 0x10334d960>, 'Connection to api.flickr.com timed out. (connect timeout=None)'))\n",
      "Error with image ID 19473949810: HTTPSConnectionPool(host='api.flickr.com', port=443): Max retries exceeded with url: /services/rest?method=flickr.photos.getGroups&api_key=169307181f957a4a16e4e30fc9ac8c77&photo_id=19473949810&format=json&nojsoncallback=1&per_page=200 (Caused by ConnectTimeoutError(<urllib3.connection.HTTPSConnection object at 0x107b23b50>, 'Connection to api.flickr.com timed out. (connect timeout=None)'))\n"
     ]
    },
    {
     "name": "stderr",
     "output_type": "stream",
     "text": [
      "Processing images:  11%|█         | 27440/251295 [18:35<26:05:43,  2.38it/s]"
     ]
    },
    {
     "name": "stdout",
     "output_type": "stream",
     "text": [
      "Error with image ID 19476508675: HTTPSConnectionPool(host='api.flickr.com', port=443): Max retries exceeded with url: /services/rest?method=flickr.photos.getGroups&api_key=169307181f957a4a16e4e30fc9ac8c77&photo_id=19476508675&format=json&nojsoncallback=1&per_page=200 (Caused by ConnectTimeoutError(<urllib3.connection.HTTPSConnection object at 0x1030dcbb0>, 'Connection to api.flickr.com timed out. (connect timeout=None)'))\n"
     ]
    },
    {
     "name": "stderr",
     "output_type": "stream",
     "text": [
      "Processing images:  11%|█         | 27464/251295 [18:37<11:33:12,  5.38it/s]"
     ]
    },
    {
     "name": "stdout",
     "output_type": "stream",
     "text": [
      "Error with image ID 19476942495: HTTPSConnectionPool(host='api.flickr.com', port=443): Max retries exceeded with url: /services/rest?method=flickr.photos.getGroups&api_key=169307181f957a4a16e4e30fc9ac8c77&photo_id=19476942495&format=json&nojsoncallback=1&per_page=200 (Caused by ConnectTimeoutError(<urllib3.connection.HTTPSConnection object at 0x10b70ff40>, 'Connection to api.flickr.com timed out. (connect timeout=None)'))\n"
     ]
    },
    {
     "name": "stderr",
     "output_type": "stream",
     "text": [
      "Processing images:  11%|█         | 27480/251295 [18:38<7:01:32,  8.85it/s] "
     ]
    },
    {
     "name": "stdout",
     "output_type": "stream",
     "text": [
      "Error with image ID 19477743768: HTTPSConnectionPool(host='api.flickr.com', port=443): Max retries exceeded with url: /services/rest?method=flickr.photos.getGroups&api_key=169307181f957a4a16e4e30fc9ac8c77&photo_id=19477743768&format=json&nojsoncallback=1&per_page=200 (Caused by ConnectTimeoutError(<urllib3.connection.HTTPSConnection object at 0x1065a8730>, 'Connection to api.flickr.com timed out. (connect timeout=None)'))\n"
     ]
    },
    {
     "name": "stderr",
     "output_type": "stream",
     "text": [
      "Processing images:  11%|█         | 27552/251295 [18:41<2:56:47, 21.09it/s]"
     ]
    },
    {
     "name": "stdout",
     "output_type": "stream",
     "text": [
      "Error with image ID 19479335040: HTTPSConnectionPool(host='api.flickr.com', port=443): Max retries exceeded with url: /services/rest?method=flickr.photos.getGroups&api_key=169307181f957a4a16e4e30fc9ac8c77&photo_id=19479335040&format=json&nojsoncallback=1&per_page=200 (Caused by ConnectTimeoutError(<urllib3.connection.HTTPSConnection object at 0x1106dc700>, 'Connection to api.flickr.com timed out. (connect timeout=None)'))\n"
     ]
    },
    {
     "name": "stderr",
     "output_type": "stream",
     "text": [
      "Processing images:  11%|█         | 28000/251295 [19:00<2:45:04, 22.55it/s]"
     ]
    },
    {
     "name": "stdout",
     "output_type": "stream",
     "text": [
      "Error with image ID 19489891256: HTTPSConnectionPool(host='api.flickr.com', port=443): Max retries exceeded with url: /services/rest?method=flickr.photos.getGroups&api_key=169307181f957a4a16e4e30fc9ac8c77&photo_id=19489891256&format=json&nojsoncallback=1&per_page=200 (Caused by ConnectTimeoutError(<urllib3.connection.HTTPSConnection object at 0x1078a7fa0>, 'Connection to api.flickr.com timed out. (connect timeout=None)'))\n"
     ]
    },
    {
     "name": "stderr",
     "output_type": "stream",
     "text": [
      "Processing images:  12%|█▏        | 28968/251295 [19:34<2:13:30, 27.75it/s]"
     ]
    },
    {
     "name": "stdout",
     "output_type": "stream",
     "text": [
      "Error with image ID 19497720462: HTTPSConnectionPool(host='api.flickr.com', port=443): Max retries exceeded with url: /services/rest?method=flickr.photos.getGroups&api_key=169307181f957a4a16e4e30fc9ac8c77&photo_id=19497720462&format=json&nojsoncallback=1&per_page=200 (Caused by ConnectTimeoutError(<urllib3.connection.HTTPSConnection object at 0x10284d990>, 'Connection to api.flickr.com timed out. (connect timeout=None)'))\n"
     ]
    },
    {
     "name": "stderr",
     "output_type": "stream",
     "text": [
      "Processing images:  12%|█▏        | 29488/251295 [19:56<1:54:48, 32.20it/s]"
     ]
    },
    {
     "name": "stdout",
     "output_type": "stream",
     "text": [
      "Error with image ID 19501947826: HTTPSConnectionPool(host='api.flickr.com', port=443): Max retries exceeded with url: /services/rest?method=flickr.photos.getGroups&api_key=169307181f957a4a16e4e30fc9ac8c77&photo_id=19501947826&format=json&nojsoncallback=1&per_page=200 (Caused by ConnectTimeoutError(<urllib3.connection.HTTPSConnection object at 0x1106dd720>, 'Connection to api.flickr.com timed out. (connect timeout=None)'))\n"
     ]
    },
    {
     "name": "stderr",
     "output_type": "stream",
     "text": [
      "Processing images:  13%|█▎        | 33264/251295 [21:52<1:52:31, 32.29it/s]"
     ]
    },
    {
     "name": "stdout",
     "output_type": "stream",
     "text": [
      "Error with image ID 19751818708: HTTPSConnectionPool(host='api.flickr.com', port=443): Max retries exceeded with url: /services/rest?method=flickr.photos.getGroups&api_key=169307181f957a4a16e4e30fc9ac8c77&photo_id=19751818708&format=json&nojsoncallback=1&per_page=200 (Caused by ConnectTimeoutError(<urllib3.connection.HTTPSConnection object at 0x102d19840>, 'Connection to api.flickr.com timed out. (connect timeout=None)'))\n"
     ]
    },
    {
     "name": "stderr",
     "output_type": "stream",
     "text": [
      "Processing images:  14%|█▍        | 35024/251295 [22:53<2:04:02, 29.06it/s]"
     ]
    },
    {
     "name": "stdout",
     "output_type": "stream",
     "text": [
      "Error with image ID 19893552572: HTTPSConnectionPool(host='api.flickr.com', port=443): Max retries exceeded with url: /services/rest?method=flickr.photos.getGroups&api_key=169307181f957a4a16e4e30fc9ac8c77&photo_id=19893552572&format=json&nojsoncallback=1&per_page=200 (Caused by ConnectTimeoutError(<urllib3.connection.HTTPSConnection object at 0x10b887550>, 'Connection to api.flickr.com timed out. (connect timeout=None)'))\n"
     ]
    },
    {
     "name": "stderr",
     "output_type": "stream",
     "text": [
      "Processing images:  14%|█▍        | 35632/251295 [23:12<1:31:31, 39.27it/s]"
     ]
    },
    {
     "name": "stdout",
     "output_type": "stream",
     "text": [
      "Error with image ID 19919768414: HTTPSConnectionPool(host='api.flickr.com', port=443): Max retries exceeded with url: /services/rest?method=flickr.photos.getGroups&api_key=169307181f957a4a16e4e30fc9ac8c77&photo_id=19919768414&format=json&nojsoncallback=1&per_page=200 (Caused by ConnectTimeoutError(<urllib3.connection.HTTPSConnection object at 0x104d41a50>, 'Connection to api.flickr.com timed out. (connect timeout=None)'))\n"
     ]
    },
    {
     "name": "stderr",
     "output_type": "stream",
     "text": [
      "Processing images:  16%|█▌        | 39352/251295 [25:09<2:45:04, 21.40it/s]"
     ]
    },
    {
     "name": "stdout",
     "output_type": "stream",
     "text": [
      "Error with image ID 20266373298: HTTPSConnectionPool(host='api.flickr.com', port=443): Max retries exceeded with url: /services/rest?method=flickr.photos.getGroups&api_key=169307181f957a4a16e4e30fc9ac8c77&photo_id=20266373298&format=json&nojsoncallback=1&per_page=200 (Caused by ConnectTimeoutError(<urllib3.connection.HTTPSConnection object at 0x10301fd90>, 'Connection to api.flickr.com timed out. (connect timeout=None)'))\n"
     ]
    },
    {
     "name": "stderr",
     "output_type": "stream",
     "text": [
      "Processing images:  16%|█▌        | 40208/251295 [25:35<1:45:06, 33.47it/s]"
     ]
    },
    {
     "name": "stdout",
     "output_type": "stream",
     "text": [
      "Error with image ID 20334577659: HTTPSConnectionPool(host='api.flickr.com', port=443): Max retries exceeded with url: /services/rest?method=flickr.photos.getGroups&api_key=169307181f957a4a16e4e30fc9ac8c77&photo_id=20334577659&format=json&nojsoncallback=1&per_page=200 (Caused by ConnectTimeoutError(<urllib3.connection.HTTPSConnection object at 0x1064ff790>, 'Connection to api.flickr.com timed out. (connect timeout=None)'))\n"
     ]
    },
    {
     "name": "stderr",
     "output_type": "stream",
     "text": [
      "Processing images:  17%|█▋        | 43384/251295 [27:20<8:56:47,  6.46it/s]"
     ]
    },
    {
     "name": "stdout",
     "output_type": "stream",
     "text": [
      "Error with image ID 20729476975: HTTPSConnectionPool(host='api.flickr.com', port=443): Max retries exceeded with url: /services/rest?method=flickr.photos.getGroups&api_key=169307181f957a4a16e4e30fc9ac8c77&photo_id=20729476975&format=json&nojsoncallback=1&per_page=200 (Caused by ConnectTimeoutError(<urllib3.connection.HTTPSConnection object at 0x105577e80>, 'Connection to api.flickr.com timed out. (connect timeout=None)'))\n"
     ]
    },
    {
     "name": "stderr",
     "output_type": "stream",
     "text": [
      "Processing images:  17%|█▋        | 43392/251295 [28:10<114:47:28,  1.99s/it]"
     ]
    },
    {
     "name": "stdout",
     "output_type": "stream",
     "text": [
      "Error with image ID 20733710143: HTTPSConnectionPool(host='api.flickr.com', port=443): Max retries exceeded with url: /services/rest?method=flickr.photos.getGroups&api_key=169307181f957a4a16e4e30fc9ac8c77&photo_id=20733710143&format=json&nojsoncallback=1&per_page=200 (Caused by ConnectTimeoutError(<urllib3.connection.HTTPSConnection object at 0x10770fb50>, 'Connection to api.flickr.com timed out. (connect timeout=None)'))\n",
      "Error with image ID 20735227380: HTTPSConnectionPool(host='api.flickr.com', port=443): Max retries exceeded with url: /services/rest?method=flickr.photos.getGroups&api_key=169307181f957a4a16e4e30fc9ac8c77&photo_id=20735227380&format=json&nojsoncallback=1&per_page=200 (Caused by ConnectTimeoutError(<urllib3.connection.HTTPSConnection object at 0x10100da20>, 'Connection to api.flickr.com timed out. (connect timeout=None)'))\n",
      "Error with image ID 20735293371: HTTPSConnectionPool(host='api.flickr.com', port=443): Max retries exceeded with url: /services/rest?method=flickr.photos.getGroups&api_key=169307181f957a4a16e4e30fc9ac8c77&photo_id=20735293371&format=json&nojsoncallback=1&per_page=200 (Caused by ConnectTimeoutError(<urllib3.connection.HTTPSConnection object at 0x103621690>, 'Connection to api.flickr.com timed out. (connect timeout=None)'))\n"
     ]
    },
    {
     "name": "stderr",
     "output_type": "stream",
     "text": [
      "Processing images:  17%|█▋        | 43480/251295 [28:17<8:48:01,  6.56it/s]  "
     ]
    },
    {
     "name": "stdout",
     "output_type": "stream",
     "text": [
      "Error with image ID 20744756126: HTTPSConnectionPool(host='api.flickr.com', port=443): Max retries exceeded with url: /services/rest?method=flickr.photos.getGroups&api_key=169307181f957a4a16e4e30fc9ac8c77&photo_id=20744756126&format=json&nojsoncallback=1&per_page=200 (Caused by ConnectTimeoutError(<urllib3.connection.HTTPSConnection object at 0x11061f5e0>, 'Connection to api.flickr.com timed out. (connect timeout=None)'))\n"
     ]
    },
    {
     "name": "stderr",
     "output_type": "stream",
     "text": [
      "Processing images:  17%|█▋        | 43504/251295 [28:20<6:25:43,  8.98it/s]"
     ]
    },
    {
     "name": "stdout",
     "output_type": "stream",
     "text": [
      "Error: 500\n"
     ]
    },
    {
     "name": "stderr",
     "output_type": "stream",
     "text": [
      "Processing images:  17%|█▋        | 43528/251295 [28:21<4:36:08, 12.54it/s]"
     ]
    },
    {
     "name": "stdout",
     "output_type": "stream",
     "text": [
      "Error with image ID 20747531131: HTTPSConnectionPool(host='api.flickr.com', port=443): Max retries exceeded with url: /services/rest?method=flickr.photos.getGroups&api_key=169307181f957a4a16e4e30fc9ac8c77&photo_id=20747531131&format=json&nojsoncallback=1&per_page=200 (Caused by ConnectTimeoutError(<urllib3.connection.HTTPSConnection object at 0x10b70ff40>, 'Connection to api.flickr.com timed out. (connect timeout=None)'))\n"
     ]
    },
    {
     "name": "stderr",
     "output_type": "stream",
     "text": [
      "Processing images:  17%|█▋        | 43696/251295 [28:31<4:04:12, 14.17it/s]"
     ]
    },
    {
     "name": "stdout",
     "output_type": "stream",
     "text": [
      "Error with image ID 20758785972: HTTPSConnectionPool(host='api.flickr.com', port=443): Max retries exceeded with url: /services/rest?method=flickr.photos.getGroups&api_key=169307181f957a4a16e4e30fc9ac8c77&photo_id=20758785972&format=json&nojsoncallback=1&per_page=200 (Caused by ConnectTimeoutError(<urllib3.connection.HTTPSConnection object at 0x1009f56f0>, 'Connection to api.flickr.com timed out. (connect timeout=None)'))\n"
     ]
    },
    {
     "name": "stderr",
     "output_type": "stream",
     "text": [
      "Processing images:  17%|█▋        | 43768/251295 [28:35<3:31:02, 16.39it/s]"
     ]
    },
    {
     "name": "stdout",
     "output_type": "stream",
     "text": [
      "Error with image ID 20760350684: HTTPSConnectionPool(host='api.flickr.com', port=443): Max retries exceeded with url: /services/rest?method=flickr.photos.getGroups&api_key=169307181f957a4a16e4e30fc9ac8c77&photo_id=20760350684&format=json&nojsoncallback=1&per_page=200 (Caused by ConnectTimeoutError(<urllib3.connection.HTTPSConnection object at 0x1078a7ee0>, 'Connection to api.flickr.com timed out. (connect timeout=None)'))\n"
     ]
    },
    {
     "name": "stderr",
     "output_type": "stream",
     "text": [
      "Processing images:  18%|█▊        | 44480/251295 [29:29<4:00:39, 14.32it/s]"
     ]
    },
    {
     "name": "stdout",
     "output_type": "stream",
     "text": [
      "Error with image ID 20762358936: HTTPSConnectionPool(host='api.flickr.com', port=443): Max retries exceeded with url: /services/rest?method=flickr.photos.getGroups&api_key=169307181f957a4a16e4e30fc9ac8c77&photo_id=20762358936&format=json&nojsoncallback=1&per_page=200 (Caused by ConnectTimeoutError(<urllib3.connection.HTTPSConnection object at 0x10334da50>, 'Connection to api.flickr.com timed out. (connect timeout=None)'))\n"
     ]
    },
    {
     "name": "stderr",
     "output_type": "stream",
     "text": [
      "Processing images:  18%|█▊        | 44568/251295 [29:34<3:04:33, 18.67it/s]"
     ]
    },
    {
     "name": "stdout",
     "output_type": "stream",
     "text": [
      "Error with image ID 20766000816: HTTPSConnectionPool(host='api.flickr.com', port=443): Max retries exceeded with url: /services/rest?method=flickr.photos.getGroups&api_key=169307181f957a4a16e4e30fc9ac8c77&photo_id=20766000816&format=json&nojsoncallback=1&per_page=200 (Caused by ConnectTimeoutError(<urllib3.connection.HTTPSConnection object at 0x1106de0e0>, 'Connection to api.flickr.com timed out. (connect timeout=None)'))\n"
     ]
    },
    {
     "name": "stderr",
     "output_type": "stream",
     "text": [
      "Processing images:  18%|█▊        | 44776/251295 [29:44<2:43:26, 21.06it/s]"
     ]
    },
    {
     "name": "stdout",
     "output_type": "stream",
     "text": [
      "Error with image ID 20775124251: HTTPSConnectionPool(host='api.flickr.com', port=443): Max retries exceeded with url: /services/rest?method=flickr.photos.getGroups&api_key=169307181f957a4a16e4e30fc9ac8c77&photo_id=20775124251&format=json&nojsoncallback=1&per_page=200 (Caused by ConnectTimeoutError(<urllib3.connection.HTTPSConnection object at 0x107b23c40>, 'Connection to api.flickr.com timed out. (connect timeout=None)'))\n"
     ]
    },
    {
     "name": "stderr",
     "output_type": "stream",
     "text": [
      "Processing images:  18%|█▊        | 45032/251295 [29:52<1:44:36, 32.86it/s]"
     ]
    },
    {
     "name": "stdout",
     "output_type": "stream",
     "text": [
      "Error with image ID 20789487268: HTTPSConnectionPool(host='api.flickr.com', port=443): Max retries exceeded with url: /services/rest?method=flickr.photos.getGroups&api_key=169307181f957a4a16e4e30fc9ac8c77&photo_id=20789487268&format=json&nojsoncallback=1&per_page=200 (Caused by ConnectTimeoutError(<urllib3.connection.HTTPSConnection object at 0x1030dcb80>, 'Connection to api.flickr.com timed out. (connect timeout=None)'))\n"
     ]
    },
    {
     "name": "stderr",
     "output_type": "stream",
     "text": [
      "Processing images:  18%|█▊        | 45152/251295 [29:56<1:29:37, 38.33it/s]"
     ]
    },
    {
     "name": "stdout",
     "output_type": "stream",
     "text": [
      "Error with image ID 20792511718: HTTPSConnectionPool(host='api.flickr.com', port=443): Max retries exceeded with url: /services/rest?method=flickr.photos.getGroups&api_key=169307181f957a4a16e4e30fc9ac8c77&photo_id=20792511718&format=json&nojsoncallback=1&per_page=200 (Caused by ConnectTimeoutError(<urllib3.connection.HTTPSConnection object at 0x10b887c70>, 'Connection to api.flickr.com timed out. (connect timeout=None)'))\n"
     ]
    },
    {
     "name": "stderr",
     "output_type": "stream",
     "text": [
      "Processing images:  20%|█▉        | 49488/251295 [32:10<1:57:33, 28.61it/s]"
     ]
    },
    {
     "name": "stdout",
     "output_type": "stream",
     "text": [
      "Error with image ID 21054856100: HTTPSConnectionPool(host='api.flickr.com', port=443): Max retries exceeded with url: /services/rest?method=flickr.photos.getGroups&api_key=169307181f957a4a16e4e30fc9ac8c77&photo_id=21054856100&format=json&nojsoncallback=1&per_page=200 (Caused by ConnectTimeoutError(<urllib3.connection.HTTPSConnection object at 0x10301f820>, 'Connection to api.flickr.com timed out. (connect timeout=None)'))\n"
     ]
    },
    {
     "name": "stderr",
     "output_type": "stream",
     "text": [
      "Processing images:  21%|██        | 51896/251295 [33:30<1:54:24, 29.05it/s]"
     ]
    },
    {
     "name": "stdout",
     "output_type": "stream",
     "text": [
      "Error with image ID 21213296260: HTTPSConnectionPool(host='api.flickr.com', port=443): Max retries exceeded with url: /services/rest?method=flickr.photos.getGroups&api_key=169307181f957a4a16e4e30fc9ac8c77&photo_id=21213296260&format=json&nojsoncallback=1&per_page=200 (Caused by ConnectTimeoutError(<urllib3.connection.HTTPSConnection object at 0x10770f7f0>, 'Connection to api.flickr.com timed out. (connect timeout=None)'))\n"
     ]
    },
    {
     "name": "stderr",
     "output_type": "stream",
     "text": [
      "Processing images:  22%|██▏       | 55488/251295 [35:28<1:46:20, 30.69it/s]"
     ]
    },
    {
     "name": "stdout",
     "output_type": "stream",
     "text": [
      "Error with image ID 21445070901: HTTPSConnectionPool(host='api.flickr.com', port=443): Max retries exceeded with url: /services/rest?method=flickr.photos.getGroups&api_key=169307181f957a4a16e4e30fc9ac8c77&photo_id=21445070901&format=json&nojsoncallback=1&per_page=200 (Caused by ConnectTimeoutError(<urllib3.connection.HTTPSConnection object at 0x10284d960>, 'Connection to api.flickr.com timed out. (connect timeout=None)'))\n"
     ]
    },
    {
     "name": "stderr",
     "output_type": "stream",
     "text": [
      "Processing images:  22%|██▏       | 55600/251295 [35:32<1:35:59, 33.98it/s]"
     ]
    },
    {
     "name": "stdout",
     "output_type": "stream",
     "text": [
      "Error with image ID 21451346613: HTTPSConnectionPool(host='api.flickr.com', port=443): Max retries exceeded with url: /services/rest?method=flickr.photos.getGroups&api_key=169307181f957a4a16e4e30fc9ac8c77&photo_id=21451346613&format=json&nojsoncallback=1&per_page=200 (Caused by ConnectTimeoutError(<urllib3.connection.HTTPSConnection object at 0x104d41540>, 'Connection to api.flickr.com timed out. (connect timeout=None)'))\n"
     ]
    },
    {
     "name": "stderr",
     "output_type": "stream",
     "text": [
      "Processing images:  24%|██▎       | 59456/251295 [37:33<7:20:40,  7.26it/s]"
     ]
    },
    {
     "name": "stdout",
     "output_type": "stream",
     "text": [
      "Error with image ID 21753959272: HTTPSConnectionPool(host='api.flickr.com', port=443): Max retries exceeded with url: /services/rest?method=flickr.photos.getGroups&api_key=169307181f957a4a16e4e30fc9ac8c77&photo_id=21753959272&format=json&nojsoncallback=1&per_page=200 (Caused by ConnectTimeoutError(<urllib3.connection.HTTPSConnection object at 0x105577d90>, 'Connection to api.flickr.com timed out. (connect timeout=None)'))\n"
     ]
    },
    {
     "name": "stderr",
     "output_type": "stream",
     "text": [
      "Processing images:  24%|██▎       | 59464/251295 [38:35<129:21:48,  2.43s/it]"
     ]
    },
    {
     "name": "stdout",
     "output_type": "stream",
     "text": [
      "Error with image ID 21757671788: HTTPSConnectionPool(host='api.flickr.com', port=443): Max retries exceeded with url: /services/rest?method=flickr.photos.getGroups&api_key=169307181f957a4a16e4e30fc9ac8c77&photo_id=21757671788&format=json&nojsoncallback=1&per_page=200 (Caused by ConnectTimeoutError(<urllib3.connection.HTTPSConnection object at 0x1036216f0>, 'Connection to api.flickr.com timed out. (connect timeout=None)'))\n",
      "Error with image ID 21757715395: HTTPSConnectionPool(host='api.flickr.com', port=443): Max retries exceeded with url: /services/rest?method=flickr.photos.getGroups&api_key=169307181f957a4a16e4e30fc9ac8c77&photo_id=21757715395&format=json&nojsoncallback=1&per_page=200 (Caused by ConnectTimeoutError(<urllib3.connection.HTTPSConnection object at 0x1009f5690>, 'Connection to api.flickr.com timed out. (connect timeout=None)'))\n"
     ]
    },
    {
     "name": "stderr",
     "output_type": "stream",
     "text": [
      "Processing images:  24%|██▎       | 59472/251295 [38:36<92:18:53,  1.73s/it] "
     ]
    },
    {
     "name": "stdout",
     "output_type": "stream",
     "text": [
      "Error with image ID 21757801383: HTTPSConnectionPool(host='api.flickr.com', port=443): Max retries exceeded with url: /services/rest?method=flickr.photos.getGroups&api_key=169307181f957a4a16e4e30fc9ac8c77&photo_id=21757801383&format=json&nojsoncallback=1&per_page=200 (Caused by ConnectTimeoutError(<urllib3.connection.HTTPSConnection object at 0x102d19a20>, 'Connection to api.flickr.com timed out. (connect timeout=None)'))\n"
     ]
    },
    {
     "name": "stderr",
     "output_type": "stream",
     "text": [
      "Processing images:  24%|██▎       | 59512/251295 [38:38<17:34:21,  3.03it/s]"
     ]
    },
    {
     "name": "stdout",
     "output_type": "stream",
     "text": [
      "Error with image ID 21759923696: HTTPSConnectionPool(host='api.flickr.com', port=443): Max retries exceeded with url: /services/rest?method=flickr.photos.getGroups&api_key=169307181f957a4a16e4e30fc9ac8c77&photo_id=21759923696&format=json&nojsoncallback=1&per_page=200 (Caused by ConnectTimeoutError(<urllib3.connection.HTTPSConnection object at 0x11061f850>, 'Connection to api.flickr.com timed out. (connect timeout=None)'))\n"
     ]
    },
    {
     "name": "stderr",
     "output_type": "stream",
     "text": [
      "Processing images:  24%|██▎       | 59608/251295 [38:44<4:23:53, 12.11it/s] "
     ]
    },
    {
     "name": "stdout",
     "output_type": "stream",
     "text": [
      "Error with image ID 21762369078: HTTPSConnectionPool(host='api.flickr.com', port=443): Max retries exceeded with url: /services/rest?method=flickr.photos.getGroups&api_key=169307181f957a4a16e4e30fc9ac8c77&photo_id=21762369078&format=json&nojsoncallback=1&per_page=200 (Caused by ConnectTimeoutError(<urllib3.connection.HTTPSConnection object at 0x10334d6c0>, 'Connection to api.flickr.com timed out. (connect timeout=None)'))\n"
     ]
    },
    {
     "name": "stderr",
     "output_type": "stream",
     "text": [
      "Processing images:  24%|██▎       | 59640/251295 [38:47<3:55:50, 13.54it/s]"
     ]
    },
    {
     "name": "stdout",
     "output_type": "stream",
     "text": [
      "Error with image ID 21762734981: HTTPSConnectionPool(host='api.flickr.com', port=443): Max retries exceeded with url: /services/rest?method=flickr.photos.getGroups&api_key=169307181f957a4a16e4e30fc9ac8c77&photo_id=21762734981&format=json&nojsoncallback=1&per_page=200 (Caused by ConnectTimeoutError(<urllib3.connection.HTTPSConnection object at 0x1064ff4c0>, 'Connection to api.flickr.com timed out. (connect timeout=None)'))\n"
     ]
    },
    {
     "name": "stderr",
     "output_type": "stream",
     "text": [
      "Processing images:  24%|██▎       | 59664/251295 [38:48<3:43:44, 14.27it/s]"
     ]
    },
    {
     "name": "stdout",
     "output_type": "stream",
     "text": [
      "Error with image ID 21763134702: HTTPSConnectionPool(host='api.flickr.com', port=443): Max retries exceeded with url: /services/rest?method=flickr.photos.getGroups&api_key=169307181f957a4a16e4e30fc9ac8c77&photo_id=21763134702&format=json&nojsoncallback=1&per_page=200 (Caused by ConnectTimeoutError(<urllib3.connection.HTTPSConnection object at 0x10b70fe80>, 'Connection to api.flickr.com timed out. (connect timeout=None)'))\n"
     ]
    },
    {
     "name": "stderr",
     "output_type": "stream",
     "text": [
      "Processing images:  24%|██▍       | 60616/251295 [39:54<3:25:41, 15.45it/s]"
     ]
    },
    {
     "name": "stdout",
     "output_type": "stream",
     "text": [
      "Error with image ID 21764167604: HTTPSConnectionPool(host='api.flickr.com', port=443): Max retries exceeded with url: /services/rest?method=flickr.photos.getGroups&api_key=169307181f957a4a16e4e30fc9ac8c77&photo_id=21764167604&format=json&nojsoncallback=1&per_page=200 (Caused by ConnectTimeoutError(<urllib3.connection.HTTPSConnection object at 0x10301ff10>, 'Connection to api.flickr.com timed out. (connect timeout=None)'))\n"
     ]
    },
    {
     "name": "stderr",
     "output_type": "stream",
     "text": [
      "Processing images:  24%|██▍       | 60672/251295 [39:57<2:39:24, 19.93it/s]"
     ]
    },
    {
     "name": "stdout",
     "output_type": "stream",
     "text": [
      "Error with image ID 21765094834: HTTPSConnectionPool(host='api.flickr.com', port=443): Max retries exceeded with url: /services/rest?method=flickr.photos.getGroups&api_key=169307181f957a4a16e4e30fc9ac8c77&photo_id=21765094834&format=json&nojsoncallback=1&per_page=200 (Caused by ConnectTimeoutError(<urllib3.connection.HTTPSConnection object at 0x107bf8bb0>, 'Connection to api.flickr.com timed out. (connect timeout=None)'))\n"
     ]
    },
    {
     "name": "stderr",
     "output_type": "stream",
     "text": [
      "Processing images:  24%|██▍       | 60704/251295 [39:58<2:41:02, 19.73it/s]"
     ]
    },
    {
     "name": "stdout",
     "output_type": "stream",
     "text": [
      "Error with image ID 21765647085: HTTPSConnectionPool(host='api.flickr.com', port=443): Max retries exceeded with url: /services/rest?method=flickr.photos.getGroups&api_key=169307181f957a4a16e4e30fc9ac8c77&photo_id=21765647085&format=json&nojsoncallback=1&per_page=200 (Caused by ConnectTimeoutError(<urllib3.connection.HTTPSConnection object at 0x107aec490>, 'Connection to api.flickr.com timed out. (connect timeout=None)'))\n"
     ]
    },
    {
     "name": "stderr",
     "output_type": "stream",
     "text": [
      "Processing images:  24%|██▍       | 60912/251295 [40:06<1:53:04, 28.06it/s]"
     ]
    },
    {
     "name": "stdout",
     "output_type": "stream",
     "text": [
      "Error with image ID 21769026023: HTTPSConnectionPool(host='api.flickr.com', port=443): Max retries exceeded with url: /services/rest?method=flickr.photos.getGroups&api_key=169307181f957a4a16e4e30fc9ac8c77&photo_id=21769026023&format=json&nojsoncallback=1&per_page=200 (Caused by ConnectTimeoutError(<urllib3.connection.HTTPSConnection object at 0x10b8874c0>, 'Connection to api.flickr.com timed out. (connect timeout=None)'))\n"
     ]
    },
    {
     "name": "stderr",
     "output_type": "stream",
     "text": [
      "Processing images:  24%|██▍       | 61152/251295 [40:13<1:22:11, 38.56it/s]"
     ]
    },
    {
     "name": "stdout",
     "output_type": "stream",
     "text": [
      "Error with image ID 21777623493: HTTPSConnectionPool(host='api.flickr.com', port=443): Max retries exceeded with url: /services/rest?method=flickr.photos.getGroups&api_key=169307181f957a4a16e4e30fc9ac8c77&photo_id=21777623493&format=json&nojsoncallback=1&per_page=200 (Caused by ConnectTimeoutError(<urllib3.connection.HTTPSConnection object at 0x10770f6a0>, 'Connection to api.flickr.com timed out. (connect timeout=None)'))\n"
     ]
    },
    {
     "name": "stderr",
     "output_type": "stream",
     "text": [
      "Processing images:  25%|██▌       | 63048/251295 [41:03<1:29:04, 35.22it/s]"
     ]
    },
    {
     "ename": "KeyboardInterrupt",
     "evalue": "",
     "output_type": "error",
     "traceback": [
      "\u001b[0;31m---------------------------------------------------------------------------\u001b[0m",
      "\u001b[0;31mKeyboardInterrupt\u001b[0m                         Traceback (most recent call last)",
      "\u001b[1;32m/Users/sachin.murthy/Desktop/DL_SocialPulse/eda/download_img.ipynb Cell 30\u001b[0m line \u001b[0;36m8\n\u001b[1;32m      <a href='vscode-notebook-cell:/Users/sachin.murthy/Desktop/DL_SocialPulse/eda/download_img.ipynb#X41sZmlsZQ%3D%3D?line=4'>5</a>\u001b[0m imgids \u001b[39m=\u001b[39m df[\u001b[39m'\u001b[39m\u001b[39mimgID\u001b[39m\u001b[39m'\u001b[39m]\u001b[39m.\u001b[39mtolist()\n\u001b[1;32m      <a href='vscode-notebook-cell:/Users/sachin.murthy/Desktop/DL_SocialPulse/eda/download_img.ipynb#X41sZmlsZQ%3D%3D?line=6'>7</a>\u001b[0m \u001b[39m# Set up parallel execution\u001b[39;00m\n\u001b[0;32m----> <a href='vscode-notebook-cell:/Users/sachin.murthy/Desktop/DL_SocialPulse/eda/download_img.ipynb#X41sZmlsZQ%3D%3D?line=7'>8</a>\u001b[0m parallel_results \u001b[39m=\u001b[39m Parallel(n_jobs\u001b[39m=\u001b[39;49m\u001b[39m-\u001b[39;49m\u001b[39m1\u001b[39;49m)(\n\u001b[1;32m      <a href='vscode-notebook-cell:/Users/sachin.murthy/Desktop/DL_SocialPulse/eda/download_img.ipynb#X41sZmlsZQ%3D%3D?line=8'>9</a>\u001b[0m     delayed(get_photo_groups_safe)(api_key, imgid) \u001b[39mfor\u001b[39;49;00m imgid \u001b[39min\u001b[39;49;00m tqdm(imgids, desc\u001b[39m=\u001b[39;49m\u001b[39m\"\u001b[39;49m\u001b[39mProcessing images\u001b[39;49m\u001b[39m\"\u001b[39;49m)\n\u001b[1;32m     <a href='vscode-notebook-cell:/Users/sachin.murthy/Desktop/DL_SocialPulse/eda/download_img.ipynb#X41sZmlsZQ%3D%3D?line=9'>10</a>\u001b[0m )\n",
      "File \u001b[0;32m/opt/homebrew/Caskroom/miniforge/base/lib/python3.10/site-packages/joblib/parallel.py:1952\u001b[0m, in \u001b[0;36mParallel.__call__\u001b[0;34m(self, iterable)\u001b[0m\n\u001b[1;32m   1946\u001b[0m \u001b[39m# The first item from the output is blank, but it makes the interpreter\u001b[39;00m\n\u001b[1;32m   1947\u001b[0m \u001b[39m# progress until it enters the Try/Except block of the generator and\u001b[39;00m\n\u001b[1;32m   1948\u001b[0m \u001b[39m# reach the first `yield` statement. This starts the aynchronous\u001b[39;00m\n\u001b[1;32m   1949\u001b[0m \u001b[39m# dispatch of the tasks to the workers.\u001b[39;00m\n\u001b[1;32m   1950\u001b[0m \u001b[39mnext\u001b[39m(output)\n\u001b[0;32m-> 1952\u001b[0m \u001b[39mreturn\u001b[39;00m output \u001b[39mif\u001b[39;00m \u001b[39mself\u001b[39m\u001b[39m.\u001b[39mreturn_generator \u001b[39melse\u001b[39;00m \u001b[39mlist\u001b[39;49m(output)\n",
      "File \u001b[0;32m/opt/homebrew/Caskroom/miniforge/base/lib/python3.10/site-packages/joblib/parallel.py:1595\u001b[0m, in \u001b[0;36mParallel._get_outputs\u001b[0;34m(self, iterator, pre_dispatch)\u001b[0m\n\u001b[1;32m   1592\u001b[0m     \u001b[39myield\u001b[39;00m\n\u001b[1;32m   1594\u001b[0m     \u001b[39mwith\u001b[39;00m \u001b[39mself\u001b[39m\u001b[39m.\u001b[39m_backend\u001b[39m.\u001b[39mretrieval_context():\n\u001b[0;32m-> 1595\u001b[0m         \u001b[39myield from\u001b[39;00m \u001b[39mself\u001b[39m\u001b[39m.\u001b[39m_retrieve()\n\u001b[1;32m   1597\u001b[0m \u001b[39mexcept\u001b[39;00m \u001b[39mGeneratorExit\u001b[39;00m:\n\u001b[1;32m   1598\u001b[0m     \u001b[39m# The generator has been garbage collected before being fully\u001b[39;00m\n\u001b[1;32m   1599\u001b[0m     \u001b[39m# consumed. This aborts the remaining tasks if possible and warn\u001b[39;00m\n\u001b[1;32m   1600\u001b[0m     \u001b[39m# the user if necessary.\u001b[39;00m\n\u001b[1;32m   1601\u001b[0m     \u001b[39mself\u001b[39m\u001b[39m.\u001b[39m_exception \u001b[39m=\u001b[39m \u001b[39mTrue\u001b[39;00m\n",
      "File \u001b[0;32m/opt/homebrew/Caskroom/miniforge/base/lib/python3.10/site-packages/joblib/parallel.py:1707\u001b[0m, in \u001b[0;36mParallel._retrieve\u001b[0;34m(self)\u001b[0m\n\u001b[1;32m   1702\u001b[0m \u001b[39m# If the next job is not ready for retrieval yet, we just wait for\u001b[39;00m\n\u001b[1;32m   1703\u001b[0m \u001b[39m# async callbacks to progress.\u001b[39;00m\n\u001b[1;32m   1704\u001b[0m \u001b[39mif\u001b[39;00m ((\u001b[39mlen\u001b[39m(\u001b[39mself\u001b[39m\u001b[39m.\u001b[39m_jobs) \u001b[39m==\u001b[39m \u001b[39m0\u001b[39m) \u001b[39mor\u001b[39;00m\n\u001b[1;32m   1705\u001b[0m     (\u001b[39mself\u001b[39m\u001b[39m.\u001b[39m_jobs[\u001b[39m0\u001b[39m]\u001b[39m.\u001b[39mget_status(\n\u001b[1;32m   1706\u001b[0m         timeout\u001b[39m=\u001b[39m\u001b[39mself\u001b[39m\u001b[39m.\u001b[39mtimeout) \u001b[39m==\u001b[39m TASK_PENDING)):\n\u001b[0;32m-> 1707\u001b[0m     time\u001b[39m.\u001b[39;49msleep(\u001b[39m0.01\u001b[39;49m)\n\u001b[1;32m   1708\u001b[0m     \u001b[39mcontinue\u001b[39;00m\n\u001b[1;32m   1710\u001b[0m \u001b[39m# We need to be careful: the job list can be filling up as\u001b[39;00m\n\u001b[1;32m   1711\u001b[0m \u001b[39m# we empty it and Python list are not thread-safe by\u001b[39;00m\n\u001b[1;32m   1712\u001b[0m \u001b[39m# default hence the use of the lock\u001b[39;00m\n",
      "\u001b[0;31mKeyboardInterrupt\u001b[0m: "
     ]
    },
    {
     "name": "stderr",
     "output_type": "stream",
     "text": [
      "Processing images:  25%|██▌       | 63048/251295 [41:21<1:29:04, 35.22it/s]"
     ]
    }
   ],
   "source": [
    "# API Key\n",
    "api_key = \"169307181f957a4a16e4e30fc9ac8c77\"  # Replace with your actual API key\n",
    "\n",
    "# List of image IDs to process\n",
    "imgids = df['imgID'].tolist()\n",
    "\n",
    "# Set up parallel execution\n",
    "parallel_results = Parallel(n_jobs=-1)(\n",
    "    delayed(get_photo_groups_safe)(api_key, imgid) for imgid in tqdm(imgids, desc=\"Processing images\")\n",
    ")"
   ]
  },
  {
   "cell_type": "code",
   "execution_count": 15,
   "metadata": {},
   "outputs": [
    {
     "ename": "NameError",
     "evalue": "name 'parallel_results' is not defined",
     "output_type": "error",
     "traceback": [
      "\u001b[0;31m---------------------------------------------------------------------------\u001b[0m",
      "\u001b[0;31mNameError\u001b[0m                                 Traceback (most recent call last)",
      "\u001b[1;32m/Users/sachin.murthy/Desktop/DL_SocialPulse/eda/download_img.ipynb Cell 31\u001b[0m line \u001b[0;36m1\n\u001b[0;32m----> <a href='vscode-notebook-cell:/Users/sachin.murthy/Desktop/DL_SocialPulse/eda/download_img.ipynb#X43sZmlsZQ%3D%3D?line=0'>1</a>\u001b[0m parallel_results\n",
      "\u001b[0;31mNameError\u001b[0m: name 'parallel_results' is not defined"
     ]
    }
   ],
   "source": [
    "parallel_results"
   ]
  },
  {
   "cell_type": "code",
   "execution_count": 16,
   "metadata": {},
   "outputs": [],
   "source": [
    "import pandas as pd\n",
    "import requests\n",
    "\n",
    "# Assuming dfraw is your existing DataFrame with an 'imgid' column\n",
    "# Example:\n",
    "# dfraw = pd.DataFrame({\n",
    "#     'imgid': ['385070026', '385070027', '385070028']  # Example image IDs\n",
    "# })\n",
    "\n",
    "# Function to get photo groups\n",
    "def get_photo_groups(api_key, photo_id, per_page=200):\n",
    "    url = \"https://api.flickr.com/services/rest\"\n",
    "    params = {\n",
    "        \"method\": \"flickr.photos.getGroups\",\n",
    "        \"api_key\": api_key,\n",
    "        \"photo_id\": photo_id,\n",
    "        \"format\": \"json\",\n",
    "        \"nojsoncallback\": \"1\",\n",
    "        \"per_page\": str(per_page)\n",
    "    }\n",
    "    \n",
    "    response = requests.get(url, params=params)\n",
    "    groups = []\n",
    "    if response.status_code == 200:\n",
    "        data = response.json()\n",
    "        groups = data.get(\"groups\", {}).get(\"group\", [])\n",
    "    else:\n",
    "        print(\"Error:\", response.status_code)\n",
    "    \n",
    "    return groups\n",
    "\n",
    "# API Key\n",
    "api_key = \"169307181f957a4a16e4e30fc9ac8c77\"  # Replace with your actual API key\n",
    "\n",
    "# Initialize an empty list to store the group information\n",
    "group_data = []"
   ]
  },
  {
   "cell_type": "code",
   "execution_count": 17,
   "metadata": {},
   "outputs": [
    {
     "name": "stdout",
     "output_type": "stream",
     "text": [
      "       imgid      group_id                                           title  \\\n",
      "0  385070026   2131946@N24   ♥♥♥PE0PLE FR0M AR0UND THE W0RLD♥♥♥\"FRIENDS\"♥♥   \n",
      "1  385070026   1344524@N24             Viva la Vida!  Alma e Cuore (P1-A5)   \n",
      "2  385070026    855034@N21  The Biggest Group! - Playground For Psychotics   \n",
      "3  385070026  75277045@N00             Self -help group for flickr addicts   \n",
      "4  385070026  26964488@N00                              Powerful Portraits   \n",
      "\n",
      "  member_count pool_count  \n",
      "0         1115       6875  \n",
      "1         9463     340173  \n",
      "2         8228    1265747  \n",
      "3          785      20454  \n",
      "4        10666     330500  \n"
     ]
    }
   ],
   "source": [
    "# Iterate over each image ID in dfraw\n",
    "for imgid in df['imgID'][:100]:\n",
    "    # Get groups for the current image ID\n",
    "    groups = get_photo_groups(api_key, imgid)\n",
    "\n",
    "    # Iterate over each group and store the details along with the image ID\n",
    "    for group in groups:\n",
    "        group_info = {\n",
    "            \"imgid\": imgid,\n",
    "            \"group_id\": group.get(\"id\"),\n",
    "            \"title\": group.get(\"title\"),\n",
    "            \"member_count\": group.get(\"member_count\"),\n",
    "            \"pool_count\": group.get(\"pool_count\")\n",
    "            # Add other details here if needed\n",
    "        }\n",
    "        group_data.append(group_info)\n",
    "\n",
    "# Create a DataFrame from the collected group data\n",
    "group_df = pd.DataFrame(group_data)\n",
    "\n",
    "# Display the first few rows of the new DataFrame\n",
    "print(group_df.head())"
   ]
  },
  {
   "cell_type": "code",
   "execution_count": 19,
   "metadata": {},
   "outputs": [
    {
     "data": {
      "text/plain": [
       "4497890817    154\n",
       "4604352563     48\n",
       "385070026      34\n",
       "5960225601     21\n",
       "5491588399      8\n",
       "943750056       6\n",
       "3544891702      2\n",
       "4750078414      2\n",
       "3538960847      1\n",
       "3544037429      1\n",
       "Name: imgid, dtype: int64"
      ]
     },
     "execution_count": 19,
     "metadata": {},
     "output_type": "execute_result"
    }
   ],
   "source": [
    "group_df['imgid'].value_counts()"
   ]
  },
  {
   "cell_type": "markdown",
   "metadata": {},
   "source": [
    "# Run this for your range"
   ]
  },
  {
   "cell_type": "code",
   "execution_count": 21,
   "metadata": {},
   "outputs": [
    {
     "name": "stderr",
     "output_type": "stream",
     "text": []
    },
    {
     "name": "stdout",
     "output_type": "stream",
     "text": [
      "278\n",
      "279\n",
      "280\n"
     ]
    },
    {
     "name": "stderr",
     "output_type": "stream",
     "text": []
    },
    {
     "name": "stdout",
     "output_type": "stream",
     "text": [
      "281\n",
      "282\n",
      "283\n",
      "284\n",
      "285\n"
     ]
    },
    {
     "name": "stderr",
     "output_type": "stream",
     "text": []
    },
    {
     "name": "stdout",
     "output_type": "stream",
     "text": [
      "286\n",
      "287\n",
      "288\n",
      "289\n",
      "290\n",
      "291\n",
      "292\n",
      "293\n",
      "294\n",
      "295\n",
      "296\n",
      "297\n",
      "298\n",
      "299\n",
      "300\n",
      "301\n",
      "302\n",
      "303\n",
      "304\n",
      "305\n",
      "306\n",
      "307\n",
      "308\n",
      "309\n",
      "310\n",
      "311\n",
      "312\n",
      "313\n",
      "314\n",
      "315\n",
      "316\n",
      "317\n",
      "318\n",
      "319\n",
      "320\n",
      "321\n",
      "322\n",
      "323\n",
      "324\n",
      "325\n",
      "326\n",
      "327\n",
      "328\n",
      "329\n",
      "330\n",
      "331\n",
      "332\n",
      "333\n",
      "334\n",
      "335\n",
      "336\n",
      "337\n",
      "338\n",
      "339\n",
      "340\n",
      "341\n",
      "342\n",
      "343\n",
      "344\n",
      "345\n",
      "346\n",
      "347\n",
      "348\n",
      "349\n",
      "350\n",
      "351\n",
      "352\n",
      "353\n",
      "354\n",
      "355\n",
      "356\n",
      "357\n",
      "358\n",
      "359\n"
     ]
    },
    {
     "name": "stderr",
     "output_type": "stream",
     "text": []
    },
    {
     "name": "stdout",
     "output_type": "stream",
     "text": [
      "360\n",
      "361\n",
      "362\n",
      "363\n",
      "364\n"
     ]
    },
    {
     "name": "stderr",
     "output_type": "stream",
     "text": []
    },
    {
     "name": "stdout",
     "output_type": "stream",
     "text": [
      "365\n",
      "366\n",
      "367\n",
      "368\n",
      "369\n",
      "370\n",
      "371\n",
      "372\n",
      "373\n",
      "374\n",
      "375\n",
      "376\n",
      "377\n",
      "378\n",
      "379\n",
      "380\n",
      "381\n",
      "382\n",
      "383\n",
      "384\n",
      "385\n",
      "386\n",
      "387\n",
      "388\n",
      "389\n",
      "390\n",
      "391\n",
      "392\n",
      "393\n",
      "394\n",
      "395\n",
      "396\n",
      "397\n",
      "398\n",
      "399\n",
      "400\n"
     ]
    },
    {
     "name": "stderr",
     "output_type": "stream",
     "text": []
    },
    {
     "name": "stdout",
     "output_type": "stream",
     "text": [
      "401\n",
      "402\n",
      "403\n",
      "404\n",
      "405\n",
      "406\n",
      "407\n",
      "408\n",
      "409\n",
      "410\n",
      "411\n",
      "412\n",
      "413\n",
      "414\n",
      "415\n",
      "416\n",
      "417\n",
      "418\n"
     ]
    },
    {
     "name": "stderr",
     "output_type": "stream",
     "text": []
    },
    {
     "name": "stdout",
     "output_type": "stream",
     "text": [
      "419\n",
      "420\n",
      "421\n",
      "422\n",
      "423\n",
      "424\n",
      "425\n",
      "426\n",
      "427\n",
      "428\n",
      "429\n",
      "430\n",
      "431\n",
      "432\n",
      "433\n",
      "434\n",
      "435\n",
      "436\n",
      "437\n",
      "438\n",
      "439\n",
      "440\n",
      "441\n",
      "442\n",
      "443\n",
      "444\n",
      "445\n",
      "446\n",
      "447\n",
      "448\n",
      "449\n",
      "450\n",
      "451\n",
      "452\n",
      "453\n",
      "454\n",
      "455\n",
      "456\n",
      "457\n",
      "458\n",
      "459\n",
      "460\n",
      "461\n",
      "462\n",
      "463\n",
      "464\n",
      "465\n",
      "466\n",
      "467\n",
      "468\n",
      "469\n",
      "470\n",
      "471\n",
      "472\n",
      "473\n",
      "474\n",
      "475\n",
      "476\n",
      "477\n",
      "478\n",
      "479\n",
      "480\n",
      "481\n",
      "482\n",
      "483\n",
      "484\n",
      "485\n",
      "486\n",
      "487\n"
     ]
    },
    {
     "name": "stderr",
     "output_type": "stream",
     "text": []
    },
    {
     "name": "stdout",
     "output_type": "stream",
     "text": [
      "488\n",
      "489\n",
      "490\n",
      "491\n",
      "492\n",
      "493\n",
      "494\n",
      "495\n",
      "496\n",
      "497\n",
      "498\n",
      "499\n",
      "500\n",
      "501\n",
      "502\n",
      "503\n",
      "504\n",
      "505\n",
      "506\n",
      "507\n",
      "508\n",
      "509\n",
      "510\n",
      "511\n",
      "512\n",
      "513\n",
      "514\n",
      "515\n",
      "516\n",
      "517\n",
      "518\n",
      "519\n",
      "520\n",
      "521\n",
      "522\n",
      "523\n",
      "524\n",
      "525\n",
      "526\n",
      "527\n",
      "528\n",
      "529\n",
      "530\n",
      "531\n",
      "532\n",
      "533\n",
      "534\n",
      "535\n",
      "536\n",
      "537\n"
     ]
    },
    {
     "name": "stderr",
     "output_type": "stream",
     "text": []
    },
    {
     "name": "stdout",
     "output_type": "stream",
     "text": [
      "538\n",
      "539\n",
      "540\n",
      "541\n",
      "542\n",
      "543\n",
      "544\n",
      "545\n",
      "546\n",
      "547\n",
      "548\n",
      "549\n",
      "550\n",
      "551\n",
      "552\n",
      "553\n",
      "554\n",
      "555\n",
      "556\n",
      "557\n",
      "558\n",
      "559\n",
      "560\n",
      "561\n",
      "562\n",
      "563\n",
      "564\n",
      "565\n",
      "566\n",
      "567\n",
      "568\n",
      "569\n",
      "570\n",
      "571\n",
      "572\n",
      "573\n",
      "574\n",
      "575\n",
      "576\n",
      "577\n",
      "578\n",
      "579\n",
      "580\n",
      "581\n",
      "582\n"
     ]
    },
    {
     "name": "stderr",
     "output_type": "stream",
     "text": []
    },
    {
     "name": "stdout",
     "output_type": "stream",
     "text": [
      "583\n",
      "584\n",
      "585\n",
      "586\n",
      "587\n",
      "588\n",
      "589\n",
      "590\n",
      "591\n",
      "592\n",
      "593\n",
      "594\n",
      "595\n",
      "596\n",
      "597\n",
      "598\n",
      "599\n",
      "600\n",
      "601\n",
      "602\n",
      "603\n",
      "604\n",
      "605\n",
      "606\n",
      "607\n",
      "608\n",
      "609\n",
      "610\n",
      "611\n",
      "612\n",
      "613\n",
      "614\n",
      "615\n",
      "616\n",
      "617\n",
      "618\n",
      "619\n",
      "620\n",
      "621\n",
      "622\n",
      "623\n",
      "624\n",
      "625\n",
      "626\n",
      "627\n",
      "628\n",
      "629\n",
      "630\n",
      "631\n",
      "632\n",
      "633\n",
      "634\n",
      "635\n",
      "636\n",
      "637\n",
      "638\n",
      "639\n"
     ]
    },
    {
     "name": "stderr",
     "output_type": "stream",
     "text": []
    },
    {
     "name": "stdout",
     "output_type": "stream",
     "text": [
      "640\n",
      "641\n",
      "642\n",
      "643\n",
      "644\n",
      "645\n",
      "646\n",
      "647\n",
      "648\n",
      "649\n",
      "650\n",
      "651\n",
      "652\n",
      "653\n",
      "654\n",
      "655\n",
      "656\n",
      "657\n",
      "658\n",
      "659\n",
      "660\n",
      "661\n",
      "662\n",
      "663\n",
      "664\n",
      "665\n",
      "666\n",
      "667\n",
      "668\n",
      "669\n",
      "670\n",
      "671\n",
      "672\n",
      "673\n",
      "674\n",
      "675\n",
      "676\n",
      "677\n",
      "678\n",
      "679\n",
      "680\n",
      "681\n",
      "682\n",
      "683\n",
      "684\n",
      "685\n",
      "686\n",
      "687\n",
      "688\n",
      "689\n",
      "690\n",
      "691\n",
      "692\n",
      "693\n",
      "694\n",
      "695\n",
      "696\n",
      "697\n"
     ]
    },
    {
     "name": "stderr",
     "output_type": "stream",
     "text": []
    },
    {
     "name": "stdout",
     "output_type": "stream",
     "text": [
      "698\n",
      "699\n",
      "700\n",
      "701\n",
      "702\n",
      "703\n",
      "704\n",
      "705\n",
      "706\n",
      "707\n",
      "708\n",
      "709\n",
      "710\n",
      "711\n",
      "712\n",
      "713\n",
      "714\n",
      "715\n",
      "716\n",
      "717\n",
      "718\n",
      "719\n",
      "720\n",
      "721\n",
      "722\n",
      "723\n",
      "724\n",
      "725\n",
      "726\n",
      "727\n",
      "728\n",
      "729\n",
      "730\n",
      "731\n",
      "732\n",
      "733\n",
      "734\n",
      "735\n",
      "736\n",
      "737\n",
      "738\n",
      "739\n",
      "740\n",
      "741\n",
      "742\n",
      "743\n",
      "744\n",
      "745\n",
      "746\n",
      "747\n",
      "748\n",
      "749\n",
      "750\n",
      "751\n",
      "752\n"
     ]
    },
    {
     "name": "stderr",
     "output_type": "stream",
     "text": []
    },
    {
     "name": "stdout",
     "output_type": "stream",
     "text": [
      "753\n",
      "754\n",
      "755\n",
      "756\n",
      "757\n",
      "758\n",
      "759\n",
      "760\n",
      "761\n"
     ]
    },
    {
     "name": "stderr",
     "output_type": "stream",
     "text": []
    },
    {
     "name": "stdout",
     "output_type": "stream",
     "text": [
      "762\n",
      "763\n",
      "764\n",
      "765\n",
      "766\n",
      "767\n",
      "768\n",
      "769\n",
      "770\n",
      "771\n",
      "772\n",
      "773\n",
      "774\n",
      "775\n",
      "776\n",
      "777\n",
      "778\n",
      "779\n",
      "780\n",
      "781\n",
      "782\n",
      "783\n",
      "784\n",
      "785\n",
      "786\n",
      "787\n",
      "788\n",
      "789\n",
      "790\n",
      "791\n",
      "792\n",
      "793\n",
      "794\n",
      "795\n",
      "796\n",
      "797\n",
      "798\n",
      "799\n",
      "800\n",
      "801\n",
      "802\n",
      "803\n",
      "804\n",
      "805\n",
      "806\n",
      "807\n",
      "808\n",
      "809\n",
      "810\n",
      "811\n",
      "812\n",
      "813\n",
      "814\n"
     ]
    },
    {
     "name": "stderr",
     "output_type": "stream",
     "text": []
    },
    {
     "name": "stdout",
     "output_type": "stream",
     "text": [
      "815\n",
      "816\n",
      "817\n",
      "818\n",
      "819\n",
      "820\n",
      "821\n",
      "822\n",
      "823\n",
      "824\n",
      "825\n",
      "826\n",
      "827\n",
      "828\n",
      "829\n",
      "830\n",
      "831\n",
      "832\n",
      "833\n",
      "834\n",
      "835\n",
      "836\n",
      "837\n",
      "838\n",
      "839\n",
      "840\n",
      "841\n",
      "842\n",
      "843\n",
      "844\n",
      "845\n"
     ]
    },
    {
     "name": "stderr",
     "output_type": "stream",
     "text": []
    },
    {
     "name": "stdout",
     "output_type": "stream",
     "text": [
      "846\n",
      "847\n",
      "848\n",
      "849\n",
      "850\n",
      "851\n",
      "852\n",
      "853\n",
      "854\n",
      "855\n",
      "856\n",
      "857\n",
      "858\n",
      "859\n",
      "860\n",
      "861\n",
      "862\n",
      "863\n",
      "864\n",
      "865\n",
      "866\n",
      "867\n",
      "868\n",
      "869\n",
      "870\n",
      "871\n",
      "872\n",
      "873\n",
      "874\n",
      "875\n",
      "876\n",
      "877\n",
      "878\n",
      "879\n",
      "880\n"
     ]
    },
    {
     "name": "stderr",
     "output_type": "stream",
     "text": [
      "\n"
     ]
    },
    {
     "name": "stdout",
     "output_type": "stream",
     "text": [
      "881\n",
      "882\n",
      "883\n",
      "884\n",
      "885\n",
      "886\n",
      "887\n",
      "888\n",
      "889\n",
      "890\n",
      "891\n",
      "892\n",
      "893\n",
      "894\n",
      "895\n",
      "896\n",
      "897\n",
      "898\n",
      "899\n",
      "900\n",
      "901\n",
      "902\n",
      "903\n",
      "904\n",
      "905\n",
      "906\n",
      "907\n",
      "908\n",
      "909\n",
      "910\n",
      "911\n",
      "912\n",
      "913\n",
      "914\n",
      "915\n",
      "916\n",
      "917\n",
      "918\n",
      "919\n",
      "920\n",
      "921\n",
      "922\n",
      "923\n",
      "924\n",
      "925\n",
      "926\n",
      "927\n",
      "928\n",
      "929\n",
      "930\n",
      "931\n",
      "932\n",
      "933\n",
      "934\n"
     ]
    },
    {
     "name": "stderr",
     "output_type": "stream",
     "text": [
      "Processing image IDs:   3%|▎         | 28/900 [00:06<04:29,  3.24it/s]\u001b[A"
     ]
    },
    {
     "name": "stdout",
     "output_type": "stream",
     "text": [
      "935\n",
      "936\n",
      "937\n"
     ]
    },
    {
     "name": "stderr",
     "output_type": "stream",
     "text": []
    },
    {
     "name": "stdout",
     "output_type": "stream",
     "text": [
      "938\n",
      "939\n",
      "940\n",
      "941\n",
      "942\n"
     ]
    },
    {
     "name": "stderr",
     "output_type": "stream",
     "text": []
    },
    {
     "name": "stdout",
     "output_type": "stream",
     "text": [
      "943\n",
      "944\n",
      "945\n",
      "946\n",
      "947\n",
      "948\n",
      "949\n",
      "950\n",
      "951\n",
      "952\n",
      "953\n",
      "954\n",
      "955\n",
      "956\n",
      "957\n",
      "958\n",
      "959\n",
      "960\n",
      "961\n",
      "962\n",
      "963\n",
      "964\n",
      "965\n",
      "966\n",
      "967\n",
      "968\n",
      "969\n",
      "970\n",
      "971\n",
      "972\n",
      "973\n",
      "974\n",
      "975\n",
      "976\n",
      "977\n",
      "978\n",
      "979\n",
      "980\n",
      "981\n",
      "982\n",
      "983\n",
      "984\n",
      "985\n",
      "986\n",
      "987\n",
      "988\n",
      "989\n",
      "990\n",
      "991\n",
      "992\n",
      "993\n",
      "994\n",
      "995\n",
      "996\n",
      "997\n"
     ]
    },
    {
     "name": "stderr",
     "output_type": "stream",
     "text": []
    },
    {
     "name": "stdout",
     "output_type": "stream",
     "text": [
      "998\n"
     ]
    },
    {
     "name": "stderr",
     "output_type": "stream",
     "text": []
    },
    {
     "name": "stdout",
     "output_type": "stream",
     "text": [
      "999\n",
      "1000\n",
      "1001\n",
      "1002\n",
      "1003\n",
      "1004\n",
      "1005\n",
      "1006\n",
      "1007\n",
      "1008\n",
      "1009\n",
      "1010\n",
      "1011\n",
      "1012\n",
      "1013\n",
      "1014\n",
      "1015\n",
      "1016\n",
      "1017\n",
      "1018\n",
      "1019\n",
      "1020\n",
      "1021\n",
      "1022\n",
      "1023\n",
      "1024\n",
      "1025\n",
      "1026\n",
      "1027\n",
      "1028\n",
      "1029\n",
      "1030\n",
      "1031\n",
      "1032\n",
      "1033\n",
      "1034\n",
      "1035\n",
      "1036\n",
      "1037\n",
      "1038\n",
      "1039\n",
      "1040\n",
      "1041\n",
      "1042\n",
      "1043\n",
      "1044\n",
      "1045\n",
      "1046\n",
      "1047\n",
      "1048\n",
      "1049\n",
      "1050\n",
      "1051\n",
      "1052\n",
      "1053\n",
      "1054\n",
      "1055\n",
      "1056\n",
      "1057\n",
      "1058\n",
      "1059\n",
      "1060\n",
      "1061\n"
     ]
    },
    {
     "name": "stderr",
     "output_type": "stream",
     "text": []
    },
    {
     "name": "stdout",
     "output_type": "stream",
     "text": [
      "1062\n",
      "1063\n",
      "1064\n",
      "1065\n",
      "1066\n",
      "1067\n",
      "1068\n",
      "1069\n",
      "1070\n",
      "1071\n",
      "1072\n",
      "1073\n",
      "1074\n",
      "1075\n",
      "1076\n",
      "1077\n",
      "1078\n",
      "1079\n",
      "1080\n",
      "1081\n",
      "1082\n",
      "1083\n",
      "1084\n",
      "1085\n",
      "1086\n",
      "1087\n",
      "1088\n",
      "1089\n",
      "1090\n",
      "1091\n",
      "1092\n",
      "1093\n"
     ]
    },
    {
     "name": "stderr",
     "output_type": "stream",
     "text": []
    },
    {
     "name": "stdout",
     "output_type": "stream",
     "text": [
      "1094\n",
      "1095\n",
      "1096\n",
      "1097\n",
      "1098\n",
      "1099\n",
      "1100\n",
      "1101\n",
      "1102\n",
      "1103\n",
      "1104\n",
      "1105\n",
      "1106\n",
      "1107\n",
      "1108\n",
      "1109\n",
      "1110\n",
      "1111\n",
      "1112\n",
      "1113\n",
      "1114\n",
      "1115\n",
      "1116\n",
      "1117\n",
      "1118\n",
      "1119\n",
      "1120\n",
      "1121\n",
      "1122\n",
      "1123\n",
      "1124\n",
      "1125\n",
      "1126\n",
      "1127\n",
      "1128\n",
      "1129\n",
      "1130\n",
      "1131\n",
      "1132\n",
      "1133\n",
      "1134\n",
      "1135\n",
      "1136\n",
      "1137\n",
      "1138\n",
      "1139\n",
      "1140\n",
      "1141\n",
      "1142\n",
      "1143\n",
      "1144\n",
      "1145\n"
     ]
    },
    {
     "name": "stderr",
     "output_type": "stream",
     "text": []
    },
    {
     "name": "stdout",
     "output_type": "stream",
     "text": [
      "1146\n",
      "1147\n",
      "1148\n",
      "1149\n",
      "1150\n",
      "1151\n",
      "1152\n",
      "1153\n",
      "1154\n",
      "1155\n",
      "1156\n",
      "1157\n",
      "1158\n",
      "1159\n",
      "1160\n",
      "1161\n",
      "1162\n",
      "1163\n",
      "1164\n",
      "1165\n",
      "1166\n",
      "1167\n",
      "1168\n",
      "1169\n",
      "1170\n",
      "1171\n",
      "1172\n",
      "1173\n",
      "1174\n",
      "1175\n",
      "1176\n",
      "1177\n",
      "1178\n",
      "1179\n",
      "1180\n",
      "1181\n",
      "1182\n",
      "1183\n",
      "1184\n",
      "1185\n",
      "1186\n",
      "1187\n",
      "1188\n",
      "1189\n",
      "1190\n",
      "1191\n",
      "1192\n",
      "1193\n",
      "1194\n"
     ]
    },
    {
     "name": "stderr",
     "output_type": "stream",
     "text": []
    },
    {
     "name": "stdout",
     "output_type": "stream",
     "text": [
      "1195\n",
      "1196\n",
      "1197\n",
      "1198\n",
      "1199\n",
      "1200\n",
      "1201\n",
      "1202\n",
      "1203\n",
      "1204\n",
      "1205\n",
      "1206\n",
      "1207\n",
      "1208\n",
      "1209\n",
      "1210\n",
      "1211\n",
      "1212\n",
      "1213\n",
      "1214\n",
      "1215\n",
      "1216\n",
      "1217\n",
      "1218\n",
      "1219\n",
      "1220\n",
      "1221\n",
      "1222\n",
      "1223\n",
      "1224\n",
      "1225\n",
      "1226\n",
      "1227\n",
      "1228\n",
      "1229\n",
      "1230\n",
      "1231\n",
      "1232\n",
      "1233\n",
      "1234\n",
      "1235\n"
     ]
    },
    {
     "name": "stderr",
     "output_type": "stream",
     "text": []
    },
    {
     "name": "stdout",
     "output_type": "stream",
     "text": [
      "1236\n"
     ]
    },
    {
     "name": "stderr",
     "output_type": "stream",
     "text": []
    },
    {
     "name": "stdout",
     "output_type": "stream",
     "text": [
      "1237\n",
      "1238\n",
      "1239\n",
      "1240\n",
      "1241\n",
      "1242\n",
      "1243\n",
      "1244\n",
      "1245\n",
      "1246\n",
      "1247\n",
      "1248\n",
      "1249\n",
      "1250\n",
      "1251\n",
      "1252\n",
      "1253\n",
      "1254\n",
      "1255\n",
      "1256\n",
      "1257\n",
      "1258\n",
      "1259\n",
      "1260\n",
      "1261\n",
      "1262\n",
      "1263\n",
      "1264\n",
      "1265\n",
      "1266\n",
      "1267\n",
      "1268\n",
      "1269\n",
      "1270\n",
      "1271\n",
      "1272\n",
      "1273\n",
      "1274\n",
      "1275\n",
      "1276\n",
      "1277\n",
      "1278\n",
      "1279\n",
      "1280\n",
      "1281\n",
      "1282\n",
      "1283\n",
      "1284\n",
      "1285\n",
      "1286\n",
      "1287\n",
      "1288\n",
      "1289\n",
      "1290\n",
      "1291\n",
      "1292\n",
      "1293\n",
      "1294\n",
      "1295\n",
      "1296\n",
      "1297\n",
      "1298\n",
      "1299\n",
      "1300\n",
      "1301\n"
     ]
    },
    {
     "name": "stderr",
     "output_type": "stream",
     "text": []
    },
    {
     "name": "stdout",
     "output_type": "stream",
     "text": [
      "1302\n",
      "1303\n",
      "1304\n",
      "1305\n",
      "1306\n",
      "1307\n",
      "1308\n",
      "1309\n",
      "1310\n",
      "1311\n",
      "1312\n",
      "1313\n",
      "1314\n",
      "1315\n",
      "1316\n",
      "1317\n",
      "1318\n",
      "1319\n",
      "1320\n"
     ]
    },
    {
     "name": "stderr",
     "output_type": "stream",
     "text": []
    },
    {
     "name": "stdout",
     "output_type": "stream",
     "text": [
      "1321\n",
      "1322\n",
      "1323\n",
      "1324\n",
      "1325\n"
     ]
    },
    {
     "name": "stderr",
     "output_type": "stream",
     "text": []
    },
    {
     "name": "stdout",
     "output_type": "stream",
     "text": [
      "1326\n",
      "1327\n",
      "1328\n",
      "1329\n",
      "1330\n",
      "1331\n",
      "1332\n",
      "1333\n",
      "1334\n",
      "1335\n",
      "1336\n",
      "1337\n",
      "1338\n",
      "1339\n",
      "1340\n",
      "1341\n",
      "1342\n",
      "1343\n",
      "1344\n",
      "1345\n",
      "1346\n",
      "1347\n",
      "1348\n",
      "1349\n",
      "1350\n",
      "1351\n",
      "1352\n",
      "1353\n",
      "1354\n",
      "1355\n",
      "1356\n",
      "1357\n",
      "1358\n",
      "1359\n",
      "1360\n",
      "1361\n",
      "1362\n",
      "1363\n",
      "1364\n",
      "1365\n",
      "1366\n",
      "1367\n",
      "1368\n",
      "1369\n",
      "1370\n",
      "1371\n",
      "1372\n",
      "1373\n"
     ]
    },
    {
     "name": "stderr",
     "output_type": "stream",
     "text": []
    },
    {
     "name": "stdout",
     "output_type": "stream",
     "text": [
      "1374\n",
      "1375\n",
      "1376\n",
      "1377\n",
      "1378\n",
      "1379\n",
      "1380\n",
      "1381\n",
      "1382\n",
      "1383\n",
      "1384\n",
      "1385\n",
      "1386\n",
      "1387\n",
      "1388\n",
      "1389\n",
      "1390\n",
      "1391\n",
      "1392\n",
      "1393\n",
      "1394\n",
      "1395\n",
      "1396\n",
      "1397\n",
      "1398\n",
      "1399\n",
      "1400\n",
      "1401\n",
      "1402\n",
      "1403\n",
      "1404\n",
      "1405\n",
      "1406\n",
      "1407\n",
      "1408\n",
      "1409\n",
      "1410\n",
      "1411\n",
      "1412\n",
      "1413\n",
      "1414\n",
      "1415\n",
      "1416\n",
      "1417\n",
      "1418\n",
      "1419\n",
      "1420\n",
      "1421\n",
      "1422\n",
      "1423\n",
      "1424\n",
      "1425\n",
      "1426\n"
     ]
    },
    {
     "name": "stderr",
     "output_type": "stream",
     "text": []
    },
    {
     "name": "stdout",
     "output_type": "stream",
     "text": [
      "1427\n",
      "1428\n",
      "1429\n",
      "1430\n",
      "1431\n",
      "1432\n",
      "1433\n",
      "1434\n",
      "1435\n",
      "1436\n",
      "1437\n",
      "1438\n",
      "1439\n"
     ]
    },
    {
     "name": "stderr",
     "output_type": "stream",
     "text": []
    },
    {
     "name": "stdout",
     "output_type": "stream",
     "text": [
      "1440\n",
      "1441\n",
      "1442\n",
      "1443\n",
      "1444\n",
      "1445\n",
      "1446\n",
      "1447\n",
      "1448\n",
      "1449\n",
      "1450\n",
      "1451\n",
      "1452\n",
      "1453\n",
      "1454\n",
      "1455\n",
      "1456\n",
      "1457\n",
      "1458\n",
      "1459\n"
     ]
    },
    {
     "name": "stderr",
     "output_type": "stream",
     "text": []
    },
    {
     "name": "stdout",
     "output_type": "stream",
     "text": [
      "1460\n",
      "1461\n",
      "1462\n",
      "1463\n",
      "1464\n",
      "1465\n",
      "1466\n",
      "1467\n",
      "1468\n",
      "1469\n",
      "1470\n",
      "1471\n",
      "1472\n"
     ]
    },
    {
     "name": "stderr",
     "output_type": "stream",
     "text": []
    },
    {
     "name": "stdout",
     "output_type": "stream",
     "text": [
      "1473\n",
      "1474\n",
      "1475\n",
      "1476\n",
      "1477\n",
      "1478\n",
      "1479\n",
      "1480\n",
      "1481\n",
      "1482\n",
      "1483\n",
      "1484\n",
      "1485\n",
      "1486\n",
      "1487\n",
      "1488\n",
      "1489\n",
      "1490\n",
      "1491\n",
      "1492\n",
      "1493\n",
      "1494\n",
      "1495\n",
      "1496\n",
      "1497\n",
      "1498\n",
      "1499\n",
      "1500\n",
      "1501\n",
      "1502\n",
      "1503\n",
      "1504\n",
      "1505\n"
     ]
    },
    {
     "name": "stderr",
     "output_type": "stream",
     "text": []
    },
    {
     "name": "stdout",
     "output_type": "stream",
     "text": [
      "1506\n",
      "1507\n",
      "1508\n",
      "1509\n",
      "1510\n",
      "1511\n",
      "1512\n",
      "1513\n",
      "1514\n",
      "1515\n",
      "1516\n",
      "1517\n",
      "1518\n",
      "1519\n",
      "1520\n",
      "1521\n",
      "1522\n",
      "1523\n",
      "1524\n",
      "1525\n",
      "1526\n",
      "1527\n",
      "1528\n",
      "1529\n",
      "1530\n",
      "1531\n",
      "1532\n",
      "1533\n",
      "1534\n",
      "1535\n",
      "1536\n",
      "1537\n",
      "1538\n",
      "1539\n",
      "1540\n",
      "1541\n",
      "1542\n",
      "1543\n",
      "1544\n",
      "1545\n",
      "1546\n",
      "1547\n",
      "1548\n",
      "1549\n",
      "1550\n",
      "1551\n",
      "1552\n",
      "1553\n",
      "1554\n",
      "1555\n",
      "1556\n",
      "1557\n",
      "1558\n",
      "1559\n",
      "1560\n",
      "1561\n",
      "1562\n",
      "1563\n",
      "1564\n",
      "1565\n",
      "1566\n",
      "1567\n",
      "1568\n",
      "1569\n",
      "1570\n",
      "1571\n",
      "1572\n"
     ]
    },
    {
     "name": "stderr",
     "output_type": "stream",
     "text": []
    },
    {
     "name": "stdout",
     "output_type": "stream",
     "text": [
      "1573\n",
      "1574\n",
      "1575\n",
      "1576\n",
      "1577\n",
      "1578\n",
      "1579\n",
      "1580\n",
      "1581\n",
      "1582\n",
      "1583\n",
      "1584\n",
      "1585\n",
      "1586\n",
      "1587\n",
      "1588\n",
      "1589\n",
      "1590\n",
      "1591\n"
     ]
    },
    {
     "name": "stderr",
     "output_type": "stream",
     "text": []
    },
    {
     "name": "stdout",
     "output_type": "stream",
     "text": [
      "1592\n",
      "1593\n",
      "1594\n",
      "1595\n",
      "1596\n",
      "1597\n"
     ]
    },
    {
     "name": "stderr",
     "output_type": "stream",
     "text": []
    },
    {
     "name": "stdout",
     "output_type": "stream",
     "text": [
      "1598\n",
      "1599\n",
      "1600\n",
      "1601\n",
      "1602\n",
      "1603\n",
      "1604\n",
      "1605\n",
      "1606\n",
      "1607\n",
      "1608\n",
      "1609\n",
      "1610\n",
      "1611\n",
      "1612\n",
      "1613\n",
      "1614\n",
      "1615\n",
      "1616\n",
      "1617\n"
     ]
    },
    {
     "name": "stderr",
     "output_type": "stream",
     "text": []
    },
    {
     "name": "stdout",
     "output_type": "stream",
     "text": [
      "1618\n",
      "1619\n",
      "1620\n",
      "1621\n",
      "1622\n",
      "1623\n",
      "1624\n",
      "1625\n",
      "1626\n",
      "1627\n",
      "1628\n",
      "1629\n",
      "1630\n",
      "1631\n",
      "1632\n",
      "1633\n",
      "1634\n",
      "1635\n",
      "1636\n",
      "1637\n",
      "1638\n",
      "1639\n",
      "1640\n",
      "1641\n",
      "1642\n",
      "1643\n"
     ]
    },
    {
     "name": "stderr",
     "output_type": "stream",
     "text": []
    },
    {
     "name": "stdout",
     "output_type": "stream",
     "text": [
      "1644\n",
      "1645\n",
      "1646\n",
      "1647\n",
      "1648\n",
      "1649\n",
      "1650\n",
      "1651\n",
      "1652\n",
      "1653\n",
      "1654\n",
      "1655\n",
      "1656\n",
      "1657\n",
      "1658\n",
      "1659\n",
      "1660\n",
      "1661\n",
      "1662\n",
      "1663\n",
      "1664\n",
      "1665\n",
      "1666\n",
      "1667\n",
      "1668\n",
      "1669\n",
      "1670\n",
      "1671\n",
      "1672\n",
      "1673\n",
      "1674\n",
      "1675\n",
      "1676\n",
      "1677\n",
      "1678\n",
      "1679\n",
      "1680\n",
      "1681\n",
      "1682\n",
      "1683\n",
      "1684\n",
      "1685\n",
      "1686\n",
      "1687\n",
      "1688\n",
      "1689\n",
      "1690\n",
      "1691\n",
      "1692\n",
      "1693\n",
      "1694\n",
      "1695\n",
      "1696\n",
      "1697\n",
      "1698\n",
      "1699\n",
      "1700\n",
      "1701\n",
      "1702\n",
      "1703\n",
      "1704\n",
      "1705\n",
      "1706\n",
      "1707\n",
      "1708\n",
      "1709\n",
      "1710\n",
      "1711\n",
      "1712\n",
      "1713\n",
      "1714\n",
      "1715\n",
      "1716\n",
      "1717\n",
      "1718\n",
      "1719\n",
      "1720\n",
      "1721\n",
      "1722\n",
      "1723\n",
      "1724\n",
      "1725\n",
      "1726\n",
      "1727\n",
      "1728\n",
      "1729\n",
      "1730\n",
      "1731\n",
      "1732\n",
      "1733\n",
      "1734\n",
      "1735\n",
      "1736\n",
      "1737\n",
      "1738\n",
      "1739\n",
      "1740\n",
      "1741\n",
      "1742\n",
      "1743\n",
      "1744\n",
      "1745\n",
      "1746\n",
      "1747\n",
      "1748\n",
      "1749\n",
      "1750\n",
      "1751\n",
      "1752\n",
      "1753\n",
      "1754\n",
      "1755\n",
      "1756\n",
      "1757\n",
      "1758\n",
      "1759\n",
      "1760\n",
      "1761\n",
      "1762\n"
     ]
    },
    {
     "name": "stderr",
     "output_type": "stream",
     "text": []
    },
    {
     "name": "stdout",
     "output_type": "stream",
     "text": [
      "1763\n",
      "1764\n",
      "1765\n",
      "1766\n",
      "1767\n",
      "1768\n",
      "1769\n",
      "1770\n",
      "1771\n",
      "1772\n",
      "1773\n",
      "1774\n",
      "1775\n",
      "1776\n",
      "1777\n"
     ]
    },
    {
     "name": "stderr",
     "output_type": "stream",
     "text": []
    },
    {
     "name": "stdout",
     "output_type": "stream",
     "text": [
      "1778\n",
      "1779\n",
      "1780\n",
      "1781\n",
      "1782\n",
      "1783\n",
      "1784\n",
      "1785\n",
      "1786\n",
      "1787\n",
      "1788\n",
      "1789\n"
     ]
    },
    {
     "name": "stderr",
     "output_type": "stream",
     "text": []
    },
    {
     "name": "stdout",
     "output_type": "stream",
     "text": [
      "1790\n",
      "1791\n",
      "1792\n",
      "1793\n",
      "1794\n",
      "1795\n",
      "1796\n",
      "1797\n",
      "1798\n",
      "1799\n",
      "1800\n",
      "1801\n",
      "1802\n",
      "1803\n",
      "1804\n",
      "1805\n",
      "1806\n",
      "1807\n",
      "1808\n",
      "1809\n",
      "1810\n",
      "1811\n",
      "1812\n",
      "1813\n",
      "1814\n",
      "1815\n",
      "1816\n",
      "1817\n",
      "1818\n",
      "1819\n",
      "1820\n",
      "1821\n",
      "1822\n",
      "1823\n",
      "1824\n",
      "1825\n",
      "1826\n",
      "1827\n",
      "1828\n",
      "1829\n",
      "1830\n",
      "1831\n",
      "1832\n",
      "1833\n",
      "1834\n",
      "1835\n",
      "1836\n",
      "1837\n",
      "1838\n",
      "1839\n",
      "1840\n",
      "1841\n",
      "1842\n",
      "1843\n",
      "1844\n",
      "1845\n",
      "1846\n"
     ]
    },
    {
     "name": "stderr",
     "output_type": "stream",
     "text": []
    },
    {
     "name": "stdout",
     "output_type": "stream",
     "text": [
      "1847\n",
      "1848\n",
      "1849\n",
      "1850\n",
      "1851\n",
      "1852\n",
      "1853\n",
      "1854\n",
      "1855\n",
      "1856\n",
      "1857\n",
      "1858\n",
      "1859\n",
      "1860\n",
      "1861\n",
      "1862\n",
      "1863\n",
      "1864\n",
      "1865\n",
      "1866\n",
      "1867\n",
      "1868\n",
      "1869\n",
      "1870\n",
      "1871\n",
      "1872\n",
      "1873\n",
      "1874\n",
      "1875\n"
     ]
    },
    {
     "name": "stderr",
     "output_type": "stream",
     "text": []
    },
    {
     "name": "stdout",
     "output_type": "stream",
     "text": [
      "1876\n",
      "1877\n",
      "1878\n",
      "1879\n",
      "1880\n",
      "1881\n",
      "1882\n",
      "1883\n",
      "1884\n",
      "1885\n",
      "1886\n",
      "1887\n",
      "1888\n",
      "1889\n",
      "1890\n",
      "1891\n",
      "1892\n",
      "1893\n",
      "1894\n",
      "1895\n",
      "1896\n",
      "1897\n",
      "1898\n",
      "1899\n",
      "1900\n",
      "1901\n",
      "1902\n",
      "1903\n",
      "1904\n",
      "1905\n",
      "1906\n",
      "1907\n",
      "1908\n",
      "1909\n",
      "1910\n",
      "1911\n",
      "1912\n",
      "1913\n",
      "1914\n",
      "1915\n",
      "1916\n",
      "1917\n",
      "1918\n",
      "1919\n",
      "1920\n",
      "1921\n",
      "1922\n",
      "1923\n",
      "1924\n",
      "1925\n",
      "1926\n",
      "1927\n",
      "1928\n",
      "1929\n",
      "1930\n",
      "1931\n",
      "1932\n",
      "1933\n",
      "1934\n",
      "1935\n",
      "1936\n",
      "1937\n",
      "1938\n",
      "1939\n",
      "1940\n",
      "1941\n",
      "1942\n",
      "1943\n",
      "1944\n",
      "1945\n",
      "1946\n",
      "1947\n",
      "1948\n",
      "1949\n",
      "1950\n",
      "1951\n",
      "1952\n",
      "1953\n",
      "1954\n",
      "1955\n",
      "1956\n",
      "1957\n",
      "1958\n",
      "1959\n",
      "1960\n",
      "1961\n",
      "1962\n",
      "1963\n",
      "1964\n",
      "1965\n",
      "1966\n",
      "1967\n",
      "1968\n",
      "1969\n",
      "1970\n",
      "1971\n",
      "1972\n",
      "1973\n",
      "1974\n",
      "1975\n",
      "1976\n",
      "1977\n",
      "1978\n",
      "1979\n",
      "1980\n",
      "1981\n",
      "1982\n",
      "1983\n",
      "1984\n",
      "1985\n",
      "1986\n",
      "1987\n",
      "1988\n",
      "1989\n",
      "1990\n",
      "1991\n",
      "1992\n",
      "1993\n",
      "1994\n",
      "1995\n",
      "1996\n",
      "1997\n",
      "1998\n",
      "1999\n",
      "2000\n",
      "2001\n",
      "2002\n",
      "2003\n",
      "2004\n",
      "2005\n",
      "2006\n",
      "2007\n",
      "2008\n",
      "2009\n",
      "2010\n",
      "2011\n",
      "2012\n",
      "2013\n",
      "2014\n",
      "2015\n",
      "2016\n",
      "2017\n",
      "2018\n",
      "2019\n",
      "2020\n",
      "2021\n",
      "2022\n",
      "2023\n",
      "2024\n",
      "2025\n",
      "2026\n",
      "2027\n",
      "2028\n"
     ]
    },
    {
     "name": "stderr",
     "output_type": "stream",
     "text": []
    },
    {
     "name": "stdout",
     "output_type": "stream",
     "text": [
      "2029\n",
      "2030\n",
      "2031\n",
      "2032\n",
      "2033\n",
      "2034\n",
      "2035\n",
      "2036\n",
      "2037\n",
      "2038\n",
      "2039\n",
      "2040\n",
      "2041\n",
      "2042\n",
      "2043\n",
      "2044\n",
      "2045\n",
      "2046\n",
      "2047\n",
      "2048\n",
      "2049\n",
      "2050\n",
      "2051\n",
      "2052\n",
      "2053\n",
      "2054\n",
      "2055\n",
      "2056\n",
      "2057\n",
      "2058\n",
      "2059\n",
      "2060\n",
      "2061\n",
      "2062\n",
      "2063\n",
      "2064\n",
      "2065\n",
      "2066\n",
      "2067\n",
      "2068\n"
     ]
    },
    {
     "name": "stderr",
     "output_type": "stream",
     "text": []
    },
    {
     "name": "stdout",
     "output_type": "stream",
     "text": [
      "2069\n",
      "2070\n",
      "2071\n",
      "2072\n",
      "2073\n",
      "2074\n",
      "2075\n",
      "2076\n",
      "2077\n",
      "2078\n",
      "2079\n",
      "2080\n",
      "2081\n",
      "2082\n"
     ]
    },
    {
     "name": "stderr",
     "output_type": "stream",
     "text": []
    },
    {
     "name": "stdout",
     "output_type": "stream",
     "text": [
      "2083\n",
      "2084\n",
      "2085\n",
      "2086\n",
      "2087\n",
      "2088\n",
      "2089\n",
      "2090\n",
      "2091\n",
      "2092\n",
      "2093\n",
      "2094\n",
      "2095\n",
      "2096\n",
      "2097\n",
      "2098\n",
      "2099\n",
      "2100\n",
      "2101\n",
      "2102\n",
      "2103\n",
      "2104\n",
      "2105\n",
      "2106\n",
      "2107\n",
      "2108\n",
      "2109\n",
      "2110\n",
      "2111\n",
      "2112\n",
      "2113\n",
      "2114\n",
      "2115\n",
      "2116\n",
      "2117\n",
      "2118\n",
      "2119\n",
      "2120\n",
      "2121\n",
      "2122\n",
      "2123\n",
      "2124\n",
      "2125\n",
      "2126\n",
      "2127\n",
      "2128\n",
      "2129\n",
      "2130\n",
      "2131\n",
      "2132\n",
      "2133\n",
      "2134\n"
     ]
    },
    {
     "name": "stderr",
     "output_type": "stream",
     "text": []
    },
    {
     "name": "stdout",
     "output_type": "stream",
     "text": [
      "2135\n",
      "2136\n",
      "2137\n",
      "2138\n",
      "2139\n",
      "2140\n",
      "2141\n",
      "2142\n",
      "2143\n",
      "2144\n",
      "2145\n",
      "2146\n",
      "2147\n",
      "2148\n",
      "2149\n",
      "2150\n",
      "2151\n",
      "2152\n",
      "2153\n",
      "2154\n",
      "2155\n",
      "2156\n"
     ]
    },
    {
     "name": "stderr",
     "output_type": "stream",
     "text": []
    },
    {
     "name": "stdout",
     "output_type": "stream",
     "text": [
      "2157\n",
      "2158\n",
      "2159\n",
      "2160\n",
      "2161\n",
      "2162\n",
      "2163\n",
      "2164\n",
      "2165\n",
      "2166\n",
      "2167\n",
      "2168\n",
      "2169\n",
      "2170\n",
      "2171\n",
      "2172\n",
      "2173\n",
      "2174\n",
      "2175\n",
      "2176\n",
      "2177\n",
      "2178\n",
      "2179\n",
      "2180\n",
      "2181\n",
      "2182\n",
      "2183\n",
      "2184\n",
      "2185\n",
      "2186\n",
      "2187\n",
      "2188\n",
      "2189\n",
      "2190\n",
      "2191\n",
      "2192\n",
      "2193\n",
      "2194\n"
     ]
    },
    {
     "name": "stderr",
     "output_type": "stream",
     "text": []
    },
    {
     "name": "stdout",
     "output_type": "stream",
     "text": [
      "2195\n",
      "2196\n",
      "2197\n",
      "2198\n",
      "2199\n",
      "2200\n",
      "2201\n",
      "2202\n",
      "2203\n",
      "2204\n",
      "2205\n",
      "2206\n",
      "2207\n",
      "2208\n",
      "2209\n",
      "2210\n",
      "2211\n",
      "2212\n",
      "2213\n",
      "2214\n",
      "2215\n",
      "2216\n",
      "2217\n",
      "2218\n",
      "2219\n",
      "2220\n",
      "2221\n",
      "2222\n",
      "2223\n",
      "2224\n",
      "2225\n",
      "2226\n",
      "2227\n",
      "2228\n",
      "2229\n",
      "2230\n",
      "2231\n",
      "2232\n"
     ]
    },
    {
     "name": "stderr",
     "output_type": "stream",
     "text": [
      "\n"
     ]
    },
    {
     "name": "stdout",
     "output_type": "stream",
     "text": [
      "2233\n",
      "2234\n",
      "2235\n",
      "2236\n",
      "2237\n",
      "2238\n",
      "2239\n",
      "2240\n",
      "2241\n",
      "2242\n",
      "2243\n",
      "2244\n",
      "2245\n",
      "2246\n",
      "2247\n",
      "2248\n",
      "2249\n",
      "2250\n",
      "2251\n",
      "2252\n",
      "2253\n",
      "2254\n",
      "2255\n",
      "2256\n",
      "2257\n",
      "2258\n",
      "2259\n",
      "2260\n",
      "2261\n",
      "2262\n",
      "2263\n",
      "2264\n",
      "2265\n",
      "2266\n",
      "2267\n",
      "2268\n",
      "2269\n",
      "2270\n",
      "2271\n",
      "2272\n",
      "2273\n",
      "2274\n",
      "2275\n",
      "2276\n",
      "2277\n",
      "2278\n",
      "2279\n",
      "2280\n",
      "2281\n",
      "2282\n",
      "2283\n",
      "2284\n",
      "2285\n",
      "2286\n",
      "2287\n",
      "2288\n",
      "2289\n",
      "2290\n",
      "2291\n",
      "2292\n",
      "2293\n",
      "2294\n",
      "2295\n",
      "2296\n",
      "2297\n"
     ]
    },
    {
     "name": "stderr",
     "output_type": "stream",
     "text": [
      "Processing image IDs:  12%|█▏        | 112/900 [00:25<03:16,  4.01it/s]\u001b[A"
     ]
    },
    {
     "name": "stdout",
     "output_type": "stream",
     "text": [
      "2298\n",
      "2299\n",
      "2300\n",
      "2301\n",
      "2302\n",
      "2303\n",
      "2304\n",
      "2305\n",
      "2306\n",
      "2307\n",
      "2308\n",
      "2309\n",
      "2310\n",
      "2311\n",
      "2312\n",
      "2313\n",
      "2314\n",
      "2315\n",
      "2316\n",
      "2317\n",
      "2318\n",
      "2319\n",
      "2320\n",
      "2321\n",
      "2322\n",
      "2323\n",
      "2324\n",
      "2325\n",
      "2326\n",
      "2327\n",
      "2328\n",
      "2329\n",
      "2330\n",
      "2331\n",
      "2332\n",
      "2333\n",
      "2334\n",
      "2335\n",
      "2336\n",
      "2337\n",
      "2338\n",
      "2339\n",
      "2340\n",
      "2341\n",
      "2342\n",
      "2343\n",
      "2344\n",
      "2345\n",
      "2346\n",
      "2347\n",
      "2348\n",
      "2349\n",
      "2350\n",
      "2351\n",
      "2352\n",
      "2353\n",
      "2354\n",
      "2355\n",
      "2356\n",
      "2357\n",
      "2358\n",
      "2359\n",
      "2360\n",
      "2361\n",
      "2362\n",
      "2363\n",
      "2364\n",
      "2365\n",
      "2366\n",
      "2367\n",
      "2368\n",
      "2369\n",
      "2370\n",
      "2371\n",
      "2372\n",
      "2373\n",
      "2374\n",
      "2375\n",
      "2376\n",
      "2377\n",
      "2378\n",
      "2379\n",
      "2380\n",
      "2381\n",
      "2382\n",
      "2383\n",
      "2384\n",
      "2385\n",
      "2386\n",
      "2387\n",
      "2388\n",
      "2389\n",
      "2390\n",
      "2391\n",
      "2392\n",
      "2393\n",
      "2394\n",
      "2395\n",
      "2396\n",
      "2397\n",
      "2398\n",
      "2399\n",
      "2400\n",
      "2401\n",
      "2402\n",
      "2403\n",
      "2404\n",
      "2405\n",
      "2406\n",
      "2407\n"
     ]
    },
    {
     "name": "stderr",
     "output_type": "stream",
     "text": []
    },
    {
     "name": "stdout",
     "output_type": "stream",
     "text": [
      "2408\n",
      "2409\n",
      "2410\n",
      "2411\n",
      "2412\n",
      "2413\n",
      "2414\n",
      "2415\n",
      "2416\n",
      "2417\n",
      "2418\n",
      "2419\n",
      "2420\n",
      "2421\n",
      "2422\n",
      "2423\n",
      "2424\n",
      "2425\n",
      "2426\n",
      "2427\n",
      "2428\n",
      "2429\n",
      "2430\n",
      "2431\n",
      "2432\n",
      "2433\n",
      "2434\n",
      "2435\n",
      "2436\n",
      "2437\n",
      "2438\n",
      "2439\n",
      "2440\n",
      "2441\n",
      "2442\n",
      "2443\n",
      "2444\n",
      "2445\n",
      "2446\n",
      "2447\n",
      "2448\n"
     ]
    },
    {
     "name": "stderr",
     "output_type": "stream",
     "text": []
    },
    {
     "name": "stdout",
     "output_type": "stream",
     "text": [
      "2449\n",
      "2450\n",
      "2451\n",
      "2452\n",
      "2453\n",
      "2454\n",
      "2455\n",
      "2456\n",
      "2457\n",
      "2458\n",
      "2459\n",
      "2460\n",
      "2461\n",
      "2462\n",
      "2463\n",
      "2464\n",
      "2465\n",
      "2466\n",
      "2467\n",
      "2468\n",
      "2469\n",
      "2470\n",
      "2471\n",
      "2472\n",
      "2473\n",
      "2474\n",
      "2475\n",
      "2476\n",
      "2477\n",
      "2478\n",
      "2479\n"
     ]
    },
    {
     "name": "stderr",
     "output_type": "stream",
     "text": []
    },
    {
     "name": "stdout",
     "output_type": "stream",
     "text": [
      "2480\n",
      "2481\n",
      "2482\n",
      "2483\n",
      "2484\n",
      "2485\n",
      "2486\n",
      "2487\n",
      "2488\n",
      "2489\n",
      "2490\n",
      "2491\n",
      "2492\n",
      "2493\n",
      "2494\n",
      "2495\n",
      "2496\n",
      "2497\n",
      "2498\n",
      "2499\n",
      "2500\n",
      "2501\n",
      "2502\n",
      "2503\n",
      "2504\n",
      "2505\n",
      "2506\n",
      "2507\n",
      "2508\n",
      "2509\n",
      "2510\n",
      "2511\n",
      "2512\n",
      "2513\n",
      "2514\n",
      "2515\n",
      "2516\n",
      "2517\n",
      "2518\n",
      "2519\n"
     ]
    },
    {
     "name": "stderr",
     "output_type": "stream",
     "text": []
    },
    {
     "name": "stdout",
     "output_type": "stream",
     "text": [
      "2520\n",
      "2521\n"
     ]
    },
    {
     "name": "stderr",
     "output_type": "stream",
     "text": []
    },
    {
     "name": "stdout",
     "output_type": "stream",
     "text": [
      "2522\n",
      "2523\n",
      "2524\n",
      "2525\n",
      "2526\n",
      "2527\n",
      "2528\n",
      "2529\n",
      "2530\n",
      "2531\n",
      "2532\n",
      "2533\n",
      "2534\n",
      "2535\n",
      "2536\n",
      "2537\n",
      "2538\n"
     ]
    },
    {
     "name": "stderr",
     "output_type": "stream",
     "text": []
    },
    {
     "name": "stdout",
     "output_type": "stream",
     "text": [
      "2539\n"
     ]
    },
    {
     "name": "stderr",
     "output_type": "stream",
     "text": []
    },
    {
     "name": "stdout",
     "output_type": "stream",
     "text": [
      "2540\n",
      "2541\n",
      "2542\n",
      "2543\n",
      "2544\n",
      "2545\n",
      "2546\n",
      "2547\n",
      "2548\n",
      "2549\n",
      "2550\n",
      "2551\n",
      "2552\n",
      "2553\n",
      "2554\n",
      "2555\n",
      "2556\n",
      "2557\n",
      "2558\n",
      "2559\n",
      "2560\n",
      "2561\n",
      "2562\n",
      "2563\n",
      "2564\n",
      "2565\n",
      "2566\n",
      "2567\n",
      "2568\n"
     ]
    },
    {
     "name": "stderr",
     "output_type": "stream",
     "text": []
    },
    {
     "name": "stdout",
     "output_type": "stream",
     "text": [
      "2569\n"
     ]
    },
    {
     "name": "stderr",
     "output_type": "stream",
     "text": []
    },
    {
     "name": "stdout",
     "output_type": "stream",
     "text": [
      "Error: 500\n"
     ]
    },
    {
     "name": "stderr",
     "output_type": "stream",
     "text": []
    },
    {
     "name": "stdout",
     "output_type": "stream",
     "text": [
      "2570\n"
     ]
    },
    {
     "name": "stderr",
     "output_type": "stream",
     "text": []
    },
    {
     "name": "stdout",
     "output_type": "stream",
     "text": [
      "2571\n",
      "2572\n",
      "2573\n"
     ]
    },
    {
     "name": "stderr",
     "output_type": "stream",
     "text": []
    },
    {
     "name": "stdout",
     "output_type": "stream",
     "text": [
      "2574\n",
      "2575\n",
      "2576\n",
      "2577\n",
      "2578\n",
      "2579\n",
      "2580\n",
      "2581\n",
      "2582\n",
      "2583\n",
      "2584\n",
      "2585\n",
      "2586\n",
      "2587\n",
      "2588\n",
      "2589\n"
     ]
    },
    {
     "name": "stderr",
     "output_type": "stream",
     "text": []
    },
    {
     "name": "stdout",
     "output_type": "stream",
     "text": [
      "2590\n",
      "2591\n",
      "2592\n",
      "2593\n",
      "2594\n",
      "2595\n",
      "2596\n",
      "2597\n",
      "2598\n",
      "2599\n",
      "2600\n",
      "2601\n",
      "2602\n"
     ]
    },
    {
     "name": "stderr",
     "output_type": "stream",
     "text": []
    },
    {
     "name": "stdout",
     "output_type": "stream",
     "text": [
      "2603\n",
      "2604\n",
      "2605\n",
      "2606\n",
      "2607\n",
      "2608\n",
      "2609\n",
      "2610\n",
      "2611\n",
      "2612\n",
      "2613\n",
      "2614\n",
      "2615\n",
      "2616\n",
      "2617\n",
      "2618\n",
      "2619\n",
      "2620\n",
      "2621\n",
      "2622\n",
      "2623\n",
      "2624\n",
      "2625\n",
      "2626\n",
      "2627\n",
      "2628\n",
      "2629\n",
      "2630\n",
      "2631\n",
      "2632\n",
      "2633\n",
      "2634\n",
      "2635\n",
      "2636\n",
      "2637\n",
      "2638\n",
      "2639\n"
     ]
    },
    {
     "name": "stderr",
     "output_type": "stream",
     "text": []
    },
    {
     "name": "stdout",
     "output_type": "stream",
     "text": [
      "2640\n",
      "2641\n",
      "2642\n",
      "2643\n",
      "2644\n",
      "2645\n",
      "2646\n",
      "2647\n",
      "2648\n",
      "2649\n",
      "2650\n",
      "2651\n",
      "2652\n",
      "2653\n",
      "2654\n",
      "2655\n",
      "2656\n",
      "2657\n",
      "2658\n",
      "2659\n",
      "2660\n",
      "2661\n",
      "2662\n",
      "2663\n",
      "2664\n",
      "2665\n",
      "2666\n",
      "2667\n",
      "2668\n",
      "2669\n",
      "2670\n",
      "2671\n"
     ]
    },
    {
     "name": "stderr",
     "output_type": "stream",
     "text": []
    },
    {
     "name": "stdout",
     "output_type": "stream",
     "text": [
      "2672\n",
      "2673\n",
      "2674\n",
      "2675\n",
      "2676\n",
      "2677\n",
      "2678\n",
      "2679\n",
      "2680\n",
      "2681\n",
      "2682\n"
     ]
    },
    {
     "name": "stderr",
     "output_type": "stream",
     "text": []
    },
    {
     "name": "stdout",
     "output_type": "stream",
     "text": [
      "2683\n",
      "2684\n",
      "2685\n",
      "2686\n",
      "2687\n",
      "2688\n",
      "2689\n",
      "2690\n",
      "2691\n",
      "2692\n",
      "2693\n",
      "2694\n",
      "2695\n",
      "2696\n",
      "2697\n",
      "2698\n",
      "2699\n",
      "2700\n",
      "2701\n",
      "2702\n"
     ]
    },
    {
     "name": "stderr",
     "output_type": "stream",
     "text": []
    },
    {
     "name": "stdout",
     "output_type": "stream",
     "text": [
      "2703\n",
      "2704\n",
      "2705\n",
      "2706\n",
      "2707\n",
      "2708\n",
      "2709\n",
      "2710\n",
      "2711\n",
      "2712\n",
      "2713\n",
      "2714\n",
      "2715\n",
      "2716\n",
      "2717\n",
      "2718\n",
      "2719\n"
     ]
    },
    {
     "name": "stderr",
     "output_type": "stream",
     "text": []
    },
    {
     "name": "stdout",
     "output_type": "stream",
     "text": [
      "2720\n",
      "2721\n",
      "2722\n"
     ]
    },
    {
     "name": "stderr",
     "output_type": "stream",
     "text": []
    },
    {
     "name": "stdout",
     "output_type": "stream",
     "text": [
      "2723\n",
      "2724\n",
      "2725\n",
      "2726\n",
      "2727\n",
      "2728\n",
      "2729\n",
      "2730\n",
      "2731\n",
      "2732\n",
      "2733\n",
      "2734\n",
      "2735\n",
      "2736\n",
      "2737\n",
      "2738\n",
      "2739\n",
      "2740\n",
      "2741\n",
      "2742\n",
      "2743\n",
      "2744\n",
      "2745\n"
     ]
    },
    {
     "name": "stderr",
     "output_type": "stream",
     "text": []
    },
    {
     "name": "stdout",
     "output_type": "stream",
     "text": [
      "2746\n",
      "2747\n",
      "2748\n",
      "2749\n",
      "2750\n",
      "2751\n",
      "2752\n",
      "2753\n",
      "2754\n"
     ]
    },
    {
     "name": "stderr",
     "output_type": "stream",
     "text": []
    },
    {
     "name": "stdout",
     "output_type": "stream",
     "text": [
      "2755\n"
     ]
    },
    {
     "name": "stderr",
     "output_type": "stream",
     "text": []
    },
    {
     "name": "stdout",
     "output_type": "stream",
     "text": [
      "2756\n",
      "2757\n"
     ]
    },
    {
     "name": "stderr",
     "output_type": "stream",
     "text": []
    },
    {
     "name": "stdout",
     "output_type": "stream",
     "text": [
      "2758\n"
     ]
    },
    {
     "name": "stderr",
     "output_type": "stream",
     "text": []
    },
    {
     "name": "stdout",
     "output_type": "stream",
     "text": [
      "2759\n",
      "2760\n"
     ]
    },
    {
     "name": "stderr",
     "output_type": "stream",
     "text": []
    },
    {
     "name": "stdout",
     "output_type": "stream",
     "text": [
      "2761\n"
     ]
    },
    {
     "name": "stderr",
     "output_type": "stream",
     "text": []
    },
    {
     "name": "stdout",
     "output_type": "stream",
     "text": [
      "2762\n"
     ]
    },
    {
     "name": "stderr",
     "output_type": "stream",
     "text": []
    },
    {
     "name": "stdout",
     "output_type": "stream",
     "text": [
      "2763\n",
      "2764\n"
     ]
    },
    {
     "name": "stderr",
     "output_type": "stream",
     "text": []
    },
    {
     "name": "stdout",
     "output_type": "stream",
     "text": [
      "2765\n"
     ]
    },
    {
     "name": "stderr",
     "output_type": "stream",
     "text": []
    },
    {
     "name": "stdout",
     "output_type": "stream",
     "text": [
      "2766\n",
      "2767\n",
      "2768\n",
      "2769\n",
      "2770\n",
      "2771\n",
      "2772\n",
      "2773\n",
      "2774\n",
      "2775\n",
      "2776\n",
      "2777\n",
      "2778\n",
      "2779\n",
      "2780\n"
     ]
    },
    {
     "name": "stderr",
     "output_type": "stream",
     "text": []
    },
    {
     "name": "stdout",
     "output_type": "stream",
     "text": [
      "2781\n"
     ]
    },
    {
     "name": "stderr",
     "output_type": "stream",
     "text": []
    },
    {
     "name": "stdout",
     "output_type": "stream",
     "text": [
      "2782\n"
     ]
    },
    {
     "name": "stderr",
     "output_type": "stream",
     "text": []
    },
    {
     "name": "stdout",
     "output_type": "stream",
     "text": [
      "2783\n"
     ]
    },
    {
     "name": "stderr",
     "output_type": "stream",
     "text": []
    },
    {
     "name": "stdout",
     "output_type": "stream",
     "text": [
      "2784\n",
      "2785\n"
     ]
    },
    {
     "name": "stderr",
     "output_type": "stream",
     "text": []
    },
    {
     "name": "stdout",
     "output_type": "stream",
     "text": [
      "2786\n"
     ]
    },
    {
     "name": "stderr",
     "output_type": "stream",
     "text": []
    },
    {
     "name": "stdout",
     "output_type": "stream",
     "text": [
      "2787\n"
     ]
    },
    {
     "name": "stderr",
     "output_type": "stream",
     "text": []
    },
    {
     "name": "stdout",
     "output_type": "stream",
     "text": [
      "2788\n",
      "2789\n",
      "2790\n",
      "2791\n",
      "2792\n",
      "2793\n",
      "2794\n",
      "2795\n",
      "2796\n",
      "2797\n"
     ]
    },
    {
     "name": "stderr",
     "output_type": "stream",
     "text": []
    },
    {
     "name": "stdout",
     "output_type": "stream",
     "text": [
      "2798\n"
     ]
    },
    {
     "name": "stderr",
     "output_type": "stream",
     "text": []
    },
    {
     "name": "stdout",
     "output_type": "stream",
     "text": [
      "2799\n"
     ]
    },
    {
     "name": "stderr",
     "output_type": "stream",
     "text": []
    },
    {
     "name": "stdout",
     "output_type": "stream",
     "text": [
      "2800\n"
     ]
    },
    {
     "name": "stderr",
     "output_type": "stream",
     "text": []
    },
    {
     "name": "stdout",
     "output_type": "stream",
     "text": [
      "2801\n",
      "2802\n",
      "2803\n",
      "2804\n",
      "2805\n",
      "2806\n",
      "2807\n",
      "2808\n",
      "2809\n",
      "2810\n",
      "2811\n",
      "2812\n",
      "2813\n",
      "2814\n",
      "2815\n",
      "2816\n",
      "2817\n",
      "2818\n",
      "2819\n",
      "2820\n",
      "2821\n",
      "2822\n",
      "2823\n",
      "2824\n",
      "2825\n",
      "2826\n",
      "2827\n",
      "2828\n",
      "2829\n",
      "2830\n",
      "2831\n",
      "2832\n",
      "2833\n",
      "2834\n",
      "2835\n",
      "2836\n",
      "2837\n",
      "2838\n",
      "2839\n",
      "2840\n",
      "2841\n",
      "2842\n"
     ]
    },
    {
     "name": "stderr",
     "output_type": "stream",
     "text": []
    },
    {
     "name": "stdout",
     "output_type": "stream",
     "text": [
      "2843\n",
      "2844\n",
      "2845\n",
      "2846\n",
      "2847\n",
      "2848\n",
      "2849\n",
      "2850\n",
      "2851\n",
      "2852\n",
      "2853\n",
      "2854\n",
      "2855\n",
      "2856\n",
      "2857\n",
      "2858\n",
      "2859\n",
      "2860\n",
      "2861\n",
      "2862\n",
      "2863\n",
      "2864\n",
      "2865\n",
      "2866\n",
      "2867\n",
      "2868\n",
      "2869\n",
      "2870\n",
      "2871\n",
      "2872\n",
      "2873\n",
      "2874\n",
      "2875\n",
      "2876\n",
      "2877\n",
      "2878\n",
      "2879\n",
      "2880\n",
      "2881\n",
      "2882\n",
      "2883\n",
      "2884\n",
      "2885\n",
      "2886\n",
      "2887\n"
     ]
    },
    {
     "name": "stderr",
     "output_type": "stream",
     "text": []
    },
    {
     "name": "stdout",
     "output_type": "stream",
     "text": [
      "2888\n"
     ]
    },
    {
     "name": "stderr",
     "output_type": "stream",
     "text": []
    },
    {
     "name": "stdout",
     "output_type": "stream",
     "text": [
      "2889\n",
      "2890\n",
      "2891\n",
      "2892\n",
      "2893\n",
      "2894\n",
      "2895\n",
      "2896\n",
      "2897\n",
      "2898\n",
      "2899\n",
      "2900\n",
      "2901\n",
      "2902\n",
      "2903\n",
      "2904\n",
      "2905\n",
      "2906\n",
      "2907\n",
      "2908\n",
      "2909\n",
      "2910\n",
      "2911\n",
      "2912\n",
      "2913\n",
      "2914\n",
      "2915\n",
      "2916\n",
      "2917\n",
      "2918\n",
      "2919\n",
      "2920\n"
     ]
    },
    {
     "name": "stderr",
     "output_type": "stream",
     "text": []
    },
    {
     "name": "stdout",
     "output_type": "stream",
     "text": [
      "2921\n",
      "2922\n",
      "2923\n",
      "2924\n",
      "2925\n",
      "2926\n",
      "2927\n",
      "2928\n",
      "2929\n",
      "2930\n",
      "2931\n",
      "2932\n"
     ]
    },
    {
     "name": "stderr",
     "output_type": "stream",
     "text": []
    },
    {
     "name": "stdout",
     "output_type": "stream",
     "text": [
      "2933\n"
     ]
    },
    {
     "name": "stderr",
     "output_type": "stream",
     "text": []
    },
    {
     "name": "stdout",
     "output_type": "stream",
     "text": [
      "2934\n"
     ]
    },
    {
     "name": "stderr",
     "output_type": "stream",
     "text": []
    },
    {
     "name": "stdout",
     "output_type": "stream",
     "text": [
      "2935\n",
      "2936\n",
      "2937\n",
      "2938\n",
      "2939\n",
      "2940\n",
      "2941\n",
      "2942\n",
      "2943\n",
      "2944\n",
      "2945\n",
      "2946\n",
      "2947\n",
      "2948\n",
      "2949\n",
      "2950\n",
      "2951\n",
      "2952\n",
      "2953\n",
      "2954\n",
      "2955\n",
      "2956\n",
      "2957\n",
      "2958\n",
      "2959\n",
      "2960\n",
      "2961\n",
      "2962\n",
      "2963\n",
      "2964\n",
      "2965\n",
      "2966\n",
      "2967\n",
      "2968\n",
      "2969\n"
     ]
    },
    {
     "name": "stderr",
     "output_type": "stream",
     "text": []
    },
    {
     "name": "stdout",
     "output_type": "stream",
     "text": [
      "2970\n",
      "2971\n",
      "2972\n",
      "2973\n",
      "2974\n",
      "2975\n",
      "2976\n",
      "2977\n",
      "2978\n",
      "2979\n",
      "2980\n",
      "2981\n",
      "2982\n",
      "2983\n",
      "2984\n",
      "2985\n"
     ]
    },
    {
     "name": "stderr",
     "output_type": "stream",
     "text": []
    },
    {
     "name": "stdout",
     "output_type": "stream",
     "text": [
      "2986\n",
      "2987\n",
      "2988\n",
      "2989\n",
      "2990\n",
      "2991\n",
      "2992\n",
      "2993\n",
      "2994\n",
      "2995\n",
      "2996\n",
      "2997\n",
      "2998\n",
      "2999\n"
     ]
    },
    {
     "name": "stderr",
     "output_type": "stream",
     "text": []
    },
    {
     "name": "stdout",
     "output_type": "stream",
     "text": [
      "3000\n",
      "3001\n",
      "3002\n",
      "3003\n",
      "3004\n",
      "3005\n",
      "3006\n",
      "3007\n",
      "3008\n",
      "3009\n",
      "3010\n",
      "3011\n",
      "3012\n",
      "3013\n",
      "3014\n",
      "3015\n",
      "3016\n",
      "3017\n",
      "3018\n",
      "3019\n",
      "3020\n",
      "3021\n",
      "3022\n",
      "3023\n",
      "3024\n",
      "3025\n",
      "3026\n",
      "3027\n",
      "3028\n",
      "3029\n",
      "3030\n",
      "3031\n",
      "3032\n",
      "3033\n"
     ]
    },
    {
     "name": "stderr",
     "output_type": "stream",
     "text": []
    },
    {
     "name": "stdout",
     "output_type": "stream",
     "text": [
      "3034\n",
      "3035\n",
      "3036\n",
      "3037\n",
      "3038\n",
      "3039\n",
      "3040\n"
     ]
    },
    {
     "name": "stderr",
     "output_type": "stream",
     "text": []
    },
    {
     "name": "stdout",
     "output_type": "stream",
     "text": [
      "3041\n",
      "3042\n",
      "3043\n",
      "3044\n",
      "3045\n",
      "3046\n",
      "3047\n",
      "3048\n",
      "3049\n",
      "3050\n",
      "3051\n",
      "3052\n",
      "3053\n",
      "3054\n",
      "3055\n",
      "3056\n",
      "3057\n",
      "3058\n",
      "3059\n",
      "3060\n",
      "3061\n",
      "3062\n",
      "3063\n",
      "3064\n",
      "3065\n",
      "3066\n",
      "3067\n",
      "3068\n",
      "3069\n",
      "3070\n",
      "3071\n"
     ]
    },
    {
     "name": "stderr",
     "output_type": "stream",
     "text": []
    },
    {
     "name": "stdout",
     "output_type": "stream",
     "text": [
      "3072\n",
      "3073\n",
      "3074\n",
      "3075\n",
      "3076\n",
      "3077\n"
     ]
    },
    {
     "name": "stderr",
     "output_type": "stream",
     "text": []
    },
    {
     "name": "stdout",
     "output_type": "stream",
     "text": [
      "3078\n",
      "3079\n"
     ]
    },
    {
     "name": "stderr",
     "output_type": "stream",
     "text": []
    },
    {
     "name": "stdout",
     "output_type": "stream",
     "text": [
      "3080\n",
      "3081\n",
      "3082\n",
      "3083\n",
      "3084\n",
      "3085\n",
      "3086\n",
      "3087\n",
      "3088\n",
      "3089\n",
      "3090\n",
      "3091\n",
      "3092\n",
      "3093\n",
      "3094\n",
      "3095\n",
      "3096\n",
      "3097\n",
      "3098\n",
      "3099\n",
      "3100\n",
      "3101\n"
     ]
    },
    {
     "name": "stderr",
     "output_type": "stream",
     "text": []
    },
    {
     "name": "stdout",
     "output_type": "stream",
     "text": [
      "3102\n",
      "3103\n",
      "3104\n",
      "3105\n",
      "3106\n",
      "3107\n",
      "3108\n",
      "3109\n",
      "3110\n",
      "3111\n",
      "3112\n",
      "3113\n",
      "3114\n",
      "3115\n",
      "3116\n",
      "3117\n",
      "3118\n",
      "3119\n",
      "3120\n",
      "3121\n"
     ]
    },
    {
     "name": "stderr",
     "output_type": "stream",
     "text": []
    },
    {
     "name": "stdout",
     "output_type": "stream",
     "text": [
      "3122\n",
      "3123\n",
      "3124\n",
      "3125\n",
      "3126\n",
      "3127\n",
      "3128\n",
      "3129\n",
      "3130\n",
      "3131\n",
      "3132\n",
      "3133\n",
      "3134\n",
      "3135\n",
      "3136\n",
      "3137\n",
      "3138\n",
      "3139\n",
      "3140\n",
      "3141\n",
      "3142\n",
      "3143\n",
      "3144\n",
      "3145\n",
      "3146\n",
      "3147\n",
      "3148\n",
      "3149\n",
      "3150\n",
      "3151\n",
      "3152\n",
      "3153\n"
     ]
    },
    {
     "name": "stderr",
     "output_type": "stream",
     "text": []
    },
    {
     "name": "stdout",
     "output_type": "stream",
     "text": [
      "3154\n",
      "3155\n",
      "3156\n",
      "3157\n",
      "3158\n",
      "3159\n"
     ]
    },
    {
     "name": "stderr",
     "output_type": "stream",
     "text": []
    },
    {
     "name": "stdout",
     "output_type": "stream",
     "text": [
      "3160\n",
      "3161\n",
      "3162\n",
      "3163\n",
      "3164\n",
      "3165\n",
      "3166\n",
      "3167\n",
      "3168\n",
      "3169\n",
      "3170\n",
      "3171\n",
      "3172\n"
     ]
    },
    {
     "name": "stderr",
     "output_type": "stream",
     "text": []
    },
    {
     "name": "stdout",
     "output_type": "stream",
     "text": [
      "3173\n",
      "3174\n",
      "3175\n",
      "3176\n",
      "3177\n",
      "3178\n",
      "3179\n",
      "3180\n",
      "3181\n",
      "3182\n",
      "3183\n",
      "3184\n",
      "3185\n",
      "3186\n",
      "3187\n",
      "3188\n",
      "3189\n",
      "3190\n",
      "3191\n",
      "3192\n",
      "3193\n",
      "3194\n",
      "3195\n",
      "3196\n",
      "3197\n",
      "3198\n",
      "3199\n",
      "3200\n",
      "3201\n",
      "3202\n",
      "3203\n",
      "3204\n",
      "3205\n",
      "3206\n",
      "3207\n",
      "3208\n",
      "3209\n"
     ]
    },
    {
     "name": "stderr",
     "output_type": "stream",
     "text": []
    },
    {
     "name": "stdout",
     "output_type": "stream",
     "text": [
      "3210\n",
      "3211\n",
      "3212\n",
      "3213\n",
      "3214\n",
      "3215\n",
      "3216\n",
      "3217\n",
      "3218\n",
      "3219\n",
      "3220\n",
      "3221\n",
      "3222\n",
      "3223\n",
      "3224\n",
      "3225\n",
      "3226\n"
     ]
    },
    {
     "name": "stderr",
     "output_type": "stream",
     "text": []
    },
    {
     "name": "stdout",
     "output_type": "stream",
     "text": [
      "3227\n",
      "3228\n",
      "3229\n",
      "3230\n",
      "3231\n",
      "3232\n",
      "3233\n"
     ]
    },
    {
     "name": "stderr",
     "output_type": "stream",
     "text": []
    },
    {
     "name": "stdout",
     "output_type": "stream",
     "text": [
      "3234\n"
     ]
    },
    {
     "name": "stderr",
     "output_type": "stream",
     "text": []
    },
    {
     "name": "stdout",
     "output_type": "stream",
     "text": [
      "3235\n",
      "3236\n",
      "3237\n",
      "3238\n",
      "3239\n",
      "3240\n",
      "3241\n",
      "3242\n",
      "3243\n",
      "3244\n",
      "3245\n",
      "3246\n",
      "3247\n",
      "3248\n",
      "3249\n"
     ]
    },
    {
     "name": "stderr",
     "output_type": "stream",
     "text": []
    },
    {
     "name": "stdout",
     "output_type": "stream",
     "text": [
      "3250\n",
      "3251\n",
      "3252\n",
      "3253\n",
      "3254\n",
      "3255\n",
      "3256\n",
      "3257\n",
      "3258\n",
      "3259\n"
     ]
    },
    {
     "name": "stderr",
     "output_type": "stream",
     "text": []
    },
    {
     "name": "stdout",
     "output_type": "stream",
     "text": [
      "3260\n",
      "3261\n",
      "3262\n",
      "3263\n",
      "3264\n",
      "3265\n",
      "3266\n",
      "3267\n",
      "3268\n",
      "3269\n",
      "3270\n",
      "3271\n"
     ]
    },
    {
     "name": "stderr",
     "output_type": "stream",
     "text": []
    },
    {
     "name": "stdout",
     "output_type": "stream",
     "text": [
      "3272\n",
      "3273\n",
      "3274\n",
      "3275\n",
      "3276\n",
      "3277\n",
      "3278\n",
      "3279\n",
      "3280\n",
      "3281\n",
      "3282\n",
      "3283\n",
      "3284\n",
      "3285\n",
      "3286\n",
      "3287\n",
      "3288\n",
      "3289\n",
      "3290\n",
      "3291\n",
      "3292\n",
      "3293\n",
      "3294\n",
      "3295\n",
      "3296\n",
      "3297\n",
      "3298\n",
      "3299\n",
      "3300\n",
      "3301\n",
      "3302\n",
      "3303\n",
      "3304\n",
      "3305\n"
     ]
    },
    {
     "name": "stderr",
     "output_type": "stream",
     "text": []
    },
    {
     "name": "stdout",
     "output_type": "stream",
     "text": [
      "3306\n",
      "3307\n",
      "3308\n",
      "3309\n",
      "3310\n",
      "3311\n",
      "3312\n",
      "3313\n",
      "3314\n",
      "3315\n",
      "3316\n",
      "3317\n"
     ]
    },
    {
     "name": "stderr",
     "output_type": "stream",
     "text": []
    },
    {
     "name": "stdout",
     "output_type": "stream",
     "text": [
      "3318\n"
     ]
    },
    {
     "name": "stderr",
     "output_type": "stream",
     "text": []
    },
    {
     "name": "stdout",
     "output_type": "stream",
     "text": [
      "3319\n",
      "3320\n",
      "3321\n",
      "3322\n"
     ]
    },
    {
     "name": "stderr",
     "output_type": "stream",
     "text": []
    },
    {
     "name": "stdout",
     "output_type": "stream",
     "text": [
      "3323\n",
      "3324\n",
      "3325\n",
      "3326\n",
      "3327\n",
      "3328\n",
      "3329\n",
      "3330\n",
      "3331\n",
      "3332\n",
      "3333\n",
      "3334\n",
      "3335\n",
      "3336\n",
      "3337\n",
      "3338\n",
      "3339\n",
      "3340\n"
     ]
    },
    {
     "name": "stderr",
     "output_type": "stream",
     "text": []
    },
    {
     "name": "stdout",
     "output_type": "stream",
     "text": [
      "3341\n",
      "3342\n",
      "3343\n",
      "3344\n",
      "3345\n"
     ]
    },
    {
     "name": "stderr",
     "output_type": "stream",
     "text": []
    },
    {
     "name": "stdout",
     "output_type": "stream",
     "text": [
      "3346\n"
     ]
    },
    {
     "name": "stderr",
     "output_type": "stream",
     "text": []
    },
    {
     "name": "stdout",
     "output_type": "stream",
     "text": [
      "3347\n"
     ]
    },
    {
     "name": "stderr",
     "output_type": "stream",
     "text": []
    },
    {
     "name": "stdout",
     "output_type": "stream",
     "text": [
      "3348\n"
     ]
    },
    {
     "name": "stderr",
     "output_type": "stream",
     "text": []
    },
    {
     "name": "stdout",
     "output_type": "stream",
     "text": [
      "3349\n",
      "3350\n",
      "3351\n",
      "3352\n",
      "3353\n",
      "3354\n",
      "3355\n"
     ]
    },
    {
     "name": "stderr",
     "output_type": "stream",
     "text": []
    },
    {
     "name": "stdout",
     "output_type": "stream",
     "text": [
      "3356\n",
      "3357\n",
      "3358\n",
      "3359\n",
      "3360\n",
      "3361\n",
      "3362\n",
      "3363\n",
      "3364\n",
      "3365\n",
      "3366\n",
      "3367\n",
      "3368\n",
      "3369\n",
      "3370\n",
      "3371\n",
      "3372\n"
     ]
    },
    {
     "name": "stderr",
     "output_type": "stream",
     "text": []
    },
    {
     "name": "stdout",
     "output_type": "stream",
     "text": [
      "3373\n",
      "3374\n",
      "3375\n",
      "3376\n",
      "3377\n",
      "3378\n",
      "3379\n",
      "3380\n",
      "3381\n",
      "3382\n",
      "3383\n",
      "3384\n",
      "3385\n",
      "3386\n",
      "3387\n",
      "3388\n",
      "3389\n",
      "3390\n",
      "3391\n",
      "3392\n",
      "3393\n",
      "3394\n",
      "3395\n",
      "3396\n",
      "3397\n"
     ]
    },
    {
     "name": "stderr",
     "output_type": "stream",
     "text": []
    },
    {
     "name": "stdout",
     "output_type": "stream",
     "text": [
      "3398\n",
      "3399\n",
      "3400\n",
      "3401\n",
      "3402\n",
      "3403\n",
      "3404\n",
      "3405\n",
      "3406\n",
      "3407\n",
      "3408\n",
      "3409\n",
      "3410\n",
      "3411\n",
      "3412\n",
      "3413\n",
      "3414\n",
      "3415\n",
      "3416\n",
      "3417\n",
      "3418\n",
      "3419\n",
      "3420\n",
      "3421\n",
      "3422\n",
      "3423\n",
      "3424\n",
      "3425\n",
      "3426\n",
      "3427\n",
      "3428\n"
     ]
    },
    {
     "name": "stderr",
     "output_type": "stream",
     "text": []
    },
    {
     "name": "stdout",
     "output_type": "stream",
     "text": [
      "3429\n",
      "3430\n",
      "3431\n",
      "3432\n",
      "3433\n",
      "3434\n",
      "3435\n",
      "3436\n",
      "3437\n",
      "3438\n",
      "3439\n",
      "3440\n",
      "3441\n",
      "3442\n",
      "3443\n",
      "3444\n",
      "3445\n",
      "3446\n",
      "3447\n",
      "3448\n",
      "3449\n",
      "3450\n",
      "3451\n",
      "3452\n",
      "3453\n",
      "3454\n",
      "3455\n",
      "3456\n",
      "3457\n",
      "3458\n",
      "3459\n",
      "3460\n",
      "3461\n",
      "3462\n",
      "3463\n",
      "3464\n",
      "3465\n",
      "3466\n",
      "3467\n",
      "3468\n",
      "3469\n",
      "3470\n",
      "3471\n",
      "3472\n",
      "3473\n",
      "3474\n",
      "3475\n",
      "3476\n",
      "3477\n",
      "3478\n",
      "3479\n",
      "3480\n",
      "3481\n",
      "3482\n",
      "3483\n",
      "3484\n",
      "3485\n",
      "3486\n",
      "3487\n",
      "3488\n",
      "3489\n",
      "3490\n",
      "3491\n",
      "3492\n",
      "3493\n",
      "3494\n",
      "3495\n",
      "3496\n",
      "3497\n",
      "3498\n",
      "3499\n",
      "3500\n",
      "3501\n",
      "3502\n",
      "3503\n",
      "3504\n",
      "3505\n",
      "3506\n",
      "3507\n",
      "3508\n",
      "3509\n",
      "3510\n",
      "3511\n",
      "3512\n",
      "3513\n",
      "3514\n",
      "3515\n",
      "3516\n",
      "3517\n",
      "3518\n",
      "3519\n",
      "3520\n",
      "3521\n",
      "3522\n",
      "3523\n",
      "3524\n",
      "3525\n",
      "3526\n",
      "3527\n"
     ]
    },
    {
     "name": "stderr",
     "output_type": "stream",
     "text": []
    },
    {
     "name": "stdout",
     "output_type": "stream",
     "text": [
      "3528\n",
      "3529\n",
      "3530\n",
      "3531\n",
      "3532\n"
     ]
    },
    {
     "name": "stderr",
     "output_type": "stream",
     "text": []
    },
    {
     "name": "stdout",
     "output_type": "stream",
     "text": [
      "3533\n",
      "3534\n",
      "3535\n",
      "3536\n",
      "3537\n",
      "3538\n",
      "3539\n"
     ]
    },
    {
     "name": "stderr",
     "output_type": "stream",
     "text": []
    },
    {
     "name": "stdout",
     "output_type": "stream",
     "text": [
      "3540\n",
      "3541\n",
      "3542\n",
      "3543\n",
      "3544\n",
      "3545\n",
      "3546\n",
      "3547\n",
      "3548\n",
      "3549\n",
      "3550\n",
      "3551\n",
      "3552\n"
     ]
    },
    {
     "name": "stderr",
     "output_type": "stream",
     "text": []
    },
    {
     "name": "stdout",
     "output_type": "stream",
     "text": [
      "3553\n",
      "3554\n",
      "3555\n",
      "3556\n",
      "3557\n",
      "3558\n",
      "3559\n",
      "3560\n",
      "3561\n",
      "3562\n",
      "3563\n",
      "3564\n"
     ]
    },
    {
     "name": "stderr",
     "output_type": "stream",
     "text": []
    },
    {
     "name": "stdout",
     "output_type": "stream",
     "text": [
      "3565\n",
      "3566\n",
      "3567\n",
      "3568\n",
      "3569\n",
      "3570\n"
     ]
    },
    {
     "name": "stderr",
     "output_type": "stream",
     "text": []
    },
    {
     "name": "stdout",
     "output_type": "stream",
     "text": [
      "3571\n",
      "3572\n",
      "3573\n",
      "3574\n",
      "3575\n",
      "3576\n",
      "3577\n",
      "3578\n",
      "3579\n",
      "3580\n",
      "3581\n"
     ]
    },
    {
     "name": "stderr",
     "output_type": "stream",
     "text": []
    },
    {
     "name": "stdout",
     "output_type": "stream",
     "text": [
      "3582\n",
      "3583\n",
      "3584\n",
      "3585\n",
      "3586\n",
      "3587\n",
      "3588\n",
      "3589\n",
      "3590\n",
      "3591\n",
      "3592\n",
      "3593\n"
     ]
    },
    {
     "name": "stderr",
     "output_type": "stream",
     "text": []
    },
    {
     "name": "stdout",
     "output_type": "stream",
     "text": [
      "3594\n",
      "3595\n",
      "3596\n",
      "3597\n",
      "3598\n",
      "3599\n",
      "3600\n"
     ]
    },
    {
     "name": "stderr",
     "output_type": "stream",
     "text": []
    },
    {
     "name": "stdout",
     "output_type": "stream",
     "text": [
      "3601\n",
      "3602\n",
      "3603\n",
      "3604\n",
      "3605\n",
      "3606\n",
      "3607\n",
      "3608\n",
      "3609\n"
     ]
    },
    {
     "name": "stderr",
     "output_type": "stream",
     "text": []
    },
    {
     "name": "stdout",
     "output_type": "stream",
     "text": [
      "3610\n",
      "3611\n",
      "3612\n",
      "3613\n"
     ]
    },
    {
     "name": "stderr",
     "output_type": "stream",
     "text": []
    },
    {
     "name": "stdout",
     "output_type": "stream",
     "text": [
      "3614\n",
      "3615\n",
      "3616\n",
      "3617\n",
      "3618\n",
      "3619\n",
      "3620\n",
      "3621\n",
      "3622\n",
      "3623\n",
      "3624\n",
      "3625\n",
      "3626\n",
      "3627\n",
      "3628\n",
      "3629\n",
      "3630\n",
      "3631\n",
      "3632\n",
      "3633\n",
      "3634\n",
      "3635\n",
      "3636\n",
      "3637\n",
      "3638\n",
      "3639\n",
      "3640\n"
     ]
    },
    {
     "name": "stderr",
     "output_type": "stream",
     "text": []
    },
    {
     "name": "stdout",
     "output_type": "stream",
     "text": [
      "3641\n",
      "3642\n",
      "3643\n",
      "3644\n",
      "3645\n",
      "3646\n",
      "3647\n",
      "3648\n",
      "3649\n",
      "3650\n",
      "3651\n",
      "3652\n",
      "3653\n",
      "3654\n"
     ]
    },
    {
     "name": "stderr",
     "output_type": "stream",
     "text": []
    },
    {
     "name": "stdout",
     "output_type": "stream",
     "text": [
      "3655\n",
      "3656\n",
      "3657\n",
      "3658\n",
      "3659\n",
      "3660\n",
      "3661\n",
      "3662\n",
      "3663\n",
      "3664\n",
      "3665\n",
      "3666\n",
      "3667\n",
      "3668\n",
      "3669\n",
      "3670\n",
      "3671\n",
      "3672\n",
      "3673\n",
      "3674\n",
      "3675\n",
      "3676\n",
      "3677\n",
      "3678\n",
      "3679\n",
      "3680\n",
      "3681\n",
      "3682\n",
      "3683\n",
      "3684\n",
      "3685\n",
      "3686\n",
      "3687\n",
      "3688\n",
      "3689\n",
      "3690\n",
      "3691\n"
     ]
    },
    {
     "name": "stderr",
     "output_type": "stream",
     "text": []
    },
    {
     "name": "stdout",
     "output_type": "stream",
     "text": [
      "3692\n",
      "3693\n",
      "3694\n",
      "3695\n",
      "3696\n",
      "3697\n",
      "3698\n",
      "3699\n",
      "3700\n",
      "3701\n",
      "3702\n",
      "3703\n",
      "3704\n",
      "3705\n",
      "3706\n",
      "3707\n",
      "3708\n",
      "3709\n"
     ]
    },
    {
     "name": "stderr",
     "output_type": "stream",
     "text": []
    },
    {
     "name": "stdout",
     "output_type": "stream",
     "text": [
      "3710\n",
      "3711\n",
      "3712\n",
      "3713\n",
      "3714\n",
      "3715\n",
      "3716\n",
      "3717\n",
      "3718\n",
      "3719\n",
      "3720\n",
      "3721\n",
      "3722\n",
      "3723\n",
      "3724\n",
      "3725\n",
      "3726\n",
      "3727\n",
      "3728\n",
      "3729\n",
      "3730\n",
      "3731\n",
      "3732\n",
      "3733\n",
      "3734\n",
      "3735\n",
      "3736\n",
      "3737\n",
      "3738\n",
      "3739\n",
      "3740\n",
      "3741\n",
      "3742\n"
     ]
    },
    {
     "name": "stderr",
     "output_type": "stream",
     "text": []
    },
    {
     "name": "stdout",
     "output_type": "stream",
     "text": [
      "3743\n",
      "3744\n",
      "3745\n",
      "3746\n",
      "3747\n",
      "3748\n",
      "3749\n"
     ]
    },
    {
     "name": "stderr",
     "output_type": "stream",
     "text": []
    },
    {
     "name": "stdout",
     "output_type": "stream",
     "text": [
      "3750\n",
      "3751\n",
      "3752\n",
      "3753\n",
      "3754\n"
     ]
    },
    {
     "name": "stderr",
     "output_type": "stream",
     "text": []
    },
    {
     "name": "stdout",
     "output_type": "stream",
     "text": [
      "3755\n",
      "3756\n",
      "3757\n",
      "3758\n",
      "3759\n",
      "3760\n",
      "3761\n",
      "3762\n",
      "3763\n",
      "3764\n",
      "3765\n",
      "3766\n",
      "3767\n",
      "3768\n",
      "3769\n",
      "3770\n"
     ]
    },
    {
     "name": "stderr",
     "output_type": "stream",
     "text": []
    },
    {
     "name": "stdout",
     "output_type": "stream",
     "text": [
      "3771\n",
      "3772\n",
      "3773\n",
      "3774\n",
      "3775\n",
      "3776\n",
      "3777\n",
      "3778\n",
      "3779\n",
      "3780\n",
      "3781\n",
      "3782\n",
      "3783\n",
      "3784\n",
      "3785\n",
      "3786\n",
      "3787\n",
      "3788\n",
      "3789\n",
      "3790\n",
      "3791\n",
      "3792\n",
      "3793\n",
      "3794\n",
      "3795\n",
      "3796\n",
      "3797\n",
      "3798\n",
      "3799\n",
      "3800\n",
      "3801\n",
      "3802\n",
      "3803\n",
      "3804\n",
      "3805\n",
      "3806\n"
     ]
    },
    {
     "name": "stderr",
     "output_type": "stream",
     "text": []
    },
    {
     "name": "stdout",
     "output_type": "stream",
     "text": [
      "3807\n",
      "3808\n",
      "3809\n",
      "3810\n",
      "3811\n",
      "3812\n",
      "3813\n",
      "3814\n",
      "3815\n",
      "3816\n",
      "3817\n",
      "3818\n",
      "3819\n",
      "3820\n",
      "3821\n",
      "3822\n",
      "3823\n",
      "3824\n",
      "3825\n",
      "3826\n",
      "3827\n",
      "3828\n",
      "3829\n"
     ]
    },
    {
     "name": "stderr",
     "output_type": "stream",
     "text": []
    },
    {
     "name": "stdout",
     "output_type": "stream",
     "text": [
      "3830\n",
      "3831\n",
      "3832\n",
      "3833\n",
      "3834\n",
      "3835\n",
      "3836\n",
      "3837\n",
      "3838\n",
      "3839\n",
      "3840\n",
      "3841\n",
      "3842\n",
      "3843\n",
      "3844\n",
      "3845\n",
      "3846\n",
      "3847\n",
      "3848\n",
      "3849\n",
      "3850\n",
      "3851\n",
      "3852\n",
      "3853\n",
      "3854\n",
      "3855\n",
      "3856\n",
      "3857\n",
      "3858\n",
      "3859\n",
      "3860\n",
      "3861\n",
      "3862\n",
      "3863\n",
      "3864\n",
      "3865\n",
      "3866\n",
      "3867\n",
      "3868\n",
      "3869\n",
      "3870\n",
      "3871\n",
      "3872\n",
      "3873\n",
      "3874\n",
      "3875\n",
      "3876\n",
      "3877\n",
      "3878\n",
      "3879\n",
      "3880\n",
      "3881\n",
      "3882\n",
      "3883\n",
      "3884\n",
      "3885\n",
      "3886\n",
      "3887\n",
      "3888\n",
      "3889\n",
      "3890\n",
      "3891\n",
      "3892\n",
      "3893\n",
      "3894\n",
      "3895\n",
      "3896\n",
      "3897\n",
      "3898\n"
     ]
    },
    {
     "name": "stderr",
     "output_type": "stream",
     "text": []
    },
    {
     "name": "stdout",
     "output_type": "stream",
     "text": [
      "3899\n",
      "3900\n"
     ]
    },
    {
     "name": "stderr",
     "output_type": "stream",
     "text": []
    },
    {
     "name": "stdout",
     "output_type": "stream",
     "text": [
      "3901\n"
     ]
    },
    {
     "name": "stderr",
     "output_type": "stream",
     "text": []
    },
    {
     "name": "stdout",
     "output_type": "stream",
     "text": [
      "3902\n",
      "3903\n",
      "3904\n",
      "3905\n",
      "3906\n",
      "3907\n",
      "3908\n"
     ]
    },
    {
     "name": "stderr",
     "output_type": "stream",
     "text": []
    },
    {
     "name": "stdout",
     "output_type": "stream",
     "text": [
      "3909\n",
      "3910\n",
      "3911\n",
      "3912\n",
      "3913\n",
      "3914\n",
      "3915\n",
      "3916\n",
      "3917\n",
      "3918\n",
      "3919\n",
      "3920\n",
      "3921\n",
      "3922\n",
      "3923\n",
      "3924\n",
      "3925\n",
      "3926\n",
      "3927\n",
      "3928\n",
      "3929\n",
      "3930\n",
      "3931\n",
      "3932\n",
      "3933\n",
      "3934\n"
     ]
    },
    {
     "name": "stderr",
     "output_type": "stream",
     "text": []
    },
    {
     "name": "stdout",
     "output_type": "stream",
     "text": [
      "3935\n",
      "3936\n",
      "3937\n",
      "3938\n",
      "3939\n",
      "3940\n",
      "3941\n",
      "3942\n",
      "3943\n",
      "3944\n"
     ]
    },
    {
     "name": "stderr",
     "output_type": "stream",
     "text": []
    },
    {
     "name": "stdout",
     "output_type": "stream",
     "text": [
      "3945\n",
      "3946\n"
     ]
    },
    {
     "name": "stderr",
     "output_type": "stream",
     "text": []
    },
    {
     "name": "stdout",
     "output_type": "stream",
     "text": [
      "3947\n",
      "3948\n",
      "3949\n",
      "3950\n",
      "3951\n",
      "3952\n",
      "3953\n",
      "3954\n",
      "3955\n",
      "3956\n",
      "3957\n",
      "3958\n",
      "3959\n",
      "3960\n",
      "3961\n",
      "3962\n",
      "3963\n",
      "3964\n",
      "3965\n",
      "3966\n",
      "3967\n",
      "3968\n"
     ]
    },
    {
     "name": "stderr",
     "output_type": "stream",
     "text": []
    },
    {
     "name": "stdout",
     "output_type": "stream",
     "text": [
      "3969\n",
      "3970\n",
      "3971\n",
      "3972\n"
     ]
    },
    {
     "name": "stderr",
     "output_type": "stream",
     "text": []
    },
    {
     "name": "stdout",
     "output_type": "stream",
     "text": [
      "3973\n"
     ]
    },
    {
     "name": "stderr",
     "output_type": "stream",
     "text": []
    },
    {
     "name": "stdout",
     "output_type": "stream",
     "text": [
      "3974\n",
      "3975\n",
      "3976\n",
      "3977\n",
      "3978\n",
      "3979\n",
      "3980\n",
      "3981\n",
      "3982\n",
      "3983\n",
      "3984\n",
      "3985\n",
      "3986\n",
      "3987\n",
      "3988\n",
      "3989\n",
      "3990\n",
      "3991\n",
      "3992\n",
      "3993\n",
      "3994\n",
      "3995\n",
      "3996\n",
      "3997\n"
     ]
    },
    {
     "name": "stderr",
     "output_type": "stream",
     "text": []
    },
    {
     "name": "stdout",
     "output_type": "stream",
     "text": [
      "3998\n",
      "3999\n"
     ]
    },
    {
     "name": "stderr",
     "output_type": "stream",
     "text": []
    },
    {
     "name": "stdout",
     "output_type": "stream",
     "text": [
      "4000\n"
     ]
    },
    {
     "name": "stderr",
     "output_type": "stream",
     "text": []
    },
    {
     "name": "stdout",
     "output_type": "stream",
     "text": [
      "4001\n",
      "4002\n",
      "4003\n",
      "4004\n",
      "4005\n",
      "4006\n",
      "4007\n",
      "4008\n",
      "4009\n",
      "4010\n",
      "4011\n",
      "4012\n",
      "4013\n",
      "4014\n",
      "4015\n",
      "4016\n",
      "4017\n"
     ]
    },
    {
     "name": "stderr",
     "output_type": "stream",
     "text": []
    },
    {
     "name": "stdout",
     "output_type": "stream",
     "text": [
      "4018\n",
      "4019\n",
      "4020\n",
      "4021\n",
      "4022\n",
      "4023\n",
      "4024\n"
     ]
    },
    {
     "name": "stderr",
     "output_type": "stream",
     "text": []
    },
    {
     "name": "stdout",
     "output_type": "stream",
     "text": [
      "4025\n",
      "4026\n",
      "4027\n",
      "4028\n"
     ]
    },
    {
     "name": "stderr",
     "output_type": "stream",
     "text": []
    },
    {
     "name": "stdout",
     "output_type": "stream",
     "text": [
      "4029\n",
      "4030\n",
      "4031\n",
      "4032\n",
      "4033\n",
      "4034\n",
      "4035\n",
      "4036\n",
      "4037\n",
      "4038\n",
      "4039\n",
      "4040\n",
      "4041\n",
      "4042\n"
     ]
    },
    {
     "name": "stderr",
     "output_type": "stream",
     "text": []
    },
    {
     "name": "stdout",
     "output_type": "stream",
     "text": [
      "4043\n",
      "4044\n",
      "4045\n",
      "4046\n",
      "4047\n",
      "4048\n",
      "4049\n",
      "4050\n",
      "4051\n",
      "4052\n",
      "4053\n",
      "4054\n",
      "4055\n",
      "4056\n",
      "4057\n",
      "4058\n",
      "4059\n",
      "4060\n",
      "4061\n"
     ]
    },
    {
     "name": "stderr",
     "output_type": "stream",
     "text": []
    },
    {
     "name": "stdout",
     "output_type": "stream",
     "text": [
      "4062\n"
     ]
    },
    {
     "name": "stderr",
     "output_type": "stream",
     "text": []
    },
    {
     "name": "stdout",
     "output_type": "stream",
     "text": [
      "4063\n",
      "4064\n",
      "4065\n",
      "4066\n",
      "4067\n",
      "4068\n",
      "4069\n",
      "4070\n",
      "4071\n",
      "4072\n",
      "4073\n",
      "4074\n",
      "4075\n",
      "4076\n",
      "4077\n",
      "4078\n",
      "4079\n",
      "4080\n",
      "4081\n",
      "4082\n",
      "4083\n",
      "4084\n",
      "4085\n",
      "4086\n"
     ]
    },
    {
     "name": "stderr",
     "output_type": "stream",
     "text": []
    },
    {
     "name": "stdout",
     "output_type": "stream",
     "text": [
      "4087\n"
     ]
    },
    {
     "name": "stderr",
     "output_type": "stream",
     "text": []
    },
    {
     "name": "stdout",
     "output_type": "stream",
     "text": [
      "4088\n",
      "4089\n",
      "4090\n",
      "4091\n",
      "4092\n"
     ]
    },
    {
     "name": "stderr",
     "output_type": "stream",
     "text": []
    },
    {
     "name": "stdout",
     "output_type": "stream",
     "text": [
      "4093\n",
      "4094\n",
      "4095\n",
      "4096\n",
      "4097\n",
      "4098\n",
      "4099\n",
      "4100\n",
      "4101\n",
      "4102\n",
      "4103\n",
      "4104\n",
      "4105\n",
      "4106\n",
      "4107\n"
     ]
    },
    {
     "name": "stderr",
     "output_type": "stream",
     "text": []
    },
    {
     "name": "stdout",
     "output_type": "stream",
     "text": [
      "4108\n",
      "4109\n",
      "4110\n",
      "4111\n",
      "4112\n",
      "4113\n",
      "4114\n",
      "4115\n",
      "4116\n",
      "4117\n",
      "4118\n",
      "4119\n",
      "4120\n",
      "4121\n",
      "4122\n",
      "4123\n",
      "4124\n",
      "4125\n",
      "4126\n",
      "4127\n",
      "4128\n",
      "4129\n",
      "4130\n",
      "4131\n",
      "4132\n",
      "4133\n",
      "4134\n",
      "4135\n",
      "4136\n",
      "4137\n",
      "4138\n",
      "4139\n",
      "4140\n"
     ]
    },
    {
     "name": "stderr",
     "output_type": "stream",
     "text": []
    },
    {
     "name": "stdout",
     "output_type": "stream",
     "text": [
      "4141\n",
      "4142\n",
      "4143\n",
      "4144\n",
      "4145\n",
      "4146\n",
      "4147\n",
      "4148\n"
     ]
    },
    {
     "name": "stderr",
     "output_type": "stream",
     "text": []
    },
    {
     "name": "stdout",
     "output_type": "stream",
     "text": [
      "4149\n",
      "4150\n",
      "4151\n",
      "4152\n",
      "4153\n",
      "4154\n",
      "4155\n",
      "4156\n",
      "4157\n",
      "4158\n",
      "4159\n",
      "4160\n",
      "4161\n",
      "4162\n",
      "4163\n",
      "4164\n",
      "4165\n",
      "4166\n",
      "4167\n",
      "4168\n",
      "4169\n",
      "4170\n",
      "4171\n",
      "4172\n",
      "4173\n",
      "4174\n",
      "4175\n",
      "4176\n",
      "4177\n",
      "4178\n",
      "4179\n",
      "4180\n"
     ]
    },
    {
     "name": "stderr",
     "output_type": "stream",
     "text": []
    },
    {
     "name": "stdout",
     "output_type": "stream",
     "text": [
      "4181\n",
      "4182\n",
      "4183\n",
      "4184\n",
      "4185\n",
      "4186\n",
      "4187\n",
      "4188\n",
      "4189\n",
      "4190\n",
      "4191\n",
      "4192\n",
      "4193\n",
      "4194\n",
      "4195\n",
      "4196\n",
      "4197\n",
      "4198\n",
      "4199\n",
      "4200\n",
      "4201\n",
      "4202\n",
      "4203\n",
      "4204\n",
      "4205\n",
      "4206\n",
      "4207\n"
     ]
    },
    {
     "name": "stderr",
     "output_type": "stream",
     "text": []
    },
    {
     "name": "stdout",
     "output_type": "stream",
     "text": [
      "4208\n",
      "4209\n",
      "4210\n",
      "4211\n",
      "4212\n",
      "4213\n",
      "4214\n",
      "4215\n",
      "4216\n",
      "4217\n",
      "4218\n",
      "4219\n",
      "4220\n",
      "4221\n",
      "4222\n",
      "4223\n",
      "4224\n",
      "4225\n",
      "4226\n",
      "4227\n",
      "4228\n",
      "4229\n",
      "4230\n",
      "4231\n",
      "4232\n",
      "4233\n",
      "4234\n",
      "4235\n",
      "4236\n",
      "4237\n",
      "4238\n",
      "4239\n",
      "4240\n",
      "4241\n",
      "4242\n",
      "4243\n",
      "4244\n",
      "4245\n",
      "4246\n",
      "4247\n",
      "4248\n",
      "4249\n",
      "4250\n"
     ]
    },
    {
     "name": "stderr",
     "output_type": "stream",
     "text": [
      "\n"
     ]
    },
    {
     "name": "stdout",
     "output_type": "stream",
     "text": [
      "4251\n"
     ]
    },
    {
     "name": "stderr",
     "output_type": "stream",
     "text": [
      "Processing image IDs:  89%|████████▊ | 798/900 [02:51<00:20,  5.02it/s]\u001b[A"
     ]
    },
    {
     "name": "stdout",
     "output_type": "stream",
     "text": [
      "4252\n",
      "4253\n",
      "4254\n",
      "4255\n",
      "4256\n",
      "4257\n"
     ]
    },
    {
     "name": "stderr",
     "output_type": "stream",
     "text": []
    },
    {
     "name": "stdout",
     "output_type": "stream",
     "text": [
      "4258\n",
      "4259\n"
     ]
    },
    {
     "name": "stderr",
     "output_type": "stream",
     "text": []
    },
    {
     "name": "stdout",
     "output_type": "stream",
     "text": [
      "4260\n",
      "4261\n",
      "4262\n",
      "4263\n",
      "4264\n",
      "4265\n",
      "4266\n"
     ]
    },
    {
     "name": "stderr",
     "output_type": "stream",
     "text": []
    },
    {
     "name": "stdout",
     "output_type": "stream",
     "text": [
      "4267\n",
      "4268\n",
      "4269\n",
      "4270\n",
      "4271\n",
      "4272\n",
      "4273\n",
      "4274\n",
      "4275\n",
      "4276\n",
      "4277\n",
      "4278\n",
      "4279\n",
      "4280\n",
      "4281\n",
      "4282\n",
      "4283\n",
      "4284\n",
      "4285\n"
     ]
    },
    {
     "name": "stderr",
     "output_type": "stream",
     "text": []
    },
    {
     "name": "stdout",
     "output_type": "stream",
     "text": [
      "4286\n",
      "4287\n",
      "4288\n",
      "4289\n",
      "4290\n",
      "4291\n",
      "4292\n",
      "4293\n",
      "4294\n",
      "4295\n",
      "4296\n",
      "4297\n",
      "4298\n",
      "4299\n",
      "4300\n",
      "4301\n",
      "4302\n",
      "4303\n",
      "4304\n",
      "4305\n",
      "4306\n",
      "4307\n",
      "4308\n",
      "4309\n",
      "4310\n",
      "4311\n",
      "4312\n",
      "4313\n",
      "4314\n",
      "4315\n",
      "4316\n",
      "4317\n",
      "4318\n",
      "4319\n",
      "4320\n",
      "4321\n",
      "4322\n"
     ]
    },
    {
     "name": "stderr",
     "output_type": "stream",
     "text": []
    },
    {
     "name": "stdout",
     "output_type": "stream",
     "text": [
      "4323\n",
      "4324\n",
      "4325\n",
      "4326\n",
      "4327\n",
      "4328\n",
      "4329\n",
      "4330\n",
      "4331\n",
      "4332\n",
      "4333\n",
      "4334\n"
     ]
    },
    {
     "name": "stderr",
     "output_type": "stream",
     "text": []
    },
    {
     "name": "stdout",
     "output_type": "stream",
     "text": [
      "4335\n",
      "4336\n",
      "4337\n",
      "4338\n",
      "4339\n",
      "4340\n"
     ]
    },
    {
     "name": "stderr",
     "output_type": "stream",
     "text": []
    },
    {
     "name": "stdout",
     "output_type": "stream",
     "text": [
      "4341\n",
      "4342\n",
      "4343\n",
      "4344\n",
      "4345\n",
      "4346\n",
      "4347\n",
      "4348\n",
      "4349\n",
      "4350\n",
      "4351\n",
      "4352\n",
      "4353\n",
      "4354\n",
      "4355\n",
      "4356\n",
      "4357\n"
     ]
    },
    {
     "name": "stderr",
     "output_type": "stream",
     "text": []
    },
    {
     "name": "stdout",
     "output_type": "stream",
     "text": [
      "4358\n",
      "4359\n",
      "4360\n",
      "4361\n",
      "4362\n",
      "4363\n",
      "4364\n",
      "4365\n",
      "4366\n",
      "4367\n",
      "4368\n",
      "4369\n",
      "4370\n",
      "4371\n",
      "4372\n",
      "4373\n",
      "4374\n",
      "4375\n",
      "4376\n",
      "4377\n",
      "4378\n",
      "4379\n",
      "4380\n",
      "4381\n",
      "4382\n",
      "4383\n",
      "4384\n",
      "4385\n",
      "4386\n"
     ]
    },
    {
     "name": "stderr",
     "output_type": "stream",
     "text": []
    },
    {
     "name": "stdout",
     "output_type": "stream",
     "text": [
      "4387\n",
      "4388\n",
      "4389\n",
      "4390\n",
      "4391\n",
      "4392\n",
      "4393\n",
      "4394\n",
      "4395\n",
      "4396\n",
      "4397\n",
      "4398\n",
      "4399\n",
      "4400\n",
      "4401\n",
      "4402\n",
      "4403\n",
      "4404\n",
      "4405\n",
      "4406\n"
     ]
    },
    {
     "name": "stderr",
     "output_type": "stream",
     "text": []
    },
    {
     "name": "stdout",
     "output_type": "stream",
     "text": [
      "4407\n",
      "4408\n",
      "4409\n",
      "4410\n",
      "4411\n",
      "4412\n",
      "4413\n",
      "4414\n",
      "4415\n",
      "4416\n",
      "4417\n",
      "4418\n",
      "4419\n",
      "4420\n",
      "4421\n",
      "4422\n",
      "4423\n"
     ]
    },
    {
     "name": "stderr",
     "output_type": "stream",
     "text": []
    },
    {
     "name": "stdout",
     "output_type": "stream",
     "text": [
      "4424\n"
     ]
    },
    {
     "name": "stderr",
     "output_type": "stream",
     "text": []
    },
    {
     "name": "stdout",
     "output_type": "stream",
     "text": [
      "4425\n",
      "4426\n",
      "4427\n",
      "4428\n",
      "4429\n",
      "4430\n",
      "4431\n",
      "4432\n",
      "4433\n",
      "4434\n",
      "4435\n",
      "4436\n",
      "4437\n",
      "4438\n",
      "4439\n",
      "4440\n",
      "4441\n",
      "4442\n",
      "4443\n",
      "4444\n",
      "4445\n",
      "4446\n",
      "4447\n",
      "4448\n",
      "4449\n"
     ]
    },
    {
     "name": "stderr",
     "output_type": "stream",
     "text": []
    },
    {
     "name": "stdout",
     "output_type": "stream",
     "text": [
      "4450\n",
      "4451\n",
      "4452\n",
      "4453\n"
     ]
    },
    {
     "name": "stderr",
     "output_type": "stream",
     "text": []
    },
    {
     "name": "stdout",
     "output_type": "stream",
     "text": [
      "4454\n",
      "4455\n"
     ]
    },
    {
     "name": "stderr",
     "output_type": "stream",
     "text": []
    },
    {
     "name": "stdout",
     "output_type": "stream",
     "text": [
      "4456\n",
      "4457\n"
     ]
    },
    {
     "name": "stderr",
     "output_type": "stream",
     "text": []
    },
    {
     "name": "stdout",
     "output_type": "stream",
     "text": [
      "4458\n"
     ]
    },
    {
     "name": "stderr",
     "output_type": "stream",
     "text": []
    },
    {
     "name": "stdout",
     "output_type": "stream",
     "text": [
      "4459\n",
      "4460\n"
     ]
    },
    {
     "name": "stderr",
     "output_type": "stream",
     "text": []
    },
    {
     "name": "stdout",
     "output_type": "stream",
     "text": [
      "4461\n",
      "4462\n"
     ]
    },
    {
     "name": "stderr",
     "output_type": "stream",
     "text": []
    },
    {
     "name": "stdout",
     "output_type": "stream",
     "text": [
      "4463\n"
     ]
    },
    {
     "name": "stderr",
     "output_type": "stream",
     "text": []
    },
    {
     "name": "stdout",
     "output_type": "stream",
     "text": [
      "4464\n",
      "4465\n"
     ]
    },
    {
     "name": "stderr",
     "output_type": "stream",
     "text": []
    },
    {
     "name": "stdout",
     "output_type": "stream",
     "text": [
      "4466\n"
     ]
    },
    {
     "name": "stderr",
     "output_type": "stream",
     "text": []
    },
    {
     "name": "stdout",
     "output_type": "stream",
     "text": [
      "4467\n",
      "4468\n",
      "4469\n",
      "4470\n",
      "4471\n",
      "4472\n",
      "4473\n",
      "4474\n",
      "4475\n",
      "4476\n",
      "4477\n",
      "4478\n",
      "4479\n",
      "4480\n",
      "4481\n",
      "4482\n",
      "4483\n",
      "4484\n",
      "4485\n",
      "4486\n",
      "4487\n",
      "4488\n",
      "4489\n",
      "4490\n",
      "4491\n",
      "4492\n",
      "4493\n",
      "4494\n",
      "4495\n",
      "4496\n",
      "4497\n",
      "4498\n",
      "4499\n",
      "4500\n",
      "4501\n",
      "4502\n",
      "4503\n",
      "4504\n",
      "4505\n",
      "4506\n",
      "4507\n",
      "4508\n",
      "4509\n",
      "4510\n",
      "4511\n",
      "4512\n",
      "4513\n",
      "4514\n",
      "4515\n",
      "4516\n",
      "4517\n",
      "4518\n",
      "4519\n",
      "4520\n",
      "4521\n",
      "4522\n",
      "4523\n",
      "4524\n",
      "4525\n",
      "4526\n",
      "4527\n",
      "4528\n",
      "4529\n",
      "4530\n",
      "4531\n",
      "4532\n",
      "4533\n",
      "4534\n",
      "4535\n",
      "4536\n",
      "4537\n",
      "4538\n",
      "4539\n",
      "4540\n",
      "4541\n",
      "4542\n",
      "4543\n",
      "4544\n",
      "4545\n",
      "4546\n",
      "4547\n",
      "4548\n",
      "4549\n",
      "4550\n",
      "4551\n",
      "4552\n",
      "4553\n",
      "4554\n",
      "4555\n",
      "4556\n",
      "4557\n",
      "4558\n",
      "4559\n",
      "4560\n",
      "4561\n",
      "4562\n",
      "4563\n",
      "4564\n",
      "4565\n",
      "4566\n",
      "4567\n",
      "4568\n",
      "4569\n",
      "4570\n",
      "4571\n",
      "4572\n",
      "4573\n",
      "4574\n",
      "4575\n",
      "4576\n"
     ]
    },
    {
     "name": "stderr",
     "output_type": "stream",
     "text": []
    },
    {
     "name": "stdout",
     "output_type": "stream",
     "text": [
      "4577\n",
      "4578\n",
      "4579\n",
      "4580\n"
     ]
    },
    {
     "name": "stderr",
     "output_type": "stream",
     "text": []
    },
    {
     "name": "stdout",
     "output_type": "stream",
     "text": [
      "4581\n",
      "4582\n",
      "4583\n",
      "4584\n",
      "4585\n",
      "4586\n",
      "4587\n",
      "4588\n",
      "4589\n",
      "4590\n",
      "4591\n",
      "4592\n",
      "4593\n",
      "4594\n",
      "4595\n",
      "4596\n",
      "4597\n",
      "4598\n",
      "4599\n",
      "4600\n",
      "4601\n",
      "4602\n",
      "4603\n",
      "4604\n",
      "4605\n",
      "4606\n",
      "4607\n",
      "4608\n",
      "4609\n",
      "4610\n",
      "4611\n",
      "4612\n",
      "4613\n",
      "4614\n",
      "4615\n",
      "4616\n",
      "4617\n",
      "4618\n",
      "4619\n",
      "4620\n",
      "4621\n",
      "4622\n",
      "4623\n",
      "4624\n",
      "4625\n",
      "4626\n",
      "4627\n",
      "4628\n",
      "4629\n",
      "4630\n",
      "4631\n",
      "4632\n",
      "4633\n",
      "4634\n",
      "4635\n",
      "4636\n",
      "4637\n",
      "4638\n",
      "4639\n",
      "4640\n",
      "4641\n",
      "4642\n",
      "4643\n",
      "4644\n",
      "4645\n",
      "4646\n",
      "4647\n",
      "4648\n",
      "4649\n",
      "4650\n",
      "4651\n",
      "4652\n",
      "4653\n",
      "4654\n",
      "4655\n",
      "4656\n",
      "4657\n",
      "4658\n",
      "4659\n",
      "4660\n",
      "4661\n",
      "4662\n",
      "4663\n",
      "4664\n",
      "4665\n",
      "4666\n",
      "4667\n",
      "4668\n",
      "4669\n",
      "4670\n",
      "4671\n",
      "4672\n",
      "4673\n",
      "4674\n",
      "4675\n",
      "4676\n",
      "4677\n",
      "4678\n",
      "4679\n",
      "4680\n",
      "4681\n",
      "4682\n",
      "4683\n",
      "4684\n",
      "4685\n",
      "4686\n",
      "4687\n",
      "4688\n",
      "4689\n",
      "4690\n",
      "4691\n",
      "4692\n",
      "4693\n",
      "4694\n",
      "4695\n",
      "4696\n",
      "4697\n",
      "4698\n",
      "4699\n"
     ]
    },
    {
     "name": "stderr",
     "output_type": "stream",
     "text": []
    },
    {
     "name": "stdout",
     "output_type": "stream",
     "text": [
      "4700\n"
     ]
    },
    {
     "name": "stderr",
     "output_type": "stream",
     "text": []
    },
    {
     "name": "stdout",
     "output_type": "stream",
     "text": [
      "4701\n",
      "4702\n",
      "4703\n",
      "4704\n",
      "4705\n",
      "4706\n",
      "4707\n",
      "4708\n"
     ]
    },
    {
     "name": "stderr",
     "output_type": "stream",
     "text": []
    },
    {
     "name": "stdout",
     "output_type": "stream",
     "text": [
      "4709\n",
      "4710\n",
      "4711\n",
      "4712\n",
      "4713\n",
      "4714\n",
      "4715\n",
      "4716\n",
      "4717\n"
     ]
    },
    {
     "name": "stderr",
     "output_type": "stream",
     "text": []
    },
    {
     "name": "stdout",
     "output_type": "stream",
     "text": [
      "4718\n",
      "4719\n",
      "4720\n",
      "4721\n",
      "4722\n",
      "4723\n",
      "4724\n",
      "4725\n",
      "4726\n",
      "4727\n",
      "4728\n",
      "4729\n",
      "4730\n",
      "4731\n",
      "4732\n",
      "4733\n",
      "4734\n",
      "4735\n",
      "4736\n",
      "4737\n",
      "4738\n",
      "4739\n",
      "4740\n",
      "4741\n",
      "4742\n"
     ]
    },
    {
     "name": "stderr",
     "output_type": "stream",
     "text": []
    },
    {
     "name": "stdout",
     "output_type": "stream",
     "text": [
      "4743\n",
      "4744\n",
      "4745\n",
      "4746\n",
      "4747\n",
      "4748\n",
      "4749\n",
      "4750\n",
      "4751\n",
      "4752\n",
      "4753\n",
      "4754\n",
      "4755\n",
      "4756\n",
      "4757\n",
      "4758\n",
      "4759\n",
      "4760\n",
      "4761\n",
      "4762\n",
      "4763\n",
      "4764\n",
      "4765\n",
      "4766\n",
      "4767\n",
      "4768\n",
      "4769\n",
      "4770\n",
      "4771\n",
      "4772\n",
      "4773\n",
      "4774\n",
      "4775\n",
      "4776\n"
     ]
    },
    {
     "name": "stderr",
     "output_type": "stream",
     "text": []
    },
    {
     "name": "stdout",
     "output_type": "stream",
     "text": [
      "4777\n",
      "4778\n",
      "4779\n",
      "4780\n"
     ]
    },
    {
     "name": "stderr",
     "output_type": "stream",
     "text": []
    },
    {
     "name": "stdout",
     "output_type": "stream",
     "text": [
      "4781\n",
      "4782\n",
      "4783\n",
      "4784\n",
      "4785\n",
      "4786\n",
      "4787\n",
      "4788\n",
      "4789\n",
      "4790\n",
      "4791\n",
      "4792\n",
      "4793\n",
      "4794\n",
      "4795\n",
      "4796\n",
      "4797\n",
      "4798\n",
      "4799\n",
      "4800\n",
      "4801\n",
      "4802\n",
      "4803\n",
      "4804\n",
      "4805\n",
      "4806\n",
      "4807\n",
      "4808\n",
      "4809\n",
      "4810\n",
      "4811\n",
      "4812\n",
      "4813\n",
      "4814\n",
      "4815\n",
      "4816\n",
      "4817\n",
      "4818\n",
      "4819\n",
      "4820\n",
      "4821\n",
      "4822\n"
     ]
    },
    {
     "name": "stderr",
     "output_type": "stream",
     "text": []
    },
    {
     "name": "stdout",
     "output_type": "stream",
     "text": [
      "4823\n",
      "4824\n",
      "4825\n",
      "4826\n",
      "4827\n"
     ]
    },
    {
     "name": "stderr",
     "output_type": "stream",
     "text": []
    },
    {
     "name": "stdout",
     "output_type": "stream",
     "text": [
      "4828\n",
      "4829\n",
      "4830\n",
      "4831\n",
      "4832\n",
      "4833\n",
      "4834\n",
      "4835\n",
      "4836\n"
     ]
    },
    {
     "name": "stderr",
     "output_type": "stream",
     "text": []
    },
    {
     "name": "stdout",
     "output_type": "stream",
     "text": [
      "4837\n",
      "4838\n",
      "4839\n",
      "4840\n",
      "4841\n",
      "4842\n",
      "4843\n",
      "4844\n",
      "4845\n",
      "4846\n",
      "4847\n",
      "4848\n",
      "4849\n",
      "4850\n",
      "4851\n",
      "4852\n",
      "4853\n",
      "4854\n",
      "4855\n",
      "4856\n",
      "4857\n"
     ]
    },
    {
     "name": "stderr",
     "output_type": "stream",
     "text": []
    },
    {
     "name": "stdout",
     "output_type": "stream",
     "text": [
      "4858\n",
      "4859\n",
      "4860\n",
      "4861\n",
      "4862\n",
      "4863\n",
      "4864\n",
      "4865\n",
      "4866\n",
      "4867\n",
      "4868\n",
      "4869\n",
      "4870\n",
      "4871\n",
      "4872\n",
      "4873\n",
      "4874\n",
      "4875\n",
      "4876\n",
      "4877\n",
      "4878\n",
      "4879\n",
      "4880\n"
     ]
    },
    {
     "name": "stderr",
     "output_type": "stream",
     "text": []
    },
    {
     "name": "stdout",
     "output_type": "stream",
     "text": [
      "4881\n",
      "4882\n",
      "4883\n",
      "4884\n",
      "4885\n",
      "4886\n"
     ]
    },
    {
     "name": "stderr",
     "output_type": "stream",
     "text": []
    },
    {
     "name": "stdout",
     "output_type": "stream",
     "text": [
      "4887\n",
      "4888\n",
      "4889\n"
     ]
    },
    {
     "name": "stderr",
     "output_type": "stream",
     "text": []
    },
    {
     "name": "stdout",
     "output_type": "stream",
     "text": [
      "4890\n",
      "4891\n",
      "4892\n",
      "4893\n",
      "4894\n",
      "4895\n",
      "4896\n",
      "4897\n",
      "4898\n",
      "4899\n",
      "4900\n",
      "4901\n",
      "4902\n",
      "4903\n",
      "4904\n",
      "4905\n",
      "4906\n",
      "4907\n",
      "4908\n",
      "4909\n",
      "4910\n",
      "4911\n",
      "4912\n",
      "4913\n",
      "4914\n",
      "4915\n"
     ]
    },
    {
     "name": "stderr",
     "output_type": "stream",
     "text": [
      "Processing image IDs: 100%|██████████| 900/900 [03:10<00:00,  4.71it/s]\n"
     ]
    }
   ],
   "source": [
    "# Iterate over each image ID in dfraw\n",
    "for imgid in tqdm(df['imgID'][100:1000], desc=\"Processing image IDs\"):\n",
    "    # Get groups for the current image ID\n",
    "    groups = get_photo_groups(api_key, imgid)\n",
    "\n",
    "    # Iterate over each group and store the details along with the image ID\n",
    "    for group in groups:\n",
    "        group_info = {\n",
    "            \"imgid\": imgid,\n",
    "            \"group_id\": group.get(\"id\"),\n",
    "            \"title\": group.get(\"title\"),\n",
    "            \"member_count\": group.get(\"member_count\"),\n",
    "            \"pool_count\": group.get(\"pool_count\")\n",
    "            # Add other details here if needed\n",
    "        }\n",
    "        group_data.append(group_info)"
   ]
  },
  {
   "cell_type": "code",
   "execution_count": 25,
   "metadata": {},
   "outputs": [
    {
     "data": {
      "text/html": [
       "<div>\n",
       "<style scoped>\n",
       "    .dataframe tbody tr th:only-of-type {\n",
       "        vertical-align: middle;\n",
       "    }\n",
       "\n",
       "    .dataframe tbody tr th {\n",
       "        vertical-align: top;\n",
       "    }\n",
       "\n",
       "    .dataframe thead th {\n",
       "        text-align: right;\n",
       "    }\n",
       "</style>\n",
       "<table border=\"1\" class=\"dataframe\">\n",
       "  <thead>\n",
       "    <tr style=\"text-align: right;\">\n",
       "      <th></th>\n",
       "      <th>imgid</th>\n",
       "      <th>group_id</th>\n",
       "      <th>title</th>\n",
       "      <th>member_count</th>\n",
       "      <th>pool_count</th>\n",
       "    </tr>\n",
       "  </thead>\n",
       "  <tbody>\n",
       "    <tr>\n",
       "      <th>0</th>\n",
       "      <td>385070026</td>\n",
       "      <td>2131946@N24</td>\n",
       "      <td>♥♥♥PE0PLE FR0M AR0UND THE W0RLD♥♥♥\"FRIENDS\"♥♥</td>\n",
       "      <td>1115</td>\n",
       "      <td>6875</td>\n",
       "    </tr>\n",
       "    <tr>\n",
       "      <th>1</th>\n",
       "      <td>385070026</td>\n",
       "      <td>1344524@N24</td>\n",
       "      <td>Viva la Vida!  Alma e Cuore (P1-A5)</td>\n",
       "      <td>9463</td>\n",
       "      <td>340173</td>\n",
       "    </tr>\n",
       "    <tr>\n",
       "      <th>2</th>\n",
       "      <td>385070026</td>\n",
       "      <td>855034@N21</td>\n",
       "      <td>The Biggest Group! - Playground For Psychotics</td>\n",
       "      <td>8228</td>\n",
       "      <td>1265747</td>\n",
       "    </tr>\n",
       "    <tr>\n",
       "      <th>3</th>\n",
       "      <td>385070026</td>\n",
       "      <td>75277045@N00</td>\n",
       "      <td>Self -help group for flickr addicts</td>\n",
       "      <td>785</td>\n",
       "      <td>20454</td>\n",
       "    </tr>\n",
       "    <tr>\n",
       "      <th>4</th>\n",
       "      <td>385070026</td>\n",
       "      <td>26964488@N00</td>\n",
       "      <td>Powerful Portraits</td>\n",
       "      <td>10666</td>\n",
       "      <td>330500</td>\n",
       "    </tr>\n",
       "    <tr>\n",
       "      <th>...</th>\n",
       "      <td>...</td>\n",
       "      <td>...</td>\n",
       "      <td>...</td>\n",
       "      <td>...</td>\n",
       "      <td>...</td>\n",
       "    </tr>\n",
       "    <tr>\n",
       "      <th>4910</th>\n",
       "      <td>16272277884</td>\n",
       "      <td>992994@N21</td>\n",
       "      <td>50mm for fiddy days</td>\n",
       "      <td>44</td>\n",
       "      <td>599</td>\n",
       "    </tr>\n",
       "    <tr>\n",
       "      <th>4911</th>\n",
       "      <td>16272277884</td>\n",
       "      <td>873614@N24</td>\n",
       "      <td>Canon EF 50mm 1:1.8 II</td>\n",
       "      <td>7423</td>\n",
       "      <td>81793</td>\n",
       "    </tr>\n",
       "    <tr>\n",
       "      <th>4912</th>\n",
       "      <td>16272277884</td>\n",
       "      <td>38788700@N00</td>\n",
       "      <td>+ Sneakers ( 鞋子,スニーカー )</td>\n",
       "      <td>1567</td>\n",
       "      <td>19632</td>\n",
       "    </tr>\n",
       "    <tr>\n",
       "      <th>4913</th>\n",
       "      <td>16272277884</td>\n",
       "      <td>26773844@N00</td>\n",
       "      <td>Air Jordan</td>\n",
       "      <td>839</td>\n",
       "      <td>4080</td>\n",
       "    </tr>\n",
       "    <tr>\n",
       "      <th>4914</th>\n",
       "      <td>16272277884</td>\n",
       "      <td>98355849@N00</td>\n",
       "      <td>Are you a sneaker freak?</td>\n",
       "      <td>1368</td>\n",
       "      <td>17916</td>\n",
       "    </tr>\n",
       "  </tbody>\n",
       "</table>\n",
       "<p>4915 rows × 5 columns</p>\n",
       "</div>"
      ],
      "text/plain": [
       "            imgid      group_id  \\\n",
       "0       385070026   2131946@N24   \n",
       "1       385070026   1344524@N24   \n",
       "2       385070026    855034@N21   \n",
       "3       385070026  75277045@N00   \n",
       "4       385070026  26964488@N00   \n",
       "...           ...           ...   \n",
       "4910  16272277884    992994@N21   \n",
       "4911  16272277884    873614@N24   \n",
       "4912  16272277884  38788700@N00   \n",
       "4913  16272277884  26773844@N00   \n",
       "4914  16272277884  98355849@N00   \n",
       "\n",
       "                                               title member_count pool_count  \n",
       "0      ♥♥♥PE0PLE FR0M AR0UND THE W0RLD♥♥♥\"FRIENDS\"♥♥         1115       6875  \n",
       "1                Viva la Vida!  Alma e Cuore (P1-A5)         9463     340173  \n",
       "2     The Biggest Group! - Playground For Psychotics         8228    1265747  \n",
       "3                Self -help group for flickr addicts          785      20454  \n",
       "4                                 Powerful Portraits        10666     330500  \n",
       "...                                              ...          ...        ...  \n",
       "4910                             50mm for fiddy days           44        599  \n",
       "4911                          Canon EF 50mm 1:1.8 II         7423      81793  \n",
       "4912                         + Sneakers ( 鞋子,スニーカー )         1567      19632  \n",
       "4913                                      Air Jordan          839       4080  \n",
       "4914                        Are you a sneaker freak?         1368      17916  \n",
       "\n",
       "[4915 rows x 5 columns]"
      ]
     },
     "execution_count": 25,
     "metadata": {},
     "output_type": "execute_result"
    }
   ],
   "source": [
    "# Create a DataFrame from the collected group data\n",
    "group_df = pd.DataFrame(group_data)\n",
    "\n",
    "# Display the first few rows of the new DataFrame\n",
    "group_df"
   ]
  },
  {
   "cell_type": "code",
   "execution_count": 26,
   "metadata": {},
   "outputs": [
    {
     "data": {
      "text/plain": [
       "4497890817     154\n",
       "12288905253    153\n",
       "16252707364    119\n",
       "16249237884    110\n",
       "13928613034    110\n",
       "              ... \n",
       "16199971983      1\n",
       "15463930689      1\n",
       "15465000670      1\n",
       "16197777543      1\n",
       "15422857619      1\n",
       "Name: imgid, Length: 286, dtype: int64"
      ]
     },
     "execution_count": 26,
     "metadata": {},
     "output_type": "execute_result"
    }
   ],
   "source": [
    "group_df['imgid'].value_counts()"
   ]
  },
  {
   "cell_type": "code",
   "execution_count": 27,
   "metadata": {},
   "outputs": [
    {
     "name": "stderr",
     "output_type": "stream",
     "text": [
      "Processing image IDs:  32%|███▏      | 3203/10000 [12:59<6:07:35,  3.24s/it]"
     ]
    },
    {
     "name": "stdout",
     "output_type": "stream",
     "text": [
      "Error: 500\n"
     ]
    },
    {
     "name": "stderr",
     "output_type": "stream",
     "text": [
      "Processing image IDs:  62%|██████▏   | 6238/10000 [25:42<3:24:56,  3.27s/it]"
     ]
    },
    {
     "name": "stdout",
     "output_type": "stream",
     "text": [
      "Error: 500\n"
     ]
    },
    {
     "name": "stderr",
     "output_type": "stream",
     "text": [
      "Processing image IDs: 100%|██████████| 10000/10000 [41:07<00:00,  4.05it/s] \n"
     ]
    }
   ],
   "source": [
    "import time\n",
    "from tqdm import tqdm\n",
    "# df, start_index, end_index, api_key, \n",
    "rate_limit=2000\n",
    "\n",
    "# Calculate the time interval between requests to respect the rate limit\n",
    "interval = 60.0 / rate_limit  # 60 seconds divided by the number of requests per minute\n",
    "\n",
    "last_request_time = time.time()\n",
    "\n",
    "# Wrap the iteration in tqdm for progress tracking\n",
    "for imgid in tqdm(df['imgID'][1000:11000], desc=\"Processing image IDs\", position=0):\n",
    "    try:\n",
    "        # Wait if the interval since the last request is less than the desired rate limit interval\n",
    "        while time.time() - last_request_time < interval:\n",
    "            time.sleep(interval - (time.time() - last_request_time))\n",
    "\n",
    "        # Get groups for the current image ID\n",
    "        groups = get_photo_groups(api_key, imgid)\n",
    "        last_request_time = time.time()\n",
    "\n",
    "        # Iterate over each group and store the details\n",
    "        for group in groups:\n",
    "            group_info = {\n",
    "                \"imgid\": imgid,\n",
    "                \"group_id\": group.get(\"id\"),\n",
    "                \"title\": group.get(\"title\"),\n",
    "                \"member_count\": group.get(\"member_count\"),\n",
    "                \"pool_count\": group.get(\"pool_count\")\n",
    "            }\n",
    "            group_data.append(group_info)\n",
    "\n",
    "    except Exception as e:\n",
    "        print(f\"Error processing image ID {imgid}: {e}\")\n",
    "        # Optional: wait for 30 seconds before continuing\n",
    "        time.sleep(30)"
   ]
  },
  {
   "cell_type": "code",
   "execution_count": 28,
   "metadata": {},
   "outputs": [
    {
     "data": {
      "text/html": [
       "<div>\n",
       "<style scoped>\n",
       "    .dataframe tbody tr th:only-of-type {\n",
       "        vertical-align: middle;\n",
       "    }\n",
       "\n",
       "    .dataframe tbody tr th {\n",
       "        vertical-align: top;\n",
       "    }\n",
       "\n",
       "    .dataframe thead th {\n",
       "        text-align: right;\n",
       "    }\n",
       "</style>\n",
       "<table border=\"1\" class=\"dataframe\">\n",
       "  <thead>\n",
       "    <tr style=\"text-align: right;\">\n",
       "      <th></th>\n",
       "      <th>imgid</th>\n",
       "      <th>group_id</th>\n",
       "      <th>title</th>\n",
       "      <th>member_count</th>\n",
       "      <th>pool_count</th>\n",
       "    </tr>\n",
       "  </thead>\n",
       "  <tbody>\n",
       "    <tr>\n",
       "      <th>0</th>\n",
       "      <td>385070026</td>\n",
       "      <td>2131946@N24</td>\n",
       "      <td>♥♥♥PE0PLE FR0M AR0UND THE W0RLD♥♥♥\"FRIENDS\"♥♥</td>\n",
       "      <td>1115</td>\n",
       "      <td>6875</td>\n",
       "    </tr>\n",
       "    <tr>\n",
       "      <th>1</th>\n",
       "      <td>385070026</td>\n",
       "      <td>1344524@N24</td>\n",
       "      <td>Viva la Vida!  Alma e Cuore (P1-A5)</td>\n",
       "      <td>9463</td>\n",
       "      <td>340173</td>\n",
       "    </tr>\n",
       "    <tr>\n",
       "      <th>2</th>\n",
       "      <td>385070026</td>\n",
       "      <td>855034@N21</td>\n",
       "      <td>The Biggest Group! - Playground For Psychotics</td>\n",
       "      <td>8228</td>\n",
       "      <td>1265747</td>\n",
       "    </tr>\n",
       "    <tr>\n",
       "      <th>3</th>\n",
       "      <td>385070026</td>\n",
       "      <td>75277045@N00</td>\n",
       "      <td>Self -help group for flickr addicts</td>\n",
       "      <td>785</td>\n",
       "      <td>20454</td>\n",
       "    </tr>\n",
       "    <tr>\n",
       "      <th>4</th>\n",
       "      <td>385070026</td>\n",
       "      <td>26964488@N00</td>\n",
       "      <td>Powerful Portraits</td>\n",
       "      <td>10666</td>\n",
       "      <td>330500</td>\n",
       "    </tr>\n",
       "    <tr>\n",
       "      <th>...</th>\n",
       "      <td>...</td>\n",
       "      <td>...</td>\n",
       "      <td>...</td>\n",
       "      <td>...</td>\n",
       "      <td>...</td>\n",
       "    </tr>\n",
       "    <tr>\n",
       "      <th>57547</th>\n",
       "      <td>17562316500</td>\n",
       "      <td>394469@N21</td>\n",
       "      <td>pet central</td>\n",
       "      <td>3810</td>\n",
       "      <td>37131</td>\n",
       "    </tr>\n",
       "    <tr>\n",
       "      <th>57548</th>\n",
       "      <td>17562316500</td>\n",
       "      <td>616311@N21</td>\n",
       "      <td>Dogs, all shapes and sizes</td>\n",
       "      <td>7135</td>\n",
       "      <td>104010</td>\n",
       "    </tr>\n",
       "    <tr>\n",
       "      <th>57549</th>\n",
       "      <td>17562316500</td>\n",
       "      <td>35034344814@N01</td>\n",
       "      <td>Dogs! Dogs! Dogs!</td>\n",
       "      <td>128289</td>\n",
       "      <td>1068253</td>\n",
       "    </tr>\n",
       "    <tr>\n",
       "      <th>57550</th>\n",
       "      <td>17562316500</td>\n",
       "      <td>68596255@N00</td>\n",
       "      <td>Dogs for fun Photos :-)</td>\n",
       "      <td>8760</td>\n",
       "      <td>110033</td>\n",
       "    </tr>\n",
       "    <tr>\n",
       "      <th>57551</th>\n",
       "      <td>17562316500</td>\n",
       "      <td>467849@N23</td>\n",
       "      <td>Dog Days!</td>\n",
       "      <td>24133</td>\n",
       "      <td>194990</td>\n",
       "    </tr>\n",
       "  </tbody>\n",
       "</table>\n",
       "<p>57552 rows × 5 columns</p>\n",
       "</div>"
      ],
      "text/plain": [
       "             imgid         group_id  \\\n",
       "0        385070026      2131946@N24   \n",
       "1        385070026      1344524@N24   \n",
       "2        385070026       855034@N21   \n",
       "3        385070026     75277045@N00   \n",
       "4        385070026     26964488@N00   \n",
       "...            ...              ...   \n",
       "57547  17562316500       394469@N21   \n",
       "57548  17562316500       616311@N21   \n",
       "57549  17562316500  35034344814@N01   \n",
       "57550  17562316500     68596255@N00   \n",
       "57551  17562316500       467849@N23   \n",
       "\n",
       "                                                title member_count pool_count  \n",
       "0       ♥♥♥PE0PLE FR0M AR0UND THE W0RLD♥♥♥\"FRIENDS\"♥♥         1115       6875  \n",
       "1                 Viva la Vida!  Alma e Cuore (P1-A5)         9463     340173  \n",
       "2      The Biggest Group! - Playground For Psychotics         8228    1265747  \n",
       "3                 Self -help group for flickr addicts          785      20454  \n",
       "4                                  Powerful Portraits        10666     330500  \n",
       "...                                               ...          ...        ...  \n",
       "57547                                     pet central         3810      37131  \n",
       "57548                      Dogs, all shapes and sizes         7135     104010  \n",
       "57549                               Dogs! Dogs! Dogs!       128289    1068253  \n",
       "57550                         Dogs for fun Photos :-)         8760     110033  \n",
       "57551                                       Dog Days!        24133     194990  \n",
       "\n",
       "[57552 rows x 5 columns]"
      ]
     },
     "execution_count": 28,
     "metadata": {},
     "output_type": "execute_result"
    }
   ],
   "source": [
    "# Create a DataFrame from the collected group data\n",
    "group_df = pd.DataFrame(group_data)\n",
    "\n",
    "# Display the first few rows of the new DataFrame\n",
    "group_df"
   ]
  },
  {
   "cell_type": "code",
   "execution_count": 30,
   "metadata": {},
   "outputs": [
    {
     "data": {
      "text/html": [
       "<div>\n",
       "<style scoped>\n",
       "    .dataframe tbody tr th:only-of-type {\n",
       "        vertical-align: middle;\n",
       "    }\n",
       "\n",
       "    .dataframe tbody tr th {\n",
       "        vertical-align: top;\n",
       "    }\n",
       "\n",
       "    .dataframe thead th {\n",
       "        text-align: right;\n",
       "    }\n",
       "</style>\n",
       "<table border=\"1\" class=\"dataframe\">\n",
       "  <thead>\n",
       "    <tr style=\"text-align: right;\">\n",
       "      <th></th>\n",
       "      <th>imgid</th>\n",
       "      <th>group_id</th>\n",
       "      <th>title</th>\n",
       "      <th>member_count</th>\n",
       "      <th>pool_count</th>\n",
       "    </tr>\n",
       "  </thead>\n",
       "  <tbody>\n",
       "    <tr>\n",
       "      <th>0</th>\n",
       "      <td>385070026</td>\n",
       "      <td>2131946@N24</td>\n",
       "      <td>♥♥♥PE0PLE FR0M AR0UND THE W0RLD♥♥♥\"FRIENDS\"♥♥</td>\n",
       "      <td>1115</td>\n",
       "      <td>6875</td>\n",
       "    </tr>\n",
       "    <tr>\n",
       "      <th>1</th>\n",
       "      <td>385070026</td>\n",
       "      <td>1344524@N24</td>\n",
       "      <td>Viva la Vida!  Alma e Cuore (P1-A5)</td>\n",
       "      <td>9463</td>\n",
       "      <td>340173</td>\n",
       "    </tr>\n",
       "    <tr>\n",
       "      <th>2</th>\n",
       "      <td>385070026</td>\n",
       "      <td>855034@N21</td>\n",
       "      <td>The Biggest Group! - Playground For Psychotics</td>\n",
       "      <td>8228</td>\n",
       "      <td>1265747</td>\n",
       "    </tr>\n",
       "    <tr>\n",
       "      <th>3</th>\n",
       "      <td>385070026</td>\n",
       "      <td>75277045@N00</td>\n",
       "      <td>Self -help group for flickr addicts</td>\n",
       "      <td>785</td>\n",
       "      <td>20454</td>\n",
       "    </tr>\n",
       "    <tr>\n",
       "      <th>4</th>\n",
       "      <td>385070026</td>\n",
       "      <td>26964488@N00</td>\n",
       "      <td>Powerful Portraits</td>\n",
       "      <td>10666</td>\n",
       "      <td>330500</td>\n",
       "    </tr>\n",
       "    <tr>\n",
       "      <th>...</th>\n",
       "      <td>...</td>\n",
       "      <td>...</td>\n",
       "      <td>...</td>\n",
       "      <td>...</td>\n",
       "      <td>...</td>\n",
       "    </tr>\n",
       "    <tr>\n",
       "      <th>57547</th>\n",
       "      <td>17562316500</td>\n",
       "      <td>394469@N21</td>\n",
       "      <td>pet central</td>\n",
       "      <td>3810</td>\n",
       "      <td>37131</td>\n",
       "    </tr>\n",
       "    <tr>\n",
       "      <th>57548</th>\n",
       "      <td>17562316500</td>\n",
       "      <td>616311@N21</td>\n",
       "      <td>Dogs, all shapes and sizes</td>\n",
       "      <td>7135</td>\n",
       "      <td>104010</td>\n",
       "    </tr>\n",
       "    <tr>\n",
       "      <th>57549</th>\n",
       "      <td>17562316500</td>\n",
       "      <td>35034344814@N01</td>\n",
       "      <td>Dogs! Dogs! Dogs!</td>\n",
       "      <td>128289</td>\n",
       "      <td>1068253</td>\n",
       "    </tr>\n",
       "    <tr>\n",
       "      <th>57550</th>\n",
       "      <td>17562316500</td>\n",
       "      <td>68596255@N00</td>\n",
       "      <td>Dogs for fun Photos :-)</td>\n",
       "      <td>8760</td>\n",
       "      <td>110033</td>\n",
       "    </tr>\n",
       "    <tr>\n",
       "      <th>57551</th>\n",
       "      <td>17562316500</td>\n",
       "      <td>467849@N23</td>\n",
       "      <td>Dog Days!</td>\n",
       "      <td>24133</td>\n",
       "      <td>194990</td>\n",
       "    </tr>\n",
       "  </tbody>\n",
       "</table>\n",
       "<p>57552 rows × 5 columns</p>\n",
       "</div>"
      ],
      "text/plain": [
       "             imgid         group_id  \\\n",
       "0        385070026      2131946@N24   \n",
       "1        385070026      1344524@N24   \n",
       "2        385070026       855034@N21   \n",
       "3        385070026     75277045@N00   \n",
       "4        385070026     26964488@N00   \n",
       "...            ...              ...   \n",
       "57547  17562316500       394469@N21   \n",
       "57548  17562316500       616311@N21   \n",
       "57549  17562316500  35034344814@N01   \n",
       "57550  17562316500     68596255@N00   \n",
       "57551  17562316500       467849@N23   \n",
       "\n",
       "                                                title member_count pool_count  \n",
       "0       ♥♥♥PE0PLE FR0M AR0UND THE W0RLD♥♥♥\"FRIENDS\"♥♥         1115       6875  \n",
       "1                 Viva la Vida!  Alma e Cuore (P1-A5)         9463     340173  \n",
       "2      The Biggest Group! - Playground For Psychotics         8228    1265747  \n",
       "3                 Self -help group for flickr addicts          785      20454  \n",
       "4                                  Powerful Portraits        10666     330500  \n",
       "...                                               ...          ...        ...  \n",
       "57547                                     pet central         3810      37131  \n",
       "57548                      Dogs, all shapes and sizes         7135     104010  \n",
       "57549                               Dogs! Dogs! Dogs!       128289    1068253  \n",
       "57550                         Dogs for fun Photos :-)         8760     110033  \n",
       "57551                                       Dog Days!        24133     194990  \n",
       "\n",
       "[57552 rows x 5 columns]"
      ]
     },
     "execution_count": 30,
     "metadata": {},
     "output_type": "execute_result"
    }
   ],
   "source": [
    "group_df.drop_duplicates()"
   ]
  },
  {
   "cell_type": "code",
   "execution_count": 44,
   "metadata": {},
   "outputs": [
    {
     "data": {
      "text/html": [
       "<div>\n",
       "<style scoped>\n",
       "    .dataframe tbody tr th:only-of-type {\n",
       "        vertical-align: middle;\n",
       "    }\n",
       "\n",
       "    .dataframe tbody tr th {\n",
       "        vertical-align: top;\n",
       "    }\n",
       "\n",
       "    .dataframe thead th {\n",
       "        text-align: right;\n",
       "    }\n",
       "</style>\n",
       "<table border=\"1\" class=\"dataframe\">\n",
       "  <thead>\n",
       "    <tr style=\"text-align: right;\">\n",
       "      <th></th>\n",
       "      <th>imgid</th>\n",
       "      <th>group_id</th>\n",
       "      <th>title</th>\n",
       "      <th>member_count</th>\n",
       "      <th>pool_count</th>\n",
       "    </tr>\n",
       "  </thead>\n",
       "  <tbody>\n",
       "    <tr>\n",
       "      <th>31750</th>\n",
       "      <td>16945993822</td>\n",
       "      <td>38613568@N00</td>\n",
       "      <td>BLACK AND WHITE PHOTO HEAVEN!</td>\n",
       "      <td>28631</td>\n",
       "      <td>1353242</td>\n",
       "    </tr>\n",
       "  </tbody>\n",
       "</table>\n",
       "</div>"
      ],
      "text/plain": [
       "             imgid      group_id                          title member_count  \\\n",
       "31750  16945993822  38613568@N00  BLACK AND WHITE PHOTO HEAVEN!        28631   \n",
       "\n",
       "      pool_count  \n",
       "31750    1353242  "
      ]
     },
     "execution_count": 44,
     "metadata": {},
     "output_type": "execute_result"
    }
   ],
   "source": [
    "group_df[(group_df['imgid']=='16945993822') & (group_df['title'].str.startswith('BLACK'))].sort_values(by='pool_count')"
   ]
  },
  {
   "cell_type": "code",
   "execution_count": 29,
   "metadata": {},
   "outputs": [
    {
     "data": {
      "text/plain": [
       "16945993822    690\n",
       "16759614658    671\n",
       "16697363559    301\n",
       "16530370843    270\n",
       "16546857483    260\n",
       "              ... \n",
       "17086801125      1\n",
       "16607328724      1\n",
       "17212550712      1\n",
       "16731734548      1\n",
       "16503461338      1\n",
       "Name: imgid, Length: 3327, dtype: int64"
      ]
     },
     "execution_count": 29,
     "metadata": {},
     "output_type": "execute_result"
    }
   ],
   "source": [
    "group_df['imgid'].value_counts()"
   ]
  },
  {
   "cell_type": "code",
   "execution_count": 47,
   "metadata": {},
   "outputs": [
    {
     "data": {
      "text/html": [
       "<div>\n",
       "<style scoped>\n",
       "    .dataframe tbody tr th:only-of-type {\n",
       "        vertical-align: middle;\n",
       "    }\n",
       "\n",
       "    .dataframe tbody tr th {\n",
       "        vertical-align: top;\n",
       "    }\n",
       "\n",
       "    .dataframe thead th {\n",
       "        text-align: right;\n",
       "    }\n",
       "</style>\n",
       "<table border=\"1\" class=\"dataframe\">\n",
       "  <thead>\n",
       "    <tr style=\"text-align: right;\">\n",
       "      <th></th>\n",
       "      <th>url</th>\n",
       "      <th>img</th>\n",
       "      <th>img_access</th>\n",
       "      <th>label</th>\n",
       "      <th>Category</th>\n",
       "      <th>Concept</th>\n",
       "      <th>Pid</th>\n",
       "      <th>Uid</th>\n",
       "      <th>Subcategory</th>\n",
       "      <th>Alltags</th>\n",
       "      <th>...</th>\n",
       "      <th>location_description</th>\n",
       "      <th>photo_count</th>\n",
       "      <th>ispro</th>\n",
       "      <th>user_description</th>\n",
       "      <th>canbuypro</th>\n",
       "      <th>timezone_timezone_id</th>\n",
       "      <th>photo_firstdate</th>\n",
       "      <th>timezone_offset</th>\n",
       "      <th>Pathalias</th>\n",
       "      <th>imgID</th>\n",
       "    </tr>\n",
       "  </thead>\n",
       "  <tbody>\n",
       "    <tr>\n",
       "      <th>10996</th>\n",
       "      <td>https://www.flickr.com/photos/127445042@N03/17...</td>\n",
       "      <td>17562316500.jpg</td>\n",
       "      <td>1</td>\n",
       "      <td>8.38</td>\n",
       "      <td>Animal</td>\n",
       "      <td>lovedogs</td>\n",
       "      <td>172479</td>\n",
       "      <td>19811@N93</td>\n",
       "      <td>Dogs</td>\n",
       "      <td>dog happy collie cross ears spaniel lovemydog ...</td>\n",
       "      <td>...</td>\n",
       "      <td>NaN</td>\n",
       "      <td>45862</td>\n",
       "      <td>0</td>\n",
       "      <td>0.0,0.0,0.0,0.0,0.0,0.0,0.0,0.0,0.0,0.0,0.0,0....</td>\n",
       "      <td>1</td>\n",
       "      <td>2</td>\n",
       "      <td>1152740661.0</td>\n",
       "      <td>0</td>\n",
       "      <td>None</td>\n",
       "      <td>17562316500</td>\n",
       "    </tr>\n",
       "  </tbody>\n",
       "</table>\n",
       "<p>1 rows × 26 columns</p>\n",
       "</div>"
      ],
      "text/plain": [
       "                                                     url              img  \\\n",
       "10996  https://www.flickr.com/photos/127445042@N03/17...  17562316500.jpg   \n",
       "\n",
       "       img_access  label Category   Concept     Pid        Uid Subcategory  \\\n",
       "10996           1   8.38   Animal  lovedogs  172479  19811@N93        Dogs   \n",
       "\n",
       "                                                 Alltags  ...  \\\n",
       "10996  dog happy collie cross ears spaniel lovemydog ...  ...   \n",
       "\n",
       "      location_description  photo_count  ispro  \\\n",
       "10996                  NaN        45862      0   \n",
       "\n",
       "                                        user_description  canbuypro  \\\n",
       "10996  0.0,0.0,0.0,0.0,0.0,0.0,0.0,0.0,0.0,0.0,0.0,0....          1   \n",
       "\n",
       "       timezone_timezone_id photo_firstdate  timezone_offset  Pathalias  \\\n",
       "10996                     2    1152740661.0                0       None   \n",
       "\n",
       "             imgID  \n",
       "10996  17562316500  \n",
       "\n",
       "[1 rows x 26 columns]"
      ]
     },
     "execution_count": 47,
     "metadata": {},
     "output_type": "execute_result"
    }
   ],
   "source": [
    "df.reset_index(inplace=True, drop=True)\n",
    "df[df['imgID']=='17562316500']"
   ]
  },
  {
   "cell_type": "code",
   "execution_count": 49,
   "metadata": {},
   "outputs": [],
   "source": [
    "group_df.to_csv('group_meta.csv', index=False)"
   ]
  },
  {
   "cell_type": "code",
   "execution_count": 50,
   "metadata": {},
   "outputs": [
    {
     "name": "stderr",
     "output_type": "stream",
     "text": [
      "Processing image IDs:  17%|█▋        | 6733/39000 [27:01<1:52:49,  4.77it/s] "
     ]
    },
    {
     "name": "stdout",
     "output_type": "stream",
     "text": [
      "Error processing image ID 18596030512: HTTPSConnectionPool(host='api.flickr.com', port=443): Max retries exceeded with url: /services/rest?method=flickr.photos.getGroups&api_key=169307181f957a4a16e4e30fc9ac8c77&photo_id=18596030512&format=json&nojsoncallback=1&per_page=200 (Caused by ConnectTimeoutError(<urllib3.connection.HTTPSConnection object at 0x2b49ca020>, 'Connection to api.flickr.com timed out. (connect timeout=None)'))\n"
     ]
    },
    {
     "name": "stderr",
     "output_type": "stream",
     "text": [
      "Processing image IDs:  17%|█▋        | 6791/39000 [28:02<1:59:49,  4.48it/s]  "
     ]
    },
    {
     "name": "stdout",
     "output_type": "stream",
     "text": [
      "Error processing image ID 18600714555: HTTPSConnectionPool(host='api.flickr.com', port=443): Max retries exceeded with url: /services/rest?method=flickr.photos.getGroups&api_key=169307181f957a4a16e4e30fc9ac8c77&photo_id=18600714555&format=json&nojsoncallback=1&per_page=200 (Caused by ConnectTimeoutError(<urllib3.connection.HTTPSConnection object at 0x28392c2e0>, 'Connection to api.flickr.com timed out. (connect timeout=None)'))\n"
     ]
    },
    {
     "name": "stderr",
     "output_type": "stream",
     "text": [
      "Processing image IDs:  18%|█▊        | 7107/39000 [30:03<2:04:28,  4.27it/s]  "
     ]
    },
    {
     "name": "stdout",
     "output_type": "stream",
     "text": [
      "Error processing image ID 18634479143: HTTPSConnectionPool(host='api.flickr.com', port=443): Max retries exceeded with url: /services/rest?method=flickr.photos.getGroups&api_key=169307181f957a4a16e4e30fc9ac8c77&photo_id=18634479143&format=json&nojsoncallback=1&per_page=200 (Caused by ConnectTimeoutError(<urllib3.connection.HTTPSConnection object at 0x2b49ca200>, 'Connection to api.flickr.com timed out. (connect timeout=None)'))\n"
     ]
    },
    {
     "name": "stderr",
     "output_type": "stream",
     "text": [
      "Processing image IDs:  24%|██▍       | 9406/39000 [39:57<1:43:44,  4.75it/s]  "
     ]
    },
    {
     "name": "stdout",
     "output_type": "stream",
     "text": [
      "Error processing image ID 18893497804: HTTPSConnectionPool(host='api.flickr.com', port=443): Max retries exceeded with url: /services/rest?method=flickr.photos.getGroups&api_key=169307181f957a4a16e4e30fc9ac8c77&photo_id=18893497804&format=json&nojsoncallback=1&per_page=200 (Caused by ConnectTimeoutError(<urllib3.connection.HTTPSConnection object at 0x2b49ca200>, 'Connection to api.flickr.com timed out. (connect timeout=None)'))\n"
     ]
    },
    {
     "name": "stderr",
     "output_type": "stream",
     "text": [
      "Processing image IDs:  55%|█████▍    | 21260/39000 [1:27:42<1:04:35,  4.58it/s]"
     ]
    },
    {
     "name": "stdout",
     "output_type": "stream",
     "text": [
      "Error processing image ID 19857312085: HTTPSConnectionPool(host='api.flickr.com', port=443): Max retries exceeded with url: /services/rest?method=flickr.photos.getGroups&api_key=169307181f957a4a16e4e30fc9ac8c77&photo_id=19857312085&format=json&nojsoncallback=1&per_page=200 (Caused by ConnectTimeoutError(<urllib3.connection.HTTPSConnection object at 0x2b49cb7c0>, 'Connection to api.flickr.com timed out. (connect timeout=None)'))\n"
     ]
    },
    {
     "name": "stderr",
     "output_type": "stream",
     "text": [
      "Processing image IDs:  55%|█████▍    | 21362/39000 [1:28:54<1:11:22,  4.12it/s] "
     ]
    },
    {
     "name": "stdout",
     "output_type": "stream",
     "text": [
      "Error processing image ID 19867749169: HTTPSConnectionPool(host='api.flickr.com', port=443): Max retries exceeded with url: /services/rest?method=flickr.photos.getGroups&api_key=169307181f957a4a16e4e30fc9ac8c77&photo_id=19867749169&format=json&nojsoncallback=1&per_page=200 (Caused by ConnectTimeoutError(<urllib3.connection.HTTPSConnection object at 0x2b2e687f0>, 'Connection to api.flickr.com timed out. (connect timeout=None)'))\n"
     ]
    },
    {
     "name": "stderr",
     "output_type": "stream",
     "text": [
      "Processing image IDs:  55%|█████▍    | 21376/39000 [1:30:42<2:35:15,  1.89it/s]  "
     ]
    },
    {
     "name": "stdout",
     "output_type": "stream",
     "text": [
      "Error processing image ID 19868828930: HTTPSConnectionPool(host='api.flickr.com', port=443): Max retries exceeded with url: /services/rest?method=flickr.photos.getGroups&api_key=169307181f957a4a16e4e30fc9ac8c77&photo_id=19868828930&format=json&nojsoncallback=1&per_page=200 (Caused by ConnectTimeoutError(<urllib3.connection.HTTPSConnection object at 0x2b49c9690>, 'Connection to api.flickr.com timed out. (connect timeout=None)'))\n"
     ]
    },
    {
     "name": "stderr",
     "output_type": "stream",
     "text": [
      "Processing image IDs:  55%|█████▍    | 21380/39000 [1:32:28<54:13:21, 11.08s/it] "
     ]
    },
    {
     "name": "stdout",
     "output_type": "stream",
     "text": [
      "Error processing image ID 19868903950: HTTPSConnectionPool(host='api.flickr.com', port=443): Max retries exceeded with url: /services/rest?method=flickr.photos.getGroups&api_key=169307181f957a4a16e4e30fc9ac8c77&photo_id=19868903950&format=json&nojsoncallback=1&per_page=200 (Caused by ConnectTimeoutError(<urllib3.connection.HTTPSConnection object at 0x2b2e68e20>, 'Connection to api.flickr.com timed out. (connect timeout=None)'))\n"
     ]
    },
    {
     "name": "stderr",
     "output_type": "stream",
     "text": [
      "Processing image IDs:  55%|█████▍    | 21420/39000 [1:34:24<2:15:34,  2.16it/s]  "
     ]
    },
    {
     "name": "stdout",
     "output_type": "stream",
     "text": [
      "Error processing image ID 19871141695: HTTPSConnectionPool(host='api.flickr.com', port=443): Max retries exceeded with url: /services/rest?method=flickr.photos.getGroups&api_key=169307181f957a4a16e4e30fc9ac8c77&photo_id=19871141695&format=json&nojsoncallback=1&per_page=200 (Caused by ConnectTimeoutError(<urllib3.connection.HTTPSConnection object at 0x2b49ca620>, 'Connection to api.flickr.com timed out. (connect timeout=None)'))\n"
     ]
    },
    {
     "name": "stderr",
     "output_type": "stream",
     "text": [
      "Processing image IDs:  60%|█████▉    | 23211/39000 [1:43:16<1:03:07,  4.17it/s]  "
     ]
    },
    {
     "name": "stdout",
     "output_type": "stream",
     "text": [
      "Error processing image ID 19964303570: HTTPSConnectionPool(host='api.flickr.com', port=443): Max retries exceeded with url: /services/rest?method=flickr.photos.getGroups&api_key=169307181f957a4a16e4e30fc9ac8c77&photo_id=19964303570&format=json&nojsoncallback=1&per_page=200 (Caused by ConnectTimeoutError(<urllib3.connection.HTTPSConnection object at 0x2b49c9d50>, 'Connection to api.flickr.com timed out. (connect timeout=None)'))\n"
     ]
    },
    {
     "name": "stderr",
     "output_type": "stream",
     "text": [
      "Processing image IDs:  82%|████████▏ | 32004/39000 [2:24:07<26:13,  4.45it/s]    "
     ]
    },
    {
     "name": "stdout",
     "output_type": "stream",
     "text": [
      "Error processing image ID 20728597732: HTTPSConnectionPool(host='api.flickr.com', port=443): Max retries exceeded with url: /services/rest?method=flickr.photos.getGroups&api_key=169307181f957a4a16e4e30fc9ac8c77&photo_id=20728597732&format=json&nojsoncallback=1&per_page=200 (Caused by ConnectTimeoutError(<urllib3.connection.HTTPSConnection object at 0x2b49c9d50>, 'Connection to api.flickr.com timed out. (connect timeout=None)'))\n"
     ]
    },
    {
     "name": "stderr",
     "output_type": "stream",
     "text": [
      "Processing image IDs:  88%|████████▊ | 34419/39000 [2:36:03<4:11:13,  3.29s/it] "
     ]
    },
    {
     "name": "stdout",
     "output_type": "stream",
     "text": [
      "Error: 500\n"
     ]
    },
    {
     "name": "stderr",
     "output_type": "stream",
     "text": [
      "Processing image IDs:  89%|████████▉ | 34876/39000 [2:38:17<3:43:59,  3.26s/it]"
     ]
    },
    {
     "name": "stdout",
     "output_type": "stream",
     "text": [
      "Error: 500\n"
     ]
    },
    {
     "name": "stderr",
     "output_type": "stream",
     "text": [
      "Processing image IDs:  92%|█████████▏| 35808/39000 [2:42:28<2:53:18,  3.26s/it]"
     ]
    },
    {
     "name": "stdout",
     "output_type": "stream",
     "text": [
      "Error: 500\n"
     ]
    },
    {
     "name": "stderr",
     "output_type": "stream",
     "text": [
      "Processing image IDs:  92%|█████████▏| 35847/39000 [2:42:43<1:43:50,  1.98s/it]"
     ]
    },
    {
     "name": "stdout",
     "output_type": "stream",
     "text": [
      "Error: 500\n"
     ]
    },
    {
     "name": "stderr",
     "output_type": "stream",
     "text": [
      "Processing image IDs:  94%|█████████▍| 36669/39000 [2:46:08<08:41,  4.47it/s]  "
     ]
    },
    {
     "name": "stdout",
     "output_type": "stream",
     "text": [
      "Error processing image ID 21080218195: HTTPSConnectionPool(host='api.flickr.com', port=443): Max retries exceeded with url: /services/rest?method=flickr.photos.getGroups&api_key=169307181f957a4a16e4e30fc9ac8c77&photo_id=21080218195&format=json&nojsoncallback=1&per_page=200 (Caused by ConnectTimeoutError(<urllib3.connection.HTTPSConnection object at 0x2b49cb4c0>, 'Connection to api.flickr.com timed out. (connect timeout=None)'))\n"
     ]
    },
    {
     "name": "stderr",
     "output_type": "stream",
     "text": [
      "Processing image IDs:  96%|█████████▌| 37343/39000 [2:50:39<06:24,  4.31it/s]   "
     ]
    },
    {
     "name": "stdout",
     "output_type": "stream",
     "text": [
      "Error processing image ID 21122775046: HTTPSConnectionPool(host='api.flickr.com', port=443): Max retries exceeded with url: /services/rest?method=flickr.photos.getGroups&api_key=169307181f957a4a16e4e30fc9ac8c77&photo_id=21122775046&format=json&nojsoncallback=1&per_page=200 (Caused by ConnectTimeoutError(<urllib3.connection.HTTPSConnection object at 0x2b49ca800>, 'Connection to api.flickr.com timed out. (connect timeout=None)'))\n"
     ]
    },
    {
     "name": "stderr",
     "output_type": "stream",
     "text": [
      "Processing image IDs:  97%|█████████▋| 37689/39000 [2:53:50<05:46,  3.78it/s]   "
     ]
    },
    {
     "name": "stdout",
     "output_type": "stream",
     "text": [
      "Error: 500\n"
     ]
    },
    {
     "name": "stderr",
     "output_type": "stream",
     "text": [
      "Processing image IDs:  97%|█████████▋| 37698/39000 [2:54:02<1:10:27,  3.25s/it]"
     ]
    },
    {
     "name": "stdout",
     "output_type": "stream",
     "text": [
      "Error: 500\n"
     ]
    },
    {
     "name": "stderr",
     "output_type": "stream",
     "text": [
      "Processing image IDs:  97%|█████████▋| 37763/39000 [2:54:23<30:35,  1.48s/it]  "
     ]
    },
    {
     "name": "stdout",
     "output_type": "stream",
     "text": [
      "Error: 500\n"
     ]
    },
    {
     "name": "stderr",
     "output_type": "stream",
     "text": [
      "Processing image IDs:  98%|█████████▊| 38029/39000 [4:49:15<07:23,  2.19it/s]\n"
     ]
    },
    {
     "ename": "KeyboardInterrupt",
     "evalue": "",
     "output_type": "error",
     "traceback": [
      "\u001b[0;31m---------------------------------------------------------------------------\u001b[0m",
      "\u001b[0;31mKeyboardInterrupt\u001b[0m                         Traceback (most recent call last)",
      "\u001b[1;32m/Users/sachin.murthy/Desktop/DL_SocialPulse/eda/download_img.ipynb Cell 46\u001b[0m line \u001b[0;36m1\n\u001b[1;32m     <a href='vscode-notebook-cell:/Users/sachin.murthy/Desktop/DL_SocialPulse/eda/download_img.ipynb#X65sZmlsZQ%3D%3D?line=15'>16</a>\u001b[0m     time\u001b[39m.\u001b[39msleep(interval \u001b[39m-\u001b[39m (time\u001b[39m.\u001b[39mtime() \u001b[39m-\u001b[39m last_request_time))\n\u001b[1;32m     <a href='vscode-notebook-cell:/Users/sachin.murthy/Desktop/DL_SocialPulse/eda/download_img.ipynb#X65sZmlsZQ%3D%3D?line=17'>18</a>\u001b[0m \u001b[39m# Get groups for the current image ID\u001b[39;00m\n\u001b[0;32m---> <a href='vscode-notebook-cell:/Users/sachin.murthy/Desktop/DL_SocialPulse/eda/download_img.ipynb#X65sZmlsZQ%3D%3D?line=18'>19</a>\u001b[0m groups \u001b[39m=\u001b[39m get_photo_groups(api_key, imgid)\n\u001b[1;32m     <a href='vscode-notebook-cell:/Users/sachin.murthy/Desktop/DL_SocialPulse/eda/download_img.ipynb#X65sZmlsZQ%3D%3D?line=19'>20</a>\u001b[0m last_request_time \u001b[39m=\u001b[39m time\u001b[39m.\u001b[39mtime()\n\u001b[1;32m     <a href='vscode-notebook-cell:/Users/sachin.murthy/Desktop/DL_SocialPulse/eda/download_img.ipynb#X65sZmlsZQ%3D%3D?line=21'>22</a>\u001b[0m \u001b[39m# Iterate over each group and store the details\u001b[39;00m\n",
      "\u001b[1;32m/Users/sachin.murthy/Desktop/DL_SocialPulse/eda/download_img.ipynb Cell 46\u001b[0m line \u001b[0;36m2\n\u001b[1;32m     <a href='vscode-notebook-cell:/Users/sachin.murthy/Desktop/DL_SocialPulse/eda/download_img.ipynb#X65sZmlsZQ%3D%3D?line=11'>12</a>\u001b[0m url \u001b[39m=\u001b[39m \u001b[39m\"\u001b[39m\u001b[39mhttps://api.flickr.com/services/rest\u001b[39m\u001b[39m\"\u001b[39m\n\u001b[1;32m     <a href='vscode-notebook-cell:/Users/sachin.murthy/Desktop/DL_SocialPulse/eda/download_img.ipynb#X65sZmlsZQ%3D%3D?line=12'>13</a>\u001b[0m params \u001b[39m=\u001b[39m {\n\u001b[1;32m     <a href='vscode-notebook-cell:/Users/sachin.murthy/Desktop/DL_SocialPulse/eda/download_img.ipynb#X65sZmlsZQ%3D%3D?line=13'>14</a>\u001b[0m     \u001b[39m\"\u001b[39m\u001b[39mmethod\u001b[39m\u001b[39m\"\u001b[39m: \u001b[39m\"\u001b[39m\u001b[39mflickr.photos.getGroups\u001b[39m\u001b[39m\"\u001b[39m,\n\u001b[1;32m     <a href='vscode-notebook-cell:/Users/sachin.murthy/Desktop/DL_SocialPulse/eda/download_img.ipynb#X65sZmlsZQ%3D%3D?line=14'>15</a>\u001b[0m     \u001b[39m\"\u001b[39m\u001b[39mapi_key\u001b[39m\u001b[39m\"\u001b[39m: api_key,\n\u001b[0;32m   (...)\u001b[0m\n\u001b[1;32m     <a href='vscode-notebook-cell:/Users/sachin.murthy/Desktop/DL_SocialPulse/eda/download_img.ipynb#X65sZmlsZQ%3D%3D?line=18'>19</a>\u001b[0m     \u001b[39m\"\u001b[39m\u001b[39mper_page\u001b[39m\u001b[39m\"\u001b[39m: \u001b[39mstr\u001b[39m(per_page)\n\u001b[1;32m     <a href='vscode-notebook-cell:/Users/sachin.murthy/Desktop/DL_SocialPulse/eda/download_img.ipynb#X65sZmlsZQ%3D%3D?line=19'>20</a>\u001b[0m }\n\u001b[0;32m---> <a href='vscode-notebook-cell:/Users/sachin.murthy/Desktop/DL_SocialPulse/eda/download_img.ipynb#X65sZmlsZQ%3D%3D?line=21'>22</a>\u001b[0m response \u001b[39m=\u001b[39m requests\u001b[39m.\u001b[39;49mget(url, params\u001b[39m=\u001b[39;49mparams)\n\u001b[1;32m     <a href='vscode-notebook-cell:/Users/sachin.murthy/Desktop/DL_SocialPulse/eda/download_img.ipynb#X65sZmlsZQ%3D%3D?line=22'>23</a>\u001b[0m groups \u001b[39m=\u001b[39m []\n\u001b[1;32m     <a href='vscode-notebook-cell:/Users/sachin.murthy/Desktop/DL_SocialPulse/eda/download_img.ipynb#X65sZmlsZQ%3D%3D?line=23'>24</a>\u001b[0m \u001b[39mif\u001b[39;00m response\u001b[39m.\u001b[39mstatus_code \u001b[39m==\u001b[39m \u001b[39m200\u001b[39m:\n",
      "File \u001b[0;32m/opt/homebrew/Caskroom/miniforge/base/lib/python3.10/site-packages/requests/api.py:73\u001b[0m, in \u001b[0;36mget\u001b[0;34m(url, params, **kwargs)\u001b[0m\n\u001b[1;32m     62\u001b[0m \u001b[39mdef\u001b[39;00m \u001b[39mget\u001b[39m(url, params\u001b[39m=\u001b[39m\u001b[39mNone\u001b[39;00m, \u001b[39m*\u001b[39m\u001b[39m*\u001b[39mkwargs):\n\u001b[1;32m     63\u001b[0m \u001b[39m    \u001b[39m\u001b[39mr\u001b[39m\u001b[39m\"\"\"Sends a GET request.\u001b[39;00m\n\u001b[1;32m     64\u001b[0m \n\u001b[1;32m     65\u001b[0m \u001b[39m    :param url: URL for the new :class:`Request` object.\u001b[39;00m\n\u001b[0;32m   (...)\u001b[0m\n\u001b[1;32m     70\u001b[0m \u001b[39m    :rtype: requests.Response\u001b[39;00m\n\u001b[1;32m     71\u001b[0m \u001b[39m    \"\"\"\u001b[39;00m\n\u001b[0;32m---> 73\u001b[0m     \u001b[39mreturn\u001b[39;00m request(\u001b[39m\"\u001b[39;49m\u001b[39mget\u001b[39;49m\u001b[39m\"\u001b[39;49m, url, params\u001b[39m=\u001b[39;49mparams, \u001b[39m*\u001b[39;49m\u001b[39m*\u001b[39;49mkwargs)\n",
      "File \u001b[0;32m/opt/homebrew/Caskroom/miniforge/base/lib/python3.10/site-packages/requests/api.py:59\u001b[0m, in \u001b[0;36mrequest\u001b[0;34m(method, url, **kwargs)\u001b[0m\n\u001b[1;32m     55\u001b[0m \u001b[39m# By using the 'with' statement we are sure the session is closed, thus we\u001b[39;00m\n\u001b[1;32m     56\u001b[0m \u001b[39m# avoid leaving sockets open which can trigger a ResourceWarning in some\u001b[39;00m\n\u001b[1;32m     57\u001b[0m \u001b[39m# cases, and look like a memory leak in others.\u001b[39;00m\n\u001b[1;32m     58\u001b[0m \u001b[39mwith\u001b[39;00m sessions\u001b[39m.\u001b[39mSession() \u001b[39mas\u001b[39;00m session:\n\u001b[0;32m---> 59\u001b[0m     \u001b[39mreturn\u001b[39;00m session\u001b[39m.\u001b[39;49mrequest(method\u001b[39m=\u001b[39;49mmethod, url\u001b[39m=\u001b[39;49murl, \u001b[39m*\u001b[39;49m\u001b[39m*\u001b[39;49mkwargs)\n",
      "File \u001b[0;32m/opt/homebrew/Caskroom/miniforge/base/lib/python3.10/site-packages/requests/sessions.py:589\u001b[0m, in \u001b[0;36mSession.request\u001b[0;34m(self, method, url, params, data, headers, cookies, files, auth, timeout, allow_redirects, proxies, hooks, stream, verify, cert, json)\u001b[0m\n\u001b[1;32m    584\u001b[0m send_kwargs \u001b[39m=\u001b[39m {\n\u001b[1;32m    585\u001b[0m     \u001b[39m\"\u001b[39m\u001b[39mtimeout\u001b[39m\u001b[39m\"\u001b[39m: timeout,\n\u001b[1;32m    586\u001b[0m     \u001b[39m\"\u001b[39m\u001b[39mallow_redirects\u001b[39m\u001b[39m\"\u001b[39m: allow_redirects,\n\u001b[1;32m    587\u001b[0m }\n\u001b[1;32m    588\u001b[0m send_kwargs\u001b[39m.\u001b[39mupdate(settings)\n\u001b[0;32m--> 589\u001b[0m resp \u001b[39m=\u001b[39m \u001b[39mself\u001b[39;49m\u001b[39m.\u001b[39;49msend(prep, \u001b[39m*\u001b[39;49m\u001b[39m*\u001b[39;49msend_kwargs)\n\u001b[1;32m    591\u001b[0m \u001b[39mreturn\u001b[39;00m resp\n",
      "File \u001b[0;32m/opt/homebrew/Caskroom/miniforge/base/lib/python3.10/site-packages/requests/sessions.py:703\u001b[0m, in \u001b[0;36mSession.send\u001b[0;34m(self, request, **kwargs)\u001b[0m\n\u001b[1;32m    700\u001b[0m start \u001b[39m=\u001b[39m preferred_clock()\n\u001b[1;32m    702\u001b[0m \u001b[39m# Send the request\u001b[39;00m\n\u001b[0;32m--> 703\u001b[0m r \u001b[39m=\u001b[39m adapter\u001b[39m.\u001b[39;49msend(request, \u001b[39m*\u001b[39;49m\u001b[39m*\u001b[39;49mkwargs)\n\u001b[1;32m    705\u001b[0m \u001b[39m# Total elapsed time of the request (approximately)\u001b[39;00m\n\u001b[1;32m    706\u001b[0m elapsed \u001b[39m=\u001b[39m preferred_clock() \u001b[39m-\u001b[39m start\n",
      "File \u001b[0;32m/opt/homebrew/Caskroom/miniforge/base/lib/python3.10/site-packages/requests/adapters.py:486\u001b[0m, in \u001b[0;36mHTTPAdapter.send\u001b[0;34m(self, request, stream, timeout, verify, cert, proxies)\u001b[0m\n\u001b[1;32m    483\u001b[0m     timeout \u001b[39m=\u001b[39m TimeoutSauce(connect\u001b[39m=\u001b[39mtimeout, read\u001b[39m=\u001b[39mtimeout)\n\u001b[1;32m    485\u001b[0m \u001b[39mtry\u001b[39;00m:\n\u001b[0;32m--> 486\u001b[0m     resp \u001b[39m=\u001b[39m conn\u001b[39m.\u001b[39;49murlopen(\n\u001b[1;32m    487\u001b[0m         method\u001b[39m=\u001b[39;49mrequest\u001b[39m.\u001b[39;49mmethod,\n\u001b[1;32m    488\u001b[0m         url\u001b[39m=\u001b[39;49murl,\n\u001b[1;32m    489\u001b[0m         body\u001b[39m=\u001b[39;49mrequest\u001b[39m.\u001b[39;49mbody,\n\u001b[1;32m    490\u001b[0m         headers\u001b[39m=\u001b[39;49mrequest\u001b[39m.\u001b[39;49mheaders,\n\u001b[1;32m    491\u001b[0m         redirect\u001b[39m=\u001b[39;49m\u001b[39mFalse\u001b[39;49;00m,\n\u001b[1;32m    492\u001b[0m         assert_same_host\u001b[39m=\u001b[39;49m\u001b[39mFalse\u001b[39;49;00m,\n\u001b[1;32m    493\u001b[0m         preload_content\u001b[39m=\u001b[39;49m\u001b[39mFalse\u001b[39;49;00m,\n\u001b[1;32m    494\u001b[0m         decode_content\u001b[39m=\u001b[39;49m\u001b[39mFalse\u001b[39;49;00m,\n\u001b[1;32m    495\u001b[0m         retries\u001b[39m=\u001b[39;49m\u001b[39mself\u001b[39;49m\u001b[39m.\u001b[39;49mmax_retries,\n\u001b[1;32m    496\u001b[0m         timeout\u001b[39m=\u001b[39;49mtimeout,\n\u001b[1;32m    497\u001b[0m         chunked\u001b[39m=\u001b[39;49mchunked,\n\u001b[1;32m    498\u001b[0m     )\n\u001b[1;32m    500\u001b[0m \u001b[39mexcept\u001b[39;00m (ProtocolError, \u001b[39mOSError\u001b[39;00m) \u001b[39mas\u001b[39;00m err:\n\u001b[1;32m    501\u001b[0m     \u001b[39mraise\u001b[39;00m \u001b[39mConnectionError\u001b[39;00m(err, request\u001b[39m=\u001b[39mrequest)\n",
      "File \u001b[0;32m/opt/homebrew/Caskroom/miniforge/base/lib/python3.10/site-packages/urllib3/connectionpool.py:714\u001b[0m, in \u001b[0;36mHTTPConnectionPool.urlopen\u001b[0;34m(self, method, url, body, headers, retries, redirect, assert_same_host, timeout, pool_timeout, release_conn, chunked, body_pos, **response_kw)\u001b[0m\n\u001b[1;32m    711\u001b[0m     \u001b[39mself\u001b[39m\u001b[39m.\u001b[39m_prepare_proxy(conn)\n\u001b[1;32m    713\u001b[0m \u001b[39m# Make the request on the httplib connection object.\u001b[39;00m\n\u001b[0;32m--> 714\u001b[0m httplib_response \u001b[39m=\u001b[39m \u001b[39mself\u001b[39;49m\u001b[39m.\u001b[39;49m_make_request(\n\u001b[1;32m    715\u001b[0m     conn,\n\u001b[1;32m    716\u001b[0m     method,\n\u001b[1;32m    717\u001b[0m     url,\n\u001b[1;32m    718\u001b[0m     timeout\u001b[39m=\u001b[39;49mtimeout_obj,\n\u001b[1;32m    719\u001b[0m     body\u001b[39m=\u001b[39;49mbody,\n\u001b[1;32m    720\u001b[0m     headers\u001b[39m=\u001b[39;49mheaders,\n\u001b[1;32m    721\u001b[0m     chunked\u001b[39m=\u001b[39;49mchunked,\n\u001b[1;32m    722\u001b[0m )\n\u001b[1;32m    724\u001b[0m \u001b[39m# If we're going to release the connection in ``finally:``, then\u001b[39;00m\n\u001b[1;32m    725\u001b[0m \u001b[39m# the response doesn't need to know about the connection. Otherwise\u001b[39;00m\n\u001b[1;32m    726\u001b[0m \u001b[39m# it will also try to release it and we'll have a double-release\u001b[39;00m\n\u001b[1;32m    727\u001b[0m \u001b[39m# mess.\u001b[39;00m\n\u001b[1;32m    728\u001b[0m response_conn \u001b[39m=\u001b[39m conn \u001b[39mif\u001b[39;00m \u001b[39mnot\u001b[39;00m release_conn \u001b[39melse\u001b[39;00m \u001b[39mNone\u001b[39;00m\n",
      "File \u001b[0;32m/opt/homebrew/Caskroom/miniforge/base/lib/python3.10/site-packages/urllib3/connectionpool.py:466\u001b[0m, in \u001b[0;36mHTTPConnectionPool._make_request\u001b[0;34m(self, conn, method, url, timeout, chunked, **httplib_request_kw)\u001b[0m\n\u001b[1;32m    461\u001b[0m             httplib_response \u001b[39m=\u001b[39m conn\u001b[39m.\u001b[39mgetresponse()\n\u001b[1;32m    462\u001b[0m         \u001b[39mexcept\u001b[39;00m \u001b[39mBaseException\u001b[39;00m \u001b[39mas\u001b[39;00m e:\n\u001b[1;32m    463\u001b[0m             \u001b[39m# Remove the TypeError from the exception chain in\u001b[39;00m\n\u001b[1;32m    464\u001b[0m             \u001b[39m# Python 3 (including for exceptions like SystemExit).\u001b[39;00m\n\u001b[1;32m    465\u001b[0m             \u001b[39m# Otherwise it looks like a bug in the code.\u001b[39;00m\n\u001b[0;32m--> 466\u001b[0m             six\u001b[39m.\u001b[39;49mraise_from(e, \u001b[39mNone\u001b[39;49;00m)\n\u001b[1;32m    467\u001b[0m \u001b[39mexcept\u001b[39;00m (SocketTimeout, BaseSSLError, SocketError) \u001b[39mas\u001b[39;00m e:\n\u001b[1;32m    468\u001b[0m     \u001b[39mself\u001b[39m\u001b[39m.\u001b[39m_raise_timeout(err\u001b[39m=\u001b[39me, url\u001b[39m=\u001b[39murl, timeout_value\u001b[39m=\u001b[39mread_timeout)\n",
      "File \u001b[0;32m<string>:3\u001b[0m, in \u001b[0;36mraise_from\u001b[0;34m(value, from_value)\u001b[0m\n",
      "File \u001b[0;32m/opt/homebrew/Caskroom/miniforge/base/lib/python3.10/site-packages/urllib3/connectionpool.py:461\u001b[0m, in \u001b[0;36mHTTPConnectionPool._make_request\u001b[0;34m(self, conn, method, url, timeout, chunked, **httplib_request_kw)\u001b[0m\n\u001b[1;32m    458\u001b[0m \u001b[39mexcept\u001b[39;00m \u001b[39mTypeError\u001b[39;00m:\n\u001b[1;32m    459\u001b[0m     \u001b[39m# Python 3\u001b[39;00m\n\u001b[1;32m    460\u001b[0m     \u001b[39mtry\u001b[39;00m:\n\u001b[0;32m--> 461\u001b[0m         httplib_response \u001b[39m=\u001b[39m conn\u001b[39m.\u001b[39;49mgetresponse()\n\u001b[1;32m    462\u001b[0m     \u001b[39mexcept\u001b[39;00m \u001b[39mBaseException\u001b[39;00m \u001b[39mas\u001b[39;00m e:\n\u001b[1;32m    463\u001b[0m         \u001b[39m# Remove the TypeError from the exception chain in\u001b[39;00m\n\u001b[1;32m    464\u001b[0m         \u001b[39m# Python 3 (including for exceptions like SystemExit).\u001b[39;00m\n\u001b[1;32m    465\u001b[0m         \u001b[39m# Otherwise it looks like a bug in the code.\u001b[39;00m\n\u001b[1;32m    466\u001b[0m         six\u001b[39m.\u001b[39mraise_from(e, \u001b[39mNone\u001b[39;00m)\n",
      "File \u001b[0;32m/opt/homebrew/Caskroom/miniforge/base/lib/python3.10/http/client.py:1375\u001b[0m, in \u001b[0;36mHTTPConnection.getresponse\u001b[0;34m(self)\u001b[0m\n\u001b[1;32m   1373\u001b[0m \u001b[39mtry\u001b[39;00m:\n\u001b[1;32m   1374\u001b[0m     \u001b[39mtry\u001b[39;00m:\n\u001b[0;32m-> 1375\u001b[0m         response\u001b[39m.\u001b[39;49mbegin()\n\u001b[1;32m   1376\u001b[0m     \u001b[39mexcept\u001b[39;00m \u001b[39mConnectionError\u001b[39;00m:\n\u001b[1;32m   1377\u001b[0m         \u001b[39mself\u001b[39m\u001b[39m.\u001b[39mclose()\n",
      "File \u001b[0;32m/opt/homebrew/Caskroom/miniforge/base/lib/python3.10/http/client.py:318\u001b[0m, in \u001b[0;36mHTTPResponse.begin\u001b[0;34m(self)\u001b[0m\n\u001b[1;32m    316\u001b[0m \u001b[39m# read until we get a non-100 response\u001b[39;00m\n\u001b[1;32m    317\u001b[0m \u001b[39mwhile\u001b[39;00m \u001b[39mTrue\u001b[39;00m:\n\u001b[0;32m--> 318\u001b[0m     version, status, reason \u001b[39m=\u001b[39m \u001b[39mself\u001b[39;49m\u001b[39m.\u001b[39;49m_read_status()\n\u001b[1;32m    319\u001b[0m     \u001b[39mif\u001b[39;00m status \u001b[39m!=\u001b[39m CONTINUE:\n\u001b[1;32m    320\u001b[0m         \u001b[39mbreak\u001b[39;00m\n",
      "File \u001b[0;32m/opt/homebrew/Caskroom/miniforge/base/lib/python3.10/http/client.py:279\u001b[0m, in \u001b[0;36mHTTPResponse._read_status\u001b[0;34m(self)\u001b[0m\n\u001b[1;32m    278\u001b[0m \u001b[39mdef\u001b[39;00m \u001b[39m_read_status\u001b[39m(\u001b[39mself\u001b[39m):\n\u001b[0;32m--> 279\u001b[0m     line \u001b[39m=\u001b[39m \u001b[39mstr\u001b[39m(\u001b[39mself\u001b[39;49m\u001b[39m.\u001b[39;49mfp\u001b[39m.\u001b[39;49mreadline(_MAXLINE \u001b[39m+\u001b[39;49m \u001b[39m1\u001b[39;49m), \u001b[39m\"\u001b[39m\u001b[39miso-8859-1\u001b[39m\u001b[39m\"\u001b[39m)\n\u001b[1;32m    280\u001b[0m     \u001b[39mif\u001b[39;00m \u001b[39mlen\u001b[39m(line) \u001b[39m>\u001b[39m _MAXLINE:\n\u001b[1;32m    281\u001b[0m         \u001b[39mraise\u001b[39;00m LineTooLong(\u001b[39m\"\u001b[39m\u001b[39mstatus line\u001b[39m\u001b[39m\"\u001b[39m)\n",
      "File \u001b[0;32m/opt/homebrew/Caskroom/miniforge/base/lib/python3.10/socket.py:705\u001b[0m, in \u001b[0;36mSocketIO.readinto\u001b[0;34m(self, b)\u001b[0m\n\u001b[1;32m    703\u001b[0m \u001b[39mwhile\u001b[39;00m \u001b[39mTrue\u001b[39;00m:\n\u001b[1;32m    704\u001b[0m     \u001b[39mtry\u001b[39;00m:\n\u001b[0;32m--> 705\u001b[0m         \u001b[39mreturn\u001b[39;00m \u001b[39mself\u001b[39;49m\u001b[39m.\u001b[39;49m_sock\u001b[39m.\u001b[39;49mrecv_into(b)\n\u001b[1;32m    706\u001b[0m     \u001b[39mexcept\u001b[39;00m timeout:\n\u001b[1;32m    707\u001b[0m         \u001b[39mself\u001b[39m\u001b[39m.\u001b[39m_timeout_occurred \u001b[39m=\u001b[39m \u001b[39mTrue\u001b[39;00m\n",
      "File \u001b[0;32m/opt/homebrew/Caskroom/miniforge/base/lib/python3.10/ssl.py:1274\u001b[0m, in \u001b[0;36mSSLSocket.recv_into\u001b[0;34m(self, buffer, nbytes, flags)\u001b[0m\n\u001b[1;32m   1270\u001b[0m     \u001b[39mif\u001b[39;00m flags \u001b[39m!=\u001b[39m \u001b[39m0\u001b[39m:\n\u001b[1;32m   1271\u001b[0m         \u001b[39mraise\u001b[39;00m \u001b[39mValueError\u001b[39;00m(\n\u001b[1;32m   1272\u001b[0m           \u001b[39m\"\u001b[39m\u001b[39mnon-zero flags not allowed in calls to recv_into() on \u001b[39m\u001b[39m%s\u001b[39;00m\u001b[39m\"\u001b[39m \u001b[39m%\u001b[39m\n\u001b[1;32m   1273\u001b[0m           \u001b[39mself\u001b[39m\u001b[39m.\u001b[39m\u001b[39m__class__\u001b[39m)\n\u001b[0;32m-> 1274\u001b[0m     \u001b[39mreturn\u001b[39;00m \u001b[39mself\u001b[39;49m\u001b[39m.\u001b[39;49mread(nbytes, buffer)\n\u001b[1;32m   1275\u001b[0m \u001b[39melse\u001b[39;00m:\n\u001b[1;32m   1276\u001b[0m     \u001b[39mreturn\u001b[39;00m \u001b[39msuper\u001b[39m()\u001b[39m.\u001b[39mrecv_into(buffer, nbytes, flags)\n",
      "File \u001b[0;32m/opt/homebrew/Caskroom/miniforge/base/lib/python3.10/ssl.py:1130\u001b[0m, in \u001b[0;36mSSLSocket.read\u001b[0;34m(self, len, buffer)\u001b[0m\n\u001b[1;32m   1128\u001b[0m \u001b[39mtry\u001b[39;00m:\n\u001b[1;32m   1129\u001b[0m     \u001b[39mif\u001b[39;00m buffer \u001b[39mis\u001b[39;00m \u001b[39mnot\u001b[39;00m \u001b[39mNone\u001b[39;00m:\n\u001b[0;32m-> 1130\u001b[0m         \u001b[39mreturn\u001b[39;00m \u001b[39mself\u001b[39;49m\u001b[39m.\u001b[39;49m_sslobj\u001b[39m.\u001b[39;49mread(\u001b[39mlen\u001b[39;49m, buffer)\n\u001b[1;32m   1131\u001b[0m     \u001b[39melse\u001b[39;00m:\n\u001b[1;32m   1132\u001b[0m         \u001b[39mreturn\u001b[39;00m \u001b[39mself\u001b[39m\u001b[39m.\u001b[39m_sslobj\u001b[39m.\u001b[39mread(\u001b[39mlen\u001b[39m)\n",
      "\u001b[0;31mKeyboardInterrupt\u001b[0m: "
     ]
    }
   ],
   "source": [
    "import time\n",
    "from tqdm import tqdm\n",
    "# df, start_index, end_index, api_key, \n",
    "rate_limit=2000\n",
    "\n",
    "# Calculate the time interval between requests to respect the rate limit\n",
    "interval = 60.0 / rate_limit  # 60 seconds divided by the number of requests per minute\n",
    "\n",
    "last_request_time = time.time()\n",
    "\n",
    "# Wrap the iteration in tqdm for progress tracking\n",
    "for imgid in tqdm(df['imgID'][11000:50000], desc=\"Processing image IDs\", position=0):\n",
    "    try:\n",
    "        # Wait if the interval since the last request is less than the desired rate limit interval\n",
    "        while time.time() - last_request_time < interval:\n",
    "            time.sleep(interval - (time.time() - last_request_time))\n",
    "\n",
    "        # Get groups for the current image ID\n",
    "        groups = get_photo_groups(api_key, imgid)\n",
    "        last_request_time = time.time()\n",
    "\n",
    "        # Iterate over each group and store the details\n",
    "        for group in groups:\n",
    "            group_info = {\n",
    "                \"imgid\": imgid,\n",
    "                \"group_id\": group.get(\"id\"),\n",
    "                \"title\": group.get(\"title\"),\n",
    "                \"member_count\": group.get(\"member_count\"),\n",
    "                \"pool_count\": group.get(\"pool_count\")\n",
    "            }\n",
    "            group_data.append(group_info)\n",
    "\n",
    "    except Exception as e:\n",
    "        print(f\"Error processing image ID {imgid}: {e}\")\n",
    "        # Optional: wait for 30 seconds before continuing\n",
    "        time.sleep(30)"
   ]
  },
  {
   "cell_type": "code",
   "execution_count": 53,
   "metadata": {},
   "outputs": [
    {
     "name": "stderr",
     "output_type": "stream",
     "text": [
      "Processing image IDs: 100%|██████████| 1970/1970 [07:52<00:00,  4.17it/s]\n"
     ]
    }
   ],
   "source": [
    "import time\n",
    "from tqdm import tqdm\n",
    "# df, start_index, end_index, api_key, \n",
    "rate_limit=2000\n",
    "\n",
    "# Calculate the time interval between requests to respect the rate limit\n",
    "interval = 60.0 / rate_limit  # 60 seconds divided by the number of requests per minute\n",
    "\n",
    "last_request_time = time.time()\n",
    "\n",
    "# Wrap the iteration in tqdm for progress tracking\n",
    "for imgid in tqdm(df['imgID'][48030:50000], desc=\"Processing image IDs\", position=0):\n",
    "    try:\n",
    "        # Wait if the interval since the last request is less than the desired rate limit interval\n",
    "        while time.time() - last_request_time < interval:\n",
    "            time.sleep(interval - (time.time() - last_request_time))\n",
    "\n",
    "        # Get groups for the current image ID\n",
    "        groups = get_photo_groups(api_key, imgid)\n",
    "        last_request_time = time.time()\n",
    "\n",
    "        # Iterate over each group and store the details\n",
    "        for group in groups:\n",
    "            group_info = {\n",
    "                \"imgid\": imgid,\n",
    "                \"group_id\": group.get(\"id\"),\n",
    "                \"title\": group.get(\"title\"),\n",
    "                \"member_count\": group.get(\"member_count\"),\n",
    "                \"pool_count\": group.get(\"pool_count\")\n",
    "            }\n",
    "            group_data.append(group_info)\n",
    "\n",
    "    except Exception as e:\n",
    "        print(f\"Error processing image ID {imgid}: {e}\")\n",
    "        # Optional: wait for 30 seconds before continuing\n",
    "        time.sleep(30)"
   ]
  },
  {
   "cell_type": "code",
   "execution_count": 58,
   "metadata": {},
   "outputs": [
    {
     "data": {
      "text/html": [
       "<div>\n",
       "<style scoped>\n",
       "    .dataframe tbody tr th:only-of-type {\n",
       "        vertical-align: middle;\n",
       "    }\n",
       "\n",
       "    .dataframe tbody tr th {\n",
       "        vertical-align: top;\n",
       "    }\n",
       "\n",
       "    .dataframe thead th {\n",
       "        text-align: right;\n",
       "    }\n",
       "</style>\n",
       "<table border=\"1\" class=\"dataframe\">\n",
       "  <thead>\n",
       "    <tr style=\"text-align: right;\">\n",
       "      <th></th>\n",
       "      <th>imgid</th>\n",
       "      <th>group_id</th>\n",
       "      <th>title</th>\n",
       "      <th>member_count</th>\n",
       "      <th>pool_count</th>\n",
       "    </tr>\n",
       "  </thead>\n",
       "  <tbody>\n",
       "    <tr>\n",
       "      <th>0</th>\n",
       "      <td>385070026</td>\n",
       "      <td>2131946@N24</td>\n",
       "      <td>♥♥♥PE0PLE FR0M AR0UND THE W0RLD♥♥♥\"FRIENDS\"♥♥</td>\n",
       "      <td>1115</td>\n",
       "      <td>6875</td>\n",
       "    </tr>\n",
       "    <tr>\n",
       "      <th>1</th>\n",
       "      <td>385070026</td>\n",
       "      <td>1344524@N24</td>\n",
       "      <td>Viva la Vida!  Alma e Cuore (P1-A5)</td>\n",
       "      <td>9463</td>\n",
       "      <td>340173</td>\n",
       "    </tr>\n",
       "    <tr>\n",
       "      <th>2</th>\n",
       "      <td>385070026</td>\n",
       "      <td>855034@N21</td>\n",
       "      <td>The Biggest Group! - Playground For Psychotics</td>\n",
       "      <td>8228</td>\n",
       "      <td>1265747</td>\n",
       "    </tr>\n",
       "    <tr>\n",
       "      <th>3</th>\n",
       "      <td>385070026</td>\n",
       "      <td>75277045@N00</td>\n",
       "      <td>Self -help group for flickr addicts</td>\n",
       "      <td>785</td>\n",
       "      <td>20454</td>\n",
       "    </tr>\n",
       "    <tr>\n",
       "      <th>4</th>\n",
       "      <td>385070026</td>\n",
       "      <td>26964488@N00</td>\n",
       "      <td>Powerful Portraits</td>\n",
       "      <td>10666</td>\n",
       "      <td>330500</td>\n",
       "    </tr>\n",
       "    <tr>\n",
       "      <th>...</th>\n",
       "      <td>...</td>\n",
       "      <td>...</td>\n",
       "      <td>...</td>\n",
       "      <td>...</td>\n",
       "      <td>...</td>\n",
       "    </tr>\n",
       "    <tr>\n",
       "      <th>243387</th>\n",
       "      <td>21240245799</td>\n",
       "      <td>19156427@N00</td>\n",
       "      <td>The Flikr Group</td>\n",
       "      <td>7207</td>\n",
       "      <td>1359625</td>\n",
       "    </tr>\n",
       "    <tr>\n",
       "      <th>243388</th>\n",
       "      <td>21240245799</td>\n",
       "      <td>1876700@N25</td>\n",
       "      <td>Picturesque New England</td>\n",
       "      <td>131</td>\n",
       "      <td>7976</td>\n",
       "    </tr>\n",
       "    <tr>\n",
       "      <th>243389</th>\n",
       "      <td>21240245799</td>\n",
       "      <td>583086@N22</td>\n",
       "      <td>old &amp; vintage</td>\n",
       "      <td>2804</td>\n",
       "      <td>46038</td>\n",
       "    </tr>\n",
       "    <tr>\n",
       "      <th>243390</th>\n",
       "      <td>21240245799</td>\n",
       "      <td>95014477@N00</td>\n",
       "      <td>NIKON PROFESSIONAL</td>\n",
       "      <td>36559</td>\n",
       "      <td>1665189</td>\n",
       "    </tr>\n",
       "    <tr>\n",
       "      <th>243391</th>\n",
       "      <td>21240245799</td>\n",
       "      <td>625646@N23</td>\n",
       "      <td>Classic Firearms</td>\n",
       "      <td>136</td>\n",
       "      <td>1129</td>\n",
       "    </tr>\n",
       "  </tbody>\n",
       "</table>\n",
       "<p>243392 rows × 5 columns</p>\n",
       "</div>"
      ],
      "text/plain": [
       "              imgid      group_id  \\\n",
       "0         385070026   2131946@N24   \n",
       "1         385070026   1344524@N24   \n",
       "2         385070026    855034@N21   \n",
       "3         385070026  75277045@N00   \n",
       "4         385070026  26964488@N00   \n",
       "...             ...           ...   \n",
       "243387  21240245799  19156427@N00   \n",
       "243388  21240245799   1876700@N25   \n",
       "243389  21240245799    583086@N22   \n",
       "243390  21240245799  95014477@N00   \n",
       "243391  21240245799    625646@N23   \n",
       "\n",
       "                                                 title member_count pool_count  \n",
       "0        ♥♥♥PE0PLE FR0M AR0UND THE W0RLD♥♥♥\"FRIENDS\"♥♥         1115       6875  \n",
       "1                  Viva la Vida!  Alma e Cuore (P1-A5)         9463     340173  \n",
       "2       The Biggest Group! - Playground For Psychotics         8228    1265747  \n",
       "3                  Self -help group for flickr addicts          785      20454  \n",
       "4                                   Powerful Portraits        10666     330500  \n",
       "...                                                ...          ...        ...  \n",
       "243387                                 The Flikr Group         7207    1359625  \n",
       "243388                         Picturesque New England          131       7976  \n",
       "243389                                   old & vintage         2804      46038  \n",
       "243390                              NIKON PROFESSIONAL        36559    1665189  \n",
       "243391                                Classic Firearms          136       1129  \n",
       "\n",
       "[243392 rows x 5 columns]"
      ]
     },
     "execution_count": 58,
     "metadata": {},
     "output_type": "execute_result"
    }
   ],
   "source": [
    "# Create a DataFrame from the collected group data\n",
    "group_df = pd.DataFrame(group_data)\n",
    "\n",
    "# Display the first few rows of the new DataFrame\n",
    "group_df"
   ]
  },
  {
   "cell_type": "code",
   "execution_count": 57,
   "metadata": {},
   "outputs": [
    {
     "data": {
      "text/plain": [
       "243392"
      ]
     },
     "execution_count": 57,
     "metadata": {},
     "output_type": "execute_result"
    }
   ],
   "source": [
    "len(group_data)"
   ]
  },
  {
   "cell_type": "code",
   "execution_count": 60,
   "metadata": {},
   "outputs": [],
   "source": [
    "group_df.drop_duplicates(inplace=True)"
   ]
  },
  {
   "cell_type": "code",
   "execution_count": 61,
   "metadata": {},
   "outputs": [
    {
     "data": {
      "text/plain": [
       "19347042068    806\n",
       "16945993822    690\n",
       "16759614658    671\n",
       "21151577326    645\n",
       "20016125092    638\n",
       "              ... \n",
       "19914861806      1\n",
       "19914872586      1\n",
       "19914902606      1\n",
       "19914904406      1\n",
       "19144826126      1\n",
       "Name: imgid, Length: 12302, dtype: int64"
      ]
     },
     "execution_count": 61,
     "metadata": {},
     "output_type": "execute_result"
    }
   ],
   "source": [
    "group_df.imgid.value_counts()"
   ]
  },
  {
   "cell_type": "code",
   "execution_count": 62,
   "metadata": {},
   "outputs": [
    {
     "data": {
      "text/plain": [
       "0.24604"
      ]
     },
     "execution_count": 62,
     "metadata": {},
     "output_type": "execute_result"
    }
   ],
   "source": [
    "12302/50000"
   ]
  },
  {
   "cell_type": "code",
   "execution_count": 63,
   "metadata": {},
   "outputs": [
    {
     "data": {
      "text/plain": [
       "count    12302.000000\n",
       "mean        19.602179\n",
       "std         39.359428\n",
       "min          1.000000\n",
       "25%          3.000000\n",
       "50%          7.000000\n",
       "75%         21.000000\n",
       "max        806.000000\n",
       "Name: imgid, dtype: float64"
      ]
     },
     "execution_count": 63,
     "metadata": {},
     "output_type": "execute_result"
    }
   ],
   "source": [
    "group_df.imgid.value_counts().describe()"
   ]
  },
  {
   "cell_type": "code",
   "execution_count": 68,
   "metadata": {},
   "outputs": [
    {
     "data": {
      "text/plain": [
       "Index(['url', 'img', 'img_access', 'label', 'Category', 'Concept', 'Pid',\n",
       "       'Uid', 'Subcategory', 'Alltags', 'Title', 'Postdate', 'Longitude',\n",
       "       'Geoaccuracy', 'Latitude', 'photo_firstdatetaken',\n",
       "       'location_description', 'photo_count', 'ispro', 'user_description',\n",
       "       'canbuypro', 'timezone_timezone_id', 'photo_firstdate',\n",
       "       'timezone_offset', 'Pathalias', 'imgID'],\n",
       "      dtype='object')"
      ]
     },
     "execution_count": 68,
     "metadata": {},
     "output_type": "execute_result"
    }
   ],
   "source": [
    "df[df['imgID']=='20016125092'].columns"
   ]
  },
  {
   "cell_type": "code",
   "execution_count": 69,
   "metadata": {},
   "outputs": [
    {
     "data": {
      "text/plain": [
       "{'url': {34652: 'https://www.flickr.com/photos/87174189@N06/20016125092'},\n",
       " 'img': {34652: '20016125092.jpg'},\n",
       " 'img_access': {34652: 1},\n",
       " 'label': {34652: 14.76},\n",
       " 'Category': {34652: 'Family'},\n",
       " 'Concept': {34652: 'cuddle'},\n",
       " 'Pid': {34652: 206289},\n",
       " 'Uid': {34652: '29877@N46'},\n",
       " 'Subcategory': {34652: 'Babies'},\n",
       " 'Alltags': {34652: 'camera morning flowers light sunset portrait people color guy girl beauty grass backlight sunrise canon eos eyes focus kiss soft closed flickr all chica view outdoor mark flash philips uptown wreath ii f cuddle ?? headphones 5d softfocus 28 clasp mm 135 sensuality scape embrace ef hotspot ease multa citi citiscape ?? ?? ??? ?? ?? ?? ??? ?? ???? ??? ?? ?? ???????? ???? ?? ??? ???? generosamente ??? ????135???????f 28???????? shl5905 kontrovoj'},\n",
       " 'Title': {34652: 'Canon EF 135mm f / 2.8 SoftFocus'},\n",
       " 'Postdate': {34652: 1436392782},\n",
       " 'Longitude': {34652: 0.0},\n",
       " 'Geoaccuracy': {34652: 0},\n",
       " 'Latitude': {34652: 0.0},\n",
       " 'photo_firstdatetaken': {34652: 1980100409},\n",
       " 'location_description': {34652: nan},\n",
       " 'photo_count': {34652: 77307},\n",
       " 'ispro': {34652: 1},\n",
       " 'user_description': {34652: '0.147037,-0.0898288,-0.0527342,0.114004,-0.0325282,-0.228756,-0.047307,-0.194592,-0.0816564,0.00784833,0.0128816,0.127493,-0.0231625,-0.147102,0.0407971,0.140836,0.0408666,0.027149,-0.0546098,0.0141964,-0.220521,0.00733594,0.0644221,-0.130775,-0.197178,-0.227933,-0.0856762,0.0939549,0.203818,-0.005958,-0.033816,-0.160655,-0.100332,0.00284744,0.0836795,-0.0448583,0.17514,0.0203606,-0.0428902,0.0845036,-0.167567,0.237659,0.182221,-0.190977,0.00217377,-0.0700474,0.0281371,0.10306,0.00854354,0.135654,-0.0356488,0.0992979,0.215639,0.00845614,0.150103,-0.0928674,0.0051469,0.053916,-0.01534,-0.200694,-0.0726414,-0.0160173,-0.0954449,0.0472863,-0.190248,0.102742,0.0500175,-0.0553266,-0.0290403,-0.119693,-0.0478192,-0.0627955,-0.0239409,-0.128446,-0.191167,-0.0101837,-0.107637,-0.0521366,0.0833821,0.111918,0.0611632,0.0128022,-0.017521,-0.0461881,-0.130454,-0.0385365,0.025747,0.0768696,0.103827,-0.0372651,0.164148,0.179714,-0.00423453,0.0500689,-0.0324389,0.0172055,-0.00549204,0.019814,0.112302,0.0115066,0.226312,0.000299397,-0.0471681,-0.148776,0.084818,0.0532407,0.0301025,-0.0141578,-0.0744353,0.066842,0.142552,0.139338,-0.0218827,0.0203162,-0.130719,0.182823,0.0265853,-0.110962,0.125141,0.13054,0.0217766,0.0573206,-0.255458,-0.0539461,-0.142274,0.203116,0.117099,0.0639749,-0.0452439,0.0213306,0.0647442,-0.00729414,-0.121125,0.00840178,-0.196631,0.0424561,0.0867892,-0.334166,0.016339,-0.0775164,0.0136799,-0.0445515,-0.0740394,0.026326,-0.0210723,0.0185032,-0.165469,0.0415672,-0.233055,-0.157165,-0.0615976,-0.0980287,0.114129,0.0487033,-0.0466694,0.0762282,-0.183458,0.0549322,-0.10381,0.0471211,-0.0436352,0.0639755,0.017132,0.00929911,0.144346,0.0290809,0.0849658,0.070692,0.0863968,-0.0807859,-0.0512057,0.093971,0.0477973,-0.101145,0.0549613,0.0600186,-0.00980369,0.0923837,-0.0788878,0.117182,-0.165334,-0.0949327,-0.0879467,0.0101945,0.0539057,-0.0832153,-0.10973,0.00960506,0.0756362,-0.114644,0.195813,0.117411,-0.147451,-0.10438,-0.0800373,-0.108957,-0.141129,0.107455,0.00749513,0.00806187,-0.0365027,-0.0918802,0.177937,-0.0482822,0.0711499,-0.312226,-0.00207819,0.0890463,0.159054,-0.0634779,-0.103515,0.0406469,-0.494269,-0.0506693,0.0152181,0.0203646,-0.153328,0.214769,0.0113805,-0.15413,0.0195182,-0.0460975,0.0595539,0.0379614,0.0111408,-0.084941,0.0521076,0.0724987,0.171007,0.13538,0.017011,-0.101462,-0.0178686,0.059,-0.196456,0.143082,-0.129237,0.118872,0.035261,-0.0537266,0.119405,-0.178496,-0.0333571,-0.0836142,0.101692,-0.0104702,-0.0528314,-0.0418085,-0.0783719,-0.218504,0.0189949,0.035193,-0.0574635,0.0802622,-0.190283,0.0584264,0.0255142,-0.0295792,-0.0187322,-0.0680154,0.165376,0.109762,-0.0416982,-0.0738465,-0.100663,0.00301264,-0.0531796,0.00374513,0.0428588,-0.0106193,-0.0735911,0.0647804,-0.0730449,-0.0598773,-0.0928095,-0.0913201,-0.152087,-0.065903,-0.0199509,-0.049451,-0.00369482,-0.124939,-0.126368,-0.212381,0.0525724,0.0451572,0.0851138,0.0153397,0.117044,-0.0976356,-0.139558,-0.317906,0.227245,-0.103818,0.00677733,0.108867,0.0874565,-0.0980438,0.187594,-0.273651,0.0406251,0.0437846,-0.0221066,-0.0367489,-0.108163,-0.044926,0.00286056,0.00237871,-0.0763033,0.19864,0.0625417,-0.0358049,-0.111217,-0.141524,0.124482,0.0620926,-0.0502409,-0.117017,0.140005,-0.072148,0.0491291,-0.0621737,-0.0891531,0.0326338,0.268136,-0.0817175,0.113212,-0.0332181,0.0969833,0.311657,-0.154431,-0.104392,-0.0257209,-0.0779227,0.0191339,-0.171734,0.140606,-0.0742677,-0.0249377,0.0537205,-0.0536848,0.110292,-0.0551175,0.0849765,0.227656,-0.0382536,0.208203,0.0899387,-0.0599385,0.0409783,-0.115216,0.0277082,-0.0243705,-0.0783811,-0.0202215,-0.0659487,0.14188,-0.190988,0.098404,-0.021096,0.0864237,-0.180174,0.00201372,-0.0863686,0.0411619,0.128374,-0.131139,0.0712395,0.0685935,0.103938,-0.117077,-0.0314773,0.0908683,-0.0895506,-0.110633,-0.0805865,0.115458,-0.0854801,0.0158222,-0.118771,0.0738058,0.00900353,0.131481,-0.174342,-0.194163,0.136106,-0.0744954,0.000363081,0.0884255,0.116682,-0.00158965,0.0688623,-0.0293801,0.0180629,0.113728,0.107387,0.0738321,-0.0321556,0.138856'},\n",
       " 'canbuypro': {34652: 0},\n",
       " 'timezone_timezone_id': {34652: 8},\n",
       " 'photo_firstdate': {34652: '1123886511'},\n",
       " 'timezone_offset': {34652: 0},\n",
       " 'Pathalias': {34652: 'xam500cad'},\n",
       " 'imgID': {34652: '20016125092'}}"
      ]
     },
     "execution_count": 69,
     "metadata": {},
     "output_type": "execute_result"
    }
   ],
   "source": [
    "df[df['imgID']=='20016125092'].to_dict()"
   ]
  },
  {
   "cell_type": "code",
   "execution_count": 71,
   "metadata": {},
   "outputs": [
    {
     "data": {
      "text/plain": [
       "count    251295.000000\n",
       "mean          6.358362\n",
       "std           2.446125\n",
       "min           1.000000\n",
       "25%           4.700000\n",
       "50%           6.190000\n",
       "75%           7.900000\n",
       "max          16.560000\n",
       "Name: label, dtype: float64"
      ]
     },
     "execution_count": 71,
     "metadata": {},
     "output_type": "execute_result"
    }
   ],
   "source": [
    "df['label'].describe()"
   ]
  },
  {
   "cell_type": "code",
   "execution_count": 72,
   "metadata": {},
   "outputs": [
    {
     "data": {
      "text/plain": [
       "1.00     3477\n",
       "1.58     3010\n",
       "2.81     2933\n",
       "3.00     2807\n",
       "4.00     2792\n",
       "         ... \n",
       "15.16       1\n",
       "16.13       1\n",
       "16.06       1\n",
       "15.72       1\n",
       "15.62       1\n",
       "Name: label, Length: 1059, dtype: int64"
      ]
     },
     "execution_count": 72,
     "metadata": {},
     "output_type": "execute_result"
    }
   ],
   "source": [
    "df['label'].value_counts()"
   ]
  },
  {
   "cell_type": "code",
   "execution_count": 75,
   "metadata": {},
   "outputs": [
    {
     "data": {
      "text/html": [
       "<div>\n",
       "<style scoped>\n",
       "    .dataframe tbody tr th:only-of-type {\n",
       "        vertical-align: middle;\n",
       "    }\n",
       "\n",
       "    .dataframe tbody tr th {\n",
       "        vertical-align: top;\n",
       "    }\n",
       "\n",
       "    .dataframe thead th {\n",
       "        text-align: right;\n",
       "    }\n",
       "</style>\n",
       "<table border=\"1\" class=\"dataframe\">\n",
       "  <thead>\n",
       "    <tr style=\"text-align: right;\">\n",
       "      <th></th>\n",
       "      <th>imgid</th>\n",
       "      <th>group_id</th>\n",
       "      <th>title</th>\n",
       "      <th>member_count</th>\n",
       "      <th>pool_count</th>\n",
       "    </tr>\n",
       "  </thead>\n",
       "  <tbody>\n",
       "    <tr>\n",
       "      <th>0</th>\n",
       "      <td>385070026</td>\n",
       "      <td>2131946@N24</td>\n",
       "      <td>♥♥♥PE0PLE FR0M AR0UND THE W0RLD♥♥♥\"FRIENDS\"♥♥</td>\n",
       "      <td>1115</td>\n",
       "      <td>6875</td>\n",
       "    </tr>\n",
       "    <tr>\n",
       "      <th>1</th>\n",
       "      <td>385070026</td>\n",
       "      <td>1344524@N24</td>\n",
       "      <td>Viva la Vida!  Alma e Cuore (P1-A5)</td>\n",
       "      <td>9463</td>\n",
       "      <td>340173</td>\n",
       "    </tr>\n",
       "    <tr>\n",
       "      <th>2</th>\n",
       "      <td>385070026</td>\n",
       "      <td>855034@N21</td>\n",
       "      <td>The Biggest Group! - Playground For Psychotics</td>\n",
       "      <td>8228</td>\n",
       "      <td>1265747</td>\n",
       "    </tr>\n",
       "    <tr>\n",
       "      <th>3</th>\n",
       "      <td>385070026</td>\n",
       "      <td>75277045@N00</td>\n",
       "      <td>Self -help group for flickr addicts</td>\n",
       "      <td>785</td>\n",
       "      <td>20454</td>\n",
       "    </tr>\n",
       "    <tr>\n",
       "      <th>4</th>\n",
       "      <td>385070026</td>\n",
       "      <td>26964488@N00</td>\n",
       "      <td>Powerful Portraits</td>\n",
       "      <td>10666</td>\n",
       "      <td>330500</td>\n",
       "    </tr>\n",
       "    <tr>\n",
       "      <th>...</th>\n",
       "      <td>...</td>\n",
       "      <td>...</td>\n",
       "      <td>...</td>\n",
       "      <td>...</td>\n",
       "      <td>...</td>\n",
       "    </tr>\n",
       "    <tr>\n",
       "      <th>243387</th>\n",
       "      <td>21240245799</td>\n",
       "      <td>19156427@N00</td>\n",
       "      <td>The Flikr Group</td>\n",
       "      <td>7207</td>\n",
       "      <td>1359625</td>\n",
       "    </tr>\n",
       "    <tr>\n",
       "      <th>243388</th>\n",
       "      <td>21240245799</td>\n",
       "      <td>1876700@N25</td>\n",
       "      <td>Picturesque New England</td>\n",
       "      <td>131</td>\n",
       "      <td>7976</td>\n",
       "    </tr>\n",
       "    <tr>\n",
       "      <th>243389</th>\n",
       "      <td>21240245799</td>\n",
       "      <td>583086@N22</td>\n",
       "      <td>old &amp; vintage</td>\n",
       "      <td>2804</td>\n",
       "      <td>46038</td>\n",
       "    </tr>\n",
       "    <tr>\n",
       "      <th>243390</th>\n",
       "      <td>21240245799</td>\n",
       "      <td>95014477@N00</td>\n",
       "      <td>NIKON PROFESSIONAL</td>\n",
       "      <td>36559</td>\n",
       "      <td>1665189</td>\n",
       "    </tr>\n",
       "    <tr>\n",
       "      <th>243391</th>\n",
       "      <td>21240245799</td>\n",
       "      <td>625646@N23</td>\n",
       "      <td>Classic Firearms</td>\n",
       "      <td>136</td>\n",
       "      <td>1129</td>\n",
       "    </tr>\n",
       "  </tbody>\n",
       "</table>\n",
       "<p>241146 rows × 5 columns</p>\n",
       "</div>"
      ],
      "text/plain": [
       "              imgid      group_id  \\\n",
       "0         385070026   2131946@N24   \n",
       "1         385070026   1344524@N24   \n",
       "2         385070026    855034@N21   \n",
       "3         385070026  75277045@N00   \n",
       "4         385070026  26964488@N00   \n",
       "...             ...           ...   \n",
       "243387  21240245799  19156427@N00   \n",
       "243388  21240245799   1876700@N25   \n",
       "243389  21240245799    583086@N22   \n",
       "243390  21240245799  95014477@N00   \n",
       "243391  21240245799    625646@N23   \n",
       "\n",
       "                                                 title member_count pool_count  \n",
       "0        ♥♥♥PE0PLE FR0M AR0UND THE W0RLD♥♥♥\"FRIENDS\"♥♥         1115       6875  \n",
       "1                  Viva la Vida!  Alma e Cuore (P1-A5)         9463     340173  \n",
       "2       The Biggest Group! - Playground For Psychotics         8228    1265747  \n",
       "3                  Self -help group for flickr addicts          785      20454  \n",
       "4                                   Powerful Portraits        10666     330500  \n",
       "...                                                ...          ...        ...  \n",
       "243387                                 The Flikr Group         7207    1359625  \n",
       "243388                         Picturesque New England          131       7976  \n",
       "243389                                   old & vintage         2804      46038  \n",
       "243390                              NIKON PROFESSIONAL        36559    1665189  \n",
       "243391                                Classic Firearms          136       1129  \n",
       "\n",
       "[241146 rows x 5 columns]"
      ]
     },
     "execution_count": 75,
     "metadata": {},
     "output_type": "execute_result"
    }
   ],
   "source": [
    "group_df"
   ]
  },
  {
   "cell_type": "code",
   "execution_count": 76,
   "metadata": {},
   "outputs": [
    {
     "data": {
      "text/plain": [
       "19347042068    806\n",
       "16945993822    690\n",
       "16759614658    671\n",
       "21151577326    645\n",
       "20016125092    638\n",
       "              ... \n",
       "19914861806      1\n",
       "19914872586      1\n",
       "19914902606      1\n",
       "19914904406      1\n",
       "19144826126      1\n",
       "Name: imgid, Length: 12302, dtype: int64"
      ]
     },
     "execution_count": 76,
     "metadata": {},
     "output_type": "execute_result"
    }
   ],
   "source": [
    "group_df['imgid'].value_counts()"
   ]
  },
  {
   "cell_type": "code",
   "execution_count": 77,
   "metadata": {},
   "outputs": [
    {
     "data": {
      "text/plain": [
       "76535076@N00       1065\n",
       "95309787@N00        932\n",
       "43501458@N00        669\n",
       "81127001@N00        640\n",
       "52240293230@N01     631\n",
       "                   ... \n",
       "2872030@N22           1\n",
       "528827@N23            1\n",
       "36535838@N00          1\n",
       "948065@N25            1\n",
       "1876700@N25           1\n",
       "Name: group_id, Length: 29560, dtype: int64"
      ]
     },
     "execution_count": 77,
     "metadata": {},
     "output_type": "execute_result"
    }
   ],
   "source": [
    "group_df['group_id'].value_counts()"
   ]
  },
  {
   "cell_type": "code",
   "execution_count": 78,
   "metadata": {},
   "outputs": [
    {
     "data": {
      "text/html": [
       "<div>\n",
       "<style scoped>\n",
       "    .dataframe tbody tr th:only-of-type {\n",
       "        vertical-align: middle;\n",
       "    }\n",
       "\n",
       "    .dataframe tbody tr th {\n",
       "        vertical-align: top;\n",
       "    }\n",
       "\n",
       "    .dataframe thead th {\n",
       "        text-align: right;\n",
       "    }\n",
       "</style>\n",
       "<table border=\"1\" class=\"dataframe\">\n",
       "  <thead>\n",
       "    <tr style=\"text-align: right;\">\n",
       "      <th></th>\n",
       "      <th>imgid</th>\n",
       "      <th>group_id</th>\n",
       "      <th>title</th>\n",
       "      <th>member_count</th>\n",
       "      <th>pool_count</th>\n",
       "    </tr>\n",
       "  </thead>\n",
       "  <tbody>\n",
       "    <tr>\n",
       "      <th>515</th>\n",
       "      <td>6982881973</td>\n",
       "      <td>76535076@N00</td>\n",
       "      <td>Flickr Addicts</td>\n",
       "      <td>138259</td>\n",
       "      <td>9041713</td>\n",
       "    </tr>\n",
       "    <tr>\n",
       "      <th>560</th>\n",
       "      <td>6988048739</td>\n",
       "      <td>76535076@N00</td>\n",
       "      <td>Flickr Addicts</td>\n",
       "      <td>138259</td>\n",
       "      <td>9041713</td>\n",
       "    </tr>\n",
       "    <tr>\n",
       "      <th>683</th>\n",
       "      <td>7742715506</td>\n",
       "      <td>76535076@N00</td>\n",
       "      <td>Flickr Addicts</td>\n",
       "      <td>138259</td>\n",
       "      <td>9041713</td>\n",
       "    </tr>\n",
       "    <tr>\n",
       "      <th>790</th>\n",
       "      <td>7916629758</td>\n",
       "      <td>76535076@N00</td>\n",
       "      <td>Flickr Addicts</td>\n",
       "      <td>138259</td>\n",
       "      <td>9041713</td>\n",
       "    </tr>\n",
       "    <tr>\n",
       "      <th>823</th>\n",
       "      <td>7980879218</td>\n",
       "      <td>76535076@N00</td>\n",
       "      <td>Flickr Addicts</td>\n",
       "      <td>138259</td>\n",
       "      <td>9041713</td>\n",
       "    </tr>\n",
       "    <tr>\n",
       "      <th>...</th>\n",
       "      <td>...</td>\n",
       "      <td>...</td>\n",
       "      <td>...</td>\n",
       "      <td>...</td>\n",
       "      <td>...</td>\n",
       "    </tr>\n",
       "    <tr>\n",
       "      <th>242651</th>\n",
       "      <td>21227854340</td>\n",
       "      <td>76535076@N00</td>\n",
       "      <td>Flickr Addicts</td>\n",
       "      <td>138258</td>\n",
       "      <td>9041710</td>\n",
       "    </tr>\n",
       "    <tr>\n",
       "      <th>242879</th>\n",
       "      <td>21233423846</td>\n",
       "      <td>76535076@N00</td>\n",
       "      <td>Flickr Addicts</td>\n",
       "      <td>138258</td>\n",
       "      <td>9041710</td>\n",
       "    </tr>\n",
       "    <tr>\n",
       "      <th>243137</th>\n",
       "      <td>21236896276</td>\n",
       "      <td>76535076@N00</td>\n",
       "      <td>Flickr Addicts</td>\n",
       "      <td>138258</td>\n",
       "      <td>9041710</td>\n",
       "    </tr>\n",
       "    <tr>\n",
       "      <th>243266</th>\n",
       "      <td>21239159703</td>\n",
       "      <td>76535076@N00</td>\n",
       "      <td>Flickr Addicts</td>\n",
       "      <td>138258</td>\n",
       "      <td>9041710</td>\n",
       "    </tr>\n",
       "    <tr>\n",
       "      <th>243333</th>\n",
       "      <td>21239355538</td>\n",
       "      <td>76535076@N00</td>\n",
       "      <td>Flickr Addicts</td>\n",
       "      <td>138258</td>\n",
       "      <td>9041710</td>\n",
       "    </tr>\n",
       "  </tbody>\n",
       "</table>\n",
       "<p>1065 rows × 5 columns</p>\n",
       "</div>"
      ],
      "text/plain": [
       "              imgid      group_id           title member_count pool_count\n",
       "515      6982881973  76535076@N00  Flickr Addicts       138259    9041713\n",
       "560      6988048739  76535076@N00  Flickr Addicts       138259    9041713\n",
       "683      7742715506  76535076@N00  Flickr Addicts       138259    9041713\n",
       "790      7916629758  76535076@N00  Flickr Addicts       138259    9041713\n",
       "823      7980879218  76535076@N00  Flickr Addicts       138259    9041713\n",
       "...             ...           ...             ...          ...        ...\n",
       "242651  21227854340  76535076@N00  Flickr Addicts       138258    9041710\n",
       "242879  21233423846  76535076@N00  Flickr Addicts       138258    9041710\n",
       "243137  21236896276  76535076@N00  Flickr Addicts       138258    9041710\n",
       "243266  21239159703  76535076@N00  Flickr Addicts       138258    9041710\n",
       "243333  21239355538  76535076@N00  Flickr Addicts       138258    9041710\n",
       "\n",
       "[1065 rows x 5 columns]"
      ]
     },
     "execution_count": 78,
     "metadata": {},
     "output_type": "execute_result"
    }
   ],
   "source": [
    "group_df[group_df['group_id']=='76535076@N00']"
   ]
  },
  {
   "cell_type": "code",
   "execution_count": 80,
   "metadata": {},
   "outputs": [
    {
     "data": {
      "text/plain": [
       "{'url': {116: 'https://www.flickr.com/photos/28991435@N02/6982881973'},\n",
       " 'img': {116: '6982881973.jpg'},\n",
       " 'img_access': {116: 1},\n",
       " 'label': {116: 14.35},\n",
       " 'Category': {116: 'Urban'},\n",
       " 'Concept': {116: 'artwork'},\n",
       " 'Pid': {116: 48688},\n",
       " 'Uid': {116: '4352@N69'},\n",
       " 'Subcategory': {116: 'StreetArt'},\n",
       " 'Alltags': {116: 'door art museum painting sketch artwork diptych artist hand candid kunst eingang workinprogress painter tor wald farbe veduta innenraum absperrung hades perspektive malen untergrund tangram handwerk kunstwerk tre vedute aquarell knstler winterlandschaft malerei maler pinsel wintermrchen diptychon kreide gemlde skizze verzerrung durchgang zugang ungestellt gemldegalerie kunsthistorischesmuseumwien sockel vorort unterwelt wienvienna mischtechnik sterreichaustria dreidimensional grundierung parkettboden totenreich museumoffineartsvienna lokulus gnterfritsch vedutenmaler uninszeniert gysbrechtlytens amschauplatz'},\n",
       " 'Title': {116: 'Painting at the Museum of Fine Arts Vienna - Gnter Fritsch im Kunsthistorischen Museum Wien'},\n",
       " 'Postdate': {116: 1437117124},\n",
       " 'Longitude': {116: 16.36141},\n",
       " 'Geoaccuracy': {116: 15},\n",
       " 'Latitude': {116: 48.203697},\n",
       " 'photo_firstdatetaken': {116: 2005010100},\n",
       " 'location_description': {116: nan},\n",
       " 'photo_count': {116: 1422},\n",
       " 'ispro': {116: 1},\n",
       " 'user_description': {116: '0.0,0.0,0.0,0.0,0.0,0.0,0.0,0.0,0.0,0.0,0.0,0.0,0.0,0.0,0.0,0.0,0.0,0.0,0.0,0.0,0.0,0.0,0.0,0.0,0.0,0.0,0.0,0.0,0.0,0.0,0.0,0.0,0.0,0.0,0.0,0.0,0.0,0.0,0.0,0.0,0.0,0.0,0.0,0.0,0.0,0.0,0.0,0.0,0.0,0.0,0.0,0.0,0.0,0.0,0.0,0.0,0.0,0.0,0.0,0.0,0.0,0.0,0.0,0.0,0.0,0.0,0.0,0.0,0.0,0.0,0.0,0.0,0.0,0.0,0.0,0.0,0.0,0.0,0.0,0.0,0.0,0.0,0.0,0.0,0.0,0.0,0.0,0.0,0.0,0.0,0.0,0.0,0.0,0.0,0.0,0.0,0.0,0.0,0.0,0.0,0.0,0.0,0.0,0.0,0.0,0.0,0.0,0.0,0.0,0.0,0.0,0.0,0.0,0.0,0.0,0.0,0.0,0.0,0.0,0.0,0.0,0.0,0.0,0.0,0.0,0.0,0.0,0.0,0.0,0.0,0.0,0.0,0.0,0.0,0.0,0.0,0.0,0.0,0.0,0.0,0.0,0.0,0.0,0.0,0.0,0.0,0.0,0.0,0.0,0.0,0.0,0.0,0.0,0.0,0.0,0.0,0.0,0.0,0.0,0.0,0.0,0.0,0.0,0.0,0.0,0.0,0.0,0.0,0.0,0.0,0.0,0.0,0.0,0.0,0.0,0.0,0.0,0.0,0.0,0.0,0.0,0.0,0.0,0.0,0.0,0.0,0.0,0.0,0.0,0.0,0.0,0.0,0.0,0.0,0.0,0.0,0.0,0.0,0.0,0.0,0.0,0.0,0.0,0.0,0.0,0.0,0.0,0.0,0.0,0.0,0.0,0.0,0.0,0.0,0.0,0.0,0.0,0.0,0.0,0.0,0.0,0.0,0.0,0.0,0.0,0.0,0.0,0.0,0.0,0.0,0.0,0.0,0.0,0.0,0.0,0.0,0.0,0.0,0.0,0.0,0.0,0.0,0.0,0.0,0.0,0.0,0.0,0.0,0.0,0.0,0.0,0.0,0.0,0.0,0.0,0.0,0.0,0.0,0.0,0.0,0.0,0.0,0.0,0.0,0.0,0.0,0.0,0.0,0.0,0.0,0.0,0.0,0.0,0.0,0.0,0.0,0.0,0.0,0.0,0.0,0.0,0.0,0.0,0.0,0.0,0.0,0.0,0.0,0.0,0.0,0.0,0.0,0.0,0.0,0.0,0.0,0.0,0.0,0.0,0.0,0.0,0.0,0.0,0.0,0.0,0.0,0.0,0.0,0.0,0.0,0.0,0.0,0.0,0.0,0.0,0.0,0.0,0.0,0.0,0.0,0.0,0.0,0.0,0.0,0.0,0.0,0.0,0.0,0.0,0.0,0.0,0.0,0.0,0.0,0.0,0.0,0.0,0.0,0.0,0.0,0.0,0.0,0.0,0.0,0.0,0.0,0.0,0.0,0.0,0.0,0.0,0.0,0.0,0.0,0.0,0.0,0.0,0.0,0.0,0.0,0.0,0.0,0.0,0.0,0.0,0.0,0.0,0.0,0.0,0.0,0.0,0.0,0.0,0.0,0.0,0.0,0.0,0.0,0.0,0.0,0.0,0.0,0.0,0.0,0.0,0.0,0.0,0.0,0.0,0.0,0.0,0.0,0.0,0.0,0.0,0.0,0.0,0.0,0.0'},\n",
       " 'canbuypro': {116: 0},\n",
       " 'timezone_timezone_id': {116: 5},\n",
       " 'photo_firstdate': {116: 1299612301.0},\n",
       " 'timezone_offset': {116: -8},\n",
       " 'Pathalias': {116: 'hedbavny'},\n",
       " 'imgID': {116: '6982881973'}}"
      ]
     },
     "execution_count": 80,
     "metadata": {},
     "output_type": "execute_result"
    }
   ],
   "source": [
    "df[df['imgID']=='6982881973'].to_dict()"
   ]
  },
  {
   "cell_type": "code",
   "execution_count": 81,
   "metadata": {},
   "outputs": [
    {
     "data": {
      "text/plain": [
       "0.0,0.0,0.0,0.0,0.0,0.0,0.0,0.0,0.0,0.0,0.0,0.0,0.0,0.0,0.0,0.0,0.0,0.0,0.0,0.0,0.0,0.0,0.0,0.0,0.0,0.0,0.0,0.0,0.0,0.0,0.0,0.0,0.0,0.0,0.0,0.0,0.0,0.0,0.0,0.0,0.0,0.0,0.0,0.0,0.0,0.0,0.0,0.0,0.0,0.0,0.0,0.0,0.0,0.0,0.0,0.0,0.0,0.0,0.0,0.0,0.0,0.0,0.0,0.0,0.0,0.0,0.0,0.0,0.0,0.0,0.0,0.0,0.0,0.0,0.0,0.0,0.0,0.0,0.0,0.0,0.0,0.0,0.0,0.0,0.0,0.0,0.0,0.0,0.0,0.0,0.0,0.0,0.0,0.0,0.0,0.0,0.0,0.0,0.0,0.0,0.0,0.0,0.0,0.0,0.0,0.0,0.0,0.0,0.0,0.0,0.0,0.0,0.0,0.0,0.0,0.0,0.0,0.0,0.0,0.0,0.0,0.0,0.0,0.0,0.0,0.0,0.0,0.0,0.0,0.0,0.0,0.0,0.0,0.0,0.0,0.0,0.0,0.0,0.0,0.0,0.0,0.0,0.0,0.0,0.0,0.0,0.0,0.0,0.0,0.0,0.0,0.0,0.0,0.0,0.0,0.0,0.0,0.0,0.0,0.0,0.0,0.0,0.0,0.0,0.0,0.0,0.0,0.0,0.0,0.0,0.0,0.0,0.0,0.0,0.0,0.0,0.0,0.0,0.0,0.0,0.0,0.0,0.0,0.0,0.0,0.0,0.0,0.0,0.0,0.0,0.0,0.0,0.0,0.0,0.0,0.0,0.0,0.0,0.0,0.0,0.0,0.0,0.0,0.0,0.0,0.0,0.0,0.0,0.0,0.0,0.0,0.0,0.0,0.0,0.0,0.0,0.0,0.0,0.0,0.0,0.0,0.0,0.0,0.0,0.0,0.0,0.0,0.0,0.0,0.0,0.0,0.0,0.0,0.0,0.0,0.0,0.0,0.0,0.0,0.0,0.0,0.0,0.0,0.0,0.0,0.0,0.0,0.0,0.0,0.0,0.0,0.0,0.0,0.0,0.0,0.0,0.0,0.0,0.0,0.0,0.0,0.0,0.0,0.0,0.0,0.0,0.0,0.0,0.0,0.0,0.0,0.0,0.0,0.0,0.0,0.0,0.0,0.0,0.0,0.0,0.0,0.0,0.0,0.0,0.0,0.0,0.0,0.0,0.0,0.0,0.0,0.0,0.0,0.0,0.0,0.0,0.0,0.0,0.0,0.0,0.0,0.0,0.0,0.0,0.0,0.0,0.0,0.0,0.0,0.0,0.0,0.0,0.0,0.0,0.0,0.0,0.0,0.0,0.0,0.0,0.0,0.0,0.0,0.0,0.0,0.0,0.0,0.0,0.0,0.0,0.0,0.0,0.0,0.0,0.0,0.0,0.0,0.0,0.0,0.0,0.0,0.0,0.0,0.0,0.0,0.0,0.0,0.0,0.0,0.0,0.0,0.0,0.0,0.0,0.0,0.0,0.0,0.0,0.0,0.0,0.0,0.0,0.0,0.0,0.0,0.0,0.0,0.0,0.0,0.0,0.0,0.0,0.0,0.0,0.0,0.0,0.0,0.0,0.0,0.0,0.0,0.0,0.0,0.0,0.0,0.0,0.0,0.0,0.0,0.0,0.0,0.0,0.0,0.0,0.0,0.0,0.0,0.0,0.0                                                                                                                                                                                                                                                                                                                                                                                                                                                                                                                                                                                                                                                                                                                                                                                                                                                                                                                                                                                                                                                                                                                                                                                                                                                                                                                                                                                                                                                                                                                                                                                                                                                                                                                                                                                                                                                                                                                                                                                                                                                                                                                                                                                                                                                                                                                                                                                                                                                                                                                                                     115833\n",
       "-0.0716308,-0.505692,0.00111234,-0.271296,0.227863,0.217605,-0.150457,-0.24133,-0.135356,-0.0370502,-0.316195,-0.0534716,-0.132262,-0.0857443,-0.259001,-0.169732,0.38884,-0.119907,-0.30787,-0.178862,-0.478036,-0.261662,0.21062,0.393923,-0.430599,-0.138029,0.0382856,0.189732,-0.283921,-0.739902,-0.296284,-0.447856,-0.186832,-0.262245,-0.463648,0.0704113,0.116769,-0.237161,-0.380357,0.15684,-0.0952358,0.437142,0.17773,0.206072,-0.0441505,-0.493049,-0.31259,0.375854,-0.229419,-0.127847,0.116471,0.0971799,0.148406,0.0103401,-0.42112,0.138852,0.104463,0.605649,0.0377103,-0.264759,-0.471598,-0.471673,0.0229419,0.0229874,0.237285,0.0359445,-0.0659759,0.468751,-0.148736,0.127887,-0.17329,-0.103451,-0.108769,0.088521,-0.23232,0.297907,-0.197852,-0.20172,0.186719,-0.171695,0.14666,0.0103415,-0.197677,-0.017504,0.149347,-0.311572,-0.00216563,0.0633634,0.483689,-0.195748,-0.0202348,-0.181534,0.0327683,0.0463688,0.280295,-0.411291,-0.301417,0.142061,-0.440801,0.277177,0.43437,-0.213421,-0.149125,-0.544118,0.263082,0.291182,-0.163536,-0.204656,-0.249709,0.641433,0.25397,0.224612,0.288804,0.360695,-0.200845,-0.323383,-0.196753,-0.355655,0.322129,0.292795,0.577395,0.0545277,-0.415184,0.0391208,-0.201674,-0.245292,0.0828331,-0.432077,-0.295488,-0.545889,0.141818,0.120033,-0.125415,0.0223393,-0.424479,-0.0505215,0.247367,-0.646689,0.0308903,0.315383,-0.187706,-0.0493352,-0.026606,0.183013,-0.174709,-0.153194,0.261589,0.0604042,-0.303623,-0.300501,0.257642,0.437285,0.174811,-0.0037893,0.065139,0.0195313,-0.201848,-0.301058,0.357018,0.0624785,-0.0375847,0.00843162,0.281705,0.337339,0.650731,0.111811,-0.068008,0.0644169,-0.133597,-0.196211,-0.611686,0.239162,0.648834,-0.0419711,-0.221662,0.0900051,-0.13193,0.168104,-0.159111,-0.0413356,-0.00589712,-0.0539071,0.236503,0.218375,0.425305,-0.293661,-0.240386,-0.158759,0.376816,-0.0876388,0.127112,0.0576303,-0.738975,0.225476,-0.32782,-0.103264,0.0902887,0.502525,-0.0571985,-0.12565,0.0998991,-0.102738,0.163074,-0.493139,-0.0490817,-0.401068,-0.204837,0.538457,0.0748151,-0.346321,-0.16543,0.0849255,-0.259295,0.128785,0.124036,0.029322,0.11888,0.40343,0.255555,0.117288,-0.184985,-0.381699,0.340079,-0.0141637,0.681054,-0.289851,-0.325378,0.269373,0.0484875,-0.279451,0.191697,-0.204019,0.195922,-0.293921,-0.0526138,-0.338469,-0.371148,-0.246364,0.142494,-0.0131125,0.0720752,-0.353144,0.146749,-0.33522,-0.342829,-0.310324,-0.0179233,-0.389277,0.157632,-0.0975759,-0.473751,0.284842,0.0463558,0.157522,-0.133848,-0.0764388,-0.228172,0.270937,-0.284039,0.00224817,0.545369,-0.0309595,-0.116886,-0.149668,0.212609,0.0981263,0.325569,-0.289267,-0.0693061,0.0313092,-0.0856012,0.106289,-0.0842222,-0.0931542,-0.294132,0.10401,0.0807942,0.162558,0.0395655,-0.270919,0.161834,0.140668,-0.395767,0.0362955,0.0354634,-0.262316,-0.000886149,0.14286,0.321226,-0.415979,0.220914,-0.246961,0.0221952,-0.413473,-0.058149,-0.472193,0.0554949,0.103215,0.0958531,-0.349639,-0.197145,-0.292824,0.285823,-0.347105,-0.118057,-0.271415,-0.351635,-0.132798,0.202031,0.356633,0.147183,0.163238,0.39229,-0.147389,0.0199507,0.250576,-0.111507,-0.0922864,-0.224137,0.127303,-0.0864977,0.0567522,0.332968,0.182136,0.246995,0.00648021,0.117326,-0.0613699,0.224696,0.214821,0.0239847,-0.275222,0.109758,0.228564,0.104937,0.011449,0.167758,-0.422952,0.03771,0.0129305,0.123854,0.112069,-0.234416,-0.298013,0.351582,-0.382543,-0.0697454,0.0608327,-0.153483,0.078758,-0.00677005,-0.120303,0.375363,0.0190811,-0.217441,0.483706,0.166395,0.0288876,-0.0758525,0.0781258,0.390424,-0.26916,-0.113799,-0.148076,0.19127,-0.0752553,-0.229637,0.0784636,0.15473,-0.164203,-0.142703,0.455584,0.215138,0.162565,-0.0223624,-0.486548,0.203826,-0.187233,0.40889,-0.312114,0.15338,-0.315727,0.269877,-0.203595,-0.613398,-0.0369723,0.0784747,0.0909007,0.34942,-0.0536964,0.119246,0.0669907,-0.448314,0.0286065,0.0457836,-0.209899,0.0004254,0.0942744,-0.00725715                                                                                                                                                                               1381\n",
       "0.148853,-0.0505509,-0.109041,0.124666,-0.0335598,-0.27654,-0.0223269,-0.202134,-0.112391,-0.0878039,0.0422243,0.119929,0.0387681,-0.0830932,0.0977017,0.0324415,0.0990618,0.0749329,-0.127705,0.0740236,-0.239305,0.0404091,0.109742,-0.00910469,-0.154357,-0.212691,-0.125945,0.139083,0.13946,-0.0559759,-0.0337776,-0.155393,-0.0450816,0.113984,0.0462549,-0.0266257,0.141298,-0.033841,-0.0381223,0.0597914,-0.0368301,0.257174,0.0651739,-0.129515,-0.0127392,-0.0325733,0.0559981,-0.0137763,-0.0179192,0.113569,-0.0503462,0.147949,0.219803,0.0453883,0.163121,-0.112964,0.0309843,0.158008,-0.0804782,-0.110412,-0.0512643,-0.0708376,-0.0731668,0.0472347,-0.148586,0.147223,0.0306328,-0.0101359,-0.124716,-0.0997239,0.0264642,-0.163315,-0.0647412,-0.00866499,-0.172691,0.0534689,-0.0873007,-0.175253,0.0917572,0.0673504,0.199053,-0.0337151,-0.00445809,0.0248204,-0.18886,0.0884389,0.0434536,0.162783,0.0270934,-0.126985,0.176906,0.209414,0.0608164,0.0241871,-0.0242003,-0.0811754,0.0349126,0.0812721,0.104831,0.0370948,0.103395,0.044112,-0.171492,-0.0985874,0.0698803,-0.021767,0.0554944,0.00152325,-0.204574,0.140093,0.0730431,0.137483,-0.0460001,0.10011,-0.0942629,0.164293,0.0735758,-0.0975626,0.118674,0.106112,0.0371145,0.046687,-0.182636,-0.0939183,-0.229665,0.24147,0.0928267,-0.0490291,-0.0738997,0.0213428,0.0891167,-0.0370643,-0.114321,-0.0975757,-0.0167199,0.0345496,0.134921,-0.267914,-0.0331271,-0.181378,-0.0267304,-0.0747629,-0.0276032,0.0163268,-0.0468409,0.0456176,-0.124874,0.0820048,-0.209004,-0.151435,-0.0824487,-0.0881767,0.119635,-0.042991,-0.053621,0.107129,-0.217958,0.0270342,-0.168757,0.0809102,-0.0116876,0.0174978,0.0678253,-0.000220687,0.0872898,0.00414564,0.0442973,0.058232,0.145874,0.0322493,-0.10298,0.0993249,0.0686085,-0.128862,0.032111,0.023014,0.00690221,0.111664,-0.0648809,0.102754,-0.141268,-0.0120075,-0.0263888,0.0497305,-0.0737724,-0.13705,-0.134844,-0.00254797,0.09875,-0.171384,0.224901,0.104586,-0.311105,-0.0961199,0.0062575,-0.0557452,-0.158201,0.0877778,0.0213408,-0.0307151,-0.124183,-0.10536,0.288898,-0.0507884,0.172303,-0.280898,-0.0562289,0.0716869,0.1532,-0.018415,-0.0699734,-0.0470001,-0.437737,0.0569842,0.0911703,-0.0874236,-0.113465,0.166846,0.0864115,-0.204913,0.0621685,0.0147539,0.026138,0.137607,0.0807602,-0.0735658,0.104335,0.0396749,0.221401,0.011077,0.0948507,-0.11638,-0.0413149,0.0474826,-0.245765,0.208324,-0.124472,0.0759601,0.0263689,-0.0650645,0.121229,-0.136392,-0.0552287,-0.010744,0.0348121,-0.0954709,-0.135717,-0.00755221,-0.0270939,-0.23566,0.0362459,0.0659823,-0.0149235,0.07982,-0.280213,0.199951,-0.00660738,0.0498275,-0.00805501,-0.0347267,0.133911,0.056391,-0.021247,-0.0759966,0.0357944,-0.00239897,-0.0883631,0.0721738,0.0482907,-0.00866634,-0.0221357,0.0736223,-0.179861,-0.0846721,0.00690334,-0.176192,-0.158376,0.00977922,-0.0971435,-0.0772369,-0.0226885,-0.136453,-0.073813,-0.164419,-0.0166143,0.0366136,0.0483286,0.0740791,-0.0234768,-0.116546,-0.0252732,-0.269862,0.0925932,-0.178109,-0.0251185,0.198636,0.131088,-0.0738563,0.0716676,-0.257826,-0.0533519,0.10115,0.0384926,-0.0113424,-0.0706845,-0.0288504,0.0352413,0.0185774,0.0588646,0.153651,0.113597,0.0599617,-0.055085,-0.163137,0.0251676,0.0388222,-0.0270169,-0.042523,0.0930952,-0.129769,0.137716,-0.0632224,-0.0054668,-0.0306611,0.171396,-0.0292768,0.140568,-0.0538469,0.0820436,0.340591,-0.149188,-0.0628023,-0.0922527,-0.0986445,0.0567513,-0.242731,0.120704,-0.0826702,-0.0760685,0.0759645,-0.135976,0.12259,-0.154901,0.0581086,0.139798,0.0504817,0.0934515,0.061356,-0.018917,0.0108936,-0.151512,-0.012041,-0.067601,-0.0739189,0.00688096,-0.0027222,0.112908,-0.18009,0.126595,0.0373239,0.106257,-0.00772685,-0.00176302,-0.160293,0.0681658,0.138695,-0.10551,-0.027334,0.116617,0.183682,0.010839,-0.0296998,0.1459,-0.0207444,-0.0765686,0.0512885,0.0619725,-0.00568494,0.0287405,-0.0628327,0.0769854,0.0797678,0.0547334,-0.176494,-0.150223,0.132224,-0.070294,0.0343435,0.220236,0.126044,-0.00515751,-0.0145097,0.034454,0.0165291,0.112233,0.0924257,0.137364,-0.0495799,0.131647                               1145\n",
       "0.157033,-0.0509238,-0.0200755,0.0864145,-0.0370832,-0.230186,0.0351465,-0.131705,-0.0578043,-0.102683,0.0431215,0.136028,0.0113384,-0.0833632,0.0859329,0.0195218,0.130855,0.101579,-0.137105,-0.0369433,-0.173417,-0.00663171,0.104174,-0.0185845,-0.278332,-0.211631,-0.105827,0.156659,0.169502,-0.0291139,0.0218847,-0.152823,-0.0082564,0.0863688,0.0162965,0.0212066,0.0727243,-0.108968,-0.0386972,0.107399,-0.137176,0.30515,0.150353,-0.123474,-0.0793521,-0.0796525,0.0760401,0.0720433,0.0179775,0.0962566,-0.081472,0.156973,0.243539,-0.0407916,0.15038,-0.0861109,0.00934571,0.0736751,-0.0821679,-0.140383,-0.0302208,0.000775863,-0.114557,0.0517806,-0.184911,0.062036,0.0670304,0.0470923,-0.0664793,-0.0873926,-0.0329047,-0.0433458,-0.0402912,-0.181988,-0.150337,-0.0597001,-0.184948,-0.164269,0.190624,0.0966382,0.10482,-0.134544,-0.00561426,0.0752739,-0.137492,0.0872136,0.034952,0.127556,0.0240891,-0.116035,0.275785,0.172296,0.0722772,-0.0568235,-0.0435344,-0.0980559,-0.0216211,-0.0247616,0.0755064,-0.017023,0.219953,0.0446632,-0.108244,-0.171602,0.12868,0.0387904,0.034791,0.0234288,-0.160228,0.154609,0.0860911,0.13012,-0.0776782,0.0569966,-0.110187,0.15525,0.0405255,-0.0926874,0.0856075,0.0545777,0.0217267,0.0169919,-0.262291,-0.044016,-0.280409,0.295072,0.154402,0.0377347,0.00323266,0.00463082,0.0938745,-0.0636546,-0.149059,-0.0466242,-0.0286517,0.139833,0.00327324,-0.322645,-0.063922,-0.178341,0.0185128,0.0146915,-0.00439885,0.0711501,-0.104148,0.0933141,-0.0503274,0.088928,-0.0833182,-0.206134,-0.0972139,-0.0295991,0.0309447,0.0297619,-0.00608123,0.0943233,-0.217804,-0.00901446,-0.138153,0.0227098,-0.00784111,0.0674731,0.0400886,-0.0856034,0.0527634,-0.0104066,0.0246042,0.069763,0.104857,-0.00607651,-0.0811143,0.101866,0.132429,-0.128858,0.0220257,-0.0241088,0.0139537,0.12734,-0.121908,0.117838,-0.149115,-0.094509,-0.0541215,0.00936337,-0.137374,-0.0257829,-0.0993985,0.0337996,0.106954,-0.0757961,0.184612,0.116966,-0.276975,-0.0293715,-0.100439,-0.0299294,-0.136607,0.125189,0.0850807,-0.0286421,-0.053862,-0.145241,0.24311,-0.0570521,0.16988,-0.283236,-0.0176815,0.121317,0.117585,0.0177211,0.0049943,-0.0354938,-0.368474,0.0464033,0.193207,-0.0144972,-0.0974633,0.21969,0.0825975,-0.236313,0.0342186,0.0353317,0.0337257,0.0343461,-0.0349609,-0.0357451,0.0667209,0.0314152,0.207695,0.065759,0.0265496,-0.161594,-0.0431225,0.0470489,-0.232379,0.224611,-0.0627914,0.072033,-0.0389046,0.0288377,0.00855483,-0.0890626,-0.0856839,-0.0255486,0.0808569,-0.0148001,-0.0532588,0.0961426,-0.140185,-0.180762,0.0164577,0.0465194,-0.0981382,0.0842308,-0.194398,0.125902,0.00727748,-0.0123088,-0.149476,-0.125683,0.12358,0.0601795,-0.03566,0.0262273,0.0571999,-0.05518,0.0352719,0.146827,0.0589594,-0.0221903,0.0311432,0.130524,-0.171953,-0.0407552,0.00413491,-0.0415518,-0.130241,0.0160698,-0.158378,-0.107681,-0.00347754,-0.076358,-0.0767834,-0.33496,-0.0179965,0.0375105,0.0241443,0.0399711,0.081257,-0.0891182,-0.0847068,-0.261236,0.02944,-0.149963,0.0219865,0.190666,0.0518707,-0.10358,0.125959,-0.315344,-0.0123876,0.166333,0.0663289,-0.00996782,-0.0854108,0.00977182,0.0443308,0.0345971,-0.0161853,0.242505,-0.0525115,0.0557635,-0.124906,-0.0636622,0.00844514,0.067205,-0.0100073,-0.0363062,0.157721,-0.203274,0.0438298,-0.0311283,-0.0624285,0.00747082,0.21512,-0.028689,0.0316275,-0.0219549,0.17036,0.251693,-0.141283,-0.0470905,-0.0276432,-0.0429265,0.121936,-0.223303,0.141572,-0.0899097,-0.029283,0.113202,-0.0570433,0.148277,-0.129395,0.0147273,0.0757735,-0.0699526,0.18725,0.102307,-0.0959313,-0.0162676,-0.0513718,0.00206146,-0.146189,-0.129356,-0.0134063,0.0150859,0.199449,-0.119121,0.106049,0.030594,0.187189,-0.111874,0.0210805,-0.141877,0.107837,0.0326509,-0.0520518,-0.0449084,0.147422,0.154401,-0.0733577,0.0733829,0.0931763,0.00270878,-0.162385,0.00969706,0.0293505,-0.0622666,0.0749069,-0.089748,0.108746,0.0812458,0.0904877,-0.170629,-0.128398,0.164444,-0.143267,0.0237753,0.0938207,0.048509,0.0500904,-0.0494912,-0.0824832,0.0008121,0.160717,-0.0585652,0.160071,-0.0966948,0.178896                               1022\n",
       "0.107639,-0.0661477,-0.0349092,-0.0100723,-0.0323656,-0.10422,-0.028352,-0.170043,-0.097065,-0.112737,-0.0646197,0.0807351,0.0750186,-0.0953413,0.0778721,0.176636,0.2096,-0.00612438,-0.0786605,-0.0626068,-0.181702,0.061864,0.0753523,-0.0580035,-0.246405,-0.188983,-0.0863217,0.140593,0.106689,-0.0397149,-0.0426029,-0.217676,-0.116121,0.0262575,0.0744929,-0.0120276,0.156168,-0.144912,-0.00525562,0.036976,0.00094585,0.314052,0.0806334,-0.12946,-0.0518997,-0.0525931,-0.0235806,0.110773,-0.0640789,0.0300509,-0.124536,0.124814,0.108521,0.0161768,0.161735,-0.0818073,0.0151477,0.092931,-0.0861039,-0.162015,-0.0516828,-0.0311674,-0.102706,0.0527482,-0.0787703,0.0968134,0.0729294,0.0817198,-0.161838,-0.0204724,-0.00317491,0.020453,-0.0318833,-0.102019,-0.174811,-0.00989371,-0.0900302,-0.166623,0.110185,-0.0255974,0.0936798,-0.115384,-0.0691938,0.0438568,-0.179068,0.00418532,0.011122,0.124651,0.0877867,-0.085734,0.221515,0.169129,0.145552,0.0608606,-0.0315914,0.0130547,-0.00778646,0.131692,0.0955234,0.00107307,0.245664,-0.0316525,-0.0850573,-0.0744063,0.125967,-0.0524736,-0.0402712,-0.0323111,-0.159095,0.116176,0.143426,0.0759656,-0.0197799,0.194324,-0.129431,0.12697,0.0383642,-0.138528,-0.00768142,0.0610599,-0.0226636,0.031563,-0.281937,-0.00100405,-0.18896,0.195534,0.184051,-0.00122813,0.0335385,-0.0400437,0.0440323,-0.0445137,-0.0294034,-0.00972034,-0.118166,0.0430698,0.0428164,-0.398767,0.128877,-0.184355,0.0229744,-0.019428,0.056522,-0.0512538,-0.164729,-0.029963,-0.0710732,0.0840473,-0.110322,-0.102241,-0.0812632,0.0283134,0.171458,0.0111615,-0.00312692,0.0350341,-0.155588,-0.0677639,-0.109847,0.0258607,0.0223165,0.0521854,0.0638615,-0.0192228,0.081429,0.122857,0.0529019,0.0469498,0.112333,-0.0394451,-0.162715,0.0656476,0.122141,-0.17265,-0.0388146,0.0742257,-0.053476,0.109855,-0.0929959,0.0134742,-0.183981,-0.0331585,0.0834415,0.109534,0.108102,-0.0752767,-0.115578,0.054424,0.0472044,-0.114928,0.159964,0.0751859,-0.345963,-0.136538,-0.100468,-0.123709,-0.11424,0.152243,0.0373507,0.0133726,0.00589663,-0.0959398,0.169288,-0.0334661,0.0859007,-0.259138,0.0236887,0.132125,0.072041,-0.0598947,-0.00246211,-0.0500883,-0.420963,0.081246,0.0406565,-0.0265191,-0.0802872,0.232064,0.149216,-0.163843,0.0738456,-0.0739824,0.0664012,0.0815069,0.112819,-0.105838,0.0111756,-0.0120967,0.124303,0.0450666,-0.0175193,-0.29444,-0.00637778,0.0414147,-0.2354,0.176348,-0.0936824,0.0358417,0.0193079,0.0622489,0.104804,-0.207189,-0.106385,-0.0527721,-0.0171014,0.0155504,-0.0472651,-0.0348279,-0.0143842,-0.171672,0.0812715,0.0354283,0.0216179,0.125129,-0.275162,0.110592,-0.0630176,-0.024447,-0.0377665,-0.0899503,0.12726,0.0641447,-0.0416482,-0.0236304,0.0127266,-0.00385904,-0.0868244,0.0367716,0.0427836,-0.0537801,-0.0163363,0.254878,-0.150074,-0.0823488,-0.0238495,-0.0594452,-0.0962882,-0.0958691,-0.141495,-0.125213,-0.0494662,-0.0334143,-0.0983229,-0.267926,-0.0572989,0.0306143,0.129937,0.0358645,0.154412,-0.112366,-0.0430861,-0.275978,0.112901,-0.123385,-0.0184547,0.105951,0.187095,-0.069301,0.0564765,-0.239659,-0.0301536,0.180472,0.0199367,-0.0834056,-0.0282828,-0.0908826,-0.0395793,-0.064567,-0.00793715,0.237207,0.0145284,0.0156291,-0.149671,-0.164501,-0.0215252,0.121334,-0.0134663,-0.0576876,0.124733,-0.0790392,0.136301,-0.0648367,-0.0885891,0.0768809,0.21907,0.0408205,0.141641,-0.0610372,0.148418,0.223977,-0.158933,-0.1043,-0.0387051,-0.0851484,-0.0152723,-0.179888,0.18713,-0.0710514,-0.124164,0.0920406,-0.0465816,0.144963,-0.0805447,0.0970855,0.1137,-0.0720839,0.140328,0.0848079,-0.0748516,-0.05422,-0.0333627,-0.0294316,-0.0151726,-0.077809,0.0209088,0.0543537,0.0626695,-0.13339,0.0688108,-0.0308801,0.114184,-0.138562,-0.0545275,-0.13536,-0.0713615,0.0878123,-0.107205,0.0288178,0.128683,0.121609,-0.0512281,0.058518,0.0814425,-0.022162,-0.0733233,-0.0913114,0.0121956,-0.0407919,0.0599726,-0.181877,-0.014291,0.118057,0.141659,-0.198143,-0.136406,0.161763,-0.0897539,0.032369,0.1888,0.0691346,0.0715978,0.043472,-0.0356346,0.116979,0.173183,0.0866237,0.19554,-0.0717804,0.0704469                           909\n",
       "                                                                                                                                                                                                                                                                                                                                                                                                                                                                                                                                                                                                                                                                                                                                                                                                                                                                                                                                                                                                                                                                                                                                                                                                                                                                                                                                                                                                                                                                                                                                                                                                                                                                                                                                                                                                                                                                                                                                                                                                                                                                                                                                                                                                                                                                                                                                                                                                                                                                                                                                                                                                                                                                                                                                                                                                                                                                                                                                                                                                                                                                                                                                                                                                                                                                                                                                                                                                                                                                                                                                                                                                                                                                                                                                                                                                                                                                                                                                                                                                                                                                                                                                                                                                                 ...  \n",
       "0.0322029,-0.127413,-0.00766866,0.0426964,0.0873898,-0.299167,0.0604613,-0.202247,-0.00602312,-0.0544266,0.0222148,0.186112,0.0572306,-0.15783,0.0889651,0.129231,0.14704,0.219395,-0.0523248,0.131245,-0.214133,0.00223938,0.141461,0.085617,-0.313135,-0.0555672,-0.0718131,0.121816,0.0753554,0.00976302,-0.145298,-0.0381504,-0.115423,0.158799,0.0687947,-0.0205979,0.17149,0.0525187,0.039891,0.0337651,-0.156131,0.209875,-0.0340399,-0.0195082,0.028929,-0.126438,0.0969283,-0.232539,-0.0458866,0.226281,-0.267631,0.350724,0.15565,0.093267,-0.0609358,-0.155626,-0.109007,-0.0368262,-0.247511,0.109818,0.0379236,-0.175091,-0.0977625,0.0780603,-0.42818,-0.0789696,0.222235,0.258503,-0.0978758,-0.232405,-0.0941822,-0.152328,-0.138192,-0.0573305,-0.29201,0.222587,-0.197549,-0.222046,0.230418,0.11371,0.218903,-0.0421695,-0.004188,-0.0522374,-0.183761,0.127313,-0.0800243,0.0316971,-0.0942068,-0.254816,0.218688,-0.000522482,0.0387962,-0.176631,-0.0838089,-0.0698148,0.203442,0.0152038,0.165725,-0.0924833,0.217352,-0.216696,-0.14834,-0.322956,0.099379,0.0239273,0.0485299,0.0852956,-0.249434,0.166384,0.0256821,0.0297959,-0.192909,0.127178,-0.00858805,0.197239,-0.0158204,-0.310362,-0.203069,-0.0957671,-0.0144663,0.017407,-0.116729,0.0277665,-0.276222,0.224079,0.11339,-0.0698377,0.0715319,0.0184352,0.148124,-0.0862695,0.00914369,-0.109004,0.152321,-0.127651,0.0799881,-0.247472,-0.153981,-0.346586,-0.000675623,-0.107764,0.0853777,-0.181802,-0.297554,0.0157226,-0.0606855,0.249435,-0.297313,-0.0493241,-0.158885,-0.0878283,0.140132,-0.0642985,-0.151395,-0.0453212,-0.0975285,0.233249,-0.198568,0.0271947,-0.240921,0.101271,0.0535662,-0.280159,0.11758,-0.0321103,0.183243,0.265227,0.174345,0.0366252,-0.27285,0.13983,0.192133,-0.127136,0.0762885,-0.231704,0.243901,0.011752,-0.047795,0.0261267,-0.217563,-0.0369954,-0.0898213,0.250702,0.125759,-0.184848,-0.144242,0.267278,0.0787599,-0.247561,0.27315,0.230627,-0.503842,0.0507939,0.184168,-0.0418147,-0.08328,0.367595,0.193571,-0.0687947,-0.0832178,-0.0728521,0.265828,-0.0212452,0.233497,-0.210575,-0.0163418,0.124164,0.193995,0.138012,0.0349063,-0.164265,-0.571446,0.0940752,0.372271,-0.0387404,-0.147368,0.220583,0.0747872,-0.261542,0.14736,0.0301978,-0.135984,0.215023,-0.0714687,0.0413733,0.0308288,-0.282918,0.18145,0.102501,0.0259306,-0.327222,0.0893122,-0.207544,-0.182761,0.31052,-0.101647,0.0707649,0.170603,0.1746,0.074053,-0.26963,0.0984919,-0.00571375,-0.0671897,-0.170612,0.0392046,-0.0138005,-0.22506,-0.24399,-0.123272,-0.0594454,-0.00667467,-0.0513574,-0.502353,-0.0703816,0.195032,0.195624,0.1124,-0.0208912,0.186671,-0.300056,0.0267497,0.126255,-0.107365,-0.0752478,-0.0335509,0.366886,-0.122969,0.050709,0.137005,0.123162,-0.030674,-0.117315,0.11036,-0.0668855,-0.0194315,0.100499,-0.390681,-0.13982,-0.100063,-0.196754,-0.0357834,-0.365887,0.129245,0.0731429,0.149636,-0.121803,0.0470667,-0.0644776,-0.103272,-0.391422,0.132746,-0.0566155,-0.123117,0.367233,0.0296879,-0.183183,0.350204,-0.0249849,0.0711369,0.348823,0.274486,-0.0042386,-0.229661,0.040375,0.195888,-0.102753,-0.103038,0.288024,0.126943,-0.162854,0.0535919,-0.0998984,-0.0537546,0.175248,-0.25321,-0.101364,-0.0418216,-0.0232177,0.0939325,-0.101993,-0.0578979,0.159413,0.515541,0.273809,0.00562498,0.0868438,-0.0779573,0.29671,0.054299,0.00583969,0.0219038,-0.0729941,0.110649,-0.163936,0.389196,-0.0940745,-0.106661,0.0115709,-0.28347,0.085599,-0.274388,0.0619833,-0.00944938,-0.00739488,0.0938191,-0.0570897,-0.0872243,-0.122967,-0.206629,0.0960843,0.0727539,-0.18487,-0.082227,-0.182405,0.270473,-0.14245,0.217198,0.0918429,0.0774641,0.0764024,0.0402194,-0.235743,-0.0888866,-0.0254816,0.0323462,-0.254064,0.0336731,0.366268,-0.242597,-0.0252762,0.101841,0.0644566,0.00201683,0.00617289,0.0678576,-0.118633,0.307967,0.0128177,0.191566,0.177256,0.0582471,-0.139834,-0.268719,0.218288,0.0684292,0.123662,-0.169792,-0.0135673,-0.204658,0.0423457,-0.146047,-0.156891,0.0381206,0.108092,0.315581,-0.159538,-0.0146687                                                                                                            1\n",
       "0.153209,-0.00808696,-0.0710583,0.0154768,-0.0489246,-0.237788,-0.0386092,-0.173521,-0.085163,-0.105237,0.000959589,0.134191,0.0587619,-0.122438,0.0468359,0.087355,0.128787,0.00321052,-0.069893,-0.0454884,-0.176759,0.0217136,0.0771477,-0.039059,-0.160588,-0.252499,-0.142732,0.112112,0.175017,0.0334234,-0.0571485,-0.146726,-0.1299,0.0637957,0.0581155,-0.063954,0.140559,-0.0537121,-0.00543739,0.0140539,-0.136156,0.276014,0.157298,-0.159657,-0.0651094,-0.0470231,0.0729241,0.0393906,-0.059697,0.125469,-0.112201,0.119942,0.175168,0.0337371,0.148382,-0.0845907,0.0420119,0.0837827,-0.0952294,-0.228626,-0.081056,-0.0503865,-0.10745,0.0167967,-0.18259,0.022058,0.0238485,-0.00655068,-0.0679376,-0.0607684,0.0183854,-0.125024,-0.0876282,-0.140419,-0.141532,-0.0176371,-0.157046,-0.140951,0.084341,0.0516448,0.141579,-0.0188746,-0.0759889,0.00958731,-0.142085,0.0751995,0.0633145,0.0831906,0.0937593,-0.119775,0.230115,0.217241,0.0188943,0.070697,-0.0779537,-0.0101254,-0.0485819,0.137254,0.114341,-0.0525273,0.180746,-0.0372891,-0.113821,-0.142493,0.167867,0.00644166,-0.0645023,0.0105534,-0.0913688,0.119811,0.107814,0.042015,-0.0101558,-0.000775552,-0.0789381,0.184471,0.0956276,-0.140366,0.0600422,0.116251,-0.0109687,0.0935024,-0.252113,-0.085252,-0.218024,0.250434,0.120965,0.056535,-0.103566,0.0454119,0.0227713,-0.058997,-0.0742238,-0.0295614,-0.193359,0.0780237,0.0497543,-0.37034,-0.0479929,-0.0963713,0.0893073,-0.0133764,-0.0389211,0.0700882,-0.0911025,-0.00558149,-0.0849528,0.0856635,-0.125608,-0.16777,-0.0793616,-0.0895661,0.140703,0.0151676,-0.0439461,0.0947125,-0.149156,-0.00456109,-0.179213,0.0677271,0.0112405,0.039504,0.077634,0.0497277,0.0656333,0.0388124,0.0492636,0.0735376,0.0490283,-0.0303102,-0.133052,0.100009,0.0704271,-0.128153,0.0443691,0.0878468,0.0581967,0.124979,-0.0889442,0.117877,-0.242356,-0.0659543,-0.0517071,0.0468958,0.0215359,-0.0286089,-0.139231,0.00351381,0.128761,-0.151154,0.164555,0.101838,-0.299456,-0.122566,-0.0468205,-0.0827743,-0.087502,0.110106,0.0799183,0.0099308,-0.0335532,-0.158347,0.201874,-0.0531846,0.0992642,-0.270311,0.056784,0.102284,0.104685,-0.0545698,-0.00606255,-0.0189224,-0.484687,-0.0495085,0.0647456,0.0141957,-0.120942,0.241251,0.070747,-0.177888,0.0259369,-0.0116869,0.0405269,0.0869152,0.0512583,-0.117891,0.0702729,0.0511676,0.203949,0.0987848,0.00324229,-0.152069,-0.0188338,0.0259474,-0.253902,0.287889,-0.0582315,0.19152,0.0538301,-0.0484469,0.0552999,-0.140635,-0.0897298,-0.0414272,0.0909679,0.0226313,-0.0277919,-0.0338914,-0.0349542,-0.217766,0.0716681,0.00718253,-0.0542908,0.0703778,-0.187759,0.0512423,0.0485647,-0.0182583,-0.00420536,-0.10379,0.168919,0.06894,-0.0752307,-0.0507314,-0.0594872,-0.090314,-0.0269807,0.0746339,0.0206721,-0.0399825,-0.0494822,0.216347,-0.0508891,-0.0425198,-0.00602403,-0.0799364,-0.156837,-0.0282698,-0.0667655,-0.144716,0.0198954,-0.0934286,-0.194969,-0.284834,-0.11337,0.0880835,0.0114959,0.0732384,0.158772,-0.11425,-0.087392,-0.246216,0.182113,-0.168544,0.0135684,0.0967239,0.113913,-0.0903182,0.11126,-0.319163,-0.0211172,0.0754176,0.0316452,-0.0698174,-0.124507,0.0211445,0.0377394,0.0715338,-0.109959,0.127527,0.0222198,0.0343125,-0.179181,-0.184771,0.0771983,0.0633878,0.0177239,-0.106119,0.133252,-0.163335,0.0313668,-0.0236768,-0.0199403,0.0472286,0.164409,0.00688451,0.128025,-0.0632741,0.128505,0.278847,-0.166987,-0.120245,-0.0360268,-0.0364875,0.0469787,-0.192689,0.126619,-0.107242,-0.095651,0.0309324,-0.111694,0.0915276,-0.108622,0.0516307,0.169925,-0.177307,0.185124,0.0346163,-0.0488928,0.0428841,-0.0697657,-0.00133254,-0.0670259,-0.0622775,-0.030779,-0.0655697,0.0637283,-0.184598,0.116395,0.0356729,0.149575,-0.146855,0.0528942,-0.0466166,0.00310231,0.08614,-0.106724,-0.00225136,0.124604,0.162622,-0.0423791,0.0823686,0.121011,-0.0666926,-0.0886282,-0.0358506,0.090117,-0.0163422,0.00447367,-0.0924639,0.0328913,0.0167344,0.120268,-0.163463,-0.155763,0.10902,-0.0499457,0.077,0.195721,0.0653529,-0.00702533,-0.00235856,-0.0315542,0.0163549,0.156439,0.0710056,0.101305,0.0115733,0.0964724                           1\n",
       "0.137842,0.00289205,-0.0961203,0.0604438,-0.0570532,-0.202415,-0.00915654,-0.160828,0.00559702,-0.130236,0.0404067,0.0993909,0.0488953,-0.0752456,-0.0234751,0.0974791,0.168806,0.0274439,-0.0157307,-0.0671186,-0.18418,0.045839,0.0966673,-0.0958792,-0.214759,-0.135631,-0.127319,-0.0121777,0.10864,0.0235123,-0.0580273,-0.145058,-0.124347,0.00722347,0.0485517,-0.0335255,0.153906,-0.151866,0.0149052,0.0108633,-0.0374287,0.325822,0.105409,-0.143637,-0.13073,-0.0397078,0.0493833,0.0505497,-0.0284979,0.0418152,-0.0462712,0.117296,0.153754,0.00294851,0.0764627,-0.121371,0.0638337,0.101257,-0.0274827,-0.116303,-0.0408096,-0.105856,-0.0982814,0.0282321,-0.158853,0.180417,0.148409,0.0148014,-0.1631,-0.102988,0.112979,-0.101439,-0.104143,-0.0557444,-0.208677,-0.0474636,-0.0977333,-0.163482,0.043961,0.0535122,0.0876923,-0.0791056,0.0447282,0.00409825,-0.198328,0.0152341,0.0728242,0.165314,0.0565656,-0.0376213,0.177954,0.171324,0.0321435,0.0384699,-0.00419228,-0.061128,-0.0269973,0.198173,0.12367,0.0506053,0.237168,0.0435524,-0.0897024,-0.024017,0.102496,-0.0353431,0.0254608,-0.0486429,-0.168542,0.132953,0.0462515,0.0433923,-0.00570062,0.066001,-0.0673191,0.116777,0.0731492,-0.0870662,0.0784388,0.13592,0.0178299,0.111735,-0.196274,-0.12229,-0.193372,0.141117,0.159761,-0.0410166,-0.0787263,0.0486318,0.126102,-0.0932975,-0.0950435,-0.0847842,-0.116996,0.0304909,0.0847616,-0.306728,-0.0267636,-0.133028,-0.0175559,0.0459514,0.0242158,-0.0256408,-0.174152,-0.0055754,-0.0314221,0.119875,-0.134855,-0.0352694,-0.0597682,-0.140133,0.241496,0.0143753,0.0544739,-0.000387296,-0.250909,-0.0330051,-0.124045,-0.0252001,-0.00670706,0.0519332,0.0367944,0.037933,0.0812185,-0.00973404,0.0456817,0.0667193,0.166527,0.00629296,-0.103966,0.0481954,0.170459,-0.126131,0.0544417,0.0961387,-0.0618963,0.150876,-0.0700516,0.0684577,-0.191709,-0.0491389,-0.0211951,0.0634599,0.0331689,-0.279638,-0.177712,0.0108151,0.0118974,-0.092906,0.195129,0.0638366,-0.292338,-0.0718056,0.0052825,-0.106684,-0.0867811,0.0709906,0.0265024,-0.0115935,-0.00093534,-0.107893,0.143131,0.0308654,0.0945141,-0.330041,0.081267,0.169092,0.036302,-0.0112931,-0.0463567,-0.0843404,-0.497877,0.140337,-0.00717242,-0.0690027,-0.0551644,0.148813,0.0723124,-0.130685,0.0243645,-0.0302431,0.136135,0.0498459,0.122697,-0.0753542,-0.000271823,-0.0192795,0.180858,0.0939403,0.101689,-0.153261,-0.114309,0.0896006,-0.211346,0.279836,-0.10406,0.0478197,0.0479463,0.0603703,0.0983466,-0.192444,-0.0643391,-0.0289599,0.0691835,-0.0436044,0.0345946,0.00879032,-0.0652374,-0.228028,0.0230024,0.00806829,-0.0575805,0.0370378,-0.281808,0.0889782,-0.0449875,-0.0193694,0.0235324,-0.0110815,0.0451221,0.00799269,0.0295158,0.0103584,-0.0638243,-0.0278755,-0.0172141,0.0708162,0.025673,-0.0284977,-0.00402852,0.131545,-0.0696008,-0.140574,-0.0340718,-0.126749,-0.128168,-0.0402874,-0.152342,-0.0918331,-0.0542417,-0.0788922,-0.0539522,-0.294349,0.0104886,-0.0120419,0.00546678,0.121101,0.118225,-0.139939,-0.0513571,-0.258417,0.115303,-0.120908,0.0321014,0.130884,0.151241,-0.0593407,0.152588,-0.288556,0.0123013,0.0988807,0.0576895,-0.110243,-0.117904,-0.0203091,0.0421608,-0.000823186,-0.0550043,0.233719,0.0650353,0.121702,-0.138657,-0.15303,0.0486823,0.079286,0.00327153,-0.0875992,0.0733748,-0.133621,0.0163491,-0.0150046,-0.0707169,0.00825331,0.137526,-0.041586,0.144601,-0.185295,0.125502,0.309449,-0.139411,-0.0889408,-0.116396,-0.0436696,-0.0566675,-0.205162,0.198279,-0.0640749,-0.0739067,0.0687187,-0.15462,0.154626,-0.0125209,0.0147019,0.106234,-0.0307378,0.141837,0.113191,0.006898,0.00323829,-0.104205,-0.0340129,-0.176989,-0.0505559,0.0436614,0.00970265,0.130089,-0.125842,0.129442,0.0211958,0.15946,-0.110834,-0.00402197,-0.172092,-0.0369189,0.0831283,-0.0904628,0.0726453,0.116894,0.165775,-0.0788574,-0.00235368,0.174016,-0.0158049,-0.0518289,-0.0428951,0.0809827,0.0238515,-0.0616151,-0.106112,0.130059,0.11969,0.0710801,-0.13664,-0.236186,0.309246,-0.0514766,0.0853184,0.153485,0.0412339,-0.00643216,-0.0546274,-0.0351635,0.00205284,0.166486,0.0203868,0.199853,-0.0647727,0.205244         1\n",
       "0.02413,-0.0890419,-0.0206124,0.0725144,0.0424949,-0.326013,-0.0718649,-0.151264,-0.093578,-0.0757083,-0.0255726,0.127908,0.040088,-0.120907,0.081572,0.00862137,0.0666367,0.0912235,-0.100505,0.0858863,-0.165881,0.0395077,0.163755,-0.0557802,-0.24289,-0.272152,-0.0970284,0.0875735,0.140279,-0.0587433,-0.0094942,-0.143519,-0.0959903,0.0852277,0.022177,0.0142377,0.121989,0.00544974,-0.0721357,0.102618,-0.0781296,0.268921,0.14113,-0.126598,-0.00399005,-0.138073,0.036341,-0.0409671,-0.0210851,0.121751,-0.0635096,0.178986,0.299487,0.0634114,0.184467,-0.110137,-0.040316,0.0829401,-0.0305282,-0.12764,-0.0640581,-0.0172791,-0.110225,-0.00911982,-0.225132,0.0839221,0.0288489,0.123033,-0.108379,-0.03544,0.00934305,-0.116963,-0.00702777,-0.0443336,-0.162058,-0.033524,-0.168295,-0.133943,0.186561,0.150996,0.0937874,-0.115362,0.0584189,-2.27274e-06,-0.129505,-0.002462,-0.0360547,0.179628,0.00837394,-0.110844,0.184735,0.241349,0.0520298,0.0182874,0.00359961,0.00750346,0.0383915,-0.0101095,0.0906884,-0.0277953,0.183364,-0.0769262,-0.0834136,-0.181227,0.0500627,-0.028378,0.0111945,-0.0915445,-0.118056,0.151442,0.116267,0.0772999,-0.054765,0.11286,-0.0521494,0.14923,0.10134,-0.184984,0.0601241,0.0708841,0.00303702,-0.0662643,-0.216188,-0.0537571,-0.233679,0.187423,0.144867,0.0381161,-0.0214772,0.0457236,0.0675796,-0.0618168,-0.0497649,-0.0534293,0.0332315,0.0463772,0.129956,-0.39688,-0.100373,-0.233924,-0.0310086,-0.088461,-0.0679494,0.00606416,-0.0787267,0.142865,-0.0642787,0.0609494,-0.129554,-0.180392,-0.0551101,0.00986327,0.100033,-0.00641357,-0.015424,0.0680203,-0.1659,0.0547808,-0.147407,0.0496792,0.0375453,0.079279,0.00290873,-0.0793299,0.0850034,0.130101,0.0163011,0.0794175,0.213628,0.032622,-0.130316,0.0408346,0.149477,-0.143787,0.0699337,-0.134809,-0.0195021,0.147287,-0.0998752,0.186737,-0.205444,-0.0368661,-0.00712957,0.112443,-0.0508083,-0.0876378,-0.139076,0.0183044,0.0977802,-0.146927,0.296428,0.0985861,-0.293615,-0.0656089,0.0134888,-0.178226,-0.170277,0.0996995,0.0906741,-0.00455683,-0.0657943,-0.128836,0.284448,-0.036313,0.154179,-0.36576,0.0375605,0.00411296,0.0984832,-0.0137849,-0.101254,-0.0179442,-0.395692,-0.00836324,0.193279,-0.0265888,-0.125545,0.194786,-0.028883,-0.170214,0.0795965,0.00542066,-0.0129836,0.0959674,-0.00416833,0.0129254,0.0771789,0.00211978,0.261779,0.115137,-0.0203711,-0.162187,0.0512653,-0.0162234,-0.159257,0.20207,-0.0264037,0.0303743,0.026203,-0.0400302,0.117848,-0.092017,-0.0170729,0.00938288,0.0554482,-0.0772418,-0.130731,0.0683142,-0.0435252,-0.140074,0.0153494,0.112528,0.0382534,0.0189552,-0.256669,0.0388561,-0.0153908,0.102,0.0179363,-0.0744013,0.145238,0.0510242,-0.0574626,-0.00991131,0.0284576,-0.0654405,-0.00705269,0.100013,0.0909535,-0.00829707,0.0299852,0.155711,-0.173056,-0.0969935,0.0708088,-0.0675552,-0.135577,-0.00359205,-0.0936188,-0.123698,-0.0280531,-0.0946511,-0.0369494,-0.353143,0.0269997,0.111984,0.097674,0.0890127,0.0404959,-0.143573,-0.185121,-0.312795,0.0936868,-0.0893721,-0.0256232,0.141891,0.168451,-0.0529685,0.126314,-0.348711,0.0636844,0.126295,0.0753666,0.00950716,-0.132926,0.00798711,0.0547626,0.0510891,-0.101657,0.132714,0.00735623,0.0370245,-0.122881,-0.0781116,-0.00183705,0.0785111,-0.0876432,-0.0523907,0.0749941,-0.0958543,0.132198,0.0054176,-0.0356255,0.0479877,0.181193,-0.0994561,0.10338,0.00524086,0.0855819,0.354815,-0.176288,-0.146038,-0.0811114,-0.0766926,0.0649389,-0.285715,0.0728982,-0.138426,-0.0544195,0.0775582,-0.0530074,0.0162878,-0.129516,-0.0495288,0.110898,0.00561724,0.162352,0.0348374,-0.0389662,0.0123874,-0.068905,-0.0105895,-0.00844466,-0.120369,-0.0312687,-0.00607158,0.126847,-0.146945,0.162437,0.0766291,0.14621,-0.00894317,-0.0335265,-0.177488,0.0412055,0.0308512,-0.0200491,-0.00923067,0.0587646,0.180669,-0.0867782,-0.0490398,0.17286,-0.0104361,-0.105023,-0.0351432,0.0503078,-0.00773272,0.0380229,-0.139492,0.154185,0.077236,0.0664218,-0.153956,-0.168722,0.0919118,-0.0936855,0.098106,0.153775,0.065787,0.0114959,-0.0166894,-0.16207,0.0364387,0.12361,-0.00311969,0.0984622,-0.0550599,0.143395              1\n",
       "0.101751,0.0399352,0.0368303,-0.00179011,-0.0908659,-0.296842,0.00972988,-0.128289,-0.088412,-0.0480378,0.0542744,0.0987068,0.0647125,-0.12954,0.028601,-0.00545377,0.113665,0.0821894,-0.0577486,0.0266736,-0.226101,0.0156667,-0.0204963,-0.130914,-0.175025,-0.238259,-0.0928759,0.0831973,0.227437,0.0127551,-0.0162868,-0.185505,-0.200655,0.0230224,0.0411089,-0.0912103,0.147341,-0.11257,-0.113012,-0.0167344,-0.0426906,0.336147,0.114372,-0.253069,-0.0722061,0.0311824,0.13091,0.00372917,-0.0599527,0.13272,0.0107435,0.118892,0.154807,-0.0389392,0.190051,-0.0739836,0.0161476,0.0335416,-0.118218,-0.19575,-0.0179931,-0.0505968,-0.0714501,0.106062,-0.142295,0.131957,-0.0450972,-0.0958922,-0.0677349,-0.142968,-0.0139788,-0.0651325,-0.0554472,-0.11785,-0.209571,0.0335833,-0.0709667,-0.0507593,0.00950339,0.187623,0.173696,-0.0721797,-0.0655781,0.115095,-0.132133,0.022515,0.00649093,0.219443,0.0879623,-0.0703798,0.295039,0.203359,0.0755071,0.0546605,0.000254772,-0.0334616,0.00640548,0.151449,0.054382,-0.00737878,0.145111,0.00358154,-0.0301886,-0.147362,0.0979405,-0.0267041,-0.0208372,0.174788,-0.226364,0.14354,0.00142286,0.224297,-0.0930739,0.043147,-0.0835343,0.158179,0.0325768,-0.0810479,0.140197,0.0695509,-0.0447777,0.159125,-0.224733,-0.0513832,-0.245938,0.257968,0.103561,-0.0548682,-0.0804028,0.0185538,0.0968623,0.0319339,-0.118753,-0.0586015,-0.0492549,0.049471,0.15845,-0.281718,0.0953185,-0.171297,0.00599605,-0.0317563,0.00140044,0.0502956,-0.0745284,0.016708,-0.0395679,0.111654,-0.122389,-0.185495,-0.147086,-0.154813,0.154038,-0.0082611,0.0181301,0.0912249,-0.211741,-0.0633615,-0.155794,0.0545255,0.0310114,0.0585328,0.074587,0.0929866,0.0266214,-0.0751554,0.151415,-0.00545502,0.0531951,0.00736405,-0.0946726,0.12367,0.0497663,-0.0677851,0.167656,0.145757,0.0458351,0.148776,-0.15382,0.0807263,-0.308372,-0.090043,-0.0598268,0.0106128,-0.0569375,-0.0842712,-0.14035,0.0597562,0.171991,-0.0734053,0.164292,0.106903,-0.269601,0.0306878,-0.0860878,-0.041147,-0.158265,0.0717143,-0.0138854,-0.0826742,-0.0639923,-0.0311646,0.254655,-0.0529428,0.132819,-0.282235,0.0104303,0.229952,0.157609,0.0715272,-0.0661129,-0.04342,-0.406256,0.0525968,0.0536563,0.0823777,-0.126019,0.197688,0.10974,-0.23821,0.0874991,-0.0596863,0.0500075,0.0421019,0.0781882,-0.0427443,0.0372316,0.111647,0.22925,0.0962958,0.0503591,-0.105819,-0.133789,0.0436435,-0.184303,0.263846,-0.114657,0.178729,-0.0764509,-0.0954894,0.0473486,-0.22576,-0.139188,-0.11188,0.00946889,-0.00352037,-0.0590078,0.00659617,0.00640585,-0.180348,0.147652,0.0118233,-0.0214265,0.113808,-0.122712,0.102998,0.0116528,-0.141861,-0.0570702,-0.0832231,0.141288,0.0185535,-0.0446473,-0.00649561,-0.0100882,-0.0433966,0.00852589,0.0988085,0.065743,-0.0738666,-0.0136104,0.190486,-0.0947494,-0.0812096,0.00489778,-0.0828207,-0.157066,0.0596075,0.0144243,-0.0371303,-0.0257831,-0.118651,-0.0937375,-0.245607,-0.000232586,0.0673865,0.0105865,-0.0313731,0.117798,-0.108766,-0.114057,-0.213152,0.176755,-0.154826,0.00754691,0.19596,0.147524,-0.109189,0.0243886,-0.0945152,0.0925692,0.138983,-0.0368021,0.00888458,-0.077392,-0.0676196,-0.0523683,0.00780976,-0.0796072,0.163876,0.108612,0.0295357,-0.140434,-0.183917,0.0500519,0.0942433,-0.0911558,-0.128754,0.153473,-0.0810201,0.00024154,-0.0870252,0.0417512,0.04617,0.127436,0.0643725,0.132183,-0.073083,0.0615899,0.259744,-0.159395,-0.122449,-0.125271,-0.0527984,0.0529978,-0.278559,0.187413,-0.00922726,-0.114978,0.0552194,-0.13365,0.168738,-0.0780993,0.0501276,0.115169,-0.0417118,0.154684,0.185436,0.0783385,0.0257129,-0.0499866,-0.0308592,-0.0324208,-0.013041,-0.0286351,0.0439188,0.143679,-0.073437,0.152439,0.0820513,0.0664355,-0.0653746,-0.0330091,-0.173351,-0.0429966,0.198481,-0.156248,-0.0392416,0.108106,0.190063,-0.0596498,0.00250997,0.159229,-0.0931266,-0.12498,-0.00751959,0.0667981,0.0084396,-0.0792484,-0.0206741,0.0511033,0.0397009,0.0809373,-0.275108,-0.105332,0.131146,-0.0900398,0.0300174,0.219359,0.156795,0.0320141,0.0289258,-0.0224484,-0.0208767,0.141214,0.0382901,0.183839,-0.0488278,0.0837307                             1\n",
       "Name: user_description, Length: 16813, dtype: int64"
      ]
     },
     "execution_count": 81,
     "metadata": {},
     "output_type": "execute_result"
    }
   ],
   "source": [
    "df['user_description'].value_counts()"
   ]
  },
  {
   "cell_type": "code",
   "execution_count": 84,
   "metadata": {},
   "outputs": [],
   "source": [
    "group_df.to_csv('group_meta_0_to_50000.csv', index=False)"
   ]
  },
  {
   "cell_type": "code",
   "execution_count": null,
   "metadata": {},
   "outputs": [],
   "source": []
  }
 ],
 "metadata": {
  "kernelspec": {
   "display_name": "base",
   "language": "python",
   "name": "python3"
  },
  "language_info": {
   "codemirror_mode": {
    "name": "ipython",
    "version": 3
   },
   "file_extension": ".py",
   "mimetype": "text/x-python",
   "name": "python",
   "nbconvert_exporter": "python",
   "pygments_lexer": "ipython3",
   "version": "3.10.12"
  }
 },
 "nbformat": 4,
 "nbformat_minor": 2
}
